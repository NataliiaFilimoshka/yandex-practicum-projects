{
 "cells": [
  {
   "cell_type": "markdown",
   "metadata": {},
   "source": [
    "# Анализ данных интренет-магазина \"Стримчик\""
   ]
  },
  {
   "cell_type": "markdown",
   "metadata": {},
   "source": [
    "**Цель исследования:** выявить определяющие успешность игры закономерности, чтобы сделать ставку на потенциально популярный продукт и спланировать рекламные кампании."
   ]
  },
  {
   "cell_type": "markdown",
   "metadata": {},
   "source": [
    "Интернет-магазин «Стримчик» продаёт по всему миру компьютерные игры. Из открытых источников доступны исторические данные о продажах игр, оценки пользователей и экспертов, жанры и платформы. Перед нами данные до 2016 года. "
   ]
  },
  {
   "cell_type": "markdown",
   "metadata": {},
   "source": [
    "**Ход исследования**\n",
    "\n",
    "1. Изучить общую информацию, т.е. сделать обзор данных.\n",
    "2. Предобработка данных:\n",
    "- Заменить названия столбцов\n",
    "- Преобразовать данные в нужные типы.\n",
    "- Обработать пропуски при необходимости\n",
    "- Посчитать суммарные продажи во всех регионах и записать их в отдельный столбец.\n",
    "3. Провести исследовательский анализ данных\n",
    "- Посмотреть, сколько игр выпускалось в разные годы.\n",
    "- Посмотреть, как менялись продажи по платформам. Построить распределение по годам.\n",
    "- Выбрать несколько потенциально прибыльных платформ.\n",
    "- Посмотреть, как влияют на продажи внутри одной популярной платформы отзывы пользователей и критиков.\n",
    "- Посмотреть на общее распределение игр по жанрам.\n",
    "4. Составить портрет пользователя каждого региона.\n",
    "5. Проверить гипотезы.\n",
    "6. Общий вывод."
   ]
  },
  {
   "cell_type": "markdown",
   "metadata": {},
   "source": [
    "### Откройте файл с данными и изучите общую информацию. "
   ]
  },
  {
   "cell_type": "code",
   "execution_count": 1,
   "metadata": {},
   "outputs": [],
   "source": [
    "# Загружаем библиотеки\n",
    "import pandas as pd\n",
    "import matplotlib.pyplot as plt\n",
    "import numpy as np\n",
    "import seaborn as sns\n",
    "from scipy import stats as st "
   ]
  },
  {
   "cell_type": "code",
   "execution_count": 2,
   "metadata": {},
   "outputs": [],
   "source": [
    "# Загружаем данные из файла в датафрейм. Указываем два пути, как открыть файл: в локальном юпитере и в тренажёре\n",
    "try:\n",
    "    data = pd.read_csv('/Users/User/Downloads/games.csv')\n",
    "except:\n",
    "    data = pd.read_csv('/datasets/games.csv')"
   ]
  },
  {
   "cell_type": "code",
   "execution_count": 3,
   "metadata": {
    "scrolled": true
   },
   "outputs": [
    {
     "name": "stdout",
     "output_type": "stream",
     "text": [
      "<class 'pandas.core.frame.DataFrame'>\n",
      "RangeIndex: 16715 entries, 0 to 16714\n",
      "Data columns (total 11 columns):\n",
      " #   Column           Non-Null Count  Dtype  \n",
      "---  ------           --------------  -----  \n",
      " 0   Name             16713 non-null  object \n",
      " 1   Platform         16715 non-null  object \n",
      " 2   Year_of_Release  16446 non-null  float64\n",
      " 3   Genre            16713 non-null  object \n",
      " 4   NA_sales         16715 non-null  float64\n",
      " 5   EU_sales         16715 non-null  float64\n",
      " 6   JP_sales         16715 non-null  float64\n",
      " 7   Other_sales      16715 non-null  float64\n",
      " 8   Critic_Score     8137 non-null   float64\n",
      " 9   User_Score       10014 non-null  object \n",
      " 10  Rating           9949 non-null   object \n",
      "dtypes: float64(6), object(5)\n",
      "memory usage: 1.4+ MB\n"
     ]
    }
   ],
   "source": [
    "# Получаем общую информацию о полученном датафрейме.\n",
    "data.info()"
   ]
  },
  {
   "cell_type": "markdown",
   "metadata": {},
   "source": [
    "**Вывод:** Рассмотрев общую информацию по полученным данным, видим, что есть пропущенные значения, так как количество строк разное. Также не везде соответствует тип данных, например в годе релиза не может быть float, надо заменить на int и в столбце с оценкой пользователей надо тоже изменить тип с object на float. Для этого сначала обработаем пропуски, а затем изменим тип данных. Еще нужно поменять названия столбцов, так как они все написаны с заглавной буквы, т.е. в верхнем регистре.  "
   ]
  },
  {
   "cell_type": "markdown",
   "metadata": {},
   "source": [
    "### Предобработка данных"
   ]
  },
  {
   "cell_type": "markdown",
   "metadata": {},
   "source": [
    "1. Заменим названия столбцов (приведём к нижнему регистру)"
   ]
  },
  {
   "cell_type": "code",
   "execution_count": 4,
   "metadata": {},
   "outputs": [],
   "source": [
    "data.columns = data.columns.str.lower()"
   ]
  },
  {
   "cell_type": "code",
   "execution_count": 5,
   "metadata": {},
   "outputs": [
    {
     "data": {
      "text/html": [
       "<div>\n",
       "<style scoped>\n",
       "    .dataframe tbody tr th:only-of-type {\n",
       "        vertical-align: middle;\n",
       "    }\n",
       "\n",
       "    .dataframe tbody tr th {\n",
       "        vertical-align: top;\n",
       "    }\n",
       "\n",
       "    .dataframe thead th {\n",
       "        text-align: right;\n",
       "    }\n",
       "</style>\n",
       "<table border=\"1\" class=\"dataframe\">\n",
       "  <thead>\n",
       "    <tr style=\"text-align: right;\">\n",
       "      <th></th>\n",
       "      <th>name</th>\n",
       "      <th>platform</th>\n",
       "      <th>year_of_release</th>\n",
       "      <th>genre</th>\n",
       "      <th>na_sales</th>\n",
       "      <th>eu_sales</th>\n",
       "      <th>jp_sales</th>\n",
       "      <th>other_sales</th>\n",
       "      <th>critic_score</th>\n",
       "      <th>user_score</th>\n",
       "      <th>rating</th>\n",
       "    </tr>\n",
       "  </thead>\n",
       "  <tbody>\n",
       "    <tr>\n",
       "      <th>0</th>\n",
       "      <td>Wii Sports</td>\n",
       "      <td>Wii</td>\n",
       "      <td>2006.0</td>\n",
       "      <td>Sports</td>\n",
       "      <td>41.36</td>\n",
       "      <td>28.96</td>\n",
       "      <td>3.77</td>\n",
       "      <td>8.45</td>\n",
       "      <td>76.0</td>\n",
       "      <td>8</td>\n",
       "      <td>E</td>\n",
       "    </tr>\n",
       "    <tr>\n",
       "      <th>1</th>\n",
       "      <td>Super Mario Bros.</td>\n",
       "      <td>NES</td>\n",
       "      <td>1985.0</td>\n",
       "      <td>Platform</td>\n",
       "      <td>29.08</td>\n",
       "      <td>3.58</td>\n",
       "      <td>6.81</td>\n",
       "      <td>0.77</td>\n",
       "      <td>NaN</td>\n",
       "      <td>NaN</td>\n",
       "      <td>NaN</td>\n",
       "    </tr>\n",
       "    <tr>\n",
       "      <th>2</th>\n",
       "      <td>Mario Kart Wii</td>\n",
       "      <td>Wii</td>\n",
       "      <td>2008.0</td>\n",
       "      <td>Racing</td>\n",
       "      <td>15.68</td>\n",
       "      <td>12.76</td>\n",
       "      <td>3.79</td>\n",
       "      <td>3.29</td>\n",
       "      <td>82.0</td>\n",
       "      <td>8.3</td>\n",
       "      <td>E</td>\n",
       "    </tr>\n",
       "    <tr>\n",
       "      <th>3</th>\n",
       "      <td>Wii Sports Resort</td>\n",
       "      <td>Wii</td>\n",
       "      <td>2009.0</td>\n",
       "      <td>Sports</td>\n",
       "      <td>15.61</td>\n",
       "      <td>10.93</td>\n",
       "      <td>3.28</td>\n",
       "      <td>2.95</td>\n",
       "      <td>80.0</td>\n",
       "      <td>8</td>\n",
       "      <td>E</td>\n",
       "    </tr>\n",
       "    <tr>\n",
       "      <th>4</th>\n",
       "      <td>Pokemon Red/Pokemon Blue</td>\n",
       "      <td>GB</td>\n",
       "      <td>1996.0</td>\n",
       "      <td>Role-Playing</td>\n",
       "      <td>11.27</td>\n",
       "      <td>8.89</td>\n",
       "      <td>10.22</td>\n",
       "      <td>1.00</td>\n",
       "      <td>NaN</td>\n",
       "      <td>NaN</td>\n",
       "      <td>NaN</td>\n",
       "    </tr>\n",
       "    <tr>\n",
       "      <th>5</th>\n",
       "      <td>Tetris</td>\n",
       "      <td>GB</td>\n",
       "      <td>1989.0</td>\n",
       "      <td>Puzzle</td>\n",
       "      <td>23.20</td>\n",
       "      <td>2.26</td>\n",
       "      <td>4.22</td>\n",
       "      <td>0.58</td>\n",
       "      <td>NaN</td>\n",
       "      <td>NaN</td>\n",
       "      <td>NaN</td>\n",
       "    </tr>\n",
       "    <tr>\n",
       "      <th>6</th>\n",
       "      <td>New Super Mario Bros.</td>\n",
       "      <td>DS</td>\n",
       "      <td>2006.0</td>\n",
       "      <td>Platform</td>\n",
       "      <td>11.28</td>\n",
       "      <td>9.14</td>\n",
       "      <td>6.50</td>\n",
       "      <td>2.88</td>\n",
       "      <td>89.0</td>\n",
       "      <td>8.5</td>\n",
       "      <td>E</td>\n",
       "    </tr>\n",
       "    <tr>\n",
       "      <th>7</th>\n",
       "      <td>Wii Play</td>\n",
       "      <td>Wii</td>\n",
       "      <td>2006.0</td>\n",
       "      <td>Misc</td>\n",
       "      <td>13.96</td>\n",
       "      <td>9.18</td>\n",
       "      <td>2.93</td>\n",
       "      <td>2.84</td>\n",
       "      <td>58.0</td>\n",
       "      <td>6.6</td>\n",
       "      <td>E</td>\n",
       "    </tr>\n",
       "    <tr>\n",
       "      <th>8</th>\n",
       "      <td>New Super Mario Bros. Wii</td>\n",
       "      <td>Wii</td>\n",
       "      <td>2009.0</td>\n",
       "      <td>Platform</td>\n",
       "      <td>14.44</td>\n",
       "      <td>6.94</td>\n",
       "      <td>4.70</td>\n",
       "      <td>2.24</td>\n",
       "      <td>87.0</td>\n",
       "      <td>8.4</td>\n",
       "      <td>E</td>\n",
       "    </tr>\n",
       "    <tr>\n",
       "      <th>9</th>\n",
       "      <td>Duck Hunt</td>\n",
       "      <td>NES</td>\n",
       "      <td>1984.0</td>\n",
       "      <td>Shooter</td>\n",
       "      <td>26.93</td>\n",
       "      <td>0.63</td>\n",
       "      <td>0.28</td>\n",
       "      <td>0.47</td>\n",
       "      <td>NaN</td>\n",
       "      <td>NaN</td>\n",
       "      <td>NaN</td>\n",
       "    </tr>\n",
       "  </tbody>\n",
       "</table>\n",
       "</div>"
      ],
      "text/plain": [
       "                        name platform  year_of_release         genre  \\\n",
       "0                 Wii Sports      Wii           2006.0        Sports   \n",
       "1          Super Mario Bros.      NES           1985.0      Platform   \n",
       "2             Mario Kart Wii      Wii           2008.0        Racing   \n",
       "3          Wii Sports Resort      Wii           2009.0        Sports   \n",
       "4   Pokemon Red/Pokemon Blue       GB           1996.0  Role-Playing   \n",
       "5                     Tetris       GB           1989.0        Puzzle   \n",
       "6      New Super Mario Bros.       DS           2006.0      Platform   \n",
       "7                   Wii Play      Wii           2006.0          Misc   \n",
       "8  New Super Mario Bros. Wii      Wii           2009.0      Platform   \n",
       "9                  Duck Hunt      NES           1984.0       Shooter   \n",
       "\n",
       "   na_sales  eu_sales  jp_sales  other_sales  critic_score user_score rating  \n",
       "0     41.36     28.96      3.77         8.45          76.0          8      E  \n",
       "1     29.08      3.58      6.81         0.77           NaN        NaN    NaN  \n",
       "2     15.68     12.76      3.79         3.29          82.0        8.3      E  \n",
       "3     15.61     10.93      3.28         2.95          80.0          8      E  \n",
       "4     11.27      8.89     10.22         1.00           NaN        NaN    NaN  \n",
       "5     23.20      2.26      4.22         0.58           NaN        NaN    NaN  \n",
       "6     11.28      9.14      6.50         2.88          89.0        8.5      E  \n",
       "7     13.96      9.18      2.93         2.84          58.0        6.6      E  \n",
       "8     14.44      6.94      4.70         2.24          87.0        8.4      E  \n",
       "9     26.93      0.63      0.28         0.47           NaN        NaN    NaN  "
      ]
     },
     "execution_count": 5,
     "metadata": {},
     "output_type": "execute_result"
    }
   ],
   "source": [
    "data.head(10)"
   ]
  },
  {
   "cell_type": "markdown",
   "metadata": {},
   "source": [
    "2. Находим и изучаем пропущенные значения в столбцах:"
   ]
  },
  {
   "cell_type": "code",
   "execution_count": 6,
   "metadata": {
    "scrolled": true
   },
   "outputs": [
    {
     "data": {
      "text/html": [
       "<style  type=\"text/css\" >\n",
       "#T_0a31f_row0_col0,#T_0a31f_row1_col0,#T_0a31f_row3_col0,#T_0a31f_row4_col0,#T_0a31f_row5_col0,#T_0a31f_row6_col0,#T_0a31f_row7_col0{\n",
       "            background-color:  #3b4cc0;\n",
       "            color:  #f1f1f1;\n",
       "        }#T_0a31f_row2_col0{\n",
       "            background-color:  #465ecf;\n",
       "            color:  #f1f1f1;\n",
       "        }#T_0a31f_row8_col0{\n",
       "            background-color:  #b40426;\n",
       "            color:  #f1f1f1;\n",
       "        }#T_0a31f_row9_col0,#T_0a31f_row10_col0{\n",
       "            background-color:  #f08b6e;\n",
       "            color:  #000000;\n",
       "        }</style><table id=\"T_0a31f_\" ><thead>    <tr>        <th class=\"blank level0\" ></th>        <th class=\"col_heading level0 col0\" >0</th>    </tr></thead><tbody>\n",
       "                <tr>\n",
       "                        <th id=\"T_0a31f_level0_row0\" class=\"row_heading level0 row0\" >name</th>\n",
       "                        <td id=\"T_0a31f_row0_col0\" class=\"data row0 col0\" >0.000000</td>\n",
       "            </tr>\n",
       "            <tr>\n",
       "                        <th id=\"T_0a31f_level0_row1\" class=\"row_heading level0 row1\" >platform</th>\n",
       "                        <td id=\"T_0a31f_row1_col0\" class=\"data row1 col0\" >0.000000</td>\n",
       "            </tr>\n",
       "            <tr>\n",
       "                        <th id=\"T_0a31f_level0_row2\" class=\"row_heading level0 row2\" >year_of_release</th>\n",
       "                        <td id=\"T_0a31f_row2_col0\" class=\"data row2 col0\" >2.000000</td>\n",
       "            </tr>\n",
       "            <tr>\n",
       "                        <th id=\"T_0a31f_level0_row3\" class=\"row_heading level0 row3\" >genre</th>\n",
       "                        <td id=\"T_0a31f_row3_col0\" class=\"data row3 col0\" >0.000000</td>\n",
       "            </tr>\n",
       "            <tr>\n",
       "                        <th id=\"T_0a31f_level0_row4\" class=\"row_heading level0 row4\" >na_sales</th>\n",
       "                        <td id=\"T_0a31f_row4_col0\" class=\"data row4 col0\" >0.000000</td>\n",
       "            </tr>\n",
       "            <tr>\n",
       "                        <th id=\"T_0a31f_level0_row5\" class=\"row_heading level0 row5\" >eu_sales</th>\n",
       "                        <td id=\"T_0a31f_row5_col0\" class=\"data row5 col0\" >0.000000</td>\n",
       "            </tr>\n",
       "            <tr>\n",
       "                        <th id=\"T_0a31f_level0_row6\" class=\"row_heading level0 row6\" >jp_sales</th>\n",
       "                        <td id=\"T_0a31f_row6_col0\" class=\"data row6 col0\" >0.000000</td>\n",
       "            </tr>\n",
       "            <tr>\n",
       "                        <th id=\"T_0a31f_level0_row7\" class=\"row_heading level0 row7\" >other_sales</th>\n",
       "                        <td id=\"T_0a31f_row7_col0\" class=\"data row7 col0\" >0.000000</td>\n",
       "            </tr>\n",
       "            <tr>\n",
       "                        <th id=\"T_0a31f_level0_row8\" class=\"row_heading level0 row8\" >critic_score</th>\n",
       "                        <td id=\"T_0a31f_row8_col0\" class=\"data row8 col0\" >51.000000</td>\n",
       "            </tr>\n",
       "            <tr>\n",
       "                        <th id=\"T_0a31f_level0_row9\" class=\"row_heading level0 row9\" >user_score</th>\n",
       "                        <td id=\"T_0a31f_row9_col0\" class=\"data row9 col0\" >40.000000</td>\n",
       "            </tr>\n",
       "            <tr>\n",
       "                        <th id=\"T_0a31f_level0_row10\" class=\"row_heading level0 row10\" >rating</th>\n",
       "                        <td id=\"T_0a31f_row10_col0\" class=\"data row10 col0\" >40.000000</td>\n",
       "            </tr>\n",
       "    </tbody></table>"
      ],
      "text/plain": [
       "<pandas.io.formats.style.Styler at 0x7f96418d4490>"
      ]
     },
     "execution_count": 6,
     "metadata": {},
     "output_type": "execute_result"
    }
   ],
   "source": [
    "pd.DataFrame(round(data.isna().mean()*100,)).style.background_gradient('coolwarm')"
   ]
  },
  {
   "cell_type": "markdown",
   "metadata": {},
   "source": [
    "Видим, что есть всего 2 % пропущенных значения в столбце year_of_release. Эти пропуски можно удалить, их мало, а оставлять нецелесообразно, так как пропущенные значения могут мешать дальнейшему исследованию. Большое количество пропусков в critic_score, user_score, rating. Вероятно это связано с тем, что не всегда пользователи дают обратную связь и оставляют отзывы и оценки. В столбцах user_score и critic_score так как Nan имеет тип float, то мы попробуем работать с данными из этого столбца, не удаляя и не заменяя пропущенные значения. В столбце rating заменим пропуски на Unknown. В столбцах name и genre по 2 пропущенных значения, поэтому их мы тоже удалим. "
   ]
  },
  {
   "cell_type": "code",
   "execution_count": 7,
   "metadata": {},
   "outputs": [],
   "source": [
    "# Заменим пропущенные значения в столбце rating на unknown\n",
    "data['rating'] = data['rating'].fillna('Unknown')"
   ]
  },
  {
   "cell_type": "code",
   "execution_count": 8,
   "metadata": {},
   "outputs": [],
   "source": [
    "# Удалим пропущенные значения в столбцах year_of_release, name, genre\n",
    "data.dropna(subset = ['name', 'year_of_release', 'genre'], inplace = True)"
   ]
  },
  {
   "cell_type": "code",
   "execution_count": 9,
   "metadata": {},
   "outputs": [
    {
     "data": {
      "text/plain": [
       "name                  0\n",
       "platform              0\n",
       "year_of_release       0\n",
       "genre                 0\n",
       "na_sales              0\n",
       "eu_sales              0\n",
       "jp_sales              0\n",
       "other_sales           0\n",
       "critic_score       8461\n",
       "user_score         6605\n",
       "rating                0\n",
       "dtype: int64"
      ]
     },
     "execution_count": 9,
     "metadata": {},
     "output_type": "execute_result"
    }
   ],
   "source": [
    "#pd.DataFrame(round(data.isna().mean()*100,)).style.background_gradient('coolwarm')\n",
    "data.isna().sum()"
   ]
  },
  {
   "cell_type": "markdown",
   "metadata": {},
   "source": [
    "3. Преобразуем данные в нужные типы. Опишем, в каких столбцах заменили тип данных и почему"
   ]
  },
  {
   "cell_type": "code",
   "execution_count": 10,
   "metadata": {},
   "outputs": [],
   "source": [
    "# Меняем тип данных в столбце year_of_release, так как год не может быть вещественным числом.\n",
    "data['year_of_release'] = data['year_of_release'].astype('int64')"
   ]
  },
  {
   "cell_type": "code",
   "execution_count": 11,
   "metadata": {},
   "outputs": [
    {
     "data": {
      "text/plain": [
       "array(['8', nan, '8.3', '8.5', '6.6', '8.4', '8.6', '7.7', '6.3', '7.4',\n",
       "       '8.2', '9', '7.9', '8.1', '8.7', '7.1', '3.4', '5.3', '4.8', '3.2',\n",
       "       '8.9', '6.4', '7.8', '7.5', '2.6', '7.2', '9.2', '7', '7.3', '4.3',\n",
       "       '7.6', '5.7', '5', '9.1', '6.5', 'tbd', '8.8', '6.9', '9.4', '6.8',\n",
       "       '6.1', '6.7', '5.4', '4', '4.9', '4.5', '9.3', '6.2', '4.2', '6',\n",
       "       '3.7', '4.1', '5.8', '5.6', '5.5', '4.4', '4.6', '5.9', '3.9',\n",
       "       '3.1', '2.9', '5.2', '3.3', '4.7', '5.1', '3.5', '2.5', '1.9', '3',\n",
       "       '2.7', '2.2', '2', '9.5', '2.1', '3.6', '2.8', '1.8', '3.8', '0',\n",
       "       '1.6', '9.6', '2.4', '1.7', '1.1', '0.3', '1.5', '0.7', '1.2',\n",
       "       '2.3', '0.5', '1.3', '0.2', '0.6', '1.4', '0.9', '1', '9.7'],\n",
       "      dtype=object)"
      ]
     },
     "execution_count": 11,
     "metadata": {},
     "output_type": "execute_result"
    }
   ],
   "source": [
    "# Смотрим уникальные значения в столбце user_score\n",
    "data['user_score'].unique()"
   ]
  },
  {
   "cell_type": "markdown",
   "metadata": {},
   "source": [
    " Не можем поменять тип данных в столбце user_score на float, так как появляется строковое значение tbd. Это сокращение расшифровывается To Be Determined, то есть \"Будет определено\". Стоит отметить также, что у этой аббревиатуры могут быть и иные значения, например To Be Done - должно быть сделано, или To Be Discussed - подлежит обсуждению. Поэтому принудительно заменим это сокращение на nan, испоьзуя метод to_numeric с параметром errors = 'coerce'."
   ]
  },
  {
   "cell_type": "code",
   "execution_count": 12,
   "metadata": {},
   "outputs": [],
   "source": [
    "# Заменяем сокращение tbd nan и меняем тип данных в столбце user_score\n",
    "data['user_score'] = pd.to_numeric(data['user_score'], errors = 'coerce')\n",
    "data['user_score'] = data['user_score'].astype('float64')"
   ]
  },
  {
   "cell_type": "code",
   "execution_count": 13,
   "metadata": {},
   "outputs": [
    {
     "name": "stdout",
     "output_type": "stream",
     "text": [
      "<class 'pandas.core.frame.DataFrame'>\n",
      "Int64Index: 16444 entries, 0 to 16714\n",
      "Data columns (total 11 columns):\n",
      " #   Column           Non-Null Count  Dtype  \n",
      "---  ------           --------------  -----  \n",
      " 0   name             16444 non-null  object \n",
      " 1   platform         16444 non-null  object \n",
      " 2   year_of_release  16444 non-null  int64  \n",
      " 3   genre            16444 non-null  object \n",
      " 4   na_sales         16444 non-null  float64\n",
      " 5   eu_sales         16444 non-null  float64\n",
      " 6   jp_sales         16444 non-null  float64\n",
      " 7   other_sales      16444 non-null  float64\n",
      " 8   critic_score     7983 non-null   float64\n",
      " 9   user_score       7463 non-null   float64\n",
      " 10  rating           16444 non-null  object \n",
      "dtypes: float64(6), int64(1), object(4)\n",
      "memory usage: 1.5+ MB\n"
     ]
    }
   ],
   "source": [
    "data.info()"
   ]
  },
  {
   "cell_type": "markdown",
   "metadata": {},
   "source": [
    "Таким образом, поменяли тип данных в двух столбцах год релиза и оценка пользователей. В остальных типы данных установлены корректно. Теперь перейдем к исследованию дубликатов."
   ]
  },
  {
   "cell_type": "code",
   "execution_count": 14,
   "metadata": {},
   "outputs": [
    {
     "data": {
      "text/plain": [
       "0"
      ]
     },
     "execution_count": 14,
     "metadata": {},
     "output_type": "execute_result"
    }
   ],
   "source": [
    "# Проверяем явные дубликаты.\n",
    "data.duplicated().sum()"
   ]
  },
  {
   "cell_type": "markdown",
   "metadata": {},
   "source": [
    "Видим, что дубликаты отсутствуют."
   ]
  },
  {
   "cell_type": "markdown",
   "metadata": {},
   "source": [
    "4. Посчитаем суммарные продажи во всех регионах и запишем их в отдельный столбец."
   ]
  },
  {
   "cell_type": "code",
   "execution_count": 15,
   "metadata": {},
   "outputs": [],
   "source": [
    "data['total_sales'] = data['na_sales'] + data['eu_sales'] + data['jp_sales'] + data['other_sales']"
   ]
  },
  {
   "cell_type": "code",
   "execution_count": 16,
   "metadata": {},
   "outputs": [
    {
     "data": {
      "text/html": [
       "<div>\n",
       "<style scoped>\n",
       "    .dataframe tbody tr th:only-of-type {\n",
       "        vertical-align: middle;\n",
       "    }\n",
       "\n",
       "    .dataframe tbody tr th {\n",
       "        vertical-align: top;\n",
       "    }\n",
       "\n",
       "    .dataframe thead th {\n",
       "        text-align: right;\n",
       "    }\n",
       "</style>\n",
       "<table border=\"1\" class=\"dataframe\">\n",
       "  <thead>\n",
       "    <tr style=\"text-align: right;\">\n",
       "      <th></th>\n",
       "      <th>name</th>\n",
       "      <th>platform</th>\n",
       "      <th>year_of_release</th>\n",
       "      <th>genre</th>\n",
       "      <th>na_sales</th>\n",
       "      <th>eu_sales</th>\n",
       "      <th>jp_sales</th>\n",
       "      <th>other_sales</th>\n",
       "      <th>critic_score</th>\n",
       "      <th>user_score</th>\n",
       "      <th>rating</th>\n",
       "      <th>total_sales</th>\n",
       "    </tr>\n",
       "  </thead>\n",
       "  <tbody>\n",
       "    <tr>\n",
       "      <th>0</th>\n",
       "      <td>Wii Sports</td>\n",
       "      <td>Wii</td>\n",
       "      <td>2006</td>\n",
       "      <td>Sports</td>\n",
       "      <td>41.36</td>\n",
       "      <td>28.96</td>\n",
       "      <td>3.77</td>\n",
       "      <td>8.45</td>\n",
       "      <td>76.0</td>\n",
       "      <td>8.0</td>\n",
       "      <td>E</td>\n",
       "      <td>82.54</td>\n",
       "    </tr>\n",
       "    <tr>\n",
       "      <th>1</th>\n",
       "      <td>Super Mario Bros.</td>\n",
       "      <td>NES</td>\n",
       "      <td>1985</td>\n",
       "      <td>Platform</td>\n",
       "      <td>29.08</td>\n",
       "      <td>3.58</td>\n",
       "      <td>6.81</td>\n",
       "      <td>0.77</td>\n",
       "      <td>NaN</td>\n",
       "      <td>NaN</td>\n",
       "      <td>Unknown</td>\n",
       "      <td>40.24</td>\n",
       "    </tr>\n",
       "    <tr>\n",
       "      <th>2</th>\n",
       "      <td>Mario Kart Wii</td>\n",
       "      <td>Wii</td>\n",
       "      <td>2008</td>\n",
       "      <td>Racing</td>\n",
       "      <td>15.68</td>\n",
       "      <td>12.76</td>\n",
       "      <td>3.79</td>\n",
       "      <td>3.29</td>\n",
       "      <td>82.0</td>\n",
       "      <td>8.3</td>\n",
       "      <td>E</td>\n",
       "      <td>35.52</td>\n",
       "    </tr>\n",
       "    <tr>\n",
       "      <th>3</th>\n",
       "      <td>Wii Sports Resort</td>\n",
       "      <td>Wii</td>\n",
       "      <td>2009</td>\n",
       "      <td>Sports</td>\n",
       "      <td>15.61</td>\n",
       "      <td>10.93</td>\n",
       "      <td>3.28</td>\n",
       "      <td>2.95</td>\n",
       "      <td>80.0</td>\n",
       "      <td>8.0</td>\n",
       "      <td>E</td>\n",
       "      <td>32.77</td>\n",
       "    </tr>\n",
       "    <tr>\n",
       "      <th>4</th>\n",
       "      <td>Pokemon Red/Pokemon Blue</td>\n",
       "      <td>GB</td>\n",
       "      <td>1996</td>\n",
       "      <td>Role-Playing</td>\n",
       "      <td>11.27</td>\n",
       "      <td>8.89</td>\n",
       "      <td>10.22</td>\n",
       "      <td>1.00</td>\n",
       "      <td>NaN</td>\n",
       "      <td>NaN</td>\n",
       "      <td>Unknown</td>\n",
       "      <td>31.38</td>\n",
       "    </tr>\n",
       "  </tbody>\n",
       "</table>\n",
       "</div>"
      ],
      "text/plain": [
       "                       name platform  year_of_release         genre  na_sales  \\\n",
       "0                Wii Sports      Wii             2006        Sports     41.36   \n",
       "1         Super Mario Bros.      NES             1985      Platform     29.08   \n",
       "2            Mario Kart Wii      Wii             2008        Racing     15.68   \n",
       "3         Wii Sports Resort      Wii             2009        Sports     15.61   \n",
       "4  Pokemon Red/Pokemon Blue       GB             1996  Role-Playing     11.27   \n",
       "\n",
       "   eu_sales  jp_sales  other_sales  critic_score  user_score   rating  \\\n",
       "0     28.96      3.77         8.45          76.0         8.0        E   \n",
       "1      3.58      6.81         0.77           NaN         NaN  Unknown   \n",
       "2     12.76      3.79         3.29          82.0         8.3        E   \n",
       "3     10.93      3.28         2.95          80.0         8.0        E   \n",
       "4      8.89     10.22         1.00           NaN         NaN  Unknown   \n",
       "\n",
       "   total_sales  \n",
       "0        82.54  \n",
       "1        40.24  \n",
       "2        35.52  \n",
       "3        32.77  \n",
       "4        31.38  "
      ]
     },
     "execution_count": 16,
     "metadata": {},
     "output_type": "execute_result"
    }
   ],
   "source": [
    "data.head()"
   ]
  },
  {
   "cell_type": "markdown",
   "metadata": {},
   "source": [
    "**Вывод:** На этапе предобработки данных поменяли названия столбцов, привели их к нижнему регистру. Увидели, что имеются пропущенные значения в столбцах. В столбце year_of_release строки с пропущенными значениями удалили, так как их было мало, а также в этом поменяли тип данных на int. В столбце critic_score пропуски заменили на среднее значение, а в столбцах user_score и rating оставили nan без изменений. В столбце user_score сокращение tbd заменили на nan и поменяли тип данных этого столбца на float. Дубликатов нет."
   ]
  },
  {
   "cell_type": "markdown",
   "metadata": {},
   "source": [
    "### Проведите исследовательский анализ данных"
   ]
  },
  {
   "cell_type": "markdown",
   "metadata": {},
   "source": [
    "1. Посмотрим, сколько игр выпускалось в разные годы. Важны ли данные за все периоды?"
   ]
  },
  {
   "cell_type": "code",
   "execution_count": 17,
   "metadata": {
    "scrolled": true
   },
   "outputs": [
    {
     "data": {
      "image/png": "[encoded data removed]",
      "text/plain": [
       "<Figure size 864x432 with 1 Axes>"
      ]
     },
     "metadata": {
      "needs_background": "light"
     },
     "output_type": "display_data"
    }
   ],
   "source": [
    "# Посмотрим, сколько игр выпускалось в разные годы. Для этого посторим график.\n",
    "count_game_year = data.pivot_table(index='year_of_release', values='name', aggfunc='count')\n",
    "plt.figure(figsize = (12,6))\n",
    "sns.lineplot(data = count_game_year)\n",
    "plt.title('Количество игр, выпускаемые в разные года')\n",
    "plt.xlabel('Год выпуска')\n",
    "plt.ylabel('Количество игр')\n",
    "plt.show()"
   ]
  },
  {
   "cell_type": "code",
   "execution_count": 18,
   "metadata": {},
   "outputs": [
    {
     "data": {
      "text/plain": [
       "year_of_release\n",
       "1980       9\n",
       "1981      46\n",
       "1982      36\n",
       "1983      17\n",
       "1984      14\n",
       "1985      14\n",
       "1986      21\n",
       "1987      16\n",
       "1988      15\n",
       "1989      17\n",
       "1990      16\n",
       "1991      41\n",
       "1992      43\n",
       "1993      60\n",
       "1994     121\n",
       "1995     219\n",
       "1996     263\n",
       "1997     289\n",
       "1998     379\n",
       "1999     338\n",
       "2000     350\n",
       "2001     482\n",
       "2002     829\n",
       "2003     775\n",
       "2004     762\n",
       "2005     939\n",
       "2006    1006\n",
       "2007    1197\n",
       "2008    1427\n",
       "2009    1426\n",
       "2010    1255\n",
       "2011    1136\n",
       "2012     653\n",
       "2013     544\n",
       "2014     581\n",
       "2015     606\n",
       "2016     502\n",
       "Name: name, dtype: int64"
      ]
     },
     "execution_count": 18,
     "metadata": {},
     "output_type": "execute_result"
    }
   ],
   "source": [
    "# Посмотрим количество игр, выпускаемых  по годам\n",
    "count_games = data.groupby('year_of_release')['name'].count()\n",
    "count_games"
   ]
  },
  {
   "cell_type": "markdown",
   "metadata": {},
   "source": [
    "Видим, что выпуск игр увеличивается с 1995 года. До этого года выпускались единицы. Особенный рост с 2000 года. Поэтому данные до 2000 года рассматривать нет смысла. Пик создания и продаж компьютерных игр приходится с 2006 по 2011 годы"
   ]
  },
  {
   "cell_type": "markdown",
   "metadata": {},
   "source": [
    "2. Посмотрим, как менялись продажи по платформам. Выберим платформы с наибольшими суммарными продажами и построим распределение по годам. За какой характерный срок появляются новые и исчезают старые платформы?\n",
    "Возьмём данные за соответствующий актуальный период. Актуальный период определим самостоятельно в результате исследования предыдущих вопросов. Основной фактор — эти данные помогут построить прогноз на 2017 год.\n",
    "Не учитываем в работе данные за предыдущие годы.\n",
    "Какие платформы лидируют по продажам, растут или падают? Выберите несколько потенциально прибыльных платформ."
   ]
  },
  {
   "cell_type": "code",
   "execution_count": 19,
   "metadata": {},
   "outputs": [],
   "source": [
    "# Выбераем платформы с наибольшими суммарными продажами\n",
    "platform_sum = data.pivot_table(\n",
    "    index = 'platform', values = 'total_sales', aggfunc = 'sum').sort_values(by = 'total_sales', ascending=False)"
   ]
  },
  {
   "cell_type": "code",
   "execution_count": 20,
   "metadata": {
    "scrolled": true
   },
   "outputs": [
    {
     "data": {
      "image/png": "[encoded data removed]",
      "text/plain": [
       "<Figure size 864x432 with 1 Axes>"
      ]
     },
     "metadata": {
      "needs_background": "light"
     },
     "output_type": "display_data"
    }
   ],
   "source": [
    "plt.figure(figsize = (12,6))\n",
    "sns.barplot(x = platform_sum.index,y = platform_sum['total_sales'])\n",
    "plt.title('Платформы с наибольшими суммарными продажами')\n",
    "plt.xlabel('Платформа')\n",
    "plt.ylabel('Количество продаж')\n",
    "plt.show()"
   ]
  },
  {
   "cell_type": "code",
   "execution_count": 21,
   "metadata": {},
   "outputs": [
    {
     "data": {
      "text/plain": [
       "array(['Wii', 'NES', 'GB', 'DS', 'X360', 'PS3', 'PS2', 'SNES', 'GBA',\n",
       "       'PS4', '3DS', 'N64', 'PS', 'XB', 'PC', '2600', 'PSP', 'XOne',\n",
       "       'WiiU', 'GC', 'GEN', 'DC', 'PSV', 'SAT', 'SCD', 'WS', 'NG', 'TG16',\n",
       "       '3DO', 'GG', 'PCFX'], dtype=object)"
      ]
     },
     "execution_count": 21,
     "metadata": {},
     "output_type": "execute_result"
    }
   ],
   "source": [
    "data['platform'].unique()"
   ]
  },
  {
   "cell_type": "markdown",
   "metadata": {},
   "source": [
    "Самое большое количество продаж имеют 6 платформ. Это PS2, X360, PS3, Wii, DS, PS"
   ]
  },
  {
   "cell_type": "code",
   "execution_count": 22,
   "metadata": {},
   "outputs": [],
   "source": [
    "# Создаем отдельную таблицу 5 самых продаваемых платформ. \n",
    "pop_platforms = data.pivot_table(\n",
    "    index='platform', values='total_sales', aggfunc='sum').sort_values(by='total_sales', ascending=False).head(5)\n",
    "pop_platforms = pop_platforms.reset_index().rename_axis(None, axis=1)"
   ]
  },
  {
   "cell_type": "code",
   "execution_count": 23,
   "metadata": {},
   "outputs": [],
   "source": [
    "# Напишем функцию, которая отделит самые продаваемые платформы \n",
    "def year_total_sale_for_platform(name, data):\n",
    "    slicee = data[(data['platform'] == name) & (data['year_of_release'] > 1980)]\n",
    "    total = slicee.pivot_table(\n",
    "        index='year_of_release', values='total_sales', aggfunc='sum').sort_values('year_of_release', ascending=False)\n",
    "    return total"
   ]
  },
  {
   "cell_type": "code",
   "execution_count": 24,
   "metadata": {
    "scrolled": true
   },
   "outputs": [
    {
     "data": {
      "image/png": "[encoded data removed]",
      "text/plain": [
       "<Figure size 864x432 with 1 Axes>"
      ]
     },
     "metadata": {
      "needs_background": "light"
     },
     "output_type": "display_data"
    }
   ],
   "source": [
    "#Отрисуем все игровые платформы и их поведение\n",
    "plt.figure(figsize=(12,6))\n",
    "plt.title('Количество продаж популярных игровых платформ')\n",
    "plt.xlabel('Годы игровых релизов')\n",
    "plt.ylabel('Продажи')\n",
    "\n",
    "for i in list(pop_platforms['platform']):\n",
    "    sns.lineplot(data=year_total_sale_for_platform(i,data)['total_sales'], label=i)\n",
    "    plt.legend()"
   ]
  },
  {
   "cell_type": "code",
   "execution_count": 25,
   "metadata": {},
   "outputs": [
    {
     "data": {
      "image/png": "[encoded data removed]",
      "text/plain": [
       "<Figure size 1080x504 with 1 Axes>"
      ]
     },
     "metadata": {
      "needs_background": "light"
     },
     "output_type": "display_data"
    }
   ],
   "source": [
    "# Выберем актуальный период с 2014 по 2016 год\n",
    "data = data.query('year_of_release >= 2014')\n",
    "# построим график распределения по годам в актуальный период\n",
    "data.pivot_table(index='year_of_release', columns = 'platform', values='total_sales', aggfunc='sum').plot(grid=True, figsize=(15, 7))\n",
    "plt.show()"
   ]
  },
  {
   "cell_type": "markdown",
   "metadata": {},
   "source": [
    "Из графика видно, что в среднем каждая игровая платформа существует примерно 10 лет. Также мы увидели, что с 2000 года только 5 платформ являются лидерами продаж. Поэтому PS хоть имела большое количество продаж, но это было давно до 2000 года, поэтому мы не будем рассматривать ее как топ. Самое большое количество продаж у PS2 и X360. Игровая платформа  WII имела большую поппулярность в 2009 году и резко пошла на спад. Так как данные за 2016 год не полные, за актуальный период взяли года с 2014 по 2016 год. И в эти года видим, продажи поппулярных игр идут на спад, а лидерами являются две игры это PS4 и XOne."
   ]
  },
  {
   "cell_type": "markdown",
   "metadata": {},
   "source": [
    "3. Постройте график «ящик с усами» по глобальным продажам игр в разбивке по платформам."
   ]
  },
  {
   "cell_type": "code",
   "execution_count": 26,
   "metadata": {},
   "outputs": [
    {
     "data": {
      "image/png": "[encoded data removed]",
      "text/plain": [
       "<Figure size 864x432 with 1 Axes>"
      ]
     },
     "metadata": {
      "needs_background": "light"
     },
     "output_type": "display_data"
    }
   ],
   "source": [
    "# Определим 5 платформ, которые являются лидерами продаж в актуальном периоде\n",
    "platform_summ = data.pivot_table(\n",
    "    index = 'platform', values = 'total_sales', aggfunc = 'sum').sort_values(by = 'total_sales', ascending=False)\n",
    "plt.figure(figsize = (12,6))\n",
    "sns.barplot(x = platform_summ.index,y = platform_summ['total_sales'])\n",
    "plt.title('Платформы с наибольшими суммарными продажами')\n",
    "plt.xlabel('Платформа')\n",
    "plt.ylabel('Количество продаж')\n",
    "plt.show()"
   ]
  },
  {
   "cell_type": "markdown",
   "metadata": {},
   "source": [
    "Лидерами продаж в актуальном периоде являются PS4, XOne, 3DS, PS3, X360."
   ]
  },
  {
   "cell_type": "code",
   "execution_count": 27,
   "metadata": {},
   "outputs": [
    {
     "data": {
      "text/html": [
       "<div>\n",
       "<style scoped>\n",
       "    .dataframe tbody tr th:only-of-type {\n",
       "        vertical-align: middle;\n",
       "    }\n",
       "\n",
       "    .dataframe tbody tr th {\n",
       "        vertical-align: top;\n",
       "    }\n",
       "\n",
       "    .dataframe thead th {\n",
       "        text-align: right;\n",
       "    }\n",
       "</style>\n",
       "<table border=\"1\" class=\"dataframe\">\n",
       "  <thead>\n",
       "    <tr style=\"text-align: right;\">\n",
       "      <th></th>\n",
       "      <th>count</th>\n",
       "      <th>mean</th>\n",
       "      <th>std</th>\n",
       "      <th>min</th>\n",
       "      <th>25%</th>\n",
       "      <th>50%</th>\n",
       "      <th>75%</th>\n",
       "      <th>max</th>\n",
       "    </tr>\n",
       "    <tr>\n",
       "      <th>platform</th>\n",
       "      <th></th>\n",
       "      <th></th>\n",
       "      <th></th>\n",
       "      <th></th>\n",
       "      <th></th>\n",
       "      <th></th>\n",
       "      <th></th>\n",
       "      <th></th>\n",
       "    </tr>\n",
       "  </thead>\n",
       "  <tbody>\n",
       "    <tr>\n",
       "      <th>3DS</th>\n",
       "      <td>212.0</td>\n",
       "      <td>0.408868</td>\n",
       "      <td>1.188368</td>\n",
       "      <td>0.01</td>\n",
       "      <td>0.0300</td>\n",
       "      <td>0.090</td>\n",
       "      <td>0.2500</td>\n",
       "      <td>11.68</td>\n",
       "    </tr>\n",
       "    <tr>\n",
       "      <th>PC</th>\n",
       "      <td>151.0</td>\n",
       "      <td>0.179139</td>\n",
       "      <td>0.329359</td>\n",
       "      <td>0.01</td>\n",
       "      <td>0.0200</td>\n",
       "      <td>0.060</td>\n",
       "      <td>0.2000</td>\n",
       "      <td>3.05</td>\n",
       "    </tr>\n",
       "    <tr>\n",
       "      <th>PS3</th>\n",
       "      <td>219.0</td>\n",
       "      <td>0.311324</td>\n",
       "      <td>0.633059</td>\n",
       "      <td>0.01</td>\n",
       "      <td>0.0400</td>\n",
       "      <td>0.110</td>\n",
       "      <td>0.3250</td>\n",
       "      <td>5.27</td>\n",
       "    </tr>\n",
       "    <tr>\n",
       "      <th>PS4</th>\n",
       "      <td>376.0</td>\n",
       "      <td>0.766356</td>\n",
       "      <td>1.614969</td>\n",
       "      <td>0.01</td>\n",
       "      <td>0.0575</td>\n",
       "      <td>0.185</td>\n",
       "      <td>0.6900</td>\n",
       "      <td>14.63</td>\n",
       "    </tr>\n",
       "    <tr>\n",
       "      <th>PSP</th>\n",
       "      <td>13.0</td>\n",
       "      <td>0.027692</td>\n",
       "      <td>0.027735</td>\n",
       "      <td>0.01</td>\n",
       "      <td>0.0100</td>\n",
       "      <td>0.020</td>\n",
       "      <td>0.0200</td>\n",
       "      <td>0.09</td>\n",
       "    </tr>\n",
       "    <tr>\n",
       "      <th>PSV</th>\n",
       "      <td>295.0</td>\n",
       "      <td>0.075932</td>\n",
       "      <td>0.141591</td>\n",
       "      <td>0.01</td>\n",
       "      <td>0.0200</td>\n",
       "      <td>0.040</td>\n",
       "      <td>0.0900</td>\n",
       "      <td>1.96</td>\n",
       "    </tr>\n",
       "    <tr>\n",
       "      <th>Wii</th>\n",
       "      <td>11.0</td>\n",
       "      <td>0.460909</td>\n",
       "      <td>0.625451</td>\n",
       "      <td>0.01</td>\n",
       "      <td>0.0350</td>\n",
       "      <td>0.180</td>\n",
       "      <td>0.7550</td>\n",
       "      <td>2.01</td>\n",
       "    </tr>\n",
       "    <tr>\n",
       "      <th>WiiU</th>\n",
       "      <td>73.0</td>\n",
       "      <td>0.588767</td>\n",
       "      <td>1.161467</td>\n",
       "      <td>0.01</td>\n",
       "      <td>0.0500</td>\n",
       "      <td>0.190</td>\n",
       "      <td>0.5700</td>\n",
       "      <td>7.09</td>\n",
       "    </tr>\n",
       "    <tr>\n",
       "      <th>X360</th>\n",
       "      <td>111.0</td>\n",
       "      <td>0.434414</td>\n",
       "      <td>0.628967</td>\n",
       "      <td>0.01</td>\n",
       "      <td>0.0700</td>\n",
       "      <td>0.180</td>\n",
       "      <td>0.5050</td>\n",
       "      <td>4.28</td>\n",
       "    </tr>\n",
       "    <tr>\n",
       "      <th>XOne</th>\n",
       "      <td>228.0</td>\n",
       "      <td>0.615614</td>\n",
       "      <td>1.046513</td>\n",
       "      <td>0.01</td>\n",
       "      <td>0.0500</td>\n",
       "      <td>0.205</td>\n",
       "      <td>0.6325</td>\n",
       "      <td>7.39</td>\n",
       "    </tr>\n",
       "  </tbody>\n",
       "</table>\n",
       "</div>"
      ],
      "text/plain": [
       "          count      mean       std   min     25%    50%     75%    max\n",
       "platform                                                               \n",
       "3DS       212.0  0.408868  1.188368  0.01  0.0300  0.090  0.2500  11.68\n",
       "PC        151.0  0.179139  0.329359  0.01  0.0200  0.060  0.2000   3.05\n",
       "PS3       219.0  0.311324  0.633059  0.01  0.0400  0.110  0.3250   5.27\n",
       "PS4       376.0  0.766356  1.614969  0.01  0.0575  0.185  0.6900  14.63\n",
       "PSP        13.0  0.027692  0.027735  0.01  0.0100  0.020  0.0200   0.09\n",
       "PSV       295.0  0.075932  0.141591  0.01  0.0200  0.040  0.0900   1.96\n",
       "Wii        11.0  0.460909  0.625451  0.01  0.0350  0.180  0.7550   2.01\n",
       "WiiU       73.0  0.588767  1.161467  0.01  0.0500  0.190  0.5700   7.09\n",
       "X360      111.0  0.434414  0.628967  0.01  0.0700  0.180  0.5050   4.28\n",
       "XOne      228.0  0.615614  1.046513  0.01  0.0500  0.205  0.6325   7.39"
      ]
     },
     "execution_count": 27,
     "metadata": {},
     "output_type": "execute_result"
    }
   ],
   "source": [
    "# Посмотрим на распределение платформ с помощью describe()\n",
    "data.groupby('platform')['total_sales'].describe()"
   ]
  },
  {
   "cell_type": "code",
   "execution_count": 28,
   "metadata": {
    "scrolled": false
   },
   "outputs": [
    {
     "data": {
      "image/png": "[encoded data removed]",
      "text/plain": [
       "<Figure size 864x432 with 1 Axes>"
      ]
     },
     "metadata": {
      "needs_background": "light"
     },
     "output_type": "display_data"
    }
   ],
   "source": [
    "# Строим график «ящик с усами» по глобальным продажам игр в разбивке по платформам с помощью boxplot()\n",
    "plt.figure(figsize = (12,6))\n",
    "sns.boxplot(data = data, x = 'platform', y = 'total_sales')\n",
    "plt.ylim(0, 2)\n",
    "plt.title('Глобальные продажи игр в разбивке по платформам')\n",
    "plt.xlabel('Название платформы')\n",
    "plt.ylabel('Глобальные продажи')\n",
    "plt.show()"
   ]
  },
  {
   "cell_type": "markdown",
   "metadata": {},
   "source": [
    "На графиках видим, что распределение данных у всех платформ разное. Стандартное отклонение сильно отличается от среднего значения и от медианы. Также видим, что есть выбросы, но их оставим."
   ]
  },
  {
   "cell_type": "markdown",
   "metadata": {},
   "source": [
    "4. Посмотрим, как влияют на продажи внутри одной популярной платформы отзывы пользователей и критиков. Построим диаграмму рассеяния и посчитаем корреляцию между отзывами и продажами."
   ]
  },
  {
   "cell_type": "code",
   "execution_count": 29,
   "metadata": {},
   "outputs": [
    {
     "data": {
      "image/png": "[encoded data removed]",
      "text/plain": [
       "<Figure size 432x288 with 1 Axes>"
      ]
     },
     "metadata": {
      "needs_background": "light"
     },
     "output_type": "display_data"
    },
    {
     "data": {
      "text/plain": [
       "-0.040131589472697356"
      ]
     },
     "execution_count": 29,
     "metadata": {},
     "output_type": "execute_result"
    }
   ],
   "source": [
    "# Как влияют на продажи отзывы пользователей? Возьмем платформу PS4\n",
    "# Строим диаграмму рассеяния\n",
    "\n",
    "user_score_ps4 = data[data['platform'] == 'PS4']\n",
    "user_score_ps4.plot(x = 'user_score', y = 'total_sales', style = 'o')\n",
    "plt.title('Зависимость продаж PS4 от отзывов пользователей')\n",
    "plt.xlabel('Отзывы пользователей')\n",
    "plt.ylabel('Продажи')\n",
    "plt.show()\n",
    "\n",
    "# считаем корреляцию\n",
    "user_score_ps4['user_score'].corr(user_score_ps4['total_sales'])"
   ]
  },
  {
   "cell_type": "markdown",
   "metadata": {},
   "source": [
    "На графике видно, что больше продаж игр, имеющих оценку пользователей больше 6.  Коэффициент корреляции Пирсона -0,04(отрицательный). Это говорит о том, что при увеличении оценки, продажи не возрастают. Таким образом, видим, что количество продаж PS4 не зависит от оценки пользователей. "
   ]
  },
  {
   "cell_type": "code",
   "execution_count": 30,
   "metadata": {},
   "outputs": [
    {
     "data": {
      "image/png": "[encoded data removed]",
      "text/plain": [
       "<Figure size 432x288 with 1 Axes>"
      ]
     },
     "metadata": {
      "needs_background": "light"
     },
     "output_type": "display_data"
    },
    {
     "data": {
      "text/plain": [
       "0.40266141068104083"
      ]
     },
     "execution_count": 30,
     "metadata": {},
     "output_type": "execute_result"
    }
   ],
   "source": [
    "# Как влияют на продажи отзывы критиков? Посмотрим на примере PS4\n",
    "# Строим диаграмму рассеяния\n",
    "critic_score_ps4 = data[data['platform'] == 'PS4']\n",
    "critic_score_ps4.plot(x = 'critic_score', y = 'total_sales', style = 'o')\n",
    "plt.title('Зависимость продаж PS4 от оценки критиков')\n",
    "plt.xlabel('Оценка критиков')\n",
    "plt.ylabel('Продажи')\n",
    "plt.show()\n",
    "\n",
    "# считаем корреляцию\n",
    "critic_score_ps4['critic_score'].corr(user_score_ps4['total_sales'])"
   ]
  },
  {
   "cell_type": "markdown",
   "metadata": {},
   "source": [
    "На графике видно, что чаще покупаются игры платформы PS, у которых оценка критиков больше 80. Коэффициент корреляции Пирсона - 0,4(положительный). Это говорит о том, что отзывы критиков влияют на количество продаж. Таким образом, приходим к выводу, что количество продаж имеет зависимость от оценки критиков."
   ]
  },
  {
   "cell_type": "code",
   "execution_count": 31,
   "metadata": {},
   "outputs": [],
   "source": [
    "# Напишем функцию, которая сравнит зависимость продаж от оценки пользователей и критиков на других платформах\n",
    "def platforms_matrix(name):\n",
    "    platform = data[data['platform'] == name]\n",
    "    fig, ax = plt.subplots(1 ,2, figsize=(12,6))\n",
    "    sns.scatterplot(x = 'user_score', y ='total_sales', data = platform, ax = ax[0])\n",
    "    sns.scatterplot(x ='critic_score', y ='total_sales', data = platform, ax = ax[1])\n",
    "    fig.suptitle(name)\n",
    "    ax[0].set(xlabel = 'Оценка пользователей')\n",
    "    ax[1].set(xlabel = 'Оценка критиков')\n",
    "    ax[0].set(ylabel = 'Количество продаж')\n",
    "    ax[1].set(ylabel = 'Количество продаж')\n",
    "    plt.show()\n",
    "    \n",
    "    user_correl = platform['user_score'].corr(platform['total_sales'])\n",
    "    critic_correl = platform['critic_score'].corr(platform['total_sales'])\n",
    "    print('Корреляция между оценкой пользователей и продажами:', user_correl)\n",
    "    print('Корреляция между оценкой критиков и продажами:', critic_correl)"
   ]
  },
  {
   "cell_type": "code",
   "execution_count": 32,
   "metadata": {},
   "outputs": [
    {
     "data": {
      "image/png": "[encoded data removed]",
      "text/plain": [
       "<Figure size 864x432 with 2 Axes>"
      ]
     },
     "metadata": {
      "needs_background": "light"
     },
     "output_type": "display_data"
    },
    {
     "name": "stdout",
     "output_type": "stream",
     "text": [
      "Корреляция между оценкой пользователей и продажами: -0.0703839280647581\n",
      "Корреляция между оценкой критиков и продажами: 0.42867694370333226\n"
     ]
    }
   ],
   "source": [
    "# Посмотрим зависимость продаж от оценки пользователей и критиков на платформе XOne\n",
    "platforms_matrix('XOne')"
   ]
  },
  {
   "cell_type": "markdown",
   "metadata": {},
   "source": [
    "На графиках видно, что чаще продаются игры XOne, у которых оценка пользователей больше 6 и оценка критиков больше 70. Но по корреляции Пирсона видно, что количество продаж ,больше зависит от оценки критиков, чем от оценки пользователей. "
   ]
  },
  {
   "cell_type": "code",
   "execution_count": 33,
   "metadata": {},
   "outputs": [
    {
     "data": {
      "image/png": "[encoded data removed]",
      "text/plain": [
       "<Figure size 864x432 with 2 Axes>"
      ]
     },
     "metadata": {
      "needs_background": "light"
     },
     "output_type": "display_data"
    },
    {
     "name": "stdout",
     "output_type": "stream",
     "text": [
      "Корреляция между оценкой пользователей и продажами: 0.2151932718527028\n",
      "Корреляция между оценкой критиков и продажами: 0.314117492869051\n"
     ]
    }
   ],
   "source": [
    "# Посмотрим зависимость продаж от оценки пользователей и критиков на платформе 3DS\n",
    "platforms_matrix('3DS')"
   ]
  },
  {
   "cell_type": "markdown",
   "metadata": {},
   "source": [
    "На графиках видно, что среди игр платформы 3DS почти нет зависимости от оценки критиков и пользователей. Корреляция Пирсона положительная и зависимость продаж от оценки критиков больше, чем от оценки пользователей."
   ]
  },
  {
   "cell_type": "code",
   "execution_count": 34,
   "metadata": {},
   "outputs": [
    {
     "data": {
      "image/png": "[encoded data removed]",
      "text/plain": [
       "<Figure size 864x432 with 2 Axes>"
      ]
     },
     "metadata": {
      "needs_background": "light"
     },
     "output_type": "display_data"
    },
    {
     "name": "stdout",
     "output_type": "stream",
     "text": [
      "Корреляция между оценкой пользователей и продажами: -0.16676141347662118\n",
      "Корреляция между оценкой критиков и продажами: 0.44657460493190704\n"
     ]
    }
   ],
   "source": [
    "# Посмотрим зависимость продаж от оценки пользователей и критиков на платформе Wii\n",
    "platforms_matrix('PS3')"
   ]
  },
  {
   "cell_type": "markdown",
   "metadata": {},
   "source": [
    "Корреляция Пирсона между оценкой критиков и продажами положительная, значит, имеется зависимость, а вот корреляция между оценкой пользователей и продажами отрицательная, значит зависимости нет."
   ]
  },
  {
   "cell_type": "code",
   "execution_count": 35,
   "metadata": {},
   "outputs": [
    {
     "data": {
      "image/png": "[encoded data removed]",
      "text/plain": [
       "<Figure size 864x432 with 2 Axes>"
      ]
     },
     "metadata": {
      "needs_background": "light"
     },
     "output_type": "display_data"
    },
    {
     "name": "stdout",
     "output_type": "stream",
     "text": [
      "Корреляция между оценкой пользователей и продажами: -0.138444570945665\n",
      "Корреляция между оценкой критиков и продажами: 0.5257228356581523\n"
     ]
    }
   ],
   "source": [
    "# Посмотрим зависимость продаж от оценки пользователей и критиков на платформе X360\n",
    "platforms_matrix('X360')"
   ]
  },
  {
   "cell_type": "markdown",
   "metadata": {},
   "source": [
    "Из графиков и корреляции Пирсона видно, что дело с продажами игр на платформе X360 обстоит примерно также, как и на других популярных платформах актуального периода. Продажи зависят от оценки критиков,  а не от оценки пользователей."
   ]
  },
  {
   "cell_type": "markdown",
   "metadata": {},
   "source": [
    "Вывод: Рассмотрев зависимость продаж популярных платформ от оценки пользователей и критиков, видим, что продажа поппулярных игр не имеет зависимости  от оценки пользователей, но напрямую зависит от оценки критиков"
   ]
  },
  {
   "cell_type": "markdown",
   "metadata": {},
   "source": [
    "5. Посмотрим на общее распределение игр по жанрам. "
   ]
  },
  {
   "cell_type": "code",
   "execution_count": 36,
   "metadata": {},
   "outputs": [
    {
     "data": {
      "text/html": [
       "<div>\n",
       "<style scoped>\n",
       "    .dataframe tbody tr th:only-of-type {\n",
       "        vertical-align: middle;\n",
       "    }\n",
       "\n",
       "    .dataframe tbody tr th {\n",
       "        vertical-align: top;\n",
       "    }\n",
       "\n",
       "    .dataframe thead th {\n",
       "        text-align: right;\n",
       "    }\n",
       "</style>\n",
       "<table border=\"1\" class=\"dataframe\">\n",
       "  <thead>\n",
       "    <tr style=\"text-align: right;\">\n",
       "      <th></th>\n",
       "      <th>genre</th>\n",
       "      <th>total_sales</th>\n",
       "    </tr>\n",
       "  </thead>\n",
       "  <tbody>\n",
       "    <tr>\n",
       "      <th>0</th>\n",
       "      <td>Action</td>\n",
       "      <td>199.36</td>\n",
       "    </tr>\n",
       "    <tr>\n",
       "      <th>1</th>\n",
       "      <td>Shooter</td>\n",
       "      <td>170.94</td>\n",
       "    </tr>\n",
       "    <tr>\n",
       "      <th>2</th>\n",
       "      <td>Sports</td>\n",
       "      <td>109.48</td>\n",
       "    </tr>\n",
       "    <tr>\n",
       "      <th>3</th>\n",
       "      <td>Role-Playing</td>\n",
       "      <td>101.44</td>\n",
       "    </tr>\n",
       "    <tr>\n",
       "      <th>4</th>\n",
       "      <td>Misc</td>\n",
       "      <td>37.55</td>\n",
       "    </tr>\n",
       "    <tr>\n",
       "      <th>5</th>\n",
       "      <td>Fighting</td>\n",
       "      <td>28.22</td>\n",
       "    </tr>\n",
       "    <tr>\n",
       "      <th>6</th>\n",
       "      <td>Racing</td>\n",
       "      <td>27.52</td>\n",
       "    </tr>\n",
       "    <tr>\n",
       "      <th>7</th>\n",
       "      <td>Platform</td>\n",
       "      <td>18.09</td>\n",
       "    </tr>\n",
       "    <tr>\n",
       "      <th>8</th>\n",
       "      <td>Adventure</td>\n",
       "      <td>17.55</td>\n",
       "    </tr>\n",
       "    <tr>\n",
       "      <th>9</th>\n",
       "      <td>Simulation</td>\n",
       "      <td>13.13</td>\n",
       "    </tr>\n",
       "    <tr>\n",
       "      <th>10</th>\n",
       "      <td>Strategy</td>\n",
       "      <td>3.96</td>\n",
       "    </tr>\n",
       "    <tr>\n",
       "      <th>11</th>\n",
       "      <td>Puzzle</td>\n",
       "      <td>2.21</td>\n",
       "    </tr>\n",
       "  </tbody>\n",
       "</table>\n",
       "</div>"
      ],
      "text/plain": [
       "           genre  total_sales\n",
       "0         Action       199.36\n",
       "1        Shooter       170.94\n",
       "2         Sports       109.48\n",
       "3   Role-Playing       101.44\n",
       "4           Misc        37.55\n",
       "5       Fighting        28.22\n",
       "6         Racing        27.52\n",
       "7       Platform        18.09\n",
       "8      Adventure        17.55\n",
       "9     Simulation        13.13\n",
       "10      Strategy         3.96\n",
       "11        Puzzle         2.21"
      ]
     },
     "metadata": {},
     "output_type": "display_data"
    }
   ],
   "source": [
    "# Используя сводную таблицу, посмотрим количество продаж по жанрам\n",
    "genre_sales = data.pivot_table(\n",
    "    index='genre', values='total_sales', aggfunc='sum').sort_values(by='total_sales', ascending=False)\n",
    "genre_sales = genre_sales.reset_index().rename_axis(None, axis=1)\n",
    "display(genre_sales)\n"
   ]
  },
  {
   "cell_type": "code",
   "execution_count": 37,
   "metadata": {},
   "outputs": [
    {
     "data": {
      "image/png": "[encoded data removed]",
      "text/plain": [
       "<Figure size 864x432 with 1 Axes>"
      ]
     },
     "metadata": {
      "needs_background": "light"
     },
     "output_type": "display_data"
    }
   ],
   "source": [
    "# Для наглядности построим график продаж по жанрам\n",
    "plt.figure(figsize = (12,6))\n",
    "sns.barplot(x = genre_sales['genre'],y = genre_sales['total_sales'])\n",
    "plt.title('Продажи платформ по жанрам')\n",
    "plt.xlabel('Жанр')\n",
    "plt.ylabel('Количество продаж')\n",
    "plt.show()"
   ]
  },
  {
   "cell_type": "code",
   "execution_count": 38,
   "metadata": {},
   "outputs": [
    {
     "data": {
      "text/html": [
       "<div>\n",
       "<style scoped>\n",
       "    .dataframe tbody tr th:only-of-type {\n",
       "        vertical-align: middle;\n",
       "    }\n",
       "\n",
       "    .dataframe tbody tr th {\n",
       "        vertical-align: top;\n",
       "    }\n",
       "\n",
       "    .dataframe thead th {\n",
       "        text-align: right;\n",
       "    }\n",
       "</style>\n",
       "<table border=\"1\" class=\"dataframe\">\n",
       "  <thead>\n",
       "    <tr style=\"text-align: right;\">\n",
       "      <th></th>\n",
       "      <th>count</th>\n",
       "      <th>mean</th>\n",
       "      <th>std</th>\n",
       "      <th>min</th>\n",
       "      <th>25%</th>\n",
       "      <th>50%</th>\n",
       "      <th>75%</th>\n",
       "      <th>max</th>\n",
       "    </tr>\n",
       "    <tr>\n",
       "      <th>genre</th>\n",
       "      <th></th>\n",
       "      <th></th>\n",
       "      <th></th>\n",
       "      <th></th>\n",
       "      <th></th>\n",
       "      <th></th>\n",
       "      <th></th>\n",
       "      <th></th>\n",
       "    </tr>\n",
       "  </thead>\n",
       "  <tbody>\n",
       "    <tr>\n",
       "      <th>Action</th>\n",
       "      <td>619.0</td>\n",
       "      <td>0.322068</td>\n",
       "      <td>0.798181</td>\n",
       "      <td>0.01</td>\n",
       "      <td>0.0300</td>\n",
       "      <td>0.090</td>\n",
       "      <td>0.2800</td>\n",
       "      <td>12.62</td>\n",
       "    </tr>\n",
       "    <tr>\n",
       "      <th>Adventure</th>\n",
       "      <td>185.0</td>\n",
       "      <td>0.094865</td>\n",
       "      <td>0.203147</td>\n",
       "      <td>0.01</td>\n",
       "      <td>0.0200</td>\n",
       "      <td>0.030</td>\n",
       "      <td>0.0800</td>\n",
       "      <td>1.66</td>\n",
       "    </tr>\n",
       "    <tr>\n",
       "      <th>Fighting</th>\n",
       "      <td>60.0</td>\n",
       "      <td>0.470333</td>\n",
       "      <td>1.188053</td>\n",
       "      <td>0.01</td>\n",
       "      <td>0.0600</td>\n",
       "      <td>0.125</td>\n",
       "      <td>0.3200</td>\n",
       "      <td>7.55</td>\n",
       "    </tr>\n",
       "    <tr>\n",
       "      <th>Misc</th>\n",
       "      <td>113.0</td>\n",
       "      <td>0.332301</td>\n",
       "      <td>0.736999</td>\n",
       "      <td>0.01</td>\n",
       "      <td>0.0300</td>\n",
       "      <td>0.090</td>\n",
       "      <td>0.3200</td>\n",
       "      <td>5.27</td>\n",
       "    </tr>\n",
       "    <tr>\n",
       "      <th>Platform</th>\n",
       "      <td>38.0</td>\n",
       "      <td>0.476053</td>\n",
       "      <td>0.722561</td>\n",
       "      <td>0.01</td>\n",
       "      <td>0.0625</td>\n",
       "      <td>0.140</td>\n",
       "      <td>0.4675</td>\n",
       "      <td>3.21</td>\n",
       "    </tr>\n",
       "    <tr>\n",
       "      <th>Puzzle</th>\n",
       "      <td>14.0</td>\n",
       "      <td>0.157857</td>\n",
       "      <td>0.320629</td>\n",
       "      <td>0.01</td>\n",
       "      <td>0.0200</td>\n",
       "      <td>0.045</td>\n",
       "      <td>0.1000</td>\n",
       "      <td>1.19</td>\n",
       "    </tr>\n",
       "    <tr>\n",
       "      <th>Racing</th>\n",
       "      <td>69.0</td>\n",
       "      <td>0.398841</td>\n",
       "      <td>0.963716</td>\n",
       "      <td>0.01</td>\n",
       "      <td>0.0300</td>\n",
       "      <td>0.090</td>\n",
       "      <td>0.2500</td>\n",
       "      <td>7.09</td>\n",
       "    </tr>\n",
       "    <tr>\n",
       "      <th>Role-Playing</th>\n",
       "      <td>221.0</td>\n",
       "      <td>0.459005</td>\n",
       "      <td>1.177284</td>\n",
       "      <td>0.01</td>\n",
       "      <td>0.0500</td>\n",
       "      <td>0.110</td>\n",
       "      <td>0.3600</td>\n",
       "      <td>11.68</td>\n",
       "    </tr>\n",
       "    <tr>\n",
       "      <th>Shooter</th>\n",
       "      <td>128.0</td>\n",
       "      <td>1.335469</td>\n",
       "      <td>2.050567</td>\n",
       "      <td>0.01</td>\n",
       "      <td>0.1725</td>\n",
       "      <td>0.515</td>\n",
       "      <td>1.6175</td>\n",
       "      <td>14.63</td>\n",
       "    </tr>\n",
       "    <tr>\n",
       "      <th>Simulation</th>\n",
       "      <td>44.0</td>\n",
       "      <td>0.298409</td>\n",
       "      <td>0.646925</td>\n",
       "      <td>0.01</td>\n",
       "      <td>0.0200</td>\n",
       "      <td>0.100</td>\n",
       "      <td>0.3275</td>\n",
       "      <td>3.05</td>\n",
       "    </tr>\n",
       "    <tr>\n",
       "      <th>Sports</th>\n",
       "      <td>161.0</td>\n",
       "      <td>0.680000</td>\n",
       "      <td>1.239736</td>\n",
       "      <td>0.01</td>\n",
       "      <td>0.0600</td>\n",
       "      <td>0.180</td>\n",
       "      <td>0.6400</td>\n",
       "      <td>8.58</td>\n",
       "    </tr>\n",
       "    <tr>\n",
       "      <th>Strategy</th>\n",
       "      <td>37.0</td>\n",
       "      <td>0.107027</td>\n",
       "      <td>0.118412</td>\n",
       "      <td>0.01</td>\n",
       "      <td>0.0300</td>\n",
       "      <td>0.060</td>\n",
       "      <td>0.1400</td>\n",
       "      <td>0.52</td>\n",
       "    </tr>\n",
       "  </tbody>\n",
       "</table>\n",
       "</div>"
      ],
      "text/plain": [
       "              count      mean       std   min     25%    50%     75%    max\n",
       "genre                                                                      \n",
       "Action        619.0  0.322068  0.798181  0.01  0.0300  0.090  0.2800  12.62\n",
       "Adventure     185.0  0.094865  0.203147  0.01  0.0200  0.030  0.0800   1.66\n",
       "Fighting       60.0  0.470333  1.188053  0.01  0.0600  0.125  0.3200   7.55\n",
       "Misc          113.0  0.332301  0.736999  0.01  0.0300  0.090  0.3200   5.27\n",
       "Platform       38.0  0.476053  0.722561  0.01  0.0625  0.140  0.4675   3.21\n",
       "Puzzle         14.0  0.157857  0.320629  0.01  0.0200  0.045  0.1000   1.19\n",
       "Racing         69.0  0.398841  0.963716  0.01  0.0300  0.090  0.2500   7.09\n",
       "Role-Playing  221.0  0.459005  1.177284  0.01  0.0500  0.110  0.3600  11.68\n",
       "Shooter       128.0  1.335469  2.050567  0.01  0.1725  0.515  1.6175  14.63\n",
       "Simulation     44.0  0.298409  0.646925  0.01  0.0200  0.100  0.3275   3.05\n",
       "Sports        161.0  0.680000  1.239736  0.01  0.0600  0.180  0.6400   8.58\n",
       "Strategy       37.0  0.107027  0.118412  0.01  0.0300  0.060  0.1400   0.52"
      ]
     },
     "execution_count": 38,
     "metadata": {},
     "output_type": "execute_result"
    }
   ],
   "source": [
    "# Посмотрим на распределение платформ с помощью describe()\n",
    "data.groupby('genre')['total_sales'].describe()"
   ]
  },
  {
   "cell_type": "code",
   "execution_count": 39,
   "metadata": {},
   "outputs": [
    {
     "data": {
      "image/png": "[encoded data removed]",
      "text/plain": [
       "<Figure size 864x432 with 1 Axes>"
      ]
     },
     "metadata": {
      "needs_background": "light"
     },
     "output_type": "display_data"
    }
   ],
   "source": [
    "# Строим график «ящик с усами» по глобальным продажам игр в разбивке по жанрам с помощью boxplot()\n",
    "plt.figure(figsize = (12,6))\n",
    "sns.boxplot(data = data, x = 'genre', y = 'total_sales')\n",
    "plt.ylim(0, 2)\n",
    "plt.title('Глобальные продажи игр в разбивке по жанрам')\n",
    "plt.xlabel('Название платформы')\n",
    "plt.ylabel('Глобальные продажи')\n",
    "plt.show()"
   ]
  },
  {
   "cell_type": "markdown",
   "metadata": {},
   "source": [
    "Самый прибыльный жанр в актуальном периоде Shooter. Он приносит больше всего продаж Меньше всего продаж в жанре Puzzle"
   ]
  },
  {
   "cell_type": "markdown",
   "metadata": {},
   "source": [
    "**Вывод:** Проведя исследовательский анализ данных, видим, что выпуск игр увеличивается с 1995 года. До этого года выпускались единицы. Особенный рост с 2000 года. Пик приходится на 2006-2011 годы. В среднем каждая игровая платформа существует примерно 10 лет. Также мы увидели, что в актуальный период(с 2014 по 2016 годы) только 5 платформ являются лидерами продаж. Это PS4, XOne,3DS, PS3, X360. Лидерами продаж являются платформы PS4 и XOne. Wii быстро стала поппулярна, но очень быстро исчезла. Рассмотрев зависимость продаж популярных платформ от оценки пользователей и критиков, видим, что продажа поппулярных игр не имеет зависимость от оценки пользователей, в то время как оценка критиков влияет на продажи. Самые прибыльный жанр - Shooter.А жанр Puzzle продается меньше всего."
   ]
  },
  {
   "cell_type": "markdown",
   "metadata": {},
   "source": [
    "### Составьте портрет пользователя каждого региона"
   ]
  },
  {
   "cell_type": "markdown",
   "metadata": {},
   "source": [
    "1. Определите для пользователя каждого региона (NA, EU, JP)\n",
    "Самые популярные платформы (топ-5). Опишите различия в долях продаж."
   ]
  },
  {
   "cell_type": "code",
   "execution_count": 40,
   "metadata": {},
   "outputs": [
    {
     "data": {
      "text/html": [
       "<div>\n",
       "<style scoped>\n",
       "    .dataframe tbody tr th:only-of-type {\n",
       "        vertical-align: middle;\n",
       "    }\n",
       "\n",
       "    .dataframe tbody tr th {\n",
       "        vertical-align: top;\n",
       "    }\n",
       "\n",
       "    .dataframe thead th {\n",
       "        text-align: right;\n",
       "    }\n",
       "</style>\n",
       "<table border=\"1\" class=\"dataframe\">\n",
       "  <thead>\n",
       "    <tr style=\"text-align: right;\">\n",
       "      <th></th>\n",
       "      <th>platform</th>\n",
       "      <th>na_sales</th>\n",
       "    </tr>\n",
       "  </thead>\n",
       "  <tbody>\n",
       "    <tr>\n",
       "      <th>0</th>\n",
       "      <td>PS4</td>\n",
       "      <td>98.61</td>\n",
       "    </tr>\n",
       "    <tr>\n",
       "      <th>1</th>\n",
       "      <td>XOne</td>\n",
       "      <td>81.27</td>\n",
       "    </tr>\n",
       "    <tr>\n",
       "      <th>2</th>\n",
       "      <td>X360</td>\n",
       "      <td>28.30</td>\n",
       "    </tr>\n",
       "    <tr>\n",
       "      <th>3</th>\n",
       "      <td>3DS</td>\n",
       "      <td>22.64</td>\n",
       "    </tr>\n",
       "    <tr>\n",
       "      <th>4</th>\n",
       "      <td>PS3</td>\n",
       "      <td>22.05</td>\n",
       "    </tr>\n",
       "  </tbody>\n",
       "</table>\n",
       "</div>"
      ],
      "text/plain": [
       "  platform  na_sales\n",
       "0      PS4     98.61\n",
       "1     XOne     81.27\n",
       "2     X360     28.30\n",
       "3      3DS     22.64\n",
       "4      PS3     22.05"
      ]
     },
     "execution_count": 40,
     "metadata": {},
     "output_type": "execute_result"
    }
   ],
   "source": [
    "# Определяем 5 популярных платформ в Северной Америке\n",
    "pop_platforms_na_sales = data.pivot_table(\n",
    "    index = 'platform', values = 'na_sales', aggfunc = 'sum').sort_values(by = 'na_sales', ascending = False)\n",
    "pop_platforms_na_sales = pop_platforms_na_sales.reset_index().rename_axis(None, axis = 1)\n",
    "pop_platforms_na_sales.head()"
   ]
  },
  {
   "cell_type": "code",
   "execution_count": 41,
   "metadata": {},
   "outputs": [
    {
     "data": {
      "image/png": "[encoded data removed]",
      "text/plain": [
       "<Figure size 864x432 with 1 Axes>"
      ]
     },
     "metadata": {
      "needs_background": "light"
     },
     "output_type": "display_data"
    }
   ],
   "source": [
    "# Строим график продаж в Северной Америке\n",
    "plt.figure(figsize = (12,6))\n",
    "sns.barplot(x = pop_platforms_na_sales['platform'],y = pop_platforms_na_sales['na_sales'])\n",
    "plt.title('Продажи платформ в Северной Америке')\n",
    "plt.xlabel('Платформа')\n",
    "plt.ylabel('Количество продаж')\n",
    "plt.show()"
   ]
  },
  {
   "cell_type": "markdown",
   "metadata": {},
   "source": [
    "Самые популярные игровые платформы в Северной Америке PS4, XOne, X360, 3DS и PS3."
   ]
  },
  {
   "cell_type": "code",
   "execution_count": 42,
   "metadata": {},
   "outputs": [
    {
     "data": {
      "text/plain": [
       "platform\n",
       "X360    58.689341\n",
       "XOne    57.901111\n",
       "PS4     34.221760\n",
       "PS3     32.340862\n",
       "3DS     26.119059\n",
       "dtype: float64"
      ]
     },
     "metadata": {},
     "output_type": "display_data"
    }
   ],
   "source": [
    "# Посчитаем долю продаж популярных платформ в Северной Америке от общих продаж\n",
    "platform_na = pop_platforms_na_sales.groupby('platform')['na_sales'].sum().sort_values(ascending = False).head()\n",
    "platform_count_full = data.groupby('platform')['total_sales'].sum().sort_values(ascending = False).head()\n",
    "percent_sale_na = platform_na / platform_count_full * 100\n",
    "display(percent_sale_na.sort_values(ascending = False))\n"
   ]
  },
  {
   "cell_type": "markdown",
   "metadata": {},
   "source": [
    "Видим, почти 59% продаж Х360 и 58% XOne от общих продаж приходится на Северную Америку. Посмотрев, на долю продаж видим, что среди американцев очень популярны игры, так как основная доля продаж находится именно в Северной Америке. "
   ]
  },
  {
   "cell_type": "code",
   "execution_count": 43,
   "metadata": {},
   "outputs": [
    {
     "data": {
      "text/html": [
       "<div>\n",
       "<style scoped>\n",
       "    .dataframe tbody tr th:only-of-type {\n",
       "        vertical-align: middle;\n",
       "    }\n",
       "\n",
       "    .dataframe tbody tr th {\n",
       "        vertical-align: top;\n",
       "    }\n",
       "\n",
       "    .dataframe thead th {\n",
       "        text-align: right;\n",
       "    }\n",
       "</style>\n",
       "<table border=\"1\" class=\"dataframe\">\n",
       "  <thead>\n",
       "    <tr style=\"text-align: right;\">\n",
       "      <th></th>\n",
       "      <th>platform</th>\n",
       "      <th>eu_sales</th>\n",
       "    </tr>\n",
       "  </thead>\n",
       "  <tbody>\n",
       "    <tr>\n",
       "      <th>0</th>\n",
       "      <td>PS4</td>\n",
       "      <td>130.04</td>\n",
       "    </tr>\n",
       "    <tr>\n",
       "      <th>1</th>\n",
       "      <td>XOne</td>\n",
       "      <td>46.25</td>\n",
       "    </tr>\n",
       "    <tr>\n",
       "      <th>2</th>\n",
       "      <td>PS3</td>\n",
       "      <td>25.54</td>\n",
       "    </tr>\n",
       "    <tr>\n",
       "      <th>3</th>\n",
       "      <td>PC</td>\n",
       "      <td>17.97</td>\n",
       "    </tr>\n",
       "    <tr>\n",
       "      <th>4</th>\n",
       "      <td>3DS</td>\n",
       "      <td>16.12</td>\n",
       "    </tr>\n",
       "  </tbody>\n",
       "</table>\n",
       "</div>"
      ],
      "text/plain": [
       "  platform  eu_sales\n",
       "0      PS4    130.04\n",
       "1     XOne     46.25\n",
       "2      PS3     25.54\n",
       "3       PC     17.97\n",
       "4      3DS     16.12"
      ]
     },
     "execution_count": 43,
     "metadata": {},
     "output_type": "execute_result"
    }
   ],
   "source": [
    "# Определяем 5 популярных платформ в Европе\n",
    "pop_platforms_eu_sales = data.pivot_table(\n",
    "    index = 'platform', values = 'eu_sales', aggfunc = 'sum').sort_values(by = 'eu_sales', ascending = False)\n",
    "pop_platforms_eu_sales = pop_platforms_eu_sales.reset_index().rename_axis(None, axis = 1)\n",
    "pop_platforms_eu_sales.head()"
   ]
  },
  {
   "cell_type": "code",
   "execution_count": 44,
   "metadata": {},
   "outputs": [
    {
     "data": {
      "image/png": "[encoded data removed]",
      "text/plain": [
       "<Figure size 864x432 with 1 Axes>"
      ]
     },
     "metadata": {
      "needs_background": "light"
     },
     "output_type": "display_data"
    }
   ],
   "source": [
    "# Строим график продаж в Европе\n",
    "plt.figure(figsize = (12,6))\n",
    "sns.barplot(x = pop_platforms_eu_sales['platform'],y = pop_platforms_eu_sales['eu_sales'])\n",
    "plt.title('Продажи платформ в Европе')\n",
    "plt.xlabel('Платформа')\n",
    "plt.ylabel('Количество продаж')\n",
    "plt.show()"
   ]
  },
  {
   "cell_type": "markdown",
   "metadata": {},
   "source": [
    "Популярные платформы в Европе такие же, как и в Северной Америке PS4, XOne, X360, 3DS и PS3. "
   ]
  },
  {
   "cell_type": "code",
   "execution_count": 45,
   "metadata": {},
   "outputs": [
    {
     "data": {
      "text/plain": [
       "platform\n",
       "PS4     45.129273\n",
       "PS3     37.459666\n",
       "XOne    32.950983\n",
       "3DS     18.597139\n",
       "PC            NaN\n",
       "X360          NaN\n",
       "dtype: float64"
      ]
     },
     "metadata": {},
     "output_type": "display_data"
    }
   ],
   "source": [
    "# Посчитаем долю продаж популярных платформ в Европе от общих продаж\n",
    "platform_eu = pop_platforms_eu_sales.groupby('platform')['eu_sales'].sum().sort_values(ascending = False).head()\n",
    "percent_sale_eu = platform_eu / platform_count_full * 100\n",
    "display(percent_sale_eu.sort_values(ascending = False))"
   ]
  },
  {
   "cell_type": "markdown",
   "metadata": {},
   "source": [
    "В Европе самая поопулярная платформа PS4. Ее доля продаж в Европе от общих продаж составляет 45 %."
   ]
  },
  {
   "cell_type": "code",
   "execution_count": 46,
   "metadata": {},
   "outputs": [
    {
     "data": {
      "text/html": [
       "<div>\n",
       "<style scoped>\n",
       "    .dataframe tbody tr th:only-of-type {\n",
       "        vertical-align: middle;\n",
       "    }\n",
       "\n",
       "    .dataframe tbody tr th {\n",
       "        vertical-align: top;\n",
       "    }\n",
       "\n",
       "    .dataframe thead th {\n",
       "        text-align: right;\n",
       "    }\n",
       "</style>\n",
       "<table border=\"1\" class=\"dataframe\">\n",
       "  <thead>\n",
       "    <tr style=\"text-align: right;\">\n",
       "      <th></th>\n",
       "      <th>platform</th>\n",
       "      <th>jp_sales</th>\n",
       "    </tr>\n",
       "  </thead>\n",
       "  <tbody>\n",
       "    <tr>\n",
       "      <th>0</th>\n",
       "      <td>3DS</td>\n",
       "      <td>44.24</td>\n",
       "    </tr>\n",
       "    <tr>\n",
       "      <th>1</th>\n",
       "      <td>PS4</td>\n",
       "      <td>15.02</td>\n",
       "    </tr>\n",
       "    <tr>\n",
       "      <th>2</th>\n",
       "      <td>PSV</td>\n",
       "      <td>14.54</td>\n",
       "    </tr>\n",
       "    <tr>\n",
       "      <th>3</th>\n",
       "      <td>PS3</td>\n",
       "      <td>11.22</td>\n",
       "    </tr>\n",
       "    <tr>\n",
       "      <th>4</th>\n",
       "      <td>WiiU</td>\n",
       "      <td>7.31</td>\n",
       "    </tr>\n",
       "  </tbody>\n",
       "</table>\n",
       "</div>"
      ],
      "text/plain": [
       "  platform  jp_sales\n",
       "0      3DS     44.24\n",
       "1      PS4     15.02\n",
       "2      PSV     14.54\n",
       "3      PS3     11.22\n",
       "4     WiiU      7.31"
      ]
     },
     "execution_count": 46,
     "metadata": {},
     "output_type": "execute_result"
    }
   ],
   "source": [
    "# Определяем 5 популярных платформ в Японии\n",
    "pop_platforms_jp_sales = data.pivot_table(\n",
    "    index = 'platform', values = 'jp_sales', aggfunc = 'sum').sort_values(by = 'jp_sales', ascending = False)\n",
    "pop_platforms_jp_sales = pop_platforms_jp_sales.reset_index().rename_axis(None, axis = 1)\n",
    "pop_platforms_jp_sales.head()"
   ]
  },
  {
   "cell_type": "code",
   "execution_count": 47,
   "metadata": {},
   "outputs": [
    {
     "data": {
      "image/png": "[encoded data removed]",
      "text/plain": [
       "<Figure size 864x432 with 1 Axes>"
      ]
     },
     "metadata": {
      "needs_background": "light"
     },
     "output_type": "display_data"
    }
   ],
   "source": [
    "# Строим график продаж в Японии\n",
    "plt.figure(figsize = (12,6))\n",
    "sns.barplot(x = pop_platforms_jp_sales['platform'],y = pop_platforms_jp_sales['jp_sales'])\n",
    "plt.title('Продажи платформ в Японии')\n",
    "plt.xlabel('Платформа')\n",
    "plt.ylabel('Количество продаж')\n",
    "plt.show()"
   ]
  },
  {
   "cell_type": "markdown",
   "metadata": {},
   "source": [
    "Таким образом, видим, что самая популярная платформа в Японии это 3DS. Также в топ5 входят платформы: PS4, PSV, PS3, WiiU. Продажи 3DS намного превосходят продажи других платформ."
   ]
  },
  {
   "cell_type": "code",
   "execution_count": 48,
   "metadata": {},
   "outputs": [
    {
     "data": {
      "text/plain": [
       "platform\n",
       "3DS     51.038302\n",
       "PS3     16.456439\n",
       "PS4      5.212563\n",
       "PSV           NaN\n",
       "WiiU          NaN\n",
       "dtype: float64"
      ]
     },
     "metadata": {},
     "output_type": "display_data"
    }
   ],
   "source": [
    "# Посчитаем долю продаж поппулярных платформ в Японии от общих продаж\n",
    "platform_jp = pop_platforms_jp_sales.groupby('platform')['jp_sales'].sum().sort_values(ascending = False).head()\n",
    "percent_sale_jp = platform_jp / platform_count_full * 100\n",
    "display(percent_sale_jp.sort_values(ascending = False).head())"
   ]
  },
  {
   "cell_type": "markdown",
   "metadata": {},
   "source": [
    "В Японии популярна игра 3DS. Это видно и на примере того, что одна страна покупает эту платформу 51 % от общих продаж в мире."
   ]
  },
  {
   "cell_type": "markdown",
   "metadata": {},
   "source": [
    "Вывод: Рассмотрев данные по продажам в конкретных регионах, видим, что больше всего продаж в Северной Америке. Доля продаж только на этом континенте составляет около 50% от всех продаж в мире. Самая продаваемая игра PS4.  На втором месте по продажам игр находится Европа. Самая продаваемая платформа это PS4. В Японии в компьютерные игры играют меньше, чем в Северной Америке и Европе. В отличие от этих регионов в Японии была популярна платформа 3DS. Во всех регионах в актуальный период была популярна платформа PS3. А вот платформа XOne только в Европе и в Северной Америке."
   ]
  },
  {
   "cell_type": "markdown",
   "metadata": {},
   "source": [
    "2. Определите для пользователя каждого региона (NA, EU, JP):\n",
    "Самые популярные жанры (топ-5). Поясните разницу."
   ]
  },
  {
   "cell_type": "code",
   "execution_count": 49,
   "metadata": {},
   "outputs": [
    {
     "data": {
      "text/html": [
       "<div>\n",
       "<style scoped>\n",
       "    .dataframe tbody tr th:only-of-type {\n",
       "        vertical-align: middle;\n",
       "    }\n",
       "\n",
       "    .dataframe tbody tr th {\n",
       "        vertical-align: top;\n",
       "    }\n",
       "\n",
       "    .dataframe thead th {\n",
       "        text-align: right;\n",
       "    }\n",
       "</style>\n",
       "<table border=\"1\" class=\"dataframe\">\n",
       "  <thead>\n",
       "    <tr style=\"text-align: right;\">\n",
       "      <th></th>\n",
       "      <th>genre</th>\n",
       "      <th>na_sales</th>\n",
       "    </tr>\n",
       "  </thead>\n",
       "  <tbody>\n",
       "    <tr>\n",
       "      <th>0</th>\n",
       "      <td>Shooter</td>\n",
       "      <td>79.02</td>\n",
       "    </tr>\n",
       "    <tr>\n",
       "      <th>1</th>\n",
       "      <td>Action</td>\n",
       "      <td>72.53</td>\n",
       "    </tr>\n",
       "    <tr>\n",
       "      <th>2</th>\n",
       "      <td>Sports</td>\n",
       "      <td>46.13</td>\n",
       "    </tr>\n",
       "    <tr>\n",
       "      <th>3</th>\n",
       "      <td>Role-Playing</td>\n",
       "      <td>33.47</td>\n",
       "    </tr>\n",
       "    <tr>\n",
       "      <th>4</th>\n",
       "      <td>Misc</td>\n",
       "      <td>15.05</td>\n",
       "    </tr>\n",
       "  </tbody>\n",
       "</table>\n",
       "</div>"
      ],
      "text/plain": [
       "          genre  na_sales\n",
       "0       Shooter     79.02\n",
       "1        Action     72.53\n",
       "2        Sports     46.13\n",
       "3  Role-Playing     33.47\n",
       "4          Misc     15.05"
      ]
     },
     "execution_count": 49,
     "metadata": {},
     "output_type": "execute_result"
    }
   ],
   "source": [
    "# Определяем 5 популярных жанров в Северной Америке\n",
    "pop_genre_na_sales = data.pivot_table(\n",
    "    index = 'genre', values = 'na_sales', aggfunc = 'sum').sort_values(by = 'na_sales', ascending = False)\n",
    "pop_genre_na_sales = pop_genre_na_sales.reset_index().rename_axis(None, axis = 1)\n",
    "pop_genre_na_sales.head()"
   ]
  },
  {
   "cell_type": "code",
   "execution_count": 50,
   "metadata": {},
   "outputs": [
    {
     "data": {
      "image/png": "[encoded data removed]",
      "text/plain": [
       "<Figure size 864x432 with 1 Axes>"
      ]
     },
     "metadata": {
      "needs_background": "light"
     },
     "output_type": "display_data"
    }
   ],
   "source": [
    "# Строим график продаж по жанрам в Северной Америке\n",
    "plt.figure(figsize = (12,6))\n",
    "sns.barplot(x = pop_genre_na_sales['genre'], y = pop_genre_na_sales['na_sales'])\n",
    "plt.title('Продажи по жанрам в Северной Америке')\n",
    "plt.xlabel('Жанр')\n",
    "plt.ylabel('Количество продаж')\n",
    "plt.show()"
   ]
  },
  {
   "cell_type": "markdown",
   "metadata": {},
   "source": [
    "Cамые популярные жанры в Северной Америке Shooter, Action, Sports, Shooter, Role_Playing, Misc. Но лидером является Shooter"
   ]
  },
  {
   "cell_type": "code",
   "execution_count": 51,
   "metadata": {
    "scrolled": true
   },
   "outputs": [
    {
     "data": {
      "text/html": [
       "<div>\n",
       "<style scoped>\n",
       "    .dataframe tbody tr th:only-of-type {\n",
       "        vertical-align: middle;\n",
       "    }\n",
       "\n",
       "    .dataframe tbody tr th {\n",
       "        vertical-align: top;\n",
       "    }\n",
       "\n",
       "    .dataframe thead th {\n",
       "        text-align: right;\n",
       "    }\n",
       "</style>\n",
       "<table border=\"1\" class=\"dataframe\">\n",
       "  <thead>\n",
       "    <tr style=\"text-align: right;\">\n",
       "      <th></th>\n",
       "      <th>genre</th>\n",
       "      <th>eu_sales</th>\n",
       "    </tr>\n",
       "  </thead>\n",
       "  <tbody>\n",
       "    <tr>\n",
       "      <th>0</th>\n",
       "      <td>Action</td>\n",
       "      <td>74.68</td>\n",
       "    </tr>\n",
       "    <tr>\n",
       "      <th>1</th>\n",
       "      <td>Shooter</td>\n",
       "      <td>65.52</td>\n",
       "    </tr>\n",
       "    <tr>\n",
       "      <th>2</th>\n",
       "      <td>Sports</td>\n",
       "      <td>45.73</td>\n",
       "    </tr>\n",
       "    <tr>\n",
       "      <th>3</th>\n",
       "      <td>Role-Playing</td>\n",
       "      <td>28.17</td>\n",
       "    </tr>\n",
       "    <tr>\n",
       "      <th>4</th>\n",
       "      <td>Racing</td>\n",
       "      <td>14.13</td>\n",
       "    </tr>\n",
       "  </tbody>\n",
       "</table>\n",
       "</div>"
      ],
      "text/plain": [
       "          genre  eu_sales\n",
       "0        Action     74.68\n",
       "1       Shooter     65.52\n",
       "2        Sports     45.73\n",
       "3  Role-Playing     28.17\n",
       "4        Racing     14.13"
      ]
     },
     "execution_count": 51,
     "metadata": {},
     "output_type": "execute_result"
    }
   ],
   "source": [
    "# Определяем 5 популярных жанров в Европе\n",
    "pop_genre_eu_sales = data.pivot_table(\n",
    "    index = 'genre', values = 'eu_sales', aggfunc = 'sum').sort_values(by = 'eu_sales', ascending = False)\n",
    "pop_genre_eu_sales = pop_genre_eu_sales.reset_index().rename_axis(None, axis = 1)\n",
    "pop_genre_eu_sales.head()"
   ]
  },
  {
   "cell_type": "code",
   "execution_count": 52,
   "metadata": {},
   "outputs": [
    {
     "data": {
      "image/png": "[encoded data removed]",
      "text/plain": [
       "<Figure size 864x432 with 1 Axes>"
      ]
     },
     "metadata": {
      "needs_background": "light"
     },
     "output_type": "display_data"
    }
   ],
   "source": [
    "# Строим график продаж по жанрам в Европе\n",
    "plt.figure(figsize = (12,6))\n",
    "sns.barplot(x = pop_genre_eu_sales['genre'], y = pop_genre_eu_sales['eu_sales'])\n",
    "plt.title('Продажи по жанрам в Европе')\n",
    "plt.xlabel('Жанр')\n",
    "plt.ylabel('Количество продаж')\n",
    "plt.show()"
   ]
  },
  {
   "cell_type": "markdown",
   "metadata": {},
   "source": [
    "В Европе популярные жанры такие же, как в Северной Америке. Это Action, Sports, Shooter, Role_Playing и Racing. Shooter является популярным, как в Америке, но лидером является Action/"
   ]
  },
  {
   "cell_type": "code",
   "execution_count": 53,
   "metadata": {},
   "outputs": [
    {
     "data": {
      "text/html": [
       "<div>\n",
       "<style scoped>\n",
       "    .dataframe tbody tr th:only-of-type {\n",
       "        vertical-align: middle;\n",
       "    }\n",
       "\n",
       "    .dataframe tbody tr th {\n",
       "        vertical-align: top;\n",
       "    }\n",
       "\n",
       "    .dataframe thead th {\n",
       "        text-align: right;\n",
       "    }\n",
       "</style>\n",
       "<table border=\"1\" class=\"dataframe\">\n",
       "  <thead>\n",
       "    <tr style=\"text-align: right;\">\n",
       "      <th></th>\n",
       "      <th>genre</th>\n",
       "      <th>jp_sales</th>\n",
       "    </tr>\n",
       "  </thead>\n",
       "  <tbody>\n",
       "    <tr>\n",
       "      <th>0</th>\n",
       "      <td>Role-Playing</td>\n",
       "      <td>31.16</td>\n",
       "    </tr>\n",
       "    <tr>\n",
       "      <th>1</th>\n",
       "      <td>Action</td>\n",
       "      <td>29.58</td>\n",
       "    </tr>\n",
       "    <tr>\n",
       "      <th>2</th>\n",
       "      <td>Fighting</td>\n",
       "      <td>6.37</td>\n",
       "    </tr>\n",
       "    <tr>\n",
       "      <th>3</th>\n",
       "      <td>Misc</td>\n",
       "      <td>5.61</td>\n",
       "    </tr>\n",
       "    <tr>\n",
       "      <th>4</th>\n",
       "      <td>Shooter</td>\n",
       "      <td>4.87</td>\n",
       "    </tr>\n",
       "  </tbody>\n",
       "</table>\n",
       "</div>"
      ],
      "text/plain": [
       "          genre  jp_sales\n",
       "0  Role-Playing     31.16\n",
       "1        Action     29.58\n",
       "2      Fighting      6.37\n",
       "3          Misc      5.61\n",
       "4       Shooter      4.87"
      ]
     },
     "execution_count": 53,
     "metadata": {},
     "output_type": "execute_result"
    }
   ],
   "source": [
    "# Определяем 5 поппулярных жанров в Японии\n",
    "pop_genre_jp_sales = data.pivot_table(\n",
    "    index = 'genre', values = 'jp_sales', aggfunc = 'sum').sort_values(by = 'jp_sales', ascending = False)\n",
    "pop_genre_jp_sales = pop_genre_jp_sales.reset_index().rename_axis(None, axis = 1)\n",
    "pop_genre_jp_sales.head()"
   ]
  },
  {
   "cell_type": "code",
   "execution_count": 54,
   "metadata": {},
   "outputs": [
    {
     "data": {
      "image/png": "[encoded data removed]",
      "text/plain": [
       "<Figure size 864x432 with 1 Axes>"
      ]
     },
     "metadata": {
      "needs_background": "light"
     },
     "output_type": "display_data"
    }
   ],
   "source": [
    "# Строим график продаж по жанрам в Японии\n",
    "plt.figure(figsize = (12,6))\n",
    "sns.barplot(x = pop_genre_jp_sales['genre'], y = pop_genre_jp_sales['jp_sales'])\n",
    "plt.title('Продажи по жанрам в Японии')\n",
    "plt.xlabel('Жанр')\n",
    "plt.ylabel('Количество продаж')\n",
    "plt.show()"
   ]
  },
  {
   "cell_type": "markdown",
   "metadata": {},
   "source": [
    "В Японии популярные жанры: Role-playing, Action, Fighting, Misc, Shooter. Жанры Role_Playing и Action одинаково популярны."
   ]
  },
  {
   "cell_type": "markdown",
   "metadata": {},
   "source": [
    "Вывод: Cамые популярные жанры в Северной Америке и в Европе Action, Sports, Shooter, Misc. Но большую популярность имеет жанр Shooter. В Японии популярные жанры: Role-playing, Action, Misc, Sports, Platform. Но лидером продаж является жанр Role_Playing, а вот Shooter  вообще не пользуется спросом."
   ]
  },
  {
   "cell_type": "markdown",
   "metadata": {},
   "source": [
    "3. Определите для пользователя каждого региона (NA, EU, JP):Влияет ли рейтинг ESRB на продажи в отдельном регионе?"
   ]
  },
  {
   "cell_type": "code",
   "execution_count": 55,
   "metadata": {
    "scrolled": true
   },
   "outputs": [
    {
     "data": {
      "text/html": [
       "<div>\n",
       "<style scoped>\n",
       "    .dataframe tbody tr th:only-of-type {\n",
       "        vertical-align: middle;\n",
       "    }\n",
       "\n",
       "    .dataframe tbody tr th {\n",
       "        vertical-align: top;\n",
       "    }\n",
       "\n",
       "    .dataframe thead th {\n",
       "        text-align: right;\n",
       "    }\n",
       "</style>\n",
       "<table border=\"1\" class=\"dataframe\">\n",
       "  <thead>\n",
       "    <tr style=\"text-align: right;\">\n",
       "      <th></th>\n",
       "      <th>rating</th>\n",
       "      <th>na_sales</th>\n",
       "    </tr>\n",
       "  </thead>\n",
       "  <tbody>\n",
       "    <tr>\n",
       "      <th>0</th>\n",
       "      <td>M</td>\n",
       "      <td>96.42</td>\n",
       "    </tr>\n",
       "    <tr>\n",
       "      <th>1</th>\n",
       "      <td>Unknown</td>\n",
       "      <td>64.72</td>\n",
       "    </tr>\n",
       "    <tr>\n",
       "      <th>2</th>\n",
       "      <td>E</td>\n",
       "      <td>50.74</td>\n",
       "    </tr>\n",
       "    <tr>\n",
       "      <th>3</th>\n",
       "      <td>T</td>\n",
       "      <td>38.95</td>\n",
       "    </tr>\n",
       "    <tr>\n",
       "      <th>4</th>\n",
       "      <td>E10+</td>\n",
       "      <td>33.23</td>\n",
       "    </tr>\n",
       "  </tbody>\n",
       "</table>\n",
       "</div>"
      ],
      "text/plain": [
       "    rating  na_sales\n",
       "0        M     96.42\n",
       "1  Unknown     64.72\n",
       "2        E     50.74\n",
       "3        T     38.95\n",
       "4     E10+     33.23"
      ]
     },
     "execution_count": 55,
     "metadata": {},
     "output_type": "execute_result"
    }
   ],
   "source": [
    "# Определяем влияние рейтинга ESRB на продажи в Северной Америке\n",
    "pop_rating_na_sales = data.pivot_table(\n",
    "    index = 'rating', values = 'na_sales', aggfunc = 'sum').sort_values(by = 'na_sales', ascending = False)\n",
    "pop_rating_na_sales = pop_rating_na_sales.reset_index().rename_axis(None, axis = 1)\n",
    "pop_rating_na_sales.head()\n"
   ]
  },
  {
   "cell_type": "code",
   "execution_count": 56,
   "metadata": {},
   "outputs": [
    {
     "data": {
      "image/png": "[encoded data removed]",
      "text/plain": [
       "<Figure size 864x432 with 1 Axes>"
      ]
     },
     "metadata": {
      "needs_background": "light"
     },
     "output_type": "display_data"
    }
   ],
   "source": [
    "# Строим график продаж по рейтингу ESRB в Северной Америке\n",
    "plt.figure(figsize = (12,6))\n",
    "sns.barplot(x = pop_rating_na_sales['rating'], y = pop_rating_na_sales['na_sales'])\n",
    "plt.title('Продажи по рейтингу ESRB в Северной Америке')\n",
    "plt.xlabel('Рейтинг ESRB')\n",
    "plt.ylabel('Количество продаж')\n",
    "plt.show()"
   ]
  },
  {
   "cell_type": "markdown",
   "metadata": {},
   "source": [
    "В Северной Америке популярны игры с рейтингом М(для взрослых). На втором месте игры рейтинга Unknown, в которыx рейтинг не определен. Остальные рейтинги игр менее популярные."
   ]
  },
  {
   "cell_type": "code",
   "execution_count": 57,
   "metadata": {},
   "outputs": [
    {
     "data": {
      "text/html": [
       "<div>\n",
       "<style scoped>\n",
       "    .dataframe tbody tr th:only-of-type {\n",
       "        vertical-align: middle;\n",
       "    }\n",
       "\n",
       "    .dataframe tbody tr th {\n",
       "        vertical-align: top;\n",
       "    }\n",
       "\n",
       "    .dataframe thead th {\n",
       "        text-align: right;\n",
       "    }\n",
       "</style>\n",
       "<table border=\"1\" class=\"dataframe\">\n",
       "  <thead>\n",
       "    <tr style=\"text-align: right;\">\n",
       "      <th></th>\n",
       "      <th>rating</th>\n",
       "      <th>eu_sales</th>\n",
       "    </tr>\n",
       "  </thead>\n",
       "  <tbody>\n",
       "    <tr>\n",
       "      <th>0</th>\n",
       "      <td>M</td>\n",
       "      <td>93.44</td>\n",
       "    </tr>\n",
       "    <tr>\n",
       "      <th>1</th>\n",
       "      <td>Unknown</td>\n",
       "      <td>58.95</td>\n",
       "    </tr>\n",
       "    <tr>\n",
       "      <th>2</th>\n",
       "      <td>E</td>\n",
       "      <td>58.06</td>\n",
       "    </tr>\n",
       "    <tr>\n",
       "      <th>3</th>\n",
       "      <td>T</td>\n",
       "      <td>34.07</td>\n",
       "    </tr>\n",
       "    <tr>\n",
       "      <th>4</th>\n",
       "      <td>E10+</td>\n",
       "      <td>26.16</td>\n",
       "    </tr>\n",
       "  </tbody>\n",
       "</table>\n",
       "</div>"
      ],
      "text/plain": [
       "    rating  eu_sales\n",
       "0        M     93.44\n",
       "1  Unknown     58.95\n",
       "2        E     58.06\n",
       "3        T     34.07\n",
       "4     E10+     26.16"
      ]
     },
     "execution_count": 57,
     "metadata": {},
     "output_type": "execute_result"
    }
   ],
   "source": [
    "# Определяем влияние рейтинга ESRB на продажи в Европе\n",
    "pop_rating_eu_sales = data.pivot_table(\n",
    "    index = 'rating', values = 'eu_sales', aggfunc = 'sum').sort_values(by = 'eu_sales', ascending = False)\n",
    "pop_rating_eu_sales = pop_rating_eu_sales.reset_index().rename_axis(None, axis = 1)\n",
    "pop_rating_eu_sales.head()"
   ]
  },
  {
   "cell_type": "code",
   "execution_count": 58,
   "metadata": {},
   "outputs": [
    {
     "data": {
      "image/png": "[encoded data removed]",
      "text/plain": [
       "<Figure size 864x432 with 1 Axes>"
      ]
     },
     "metadata": {
      "needs_background": "light"
     },
     "output_type": "display_data"
    }
   ],
   "source": [
    "# Строим график продаж по рейтингу ESRB в Европе\n",
    "plt.figure(figsize = (12,6))\n",
    "sns.barplot(x = pop_rating_eu_sales['rating'], y = pop_rating_eu_sales['eu_sales'])\n",
    "plt.title('Продажи по рейтингу ESRB в Европе')\n",
    "plt.xlabel('Рейтинг ESRB')\n",
    "plt.ylabel('Количество продаж')\n",
    "plt.show()"
   ]
  },
  {
   "cell_type": "markdown",
   "metadata": {},
   "source": [
    "В Европе наблюдается такая же ситуация по продажам игр, как и в Северной Америке. Популярны игры с рейтингом М(для взрослых)."
   ]
  },
  {
   "cell_type": "code",
   "execution_count": 59,
   "metadata": {},
   "outputs": [
    {
     "data": {
      "text/html": [
       "<div>\n",
       "<style scoped>\n",
       "    .dataframe tbody tr th:only-of-type {\n",
       "        vertical-align: middle;\n",
       "    }\n",
       "\n",
       "    .dataframe tbody tr th {\n",
       "        vertical-align: top;\n",
       "    }\n",
       "\n",
       "    .dataframe thead th {\n",
       "        text-align: right;\n",
       "    }\n",
       "</style>\n",
       "<table border=\"1\" class=\"dataframe\">\n",
       "  <thead>\n",
       "    <tr style=\"text-align: right;\">\n",
       "      <th></th>\n",
       "      <th>rating</th>\n",
       "      <th>jp_sales</th>\n",
       "    </tr>\n",
       "  </thead>\n",
       "  <tbody>\n",
       "    <tr>\n",
       "      <th>0</th>\n",
       "      <td>Unknown</td>\n",
       "      <td>56.90</td>\n",
       "    </tr>\n",
       "    <tr>\n",
       "      <th>1</th>\n",
       "      <td>T</td>\n",
       "      <td>14.78</td>\n",
       "    </tr>\n",
       "    <tr>\n",
       "      <th>2</th>\n",
       "      <td>E</td>\n",
       "      <td>8.94</td>\n",
       "    </tr>\n",
       "    <tr>\n",
       "      <th>3</th>\n",
       "      <td>M</td>\n",
       "      <td>8.01</td>\n",
       "    </tr>\n",
       "    <tr>\n",
       "      <th>4</th>\n",
       "      <td>E10+</td>\n",
       "      <td>4.46</td>\n",
       "    </tr>\n",
       "  </tbody>\n",
       "</table>\n",
       "</div>"
      ],
      "text/plain": [
       "    rating  jp_sales\n",
       "0  Unknown     56.90\n",
       "1        T     14.78\n",
       "2        E      8.94\n",
       "3        M      8.01\n",
       "4     E10+      4.46"
      ]
     },
     "execution_count": 59,
     "metadata": {},
     "output_type": "execute_result"
    }
   ],
   "source": [
    "# Определяем влияние рейтинга ESRB на продажи в Японии\n",
    "pop_rating_jp_sales = data.pivot_table(\n",
    "    index = 'rating', values = 'jp_sales', aggfunc = 'sum').sort_values(by = 'jp_sales', ascending = False)\n",
    "pop_rating_jp_sales = pop_rating_jp_sales.reset_index().rename_axis(None, axis = 1)\n",
    "pop_rating_jp_sales.head()"
   ]
  },
  {
   "cell_type": "code",
   "execution_count": 60,
   "metadata": {},
   "outputs": [
    {
     "data": {
      "image/png": "[encoded data removed]",
      "text/plain": [
       "<Figure size 864x432 with 1 Axes>"
      ]
     },
     "metadata": {
      "needs_background": "light"
     },
     "output_type": "display_data"
    }
   ],
   "source": [
    "# Строим график продаж по рейтингу ESRB в Японии\n",
    "plt.figure(figsize = (12,6))\n",
    "sns.barplot(x = pop_rating_jp_sales['rating'], y = pop_rating_jp_sales['jp_sales'])\n",
    "plt.title('Продажи по рейтингу ESRB в Японии')\n",
    "plt.xlabel('Рейтинг ESRB')\n",
    "plt.ylabel('Количество продаж')\n",
    "plt.show()"
   ]
  },
  {
   "cell_type": "markdown",
   "metadata": {},
   "source": [
    "В Японии большую популярность имеют игры категории Unknown и Т(от 13 лет). В отличие от Северной Америки и Европы игры для взрослых стоят на четвертом месте."
   ]
  },
  {
   "cell_type": "markdown",
   "metadata": {},
   "source": [
    "Вывод:\n",
    "В Северной Америке и Европе выбор игровых платформ по рейтингу одинаковый. Популярностью пользуются игры М(для взрослых). В Японии предпочтение отдают играм рейтинга Unknown и Т(для подростков)"
   ]
  },
  {
   "cell_type": "markdown",
   "metadata": {},
   "source": [
    "**Вывод:** Можно составить следующий портрет пользователя по регионам. В Северной Америке самая популярная платформа PS4 жанр Shooter рейинга М(для взрослых). В Европе картина похожа: популярная платформа как и в Северной Америке стала игра PS4 жанр Shooter рейинга М(для взрослых). В Японии другая ситуация: предпочтение отдают игровой платформе 3DS жанр Role-playing рейтинга Unknown, т.е. рейтинг не определен.  Таким образом видим, что пользователи в Америке и Европе имеют одинаковые предпочтения, в Японии вкусы отличаются. Скорее всего это связано с культурой и менталитетом. Но так как основные продажи приходятся на Северную Америку и Европу, то для прогноза на следующий год нужно ориентироваться именно предпочтения этих регионов. Для прогноза будущих продаж лучше брать данные за актуальный период, так как технологии и вкусы меняются быстро. Соответственно, для 2017 года большую часть прибыли будут приносить игры жанра Shooter, для платформы PS4 и с рейтингом для взрослых."
   ]
  },
  {
   "cell_type": "markdown",
   "metadata": {},
   "source": [
    "### Проверьте гипотезы"
   ]
  },
  {
   "cell_type": "markdown",
   "metadata": {},
   "source": [
    "1. Средние пользовательские рейтинги платформ Xbox One и PC одинаковые;"
   ]
  },
  {
   "cell_type": "markdown",
   "metadata": {},
   "source": [
    "Нулевая гипотеза H₀: Средние пользовательские рейтинги платформ Xbox One и PC одинаковые.\n",
    "Альтернативная гипотеза H₁: Средние пользовательские рейтинги платформ Xbox One и PC различаются"
   ]
  },
  {
   "cell_type": "code",
   "execution_count": 61,
   "metadata": {},
   "outputs": [],
   "source": [
    "# Сохраним в переменных xone_platform и pc_platform соответствующие данные (за последние 10 лет)\n",
    "xone_platform = data[(data['platform'] == 'XOne') & (data['year_of_release'] > 2005)]['user_score']\n",
    "pc_platform = data[(data['platform']=='PC') & (data['year_of_release'] > 2005)]['user_score']"
   ]
  },
  {
   "cell_type": "code",
   "execution_count": 62,
   "metadata": {},
   "outputs": [
    {
     "name": "stdout",
     "output_type": "stream",
     "text": [
      "p-значение: 0.11601398086668832\n",
      "Не получилось отвергнуть нулевую гипотезу\n"
     ]
    }
   ],
   "source": [
    "# Проверим гипотезу о равенстве среднего двух ген. совокупностей с помощью метода scipy.stats.ttest_ind()\n",
    "# Избавимся от пропущенных значений, чтобы они не мешали сравнивать\n",
    "alpha = .05\n",
    "results = st.ttest_ind(xone_platform.dropna(), pc_platform.dropna(), equal_var = False)\n",
    "print('p-значение:', results.pvalue)\n",
    "\n",
    "if results.pvalue < alpha:\n",
    "    print('Отвергаем нулевую гипотезу')\n",
    "else:\n",
    "    print('Не получилось отвергнуть нулевую гипотезу')"
   ]
  },
  {
   "cell_type": "markdown",
   "metadata": {},
   "source": [
    "Значение p-value равно 10%. Таким образом, не получилось отвергнуть нулевую гипотезу. То есть, с вероятностью в 10% можно получить различность рейтингов двух платформ"
   ]
  },
  {
   "cell_type": "markdown",
   "metadata": {},
   "source": [
    "2. Средние пользовательские рейтинги жанров Action (англ. «действие», экшен-игры) и Sports (англ. «спортивные соревнования») разные."
   ]
  },
  {
   "cell_type": "markdown",
   "metadata": {},
   "source": [
    "Нулевая гипотеза H₀: Средние пользовательские рейтинги жанров Action и Sports одинаковые\n",
    "Альтернативная гипотеза H₁: Средние пользовательские рейтинги жанров Action и Sports различаются"
   ]
  },
  {
   "cell_type": "code",
   "execution_count": 63,
   "metadata": {},
   "outputs": [],
   "source": [
    "# Сохраним в переменных genre_action и genre_sports соответствующие данные с пользовательскими оценками\n",
    "genre_action = data[(data['genre'] == 'Action') & (data['year_of_release'] > 2005)]['user_score']\n",
    "genre_sports = data[(data['genre'] == 'Sports') & (data['year_of_release'] > 2005)]['user_score']"
   ]
  },
  {
   "cell_type": "code",
   "execution_count": 64,
   "metadata": {},
   "outputs": [
    {
     "name": "stdout",
     "output_type": "stream",
     "text": [
      "p-значение: 1.1825550382644557e-14\n",
      "Отвергаем нулевую гипотезу\n"
     ]
    }
   ],
   "source": [
    "# Проверим гипотезу о равенстве среднего двух ген. совокупностей с помощью метода scipy.stats.ttest_ind()\n",
    "# Избавимся от пропущенных значений, чтобы они не мешали сравнивать\n",
    "alpha = .05\n",
    "results = st.ttest_ind(genre_action.dropna(), genre_sports.dropna(), equal_var = False)\n",
    "print('p-значение:', results.pvalue)\n",
    "\n",
    "if results.pvalue < alpha:\n",
    "    print('Отвергаем нулевую гипотезу')\n",
    "else:\n",
    "    print('Не получилось отвергнуть нулевую гипотезу')"
   ]
  },
  {
   "cell_type": "markdown",
   "metadata": {},
   "source": [
    "Получив p-value, мы отвергли Нулевую гипотезу. Таким образом, у нас практически нет вероятности получить одинаковые средние рейнтинги по двум жанрам."
   ]
  },
  {
   "cell_type": "markdown",
   "metadata": {},
   "source": [
    "Вывод: Для проверки гипотез о равенстве двух совокупностей по взятым из них выборкам использовали спец метод scipy.stats.ttest_ind(). Так как у нас есть сомнения , что дисперсии у совокупностей одинаковые, указали параметр equal_var как False и тест посчитал дисперсии выборок по отдельности. Задали alpha (критический уровень статистической зависимости) равный 0.05. В первом не получилось отвергнуть нулевую гипотезу. То есть, с вероятностью в 10% можно получить различность рейтингов двух платформ, а во втором случае отвергли гипотезу."
   ]
  },
  {
   "cell_type": "markdown",
   "metadata": {},
   "source": [
    "### Общий вывод"
   ]
  },
  {
   "cell_type": "markdown",
   "metadata": {},
   "source": [
    "Рассмотрели данные интернет-магазина «Стримчик», который продаёт по всему миру компьютерные игры. Из открытых источников доступны исторические данные о продажах игр, оценки пользователей и экспертов, жанры и платформы."
   ]
  },
  {
   "cell_type": "markdown",
   "metadata": {},
   "source": [
    "На этапе предобработки данных поменяли названия столбцов, привели их к нижнему регистру. Увидели, что имеются пропущенные значения в столбцах. В столбцах year_of_release, name и genre строки с пропущенными значениями удалили, так как их было мало, а также в столбце year_of_release поменяли тип данных на int. В столбцах critic_score и user_score пропущенные значения оставили без изменений, так как nan имеет тип float и они не помешали нам в исследовании. В столбце rating пропуски заменили на Unknown. В столбце user_score сокращение tbd заменили на nan и поменяли тип данных этого столбца на float."
   ]
  },
  {
   "cell_type": "markdown",
   "metadata": {},
   "source": [
    "Проведя исследовательский анализ данных, видим, что выпуск игр увеличивается с 1995 года. До этого года выпускались единицы. Особенный рост с 2000 года. Пик приходится на 2006-2011 годы. В среднем каждая игровая платформа существует примерно 10 лет. За актуальный период взяли с 2014 по 2016 годы. Так как игровая индустрия сильно изменчива, то для прогноза на следующий год нецелесообразно рассматривать периоды больше2-3х лет. Так как данные за 2016 год не полные, то в актуальный период включили и 2014 год. Только 5 платформ являются лидерами продаж. Это PS4, XOne, 3DS, X360, PS3. Wii быстро стала поппулярна, но очень быстро исчезла. Рассмотрев зависимость продаж популярных платформ от оценки пользователей и критиков, видим, что продажа поппулярных игр не имеет зависимостb от оценки пользователей, в то время как оценка критиков влияет на продажи. Самые прибыльный жанр - Shooter.А жанр Puzzle продается меньше всего."
   ]
  },
  {
   "cell_type": "markdown",
   "metadata": {},
   "source": [
    "Составили следующий портрет пользователя по регионам. В Северной Америке самая популярная платформа PS4 жанр Shooter рейинга М(для взрослых). В Европе картина похожа: популярная платформа как и в Северной Америке стала игра PS4 жанр Shooter рейинга М(для взрослых). В Японии другая ситуация: предпочтение отдают игровой платформе 3DS жанр Role-playing рейтинга Unknown, т.е. рейтинг не определен. Таким образом видим, что пользователи в Америке и Европе имеют одинаковые предпочтения, в Японии вкусы отличаются. "
   ]
  },
  {
   "cell_type": "markdown",
   "metadata": {},
   "source": [
    "Для проверки гипотез о равенстве двух совокупностей по взятым из них выборкам использовали спец метод scipy.stats.ttest_ind(). Так как у нас есть сомнения , что дисперсии у совокупностей одинаковые, указали параметр equal_var как False и тест посчитал дисперсии выборок по отдельности. Задали alpha (критический уровень статистической зависимости) равный 0.05. В первом не получилось отвергнуть нулевую гипотезу. То есть, с вероятностью в 10% можно получить различность рейтингов двух платформ, а во втором случае отвергли гипотезу."
   ]
  },
  {
   "cell_type": "markdown",
   "metadata": {},
   "source": [
    "Так как основные продажи приходятся на Северную Америку и Европу, то для прогноза на следующий год нужно ориентироваться на предпочтения этих регионов. Для прогноза будущих продаж лучше брать данные за актуальный период, так как технологии и вкусы меняются быстро. Соответственно, для 2017 года большую часть прибыли будут приносить игры жанра Shooter, для платформы PS4 и с рейтингом для взрослых."
   ]
  }
 ],
 "metadata": {
  "ExecuteTimeLog": [
   {
    "duration": 1285,
    "start_time": "2022-11-28T17:35:37.292Z"
   },
   {
    "duration": 84,
    "start_time": "2022-11-28T17:36:50.439Z"
   },
   {
    "duration": 12,
    "start_time": "2022-11-28T17:55:02.180Z"
   },
   {
    "duration": 3,
    "start_time": "2022-11-28T17:55:30.375Z"
   },
   {
    "duration": 60,
    "start_time": "2022-11-28T17:55:30.383Z"
   },
   {
    "duration": 10,
    "start_time": "2022-11-28T17:55:30.445Z"
   },
   {
    "duration": 11,
    "start_time": "2022-11-28T18:02:49.533Z"
   },
   {
    "duration": 51,
    "start_time": "2022-11-28T18:03:49.097Z"
   },
   {
    "duration": 51,
    "start_time": "2022-11-28T18:03:53.214Z"
   },
   {
    "duration": 13,
    "start_time": "2022-11-28T18:03:56.123Z"
   },
   {
    "duration": 2,
    "start_time": "2022-11-28T18:06:26.254Z"
   },
   {
    "duration": 51,
    "start_time": "2022-11-28T18:06:26.260Z"
   },
   {
    "duration": 13,
    "start_time": "2022-11-28T18:06:26.313Z"
   },
   {
    "duration": 13,
    "start_time": "2022-11-28T18:06:26.327Z"
   },
   {
    "duration": 691,
    "start_time": "2022-11-28T18:10:10.407Z"
   },
   {
    "duration": 108,
    "start_time": "2022-11-28T18:18:35.050Z"
   },
   {
    "duration": 9,
    "start_time": "2022-11-28T18:19:01.163Z"
   },
   {
    "duration": 9,
    "start_time": "2022-11-28T18:19:44.046Z"
   },
   {
    "duration": 105,
    "start_time": "2022-11-28T18:21:15.341Z"
   },
   {
    "duration": 13,
    "start_time": "2022-11-28T18:21:27.394Z"
   },
   {
    "duration": 4,
    "start_time": "2022-11-28T18:30:14.450Z"
   },
   {
    "duration": 12,
    "start_time": "2022-11-28T18:30:15.898Z"
   },
   {
    "duration": 3,
    "start_time": "2022-11-28T18:31:37.123Z"
   },
   {
    "duration": 13,
    "start_time": "2022-11-28T18:31:37.884Z"
   },
   {
    "duration": 15,
    "start_time": "2022-11-28T18:40:01.261Z"
   },
   {
    "duration": 12,
    "start_time": "2022-11-28T18:43:03.175Z"
   },
   {
    "duration": 52,
    "start_time": "2022-11-28T18:50:35.056Z"
   },
   {
    "duration": 26,
    "start_time": "2022-11-28T18:53:29.691Z"
   },
   {
    "duration": 15,
    "start_time": "2022-11-28T18:53:53.888Z"
   },
   {
    "duration": 7,
    "start_time": "2022-11-28T19:10:22.000Z"
   },
   {
    "duration": 18,
    "start_time": "2022-11-28T19:14:15.731Z"
   },
   {
    "duration": 15,
    "start_time": "2022-11-28T19:17:38.770Z"
   },
   {
    "duration": 4,
    "start_time": "2022-11-28T19:17:58.338Z"
   },
   {
    "duration": 16,
    "start_time": "2022-11-28T19:18:43.564Z"
   },
   {
    "duration": 4,
    "start_time": "2022-11-28T19:24:01.809Z"
   },
   {
    "duration": 14,
    "start_time": "2022-11-28T19:24:03.499Z"
   },
   {
    "duration": 9,
    "start_time": "2022-11-28T19:24:46.275Z"
   },
   {
    "duration": 22,
    "start_time": "2022-11-28T19:25:40.683Z"
   },
   {
    "duration": 19,
    "start_time": "2022-11-28T19:25:46.430Z"
   },
   {
    "duration": 2,
    "start_time": "2022-11-28T19:26:27.811Z"
   },
   {
    "duration": 54,
    "start_time": "2022-11-28T19:26:27.815Z"
   },
   {
    "duration": 15,
    "start_time": "2022-11-28T19:26:27.870Z"
   },
   {
    "duration": 15,
    "start_time": "2022-11-28T19:26:27.887Z"
   },
   {
    "duration": 8,
    "start_time": "2022-11-28T19:26:27.904Z"
   },
   {
    "duration": 19,
    "start_time": "2022-11-28T19:26:27.914Z"
   },
   {
    "duration": 18,
    "start_time": "2022-11-28T19:26:27.934Z"
   },
   {
    "duration": 5,
    "start_time": "2022-11-28T19:26:27.953Z"
   },
   {
    "duration": 4,
    "start_time": "2022-11-28T19:26:27.959Z"
   },
   {
    "duration": 19,
    "start_time": "2022-11-28T19:26:27.965Z"
   },
   {
    "duration": 3,
    "start_time": "2022-11-28T19:26:27.985Z"
   },
   {
    "duration": 13,
    "start_time": "2022-11-28T19:27:04.918Z"
   },
   {
    "duration": 19,
    "start_time": "2022-11-28T19:38:02.083Z"
   },
   {
    "duration": 5,
    "start_time": "2022-11-28T19:39:06.282Z"
   },
   {
    "duration": 23,
    "start_time": "2022-11-28T19:40:19.997Z"
   },
   {
    "duration": 10,
    "start_time": "2022-11-28T19:40:43.431Z"
   },
   {
    "duration": 11,
    "start_time": "2022-11-28T19:41:05.259Z"
   },
   {
    "duration": 11,
    "start_time": "2022-11-28T19:41:08.413Z"
   },
   {
    "duration": 11,
    "start_time": "2022-11-28T19:41:17.894Z"
   },
   {
    "duration": 12,
    "start_time": "2022-11-28T19:42:16.197Z"
   },
   {
    "duration": 15,
    "start_time": "2022-11-28T19:42:52.367Z"
   },
   {
    "duration": 5,
    "start_time": "2022-11-28T19:44:41.086Z"
   },
   {
    "duration": 13,
    "start_time": "2022-11-28T19:44:42.923Z"
   },
   {
    "duration": 6,
    "start_time": "2022-11-28T19:45:00.783Z"
   },
   {
    "duration": 46,
    "start_time": "2022-11-30T09:15:31.079Z"
   },
   {
    "duration": 1407,
    "start_time": "2022-11-30T09:15:34.472Z"
   },
   {
    "duration": 102,
    "start_time": "2022-11-30T09:15:35.881Z"
   },
   {
    "duration": 16,
    "start_time": "2022-11-30T09:15:35.984Z"
   },
   {
    "duration": 14,
    "start_time": "2022-11-30T09:15:36.002Z"
   },
   {
    "duration": 23,
    "start_time": "2022-11-30T09:15:36.019Z"
   },
   {
    "duration": 60,
    "start_time": "2022-11-30T09:15:36.043Z"
   },
   {
    "duration": 6,
    "start_time": "2022-11-30T09:15:36.105Z"
   },
   {
    "duration": 18,
    "start_time": "2022-11-30T09:15:36.113Z"
   },
   {
    "duration": 21,
    "start_time": "2022-11-30T09:15:36.133Z"
   },
   {
    "duration": 82,
    "start_time": "2022-11-30T09:15:36.155Z"
   },
   {
    "duration": 0,
    "start_time": "2022-11-30T09:15:36.238Z"
   },
   {
    "duration": 17,
    "start_time": "2022-11-30T09:16:10.889Z"
   },
   {
    "duration": 4,
    "start_time": "2022-11-30T09:17:02.398Z"
   },
   {
    "duration": 3,
    "start_time": "2022-11-30T09:18:35.698Z"
   },
   {
    "duration": 5,
    "start_time": "2022-11-30T09:20:12.881Z"
   },
   {
    "duration": 5,
    "start_time": "2022-11-30T09:20:59.513Z"
   },
   {
    "duration": 16,
    "start_time": "2022-11-30T09:27:35.904Z"
   },
   {
    "duration": 15,
    "start_time": "2022-11-30T09:28:22.182Z"
   },
   {
    "duration": 14,
    "start_time": "2022-11-30T09:28:26.179Z"
   },
   {
    "duration": 15,
    "start_time": "2022-11-30T09:31:46.031Z"
   },
   {
    "duration": 5,
    "start_time": "2022-11-30T09:32:00.700Z"
   },
   {
    "duration": 10,
    "start_time": "2022-11-30T09:32:15.843Z"
   },
   {
    "duration": 8,
    "start_time": "2022-11-30T09:32:27.835Z"
   },
   {
    "duration": 4,
    "start_time": "2022-11-30T09:32:33.434Z"
   },
   {
    "duration": 15,
    "start_time": "2022-11-30T09:32:37.197Z"
   },
   {
    "duration": 4,
    "start_time": "2022-11-30T09:39:52.393Z"
   },
   {
    "duration": 16,
    "start_time": "2022-11-30T09:45:09.311Z"
   },
   {
    "duration": 4,
    "start_time": "2022-11-30T09:54:21.845Z"
   },
   {
    "duration": 16,
    "start_time": "2022-11-30T09:54:29.463Z"
   },
   {
    "duration": 21,
    "start_time": "2022-11-30T10:08:33.098Z"
   },
   {
    "duration": 191,
    "start_time": "2022-11-30T10:08:56.014Z"
   },
   {
    "duration": 21,
    "start_time": "2022-11-30T10:22:57.276Z"
   },
   {
    "duration": 13,
    "start_time": "2022-11-30T10:23:30.081Z"
   },
   {
    "duration": 15,
    "start_time": "2022-11-30T10:23:52.999Z"
   },
   {
    "duration": 9,
    "start_time": "2022-11-30T10:29:27.758Z"
   },
   {
    "duration": 206,
    "start_time": "2022-11-30T10:30:56.549Z"
   },
   {
    "duration": 180,
    "start_time": "2022-11-30T10:32:16.637Z"
   },
   {
    "duration": 212,
    "start_time": "2022-11-30T10:32:31.656Z"
   },
   {
    "duration": 304,
    "start_time": "2022-11-30T10:36:33.072Z"
   },
   {
    "duration": 6,
    "start_time": "2022-11-30T10:37:57.208Z"
   },
   {
    "duration": 5,
    "start_time": "2022-11-30T10:40:16.518Z"
   },
   {
    "duration": 181,
    "start_time": "2022-11-30T10:42:08.684Z"
   },
   {
    "duration": 330,
    "start_time": "2022-11-30T10:42:27.311Z"
   },
   {
    "duration": 10,
    "start_time": "2022-11-30T10:44:12.200Z"
   },
   {
    "duration": 288,
    "start_time": "2022-11-30T10:44:14.393Z"
   },
   {
    "duration": 15,
    "start_time": "2022-11-30T10:59:21.375Z"
   },
   {
    "duration": 20,
    "start_time": "2022-11-30T10:59:35.279Z"
   },
   {
    "duration": 13,
    "start_time": "2022-11-30T10:59:42.599Z"
   },
   {
    "duration": 44,
    "start_time": "2022-11-30T13:29:17.641Z"
   },
   {
    "duration": 1269,
    "start_time": "2022-11-30T13:29:23.292Z"
   },
   {
    "duration": 458,
    "start_time": "2022-11-30T13:29:24.563Z"
   },
   {
    "duration": 15,
    "start_time": "2022-11-30T13:29:25.023Z"
   },
   {
    "duration": 11,
    "start_time": "2022-11-30T13:29:25.040Z"
   },
   {
    "duration": 23,
    "start_time": "2022-11-30T13:29:25.053Z"
   },
   {
    "duration": 48,
    "start_time": "2022-11-30T13:29:25.077Z"
   },
   {
    "duration": 5,
    "start_time": "2022-11-30T13:29:25.127Z"
   },
   {
    "duration": 19,
    "start_time": "2022-11-30T13:29:25.133Z"
   },
   {
    "duration": 19,
    "start_time": "2022-11-30T13:29:25.154Z"
   },
   {
    "duration": 3,
    "start_time": "2022-11-30T13:29:25.175Z"
   },
   {
    "duration": 7,
    "start_time": "2022-11-30T13:29:25.180Z"
   },
   {
    "duration": 12,
    "start_time": "2022-11-30T13:29:25.188Z"
   },
   {
    "duration": 17,
    "start_time": "2022-11-30T13:29:25.201Z"
   },
   {
    "duration": 32,
    "start_time": "2022-11-30T13:29:25.220Z"
   },
   {
    "duration": 5,
    "start_time": "2022-11-30T13:29:25.254Z"
   },
   {
    "duration": 16,
    "start_time": "2022-11-30T13:29:25.260Z"
   },
   {
    "duration": 218,
    "start_time": "2022-11-30T13:29:25.278Z"
   },
   {
    "duration": 11,
    "start_time": "2022-11-30T13:29:25.498Z"
   },
   {
    "duration": 321,
    "start_time": "2022-11-30T13:29:25.511Z"
   },
   {
    "duration": 7,
    "start_time": "2022-11-30T13:29:25.834Z"
   },
   {
    "duration": 11,
    "start_time": "2022-11-30T13:29:25.852Z"
   },
   {
    "duration": 10,
    "start_time": "2022-11-30T13:29:38.082Z"
   },
   {
    "duration": 11,
    "start_time": "2022-11-30T13:29:57.003Z"
   },
   {
    "duration": 3,
    "start_time": "2022-11-30T13:30:00.599Z"
   },
   {
    "duration": 120,
    "start_time": "2022-11-30T13:30:00.603Z"
   },
   {
    "duration": 12,
    "start_time": "2022-11-30T13:30:00.725Z"
   },
   {
    "duration": 71,
    "start_time": "2022-11-30T13:30:00.739Z"
   },
   {
    "duration": 47,
    "start_time": "2022-11-30T13:30:00.812Z"
   },
   {
    "duration": 34,
    "start_time": "2022-11-30T13:30:00.860Z"
   },
   {
    "duration": 29,
    "start_time": "2022-11-30T13:30:00.896Z"
   },
   {
    "duration": 15,
    "start_time": "2022-11-30T13:30:00.927Z"
   },
   {
    "duration": 49,
    "start_time": "2022-11-30T13:30:00.944Z"
   },
   {
    "duration": 17,
    "start_time": "2022-11-30T13:30:00.995Z"
   },
   {
    "duration": 52,
    "start_time": "2022-11-30T13:30:01.014Z"
   },
   {
    "duration": 50,
    "start_time": "2022-11-30T13:30:01.067Z"
   },
   {
    "duration": 43,
    "start_time": "2022-11-30T13:30:01.118Z"
   },
   {
    "duration": 44,
    "start_time": "2022-11-30T13:30:01.163Z"
   },
   {
    "duration": 32,
    "start_time": "2022-11-30T13:30:01.208Z"
   },
   {
    "duration": 37,
    "start_time": "2022-11-30T13:30:01.241Z"
   },
   {
    "duration": 193,
    "start_time": "2022-11-30T13:30:01.280Z"
   },
   {
    "duration": 9,
    "start_time": "2022-11-30T13:30:01.475Z"
   },
   {
    "duration": 309,
    "start_time": "2022-11-30T13:30:01.486Z"
   },
   {
    "duration": 5,
    "start_time": "2022-11-30T13:30:01.798Z"
   },
   {
    "duration": 43,
    "start_time": "2022-11-30T13:30:01.804Z"
   },
   {
    "duration": 15,
    "start_time": "2022-11-30T13:30:24.598Z"
   },
   {
    "duration": 14,
    "start_time": "2022-11-30T13:51:52.909Z"
   },
   {
    "duration": 17,
    "start_time": "2022-11-30T13:52:40.325Z"
   },
   {
    "duration": 15,
    "start_time": "2022-11-30T13:52:52.339Z"
   },
   {
    "duration": 10,
    "start_time": "2022-11-30T13:53:40.000Z"
   },
   {
    "duration": 11,
    "start_time": "2022-11-30T13:53:45.138Z"
   },
   {
    "duration": 92,
    "start_time": "2022-12-01T15:44:34.913Z"
   },
   {
    "duration": 1411,
    "start_time": "2022-12-01T15:44:43.237Z"
   },
   {
    "duration": 471,
    "start_time": "2022-12-01T15:44:44.650Z"
   },
   {
    "duration": 18,
    "start_time": "2022-12-01T15:44:45.122Z"
   },
   {
    "duration": 3,
    "start_time": "2022-12-01T15:44:45.142Z"
   },
   {
    "duration": 29,
    "start_time": "2022-12-01T15:44:45.147Z"
   },
   {
    "duration": 70,
    "start_time": "2022-12-01T15:44:45.178Z"
   },
   {
    "duration": 6,
    "start_time": "2022-12-01T15:44:45.250Z"
   },
   {
    "duration": 17,
    "start_time": "2022-12-01T15:44:45.258Z"
   },
   {
    "duration": 24,
    "start_time": "2022-12-01T15:44:45.277Z"
   },
   {
    "duration": 14,
    "start_time": "2022-12-01T15:44:45.306Z"
   },
   {
    "duration": 24,
    "start_time": "2022-12-01T15:44:45.322Z"
   },
   {
    "duration": 14,
    "start_time": "2022-12-01T15:44:45.350Z"
   },
   {
    "duration": 51,
    "start_time": "2022-12-01T15:44:45.366Z"
   },
   {
    "duration": 23,
    "start_time": "2022-12-01T15:44:45.419Z"
   },
   {
    "duration": 6,
    "start_time": "2022-12-01T15:44:45.444Z"
   },
   {
    "duration": 22,
    "start_time": "2022-12-01T15:44:45.452Z"
   },
   {
    "duration": 260,
    "start_time": "2022-12-01T15:44:45.476Z"
   },
   {
    "duration": 12,
    "start_time": "2022-12-01T15:44:45.738Z"
   },
   {
    "duration": 431,
    "start_time": "2022-12-01T15:44:45.752Z"
   },
   {
    "duration": 6,
    "start_time": "2022-12-01T15:44:46.184Z"
   },
   {
    "duration": 32,
    "start_time": "2022-12-01T15:44:46.191Z"
   },
   {
    "duration": 13,
    "start_time": "2022-12-01T15:44:46.226Z"
   },
   {
    "duration": 1605,
    "start_time": "2022-12-01T15:44:46.241Z"
   },
   {
    "duration": 15,
    "start_time": "2022-12-01T15:46:47.473Z"
   },
   {
    "duration": 3,
    "start_time": "2022-12-01T15:46:48.210Z"
   },
   {
    "duration": 356,
    "start_time": "2022-12-01T15:46:50.129Z"
   },
   {
    "duration": 3,
    "start_time": "2022-12-01T15:48:11.336Z"
   },
   {
    "duration": 417,
    "start_time": "2022-12-01T15:48:14.832Z"
   },
   {
    "duration": 14,
    "start_time": "2022-12-01T15:49:21.961Z"
   },
   {
    "duration": 3,
    "start_time": "2022-12-01T15:49:22.712Z"
   },
   {
    "duration": 340,
    "start_time": "2022-12-01T15:49:24.016Z"
   },
   {
    "duration": 3,
    "start_time": "2022-12-01T15:49:28.836Z"
   },
   {
    "duration": 64,
    "start_time": "2022-12-01T15:49:28.842Z"
   },
   {
    "duration": 18,
    "start_time": "2022-12-01T15:49:28.909Z"
   },
   {
    "duration": 4,
    "start_time": "2022-12-01T15:49:28.929Z"
   },
   {
    "duration": 26,
    "start_time": "2022-12-01T15:49:28.935Z"
   },
   {
    "duration": 18,
    "start_time": "2022-12-01T15:49:28.963Z"
   },
   {
    "duration": 26,
    "start_time": "2022-12-01T15:49:28.982Z"
   },
   {
    "duration": 26,
    "start_time": "2022-12-01T15:49:29.010Z"
   },
   {
    "duration": 32,
    "start_time": "2022-12-01T15:49:29.038Z"
   },
   {
    "duration": 3,
    "start_time": "2022-12-01T15:49:29.072Z"
   },
   {
    "duration": 10,
    "start_time": "2022-12-01T15:49:29.077Z"
   },
   {
    "duration": 15,
    "start_time": "2022-12-01T15:49:29.089Z"
   },
   {
    "duration": 16,
    "start_time": "2022-12-01T15:49:29.106Z"
   },
   {
    "duration": 21,
    "start_time": "2022-12-01T15:49:29.124Z"
   },
   {
    "duration": 5,
    "start_time": "2022-12-01T15:49:29.146Z"
   },
   {
    "duration": 19,
    "start_time": "2022-12-01T15:49:29.153Z"
   },
   {
    "duration": 201,
    "start_time": "2022-12-01T15:49:29.173Z"
   },
   {
    "duration": 10,
    "start_time": "2022-12-01T15:49:29.376Z"
   },
   {
    "duration": 347,
    "start_time": "2022-12-01T15:49:29.388Z"
   },
   {
    "duration": 7,
    "start_time": "2022-12-01T15:49:29.738Z"
   },
   {
    "duration": 18,
    "start_time": "2022-12-01T15:49:29.746Z"
   },
   {
    "duration": 6,
    "start_time": "2022-12-01T15:49:29.766Z"
   },
   {
    "duration": 357,
    "start_time": "2022-12-01T15:49:29.774Z"
   },
   {
    "duration": 3,
    "start_time": "2022-12-01T15:52:26.023Z"
   },
   {
    "duration": 4,
    "start_time": "2022-12-01T15:52:38.353Z"
   },
   {
    "duration": 360,
    "start_time": "2022-12-01T15:52:39.584Z"
   },
   {
    "duration": 6,
    "start_time": "2022-12-01T16:15:09.772Z"
   },
   {
    "duration": 22,
    "start_time": "2022-12-01T16:15:29.748Z"
   },
   {
    "duration": 3,
    "start_time": "2022-12-01T16:18:39.722Z"
   },
   {
    "duration": 13,
    "start_time": "2022-12-01T16:26:49.315Z"
   },
   {
    "duration": 3,
    "start_time": "2022-12-01T16:26:50.214Z"
   },
   {
    "duration": 177,
    "start_time": "2022-12-01T16:26:51.974Z"
   },
   {
    "duration": 4,
    "start_time": "2022-12-01T16:28:23.558Z"
   },
   {
    "duration": 455,
    "start_time": "2022-12-01T16:28:24.782Z"
   },
   {
    "duration": 6,
    "start_time": "2022-12-01T16:28:32.182Z"
   },
   {
    "duration": 89,
    "start_time": "2022-12-01T16:30:28.310Z"
   },
   {
    "duration": 73,
    "start_time": "2022-12-01T16:32:14.126Z"
   },
   {
    "duration": 4,
    "start_time": "2022-12-01T16:32:44.232Z"
   },
   {
    "duration": 7,
    "start_time": "2022-12-01T16:32:53.110Z"
   },
   {
    "duration": 92,
    "start_time": "2022-12-01T16:32:54.544Z"
   },
   {
    "duration": 107,
    "start_time": "2022-12-01T16:33:40.534Z"
   },
   {
    "duration": 13,
    "start_time": "2022-12-01T16:34:19.039Z"
   },
   {
    "duration": 9,
    "start_time": "2022-12-01T16:36:18.545Z"
   },
   {
    "duration": 8,
    "start_time": "2022-12-01T16:36:24.170Z"
   },
   {
    "duration": 11,
    "start_time": "2022-12-01T16:36:27.276Z"
   },
   {
    "duration": 228,
    "start_time": "2022-12-01T16:38:27.256Z"
   },
   {
    "duration": 5,
    "start_time": "2022-12-01T16:39:36.880Z"
   },
   {
    "duration": 10,
    "start_time": "2022-12-01T16:39:37.448Z"
   },
   {
    "duration": 178,
    "start_time": "2022-12-01T16:39:41.796Z"
   },
   {
    "duration": 7,
    "start_time": "2022-12-01T16:40:35.480Z"
   },
   {
    "duration": 8,
    "start_time": "2022-12-01T16:40:36.264Z"
   },
   {
    "duration": 176,
    "start_time": "2022-12-01T16:40:38.416Z"
   },
   {
    "duration": 7,
    "start_time": "2022-12-01T16:41:22.048Z"
   },
   {
    "duration": 8,
    "start_time": "2022-12-01T16:41:22.596Z"
   },
   {
    "duration": 164,
    "start_time": "2022-12-01T16:41:24.264Z"
   },
   {
    "duration": 9,
    "start_time": "2022-12-01T16:42:02.832Z"
   },
   {
    "duration": 9,
    "start_time": "2022-12-01T16:42:49.293Z"
   },
   {
    "duration": 7,
    "start_time": "2022-12-01T16:43:39.442Z"
   },
   {
    "duration": 6,
    "start_time": "2022-12-01T16:45:17.070Z"
   },
   {
    "duration": 6,
    "start_time": "2022-12-01T16:45:30.431Z"
   },
   {
    "duration": 32,
    "start_time": "2022-12-01T16:48:23.927Z"
   },
   {
    "duration": 13,
    "start_time": "2022-12-01T16:49:37.867Z"
   },
   {
    "duration": 11,
    "start_time": "2022-12-01T16:49:41.226Z"
   },
   {
    "duration": 3,
    "start_time": "2022-12-01T16:49:57.570Z"
   },
   {
    "duration": 12,
    "start_time": "2022-12-01T16:50:09.289Z"
   },
   {
    "duration": 11,
    "start_time": "2022-12-01T16:50:22.852Z"
   },
   {
    "duration": 25,
    "start_time": "2022-12-01T16:51:21.299Z"
   },
   {
    "duration": 5,
    "start_time": "2022-12-01T16:53:57.957Z"
   },
   {
    "duration": 7,
    "start_time": "2022-12-01T16:54:00.131Z"
   },
   {
    "duration": 17,
    "start_time": "2022-12-01T16:54:02.052Z"
   },
   {
    "duration": 7,
    "start_time": "2022-12-01T16:54:31.738Z"
   },
   {
    "duration": 8,
    "start_time": "2022-12-01T16:54:32.667Z"
   },
   {
    "duration": 172,
    "start_time": "2022-12-01T16:54:33.699Z"
   },
   {
    "duration": 10,
    "start_time": "2022-12-01T16:55:07.596Z"
   },
   {
    "duration": 7,
    "start_time": "2022-12-01T16:56:01.236Z"
   },
   {
    "duration": 7,
    "start_time": "2022-12-01T16:56:05.196Z"
   },
   {
    "duration": 7,
    "start_time": "2022-12-01T16:56:22.765Z"
   },
   {
    "duration": 7,
    "start_time": "2022-12-01T16:56:25.947Z"
   },
   {
    "duration": 47,
    "start_time": "2022-12-01T17:18:38.353Z"
   },
   {
    "duration": 1055,
    "start_time": "2022-12-01T17:18:42.239Z"
   },
   {
    "duration": 285,
    "start_time": "2022-12-01T17:18:43.296Z"
   },
   {
    "duration": 14,
    "start_time": "2022-12-01T17:18:43.583Z"
   },
   {
    "duration": 3,
    "start_time": "2022-12-01T17:18:43.599Z"
   },
   {
    "duration": 23,
    "start_time": "2022-12-01T17:18:43.604Z"
   },
   {
    "duration": 53,
    "start_time": "2022-12-01T17:18:43.629Z"
   },
   {
    "duration": 22,
    "start_time": "2022-12-01T17:18:43.683Z"
   },
   {
    "duration": 5,
    "start_time": "2022-12-01T17:18:43.706Z"
   },
   {
    "duration": 17,
    "start_time": "2022-12-01T17:18:43.712Z"
   },
   {
    "duration": 4,
    "start_time": "2022-12-01T17:18:43.731Z"
   },
   {
    "duration": 8,
    "start_time": "2022-12-01T17:18:43.737Z"
   },
   {
    "duration": 12,
    "start_time": "2022-12-01T17:18:43.747Z"
   },
   {
    "duration": 17,
    "start_time": "2022-12-01T17:18:43.761Z"
   },
   {
    "duration": 37,
    "start_time": "2022-12-01T17:18:43.780Z"
   },
   {
    "duration": 5,
    "start_time": "2022-12-01T17:18:43.818Z"
   },
   {
    "duration": 23,
    "start_time": "2022-12-01T17:18:43.825Z"
   },
   {
    "duration": 241,
    "start_time": "2022-12-01T17:18:43.849Z"
   },
   {
    "duration": 15,
    "start_time": "2022-12-01T17:18:44.092Z"
   },
   {
    "duration": 347,
    "start_time": "2022-12-01T17:18:44.109Z"
   },
   {
    "duration": 5,
    "start_time": "2022-12-01T17:18:44.457Z"
   },
   {
    "duration": 15,
    "start_time": "2022-12-01T17:18:44.464Z"
   },
   {
    "duration": 4,
    "start_time": "2022-12-01T17:18:44.480Z"
   },
   {
    "duration": 408,
    "start_time": "2022-12-01T17:18:44.485Z"
   },
   {
    "duration": 8,
    "start_time": "2022-12-01T17:18:44.895Z"
   },
   {
    "duration": 14,
    "start_time": "2022-12-01T17:18:44.905Z"
   },
   {
    "duration": 196,
    "start_time": "2022-12-01T17:18:44.920Z"
   },
   {
    "duration": 8,
    "start_time": "2022-12-01T17:26:46.492Z"
   },
   {
    "duration": 8,
    "start_time": "2022-12-01T17:26:47.241Z"
   },
   {
    "duration": 192,
    "start_time": "2022-12-01T17:26:48.227Z"
   },
   {
    "duration": 10,
    "start_time": "2022-12-01T17:33:13.043Z"
   },
   {
    "duration": 8,
    "start_time": "2022-12-01T17:33:34.660Z"
   },
   {
    "duration": 269,
    "start_time": "2022-12-01T17:33:35.476Z"
   },
   {
    "duration": 9,
    "start_time": "2022-12-01T17:33:39.107Z"
   },
   {
    "duration": 12,
    "start_time": "2022-12-01T17:38:39.340Z"
   },
   {
    "duration": 204,
    "start_time": "2022-12-01T17:38:40.029Z"
   },
   {
    "duration": 148,
    "start_time": "2022-12-01T17:50:48.649Z"
   },
   {
    "duration": 162,
    "start_time": "2022-12-01T19:21:01.788Z"
   },
   {
    "duration": 158,
    "start_time": "2022-12-01T19:21:46.150Z"
   },
   {
    "duration": 142,
    "start_time": "2022-12-01T19:24:31.963Z"
   },
   {
    "duration": 143,
    "start_time": "2022-12-01T19:26:11.945Z"
   },
   {
    "duration": 1157,
    "start_time": "2022-12-01T19:38:21.245Z"
   },
   {
    "duration": 152,
    "start_time": "2022-12-01T19:39:42.169Z"
   },
   {
    "duration": 195,
    "start_time": "2022-12-01T19:40:19.233Z"
   },
   {
    "duration": 143,
    "start_time": "2022-12-01T19:44:46.125Z"
   },
   {
    "duration": 138,
    "start_time": "2022-12-01T19:49:00.534Z"
   },
   {
    "duration": 238,
    "start_time": "2022-12-01T19:49:47.813Z"
   },
   {
    "duration": 140,
    "start_time": "2022-12-01T19:50:09.858Z"
   },
   {
    "duration": 111,
    "start_time": "2022-12-01T20:09:07.600Z"
   },
   {
    "duration": 4,
    "start_time": "2022-12-01T20:09:20.480Z"
   },
   {
    "duration": 4,
    "start_time": "2022-12-01T20:09:24.009Z"
   },
   {
    "duration": 9,
    "start_time": "2022-12-01T20:11:50.510Z"
   },
   {
    "duration": 17,
    "start_time": "2022-12-01T20:12:47.884Z"
   },
   {
    "duration": 9,
    "start_time": "2022-12-01T20:13:20.976Z"
   },
   {
    "duration": 15,
    "start_time": "2022-12-01T20:13:32.217Z"
   },
   {
    "duration": 173,
    "start_time": "2022-12-01T20:14:53.943Z"
   },
   {
    "duration": 8,
    "start_time": "2022-12-01T20:16:03.721Z"
   },
   {
    "duration": 196,
    "start_time": "2022-12-01T20:16:13.502Z"
   },
   {
    "duration": 4,
    "start_time": "2022-12-01T20:18:09.851Z"
   },
   {
    "duration": 213,
    "start_time": "2022-12-01T20:18:18.330Z"
   },
   {
    "duration": 4,
    "start_time": "2022-12-01T20:18:36.985Z"
   },
   {
    "duration": 265,
    "start_time": "2022-12-01T20:18:38.449Z"
   },
   {
    "duration": 256,
    "start_time": "2022-12-01T20:23:28.290Z"
   },
   {
    "duration": 261,
    "start_time": "2022-12-01T20:28:48.624Z"
   },
   {
    "duration": 266,
    "start_time": "2022-12-01T20:33:15.820Z"
   },
   {
    "duration": 261,
    "start_time": "2022-12-01T20:43:03.670Z"
   },
   {
    "duration": 22,
    "start_time": "2022-12-01T20:47:07.306Z"
   },
   {
    "duration": 16,
    "start_time": "2022-12-01T20:47:35.862Z"
   },
   {
    "duration": 143,
    "start_time": "2022-12-01T20:51:20.889Z"
   },
   {
    "duration": 17,
    "start_time": "2022-12-01T20:52:04.546Z"
   },
   {
    "duration": 290,
    "start_time": "2022-12-01T20:53:19.506Z"
   },
   {
    "duration": 203,
    "start_time": "2022-12-01T20:53:45.984Z"
   },
   {
    "duration": 4,
    "start_time": "2022-12-01T21:14:18.842Z"
   },
   {
    "duration": 15,
    "start_time": "2022-12-01T21:14:43.260Z"
   },
   {
    "duration": 10,
    "start_time": "2022-12-01T21:14:56.552Z"
   },
   {
    "duration": 12,
    "start_time": "2022-12-01T21:16:58.110Z"
   },
   {
    "duration": 15,
    "start_time": "2022-12-01T21:17:41.240Z"
   },
   {
    "duration": 17,
    "start_time": "2022-12-01T21:17:51.008Z"
   },
   {
    "duration": 1103,
    "start_time": "2022-12-01T21:17:52.910Z"
   },
   {
    "duration": 1101,
    "start_time": "2022-12-01T21:21:10.776Z"
   },
   {
    "duration": 14,
    "start_time": "2022-12-01T21:23:08.315Z"
   },
   {
    "duration": 319,
    "start_time": "2022-12-01T21:23:09.866Z"
   },
   {
    "duration": 17,
    "start_time": "2022-12-01T21:27:43.583Z"
   },
   {
    "duration": 21,
    "start_time": "2022-12-01T21:27:58.701Z"
   },
   {
    "duration": 22,
    "start_time": "2022-12-01T21:28:03.098Z"
   },
   {
    "duration": 15,
    "start_time": "2022-12-01T21:28:16.620Z"
   },
   {
    "duration": 70,
    "start_time": "2022-12-02T08:43:00.366Z"
   },
   {
    "duration": 1251,
    "start_time": "2022-12-02T08:43:06.473Z"
   },
   {
    "duration": 190,
    "start_time": "2022-12-02T08:43:07.726Z"
   },
   {
    "duration": 17,
    "start_time": "2022-12-02T08:43:07.918Z"
   },
   {
    "duration": 4,
    "start_time": "2022-12-02T08:43:07.937Z"
   },
   {
    "duration": 22,
    "start_time": "2022-12-02T08:43:07.943Z"
   },
   {
    "duration": 74,
    "start_time": "2022-12-02T08:43:07.967Z"
   },
   {
    "duration": 6,
    "start_time": "2022-12-02T08:43:08.042Z"
   },
   {
    "duration": 9,
    "start_time": "2022-12-02T08:43:08.050Z"
   },
   {
    "duration": 15,
    "start_time": "2022-12-02T08:43:08.061Z"
   },
   {
    "duration": 4,
    "start_time": "2022-12-02T08:43:08.079Z"
   },
   {
    "duration": 29,
    "start_time": "2022-12-02T08:43:08.085Z"
   },
   {
    "duration": 11,
    "start_time": "2022-12-02T08:43:08.116Z"
   },
   {
    "duration": 14,
    "start_time": "2022-12-02T08:43:08.129Z"
   },
   {
    "duration": 18,
    "start_time": "2022-12-02T08:43:08.145Z"
   },
   {
    "duration": 6,
    "start_time": "2022-12-02T08:43:08.165Z"
   },
   {
    "duration": 48,
    "start_time": "2022-12-02T08:43:08.173Z"
   },
   {
    "duration": 215,
    "start_time": "2022-12-02T08:43:08.223Z"
   },
   {
    "duration": 11,
    "start_time": "2022-12-02T08:43:08.439Z"
   },
   {
    "duration": 329,
    "start_time": "2022-12-02T08:43:08.451Z"
   },
   {
    "duration": 5,
    "start_time": "2022-12-02T08:43:08.782Z"
   },
   {
    "duration": 25,
    "start_time": "2022-12-02T08:43:08.788Z"
   },
   {
    "duration": 3,
    "start_time": "2022-12-02T08:43:08.815Z"
   },
   {
    "duration": 361,
    "start_time": "2022-12-02T08:43:08.820Z"
   },
   {
    "duration": 7,
    "start_time": "2022-12-02T08:43:09.183Z"
   },
   {
    "duration": 10,
    "start_time": "2022-12-02T08:43:09.192Z"
   },
   {
    "duration": 183,
    "start_time": "2022-12-02T08:43:09.204Z"
   },
   {
    "duration": 151,
    "start_time": "2022-12-02T08:43:09.389Z"
   },
   {
    "duration": 219,
    "start_time": "2022-12-02T08:43:09.543Z"
   },
   {
    "duration": 6,
    "start_time": "2022-12-02T08:43:09.763Z"
   },
   {
    "duration": 268,
    "start_time": "2022-12-02T08:43:09.770Z"
   },
   {
    "duration": 281,
    "start_time": "2022-12-02T08:43:10.041Z"
   },
   {
    "duration": 265,
    "start_time": "2022-12-02T08:43:10.324Z"
   },
   {
    "duration": 266,
    "start_time": "2022-12-02T08:43:10.591Z"
   },
   {
    "duration": 16,
    "start_time": "2022-12-02T08:43:10.859Z"
   },
   {
    "duration": 204,
    "start_time": "2022-12-02T08:43:10.877Z"
   },
   {
    "duration": 15,
    "start_time": "2022-12-02T08:43:11.083Z"
   },
   {
    "duration": 320,
    "start_time": "2022-12-02T08:43:11.100Z"
   },
   {
    "duration": 337,
    "start_time": "2022-12-02T08:43:11.422Z"
   },
   {
    "duration": 1270,
    "start_time": "2022-12-02T08:50:45.436Z"
   },
   {
    "duration": 647,
    "start_time": "2022-12-02T08:50:56.169Z"
   },
   {
    "duration": 85,
    "start_time": "2022-12-02T08:52:38.283Z"
   },
   {
    "duration": 768,
    "start_time": "2022-12-02T08:52:46.769Z"
   },
   {
    "duration": 707,
    "start_time": "2022-12-02T08:53:08.546Z"
   },
   {
    "duration": 165,
    "start_time": "2022-12-02T08:53:39.226Z"
   },
   {
    "duration": 147,
    "start_time": "2022-12-02T08:55:22.531Z"
   },
   {
    "duration": 18,
    "start_time": "2022-12-02T09:06:24.278Z"
   },
   {
    "duration": 203,
    "start_time": "2022-12-02T09:07:18.899Z"
   },
   {
    "duration": 15,
    "start_time": "2022-12-02T09:12:35.629Z"
   },
   {
    "duration": 9,
    "start_time": "2022-12-02T09:12:54.206Z"
   },
   {
    "duration": 11,
    "start_time": "2022-12-02T09:13:35.343Z"
   },
   {
    "duration": 12,
    "start_time": "2022-12-02T09:14:49.607Z"
   },
   {
    "duration": 9,
    "start_time": "2022-12-02T09:15:05.342Z"
   },
   {
    "duration": 13,
    "start_time": "2022-12-02T09:17:11.904Z"
   },
   {
    "duration": 9,
    "start_time": "2022-12-02T09:19:16.399Z"
   },
   {
    "duration": 14,
    "start_time": "2022-12-02T09:21:51.391Z"
   },
   {
    "duration": 13,
    "start_time": "2022-12-02T09:22:32.559Z"
   },
   {
    "duration": 8,
    "start_time": "2022-12-02T09:26:55.939Z"
   },
   {
    "duration": 11,
    "start_time": "2022-12-02T09:27:38.824Z"
   },
   {
    "duration": 10,
    "start_time": "2022-12-02T09:27:52.593Z"
   },
   {
    "duration": 8,
    "start_time": "2022-12-02T09:28:07.608Z"
   },
   {
    "duration": 8,
    "start_time": "2022-12-02T09:28:46.431Z"
   },
   {
    "duration": 14,
    "start_time": "2022-12-02T09:31:27.346Z"
   },
   {
    "duration": 11,
    "start_time": "2022-12-02T09:31:38.594Z"
   },
   {
    "duration": 15,
    "start_time": "2022-12-02T09:32:20.233Z"
   },
   {
    "duration": 10,
    "start_time": "2022-12-02T09:32:47.869Z"
   },
   {
    "duration": 19,
    "start_time": "2022-12-02T09:40:51.970Z"
   },
   {
    "duration": 3,
    "start_time": "2022-12-02T09:41:10.156Z"
   },
   {
    "duration": 64,
    "start_time": "2022-12-02T09:41:10.169Z"
   },
   {
    "duration": 20,
    "start_time": "2022-12-02T09:41:10.235Z"
   },
   {
    "duration": 4,
    "start_time": "2022-12-02T09:41:10.258Z"
   },
   {
    "duration": 27,
    "start_time": "2022-12-02T09:41:10.265Z"
   },
   {
    "duration": 39,
    "start_time": "2022-12-02T09:41:10.294Z"
   },
   {
    "duration": 8,
    "start_time": "2022-12-02T09:41:10.335Z"
   },
   {
    "duration": 9,
    "start_time": "2022-12-02T09:41:10.345Z"
   },
   {
    "duration": 22,
    "start_time": "2022-12-02T09:41:10.356Z"
   },
   {
    "duration": 13,
    "start_time": "2022-12-02T09:41:10.380Z"
   },
   {
    "duration": 26,
    "start_time": "2022-12-02T09:41:10.397Z"
   },
   {
    "duration": 14,
    "start_time": "2022-12-02T09:41:10.426Z"
   },
   {
    "duration": 21,
    "start_time": "2022-12-02T09:41:10.442Z"
   },
   {
    "duration": 16,
    "start_time": "2022-12-02T09:41:10.465Z"
   },
   {
    "duration": 5,
    "start_time": "2022-12-02T09:41:10.483Z"
   },
   {
    "duration": 29,
    "start_time": "2022-12-02T09:41:10.489Z"
   },
   {
    "duration": 209,
    "start_time": "2022-12-02T09:41:10.520Z"
   },
   {
    "duration": 10,
    "start_time": "2022-12-02T09:41:10.730Z"
   },
   {
    "duration": 315,
    "start_time": "2022-12-02T09:41:10.741Z"
   },
   {
    "duration": 6,
    "start_time": "2022-12-02T09:41:11.057Z"
   },
   {
    "duration": 14,
    "start_time": "2022-12-02T09:41:11.064Z"
   },
   {
    "duration": 4,
    "start_time": "2022-12-02T09:41:11.080Z"
   },
   {
    "duration": 336,
    "start_time": "2022-12-02T09:41:11.085Z"
   },
   {
    "duration": 7,
    "start_time": "2022-12-02T09:41:11.423Z"
   },
   {
    "duration": 8,
    "start_time": "2022-12-02T09:41:11.432Z"
   },
   {
    "duration": 299,
    "start_time": "2022-12-02T09:41:11.441Z"
   },
   {
    "duration": 135,
    "start_time": "2022-12-02T09:41:11.742Z"
   },
   {
    "duration": 148,
    "start_time": "2022-12-02T09:41:11.879Z"
   },
   {
    "duration": 6,
    "start_time": "2022-12-02T09:41:12.030Z"
   },
   {
    "duration": 281,
    "start_time": "2022-12-02T09:41:12.037Z"
   },
   {
    "duration": 266,
    "start_time": "2022-12-02T09:41:12.320Z"
   },
   {
    "duration": 254,
    "start_time": "2022-12-02T09:41:12.588Z"
   },
   {
    "duration": 270,
    "start_time": "2022-12-02T09:41:12.844Z"
   },
   {
    "duration": 17,
    "start_time": "2022-12-02T09:41:13.115Z"
   },
   {
    "duration": 200,
    "start_time": "2022-12-02T09:41:13.133Z"
   },
   {
    "duration": 15,
    "start_time": "2022-12-02T09:41:13.335Z"
   },
   {
    "duration": 320,
    "start_time": "2022-12-02T09:41:13.352Z"
   },
   {
    "duration": 11,
    "start_time": "2022-12-02T09:41:13.673Z"
   },
   {
    "duration": 35,
    "start_time": "2022-12-02T09:41:13.686Z"
   },
   {
    "duration": 16,
    "start_time": "2022-12-02T09:41:42.700Z"
   },
   {
    "duration": 18,
    "start_time": "2022-12-02T09:42:07.210Z"
   },
   {
    "duration": 15,
    "start_time": "2022-12-02T09:42:18.020Z"
   },
   {
    "duration": 16,
    "start_time": "2022-12-02T09:42:26.052Z"
   },
   {
    "duration": 13,
    "start_time": "2022-12-02T09:42:54.899Z"
   },
   {
    "duration": 16,
    "start_time": "2022-12-02T09:43:27.643Z"
   },
   {
    "duration": 16,
    "start_time": "2022-12-02T09:43:35.628Z"
   },
   {
    "duration": 16,
    "start_time": "2022-12-02T09:43:57.164Z"
   },
   {
    "duration": 16,
    "start_time": "2022-12-02T09:44:17.638Z"
   },
   {
    "duration": 15,
    "start_time": "2022-12-02T09:44:31.870Z"
   },
   {
    "duration": 17,
    "start_time": "2022-12-02T09:44:53.556Z"
   },
   {
    "duration": 14,
    "start_time": "2022-12-02T09:45:11.277Z"
   },
   {
    "duration": 17,
    "start_time": "2022-12-02T09:45:49.997Z"
   },
   {
    "duration": 393,
    "start_time": "2022-12-02T09:46:28.788Z"
   },
   {
    "duration": 291,
    "start_time": "2022-12-02T09:47:45.086Z"
   },
   {
    "duration": 9,
    "start_time": "2022-12-02T09:50:38.269Z"
   },
   {
    "duration": 14,
    "start_time": "2022-12-02T09:51:01.295Z"
   },
   {
    "duration": 9,
    "start_time": "2022-12-02T09:51:32.910Z"
   },
   {
    "duration": 65,
    "start_time": "2022-12-02T09:55:18.191Z"
   },
   {
    "duration": 17,
    "start_time": "2022-12-02T10:00:16.354Z"
   },
   {
    "duration": 314,
    "start_time": "2022-12-02T10:01:07.553Z"
   },
   {
    "duration": 13,
    "start_time": "2022-12-02T10:02:58.550Z"
   },
   {
    "duration": 53,
    "start_time": "2022-12-02T13:25:13.468Z"
   },
   {
    "duration": 1219,
    "start_time": "2022-12-02T13:25:30.889Z"
   },
   {
    "duration": 107,
    "start_time": "2022-12-02T13:25:32.110Z"
   },
   {
    "duration": 14,
    "start_time": "2022-12-02T13:25:32.218Z"
   },
   {
    "duration": 3,
    "start_time": "2022-12-02T13:25:32.234Z"
   },
   {
    "duration": 24,
    "start_time": "2022-12-02T13:25:32.238Z"
   },
   {
    "duration": 51,
    "start_time": "2022-12-02T13:25:32.263Z"
   },
   {
    "duration": 5,
    "start_time": "2022-12-02T13:25:32.315Z"
   },
   {
    "duration": 9,
    "start_time": "2022-12-02T13:25:32.321Z"
   },
   {
    "duration": 16,
    "start_time": "2022-12-02T13:25:32.331Z"
   },
   {
    "duration": 4,
    "start_time": "2022-12-02T13:25:32.349Z"
   },
   {
    "duration": 9,
    "start_time": "2022-12-02T13:25:32.354Z"
   },
   {
    "duration": 8,
    "start_time": "2022-12-02T13:25:32.376Z"
   },
   {
    "duration": 21,
    "start_time": "2022-12-02T13:25:32.385Z"
   },
   {
    "duration": 15,
    "start_time": "2022-12-02T13:25:32.407Z"
   },
   {
    "duration": 4,
    "start_time": "2022-12-02T13:25:32.423Z"
   },
   {
    "duration": 18,
    "start_time": "2022-12-02T13:25:32.429Z"
   },
   {
    "duration": 211,
    "start_time": "2022-12-02T13:25:32.449Z"
   },
   {
    "duration": 19,
    "start_time": "2022-12-02T13:25:32.662Z"
   },
   {
    "duration": 300,
    "start_time": "2022-12-02T13:25:32.683Z"
   },
   {
    "duration": 4,
    "start_time": "2022-12-02T13:25:32.985Z"
   },
   {
    "duration": 45,
    "start_time": "2022-12-02T13:25:32.991Z"
   },
   {
    "duration": 13,
    "start_time": "2022-12-02T13:25:33.037Z"
   },
   {
    "duration": 330,
    "start_time": "2022-12-02T13:25:33.051Z"
   },
   {
    "duration": 8,
    "start_time": "2022-12-02T13:25:33.382Z"
   },
   {
    "duration": 14,
    "start_time": "2022-12-02T13:25:33.391Z"
   },
   {
    "duration": 187,
    "start_time": "2022-12-02T13:25:33.406Z"
   },
   {
    "duration": 148,
    "start_time": "2022-12-02T13:25:33.595Z"
   },
   {
    "duration": 199,
    "start_time": "2022-12-02T13:25:33.747Z"
   },
   {
    "duration": 4,
    "start_time": "2022-12-02T13:25:33.948Z"
   },
   {
    "duration": 251,
    "start_time": "2022-12-02T13:25:33.954Z"
   },
   {
    "duration": 254,
    "start_time": "2022-12-02T13:25:34.207Z"
   },
   {
    "duration": 247,
    "start_time": "2022-12-02T13:25:34.463Z"
   },
   {
    "duration": 267,
    "start_time": "2022-12-02T13:25:34.712Z"
   },
   {
    "duration": 20,
    "start_time": "2022-12-02T13:25:34.981Z"
   },
   {
    "duration": 248,
    "start_time": "2022-12-02T13:25:35.003Z"
   },
   {
    "duration": 103,
    "start_time": "2022-12-02T13:25:35.253Z"
   },
   {
    "duration": 0,
    "start_time": "2022-12-02T13:25:35.358Z"
   },
   {
    "duration": 0,
    "start_time": "2022-12-02T13:25:35.359Z"
   },
   {
    "duration": 0,
    "start_time": "2022-12-02T13:25:35.361Z"
   },
   {
    "duration": 0,
    "start_time": "2022-12-02T13:25:35.362Z"
   },
   {
    "duration": 0,
    "start_time": "2022-12-02T13:25:35.363Z"
   },
   {
    "duration": 0,
    "start_time": "2022-12-02T13:25:35.376Z"
   },
   {
    "duration": 0,
    "start_time": "2022-12-02T13:25:35.378Z"
   },
   {
    "duration": 0,
    "start_time": "2022-12-02T13:25:35.378Z"
   },
   {
    "duration": 11,
    "start_time": "2022-12-02T13:26:23.246Z"
   },
   {
    "duration": 20,
    "start_time": "2022-12-02T13:26:44.960Z"
   },
   {
    "duration": 294,
    "start_time": "2022-12-02T13:26:57.029Z"
   },
   {
    "duration": 12,
    "start_time": "2022-12-02T13:26:59.469Z"
   },
   {
    "duration": 17,
    "start_time": "2022-12-02T13:27:05.387Z"
   },
   {
    "duration": 316,
    "start_time": "2022-12-02T13:27:09.302Z"
   },
   {
    "duration": 8,
    "start_time": "2022-12-02T13:27:12.436Z"
   },
   {
    "duration": 18,
    "start_time": "2022-12-02T13:27:14.708Z"
   },
   {
    "duration": 387,
    "start_time": "2022-12-02T13:27:15.685Z"
   },
   {
    "duration": 8,
    "start_time": "2022-12-02T13:27:22.716Z"
   },
   {
    "duration": 9,
    "start_time": "2022-12-02T13:27:47.517Z"
   },
   {
    "duration": 19,
    "start_time": "2022-12-02T13:28:28.705Z"
   },
   {
    "duration": 319,
    "start_time": "2022-12-02T13:28:34.373Z"
   },
   {
    "duration": 8,
    "start_time": "2022-12-02T13:29:11.180Z"
   },
   {
    "duration": 66,
    "start_time": "2022-12-02T13:30:28.414Z"
   },
   {
    "duration": 18,
    "start_time": "2022-12-02T13:39:26.137Z"
   },
   {
    "duration": 8,
    "start_time": "2022-12-02T13:39:38.592Z"
   },
   {
    "duration": 7,
    "start_time": "2022-12-02T13:40:58.248Z"
   },
   {
    "duration": 8,
    "start_time": "2022-12-02T13:45:13.993Z"
   },
   {
    "duration": 2056,
    "start_time": "2022-12-02T13:45:15.352Z"
   },
   {
    "duration": 4,
    "start_time": "2022-12-02T13:46:42.560Z"
   },
   {
    "duration": 964,
    "start_time": "2022-12-02T13:46:43.905Z"
   },
   {
    "duration": 1030,
    "start_time": "2022-12-02T13:48:07.712Z"
   },
   {
    "duration": 3,
    "start_time": "2022-12-02T13:48:14.369Z"
   },
   {
    "duration": 55,
    "start_time": "2022-12-02T13:48:14.374Z"
   },
   {
    "duration": 15,
    "start_time": "2022-12-02T13:48:14.431Z"
   },
   {
    "duration": 7,
    "start_time": "2022-12-02T13:48:14.447Z"
   },
   {
    "duration": 20,
    "start_time": "2022-12-02T13:48:14.456Z"
   },
   {
    "duration": 20,
    "start_time": "2022-12-02T13:48:14.478Z"
   },
   {
    "duration": 7,
    "start_time": "2022-12-02T13:48:14.500Z"
   },
   {
    "duration": 5,
    "start_time": "2022-12-02T13:48:14.509Z"
   },
   {
    "duration": 17,
    "start_time": "2022-12-02T13:48:14.515Z"
   },
   {
    "duration": 4,
    "start_time": "2022-12-02T13:48:14.534Z"
   },
   {
    "duration": 7,
    "start_time": "2022-12-02T13:48:14.577Z"
   },
   {
    "duration": 11,
    "start_time": "2022-12-02T13:48:14.586Z"
   },
   {
    "duration": 15,
    "start_time": "2022-12-02T13:48:14.599Z"
   },
   {
    "duration": 17,
    "start_time": "2022-12-02T13:48:14.616Z"
   },
   {
    "duration": 4,
    "start_time": "2022-12-02T13:48:14.635Z"
   },
   {
    "duration": 42,
    "start_time": "2022-12-02T13:48:14.641Z"
   },
   {
    "duration": 243,
    "start_time": "2022-12-02T13:48:14.685Z"
   },
   {
    "duration": 11,
    "start_time": "2022-12-02T13:48:14.930Z"
   },
   {
    "duration": 461,
    "start_time": "2022-12-02T13:48:14.943Z"
   },
   {
    "duration": 5,
    "start_time": "2022-12-02T13:48:15.405Z"
   },
   {
    "duration": 20,
    "start_time": "2022-12-02T13:48:15.412Z"
   },
   {
    "duration": 22,
    "start_time": "2022-12-02T13:48:15.434Z"
   },
   {
    "duration": 361,
    "start_time": "2022-12-02T13:48:15.457Z"
   },
   {
    "duration": 9,
    "start_time": "2022-12-02T13:48:15.820Z"
   },
   {
    "duration": 40,
    "start_time": "2022-12-02T13:48:15.831Z"
   },
   {
    "duration": 210,
    "start_time": "2022-12-02T13:48:15.872Z"
   },
   {
    "duration": 146,
    "start_time": "2022-12-02T13:48:16.084Z"
   },
   {
    "duration": 134,
    "start_time": "2022-12-02T13:48:16.231Z"
   },
   {
    "duration": 5,
    "start_time": "2022-12-02T13:48:16.377Z"
   },
   {
    "duration": 278,
    "start_time": "2022-12-02T13:48:16.384Z"
   },
   {
    "duration": 269,
    "start_time": "2022-12-02T13:48:16.664Z"
   },
   {
    "duration": 256,
    "start_time": "2022-12-02T13:48:16.935Z"
   },
   {
    "duration": 268,
    "start_time": "2022-12-02T13:48:17.193Z"
   },
   {
    "duration": 24,
    "start_time": "2022-12-02T13:48:17.464Z"
   },
   {
    "duration": 205,
    "start_time": "2022-12-02T13:48:17.489Z"
   },
   {
    "duration": 18,
    "start_time": "2022-12-02T13:48:17.696Z"
   },
   {
    "duration": 316,
    "start_time": "2022-12-02T13:48:17.715Z"
   },
   {
    "duration": 10,
    "start_time": "2022-12-02T13:48:18.033Z"
   },
   {
    "duration": 16,
    "start_time": "2022-12-02T13:48:18.044Z"
   },
   {
    "duration": 218,
    "start_time": "2022-12-02T13:48:18.061Z"
   },
   {
    "duration": 8,
    "start_time": "2022-12-02T13:48:18.280Z"
   },
   {
    "duration": 22,
    "start_time": "2022-12-02T13:48:18.290Z"
   },
   {
    "duration": 221,
    "start_time": "2022-12-02T13:48:18.313Z"
   },
   {
    "duration": 8,
    "start_time": "2022-12-02T13:48:18.536Z"
   },
   {
    "duration": 16,
    "start_time": "2022-12-02T13:50:50.242Z"
   },
   {
    "duration": 18,
    "start_time": "2022-12-02T13:51:49.954Z"
   },
   {
    "duration": 234,
    "start_time": "2022-12-02T13:51:51.418Z"
   },
   {
    "duration": 11,
    "start_time": "2022-12-02T13:52:20.733Z"
   },
   {
    "duration": 15,
    "start_time": "2022-12-02T13:52:39.490Z"
   },
   {
    "duration": 225,
    "start_time": "2022-12-02T13:52:41.202Z"
   },
   {
    "duration": 9,
    "start_time": "2022-12-02T13:52:48.491Z"
   },
   {
    "duration": 15,
    "start_time": "2022-12-02T13:53:17.129Z"
   },
   {
    "duration": 257,
    "start_time": "2022-12-02T13:53:19.804Z"
   },
   {
    "duration": 12,
    "start_time": "2022-12-02T13:53:30.745Z"
   },
   {
    "duration": 958,
    "start_time": "2022-12-02T13:56:35.397Z"
   },
   {
    "duration": 187,
    "start_time": "2022-12-02T13:57:02.391Z"
   },
   {
    "duration": 12,
    "start_time": "2022-12-02T14:00:49.162Z"
   },
   {
    "duration": 16,
    "start_time": "2022-12-02T14:00:51.268Z"
   },
   {
    "duration": 223,
    "start_time": "2022-12-02T14:00:52.115Z"
   },
   {
    "duration": 8,
    "start_time": "2022-12-02T14:01:27.118Z"
   },
   {
    "duration": 20,
    "start_time": "2022-12-02T14:01:29.610Z"
   },
   {
    "duration": 224,
    "start_time": "2022-12-02T14:01:31.637Z"
   },
   {
    "duration": 15,
    "start_time": "2022-12-02T14:05:07.271Z"
   },
   {
    "duration": 803,
    "start_time": "2022-12-02T14:06:07.844Z"
   },
   {
    "duration": 272,
    "start_time": "2022-12-02T14:06:27.127Z"
   },
   {
    "duration": 16,
    "start_time": "2022-12-02T14:08:37.198Z"
   },
   {
    "duration": 213,
    "start_time": "2022-12-02T14:09:46.969Z"
   },
   {
    "duration": 22,
    "start_time": "2022-12-02T14:18:04.109Z"
   },
   {
    "duration": 11,
    "start_time": "2022-12-02T14:18:55.786Z"
   },
   {
    "duration": 14,
    "start_time": "2022-12-02T14:19:10.653Z"
   },
   {
    "duration": 15,
    "start_time": "2022-12-02T14:21:48.366Z"
   },
   {
    "duration": 20,
    "start_time": "2022-12-02T14:23:31.307Z"
   },
   {
    "duration": 17,
    "start_time": "2022-12-02T14:25:30.587Z"
   },
   {
    "duration": 12,
    "start_time": "2022-12-02T14:27:56.249Z"
   },
   {
    "duration": 14,
    "start_time": "2022-12-02T14:28:06.065Z"
   },
   {
    "duration": 169,
    "start_time": "2022-12-02T14:28:08.498Z"
   },
   {
    "duration": 22,
    "start_time": "2022-12-02T14:29:29.180Z"
   },
   {
    "duration": 227,
    "start_time": "2022-12-02T14:30:17.404Z"
   },
   {
    "duration": 23,
    "start_time": "2022-12-02T14:31:11.462Z"
   },
   {
    "duration": 194,
    "start_time": "2022-12-02T14:31:53.016Z"
   },
   {
    "duration": 18,
    "start_time": "2022-12-02T14:33:53.462Z"
   },
   {
    "duration": 227,
    "start_time": "2022-12-02T14:33:54.890Z"
   },
   {
    "duration": 196,
    "start_time": "2022-12-02T14:34:28.501Z"
   },
   {
    "duration": 21,
    "start_time": "2022-12-02T14:35:29.980Z"
   },
   {
    "duration": 397,
    "start_time": "2022-12-02T14:36:03.356Z"
   },
   {
    "duration": 16,
    "start_time": "2022-12-02T14:36:22.099Z"
   },
   {
    "duration": 19,
    "start_time": "2022-12-02T14:37:23.012Z"
   },
   {
    "duration": 502,
    "start_time": "2022-12-02T14:38:08.732Z"
   },
   {
    "duration": 20,
    "start_time": "2022-12-02T14:39:49.031Z"
   },
   {
    "duration": 386,
    "start_time": "2022-12-02T14:40:24.366Z"
   },
   {
    "duration": 15,
    "start_time": "2022-12-02T14:55:31.192Z"
   },
   {
    "duration": 14,
    "start_time": "2022-12-02T14:55:36.952Z"
   },
   {
    "duration": 1386,
    "start_time": "2022-12-02T17:51:00.245Z"
   },
   {
    "duration": 199,
    "start_time": "2022-12-02T17:51:01.633Z"
   },
   {
    "duration": 15,
    "start_time": "2022-12-02T17:51:01.834Z"
   },
   {
    "duration": 7,
    "start_time": "2022-12-02T17:51:01.851Z"
   },
   {
    "duration": 21,
    "start_time": "2022-12-02T17:51:01.861Z"
   },
   {
    "duration": 54,
    "start_time": "2022-12-02T17:51:01.884Z"
   },
   {
    "duration": 6,
    "start_time": "2022-12-02T17:51:01.940Z"
   },
   {
    "duration": 5,
    "start_time": "2022-12-02T17:51:01.947Z"
   },
   {
    "duration": 17,
    "start_time": "2022-12-02T17:51:01.953Z"
   },
   {
    "duration": 4,
    "start_time": "2022-12-02T17:51:01.972Z"
   },
   {
    "duration": 10,
    "start_time": "2022-12-02T17:51:01.978Z"
   },
   {
    "duration": 9,
    "start_time": "2022-12-02T17:51:02.012Z"
   },
   {
    "duration": 15,
    "start_time": "2022-12-02T17:51:02.023Z"
   },
   {
    "duration": 14,
    "start_time": "2022-12-02T17:51:02.039Z"
   },
   {
    "duration": 5,
    "start_time": "2022-12-02T17:51:02.054Z"
   },
   {
    "duration": 17,
    "start_time": "2022-12-02T17:51:02.060Z"
   },
   {
    "duration": 235,
    "start_time": "2022-12-02T17:51:02.079Z"
   },
   {
    "duration": 10,
    "start_time": "2022-12-02T17:51:02.316Z"
   },
   {
    "duration": 333,
    "start_time": "2022-12-02T17:51:02.328Z"
   },
   {
    "duration": 4,
    "start_time": "2022-12-02T17:51:02.663Z"
   },
   {
    "duration": 14,
    "start_time": "2022-12-02T17:51:02.669Z"
   },
   {
    "duration": 4,
    "start_time": "2022-12-02T17:51:02.684Z"
   },
   {
    "duration": 379,
    "start_time": "2022-12-02T17:51:02.690Z"
   },
   {
    "duration": 7,
    "start_time": "2022-12-02T17:51:03.071Z"
   },
   {
    "duration": 9,
    "start_time": "2022-12-02T17:51:03.080Z"
   },
   {
    "duration": 179,
    "start_time": "2022-12-02T17:51:03.090Z"
   },
   {
    "duration": 143,
    "start_time": "2022-12-02T17:51:03.270Z"
   },
   {
    "duration": 225,
    "start_time": "2022-12-02T17:51:03.417Z"
   },
   {
    "duration": 4,
    "start_time": "2022-12-02T17:51:03.644Z"
   },
   {
    "duration": 281,
    "start_time": "2022-12-02T17:51:03.650Z"
   },
   {
    "duration": 274,
    "start_time": "2022-12-02T17:51:03.933Z"
   },
   {
    "duration": 243,
    "start_time": "2022-12-02T17:51:04.213Z"
   },
   {
    "duration": 306,
    "start_time": "2022-12-02T17:51:04.458Z"
   },
   {
    "duration": 16,
    "start_time": "2022-12-02T17:51:04.767Z"
   },
   {
    "duration": 201,
    "start_time": "2022-12-02T17:51:04.784Z"
   },
   {
    "duration": 29,
    "start_time": "2022-12-02T17:51:04.987Z"
   },
   {
    "duration": 221,
    "start_time": "2022-12-02T17:51:05.018Z"
   },
   {
    "duration": 16,
    "start_time": "2022-12-02T17:51:05.242Z"
   },
   {
    "duration": 195,
    "start_time": "2022-12-02T17:51:05.259Z"
   },
   {
    "duration": 10,
    "start_time": "2022-12-02T17:51:05.456Z"
   },
   {
    "duration": 23,
    "start_time": "2022-12-02T17:51:05.468Z"
   },
   {
    "duration": 261,
    "start_time": "2022-12-02T17:51:05.493Z"
   },
   {
    "duration": 19,
    "start_time": "2022-12-02T17:51:05.756Z"
   },
   {
    "duration": 236,
    "start_time": "2022-12-02T17:51:05.777Z"
   },
   {
    "duration": 12,
    "start_time": "2022-12-02T17:51:06.014Z"
   },
   {
    "duration": 22,
    "start_time": "2022-12-02T17:51:06.028Z"
   },
   {
    "duration": 234,
    "start_time": "2022-12-02T17:51:06.053Z"
   },
   {
    "duration": 24,
    "start_time": "2022-12-02T17:51:06.289Z"
   },
   {
    "duration": 268,
    "start_time": "2022-12-02T17:51:06.314Z"
   },
   {
    "duration": 7,
    "start_time": "2022-12-02T17:51:06.584Z"
   },
   {
    "duration": 28,
    "start_time": "2022-12-02T17:51:06.593Z"
   },
   {
    "duration": 14,
    "start_time": "2022-12-02T17:51:06.622Z"
   },
   {
    "duration": 443,
    "start_time": "2022-12-02T17:51:06.637Z"
   },
   {
    "duration": 17,
    "start_time": "2022-12-02T17:51:07.082Z"
   },
   {
    "duration": 20,
    "start_time": "2022-12-02T17:51:07.101Z"
   },
   {
    "duration": 412,
    "start_time": "2022-12-02T17:51:07.123Z"
   },
   {
    "duration": 17,
    "start_time": "2022-12-02T17:51:07.537Z"
   },
   {
    "duration": 16,
    "start_time": "2022-12-02T17:51:07.556Z"
   },
   {
    "duration": 409,
    "start_time": "2022-12-02T17:51:07.574Z"
   },
   {
    "duration": 30,
    "start_time": "2022-12-02T17:51:07.985Z"
   },
   {
    "duration": 21,
    "start_time": "2022-12-02T17:51:08.017Z"
   },
   {
    "duration": 210,
    "start_time": "2022-12-02T17:51:08.040Z"
   },
   {
    "duration": 157,
    "start_time": "2022-12-02T17:54:08.933Z"
   },
   {
    "duration": 294,
    "start_time": "2022-12-02T17:55:00.607Z"
   },
   {
    "duration": 76,
    "start_time": "2022-12-02T18:00:22.748Z"
   },
   {
    "duration": 16,
    "start_time": "2022-12-02T18:01:04.045Z"
   },
   {
    "duration": 18,
    "start_time": "2022-12-02T18:01:05.557Z"
   },
   {
    "duration": 15,
    "start_time": "2022-12-02T18:02:33.101Z"
   },
   {
    "duration": 16,
    "start_time": "2022-12-02T18:03:19.718Z"
   },
   {
    "duration": 3,
    "start_time": "2022-12-02T18:09:47.529Z"
   },
   {
    "duration": 59,
    "start_time": "2022-12-02T18:09:47.537Z"
   },
   {
    "duration": 18,
    "start_time": "2022-12-02T18:09:47.600Z"
   },
   {
    "duration": 18,
    "start_time": "2022-12-02T18:09:47.620Z"
   },
   {
    "duration": 29,
    "start_time": "2022-12-02T18:09:47.641Z"
   },
   {
    "duration": 136,
    "start_time": "2022-12-02T18:09:47.671Z"
   },
   {
    "duration": 6,
    "start_time": "2022-12-02T18:09:47.813Z"
   },
   {
    "duration": 21,
    "start_time": "2022-12-02T18:09:47.820Z"
   },
   {
    "duration": 37,
    "start_time": "2022-12-02T18:09:47.843Z"
   },
   {
    "duration": 12,
    "start_time": "2022-12-02T18:09:47.881Z"
   },
   {
    "duration": 17,
    "start_time": "2022-12-02T18:09:47.896Z"
   },
   {
    "duration": 25,
    "start_time": "2022-12-02T18:09:47.915Z"
   },
   {
    "duration": 37,
    "start_time": "2022-12-02T18:09:47.943Z"
   },
   {
    "duration": 23,
    "start_time": "2022-12-02T18:09:47.982Z"
   },
   {
    "duration": 16,
    "start_time": "2022-12-02T18:09:48.007Z"
   },
   {
    "duration": 41,
    "start_time": "2022-12-02T18:09:48.025Z"
   },
   {
    "duration": 207,
    "start_time": "2022-12-02T18:09:48.068Z"
   },
   {
    "duration": 12,
    "start_time": "2022-12-02T18:09:48.277Z"
   },
   {
    "duration": 319,
    "start_time": "2022-12-02T18:09:48.290Z"
   },
   {
    "duration": 7,
    "start_time": "2022-12-02T18:09:48.610Z"
   },
   {
    "duration": 14,
    "start_time": "2022-12-02T18:09:48.619Z"
   },
   {
    "duration": 3,
    "start_time": "2022-12-02T18:09:48.635Z"
   },
   {
    "duration": 375,
    "start_time": "2022-12-02T18:09:48.640Z"
   },
   {
    "duration": 8,
    "start_time": "2022-12-02T18:09:49.017Z"
   },
   {
    "duration": 14,
    "start_time": "2022-12-02T18:09:49.026Z"
   },
   {
    "duration": 221,
    "start_time": "2022-12-02T18:09:49.042Z"
   },
   {
    "duration": 149,
    "start_time": "2022-12-02T18:09:49.264Z"
   },
   {
    "duration": 143,
    "start_time": "2022-12-02T18:09:49.414Z"
   },
   {
    "duration": 5,
    "start_time": "2022-12-02T18:09:49.561Z"
   },
   {
    "duration": 304,
    "start_time": "2022-12-02T18:09:49.568Z"
   },
   {
    "duration": 281,
    "start_time": "2022-12-02T18:09:49.873Z"
   },
   {
    "duration": 323,
    "start_time": "2022-12-02T18:09:50.155Z"
   },
   {
    "duration": 382,
    "start_time": "2022-12-02T18:09:50.480Z"
   },
   {
    "duration": 17,
    "start_time": "2022-12-02T18:09:50.864Z"
   },
   {
    "duration": 218,
    "start_time": "2022-12-02T18:09:50.882Z"
   },
   {
    "duration": 15,
    "start_time": "2022-12-02T18:09:51.101Z"
   },
   {
    "duration": 36,
    "start_time": "2022-12-02T18:09:51.118Z"
   },
   {
    "duration": 226,
    "start_time": "2022-12-02T18:09:51.156Z"
   },
   {
    "duration": 16,
    "start_time": "2022-12-02T18:09:51.384Z"
   },
   {
    "duration": 203,
    "start_time": "2022-12-02T18:09:51.401Z"
   },
   {
    "duration": 13,
    "start_time": "2022-12-02T18:09:51.606Z"
   },
   {
    "duration": 51,
    "start_time": "2022-12-02T18:09:51.621Z"
   },
   {
    "duration": 218,
    "start_time": "2022-12-02T18:09:51.674Z"
   },
   {
    "duration": 21,
    "start_time": "2022-12-02T18:09:51.893Z"
   },
   {
    "duration": 185,
    "start_time": "2022-12-02T18:09:51.916Z"
   },
   {
    "duration": 15,
    "start_time": "2022-12-02T18:09:52.103Z"
   },
   {
    "duration": 18,
    "start_time": "2022-12-02T18:09:52.120Z"
   },
   {
    "duration": 246,
    "start_time": "2022-12-02T18:09:52.140Z"
   },
   {
    "duration": 16,
    "start_time": "2022-12-02T18:09:52.387Z"
   },
   {
    "duration": 174,
    "start_time": "2022-12-02T18:09:52.412Z"
   },
   {
    "duration": 25,
    "start_time": "2022-12-02T18:09:52.588Z"
   },
   {
    "duration": 21,
    "start_time": "2022-12-02T18:09:52.615Z"
   },
   {
    "duration": 16,
    "start_time": "2022-12-02T18:09:52.638Z"
   },
   {
    "duration": 412,
    "start_time": "2022-12-02T18:09:52.656Z"
   },
   {
    "duration": 16,
    "start_time": "2022-12-02T18:09:53.070Z"
   },
   {
    "duration": 33,
    "start_time": "2022-12-02T18:09:53.088Z"
   },
   {
    "duration": 519,
    "start_time": "2022-12-02T18:09:53.123Z"
   },
   {
    "duration": 17,
    "start_time": "2022-12-02T18:09:53.644Z"
   },
   {
    "duration": 15,
    "start_time": "2022-12-02T18:09:53.662Z"
   },
   {
    "duration": 420,
    "start_time": "2022-12-02T18:09:53.679Z"
   },
   {
    "duration": 22,
    "start_time": "2022-12-02T18:09:54.101Z"
   },
   {
    "duration": 16,
    "start_time": "2022-12-02T18:09:54.125Z"
   },
   {
    "duration": 299,
    "start_time": "2022-12-02T18:09:54.143Z"
   },
   {
    "duration": 16,
    "start_time": "2022-12-02T18:09:54.444Z"
   },
   {
    "duration": 21,
    "start_time": "2022-12-02T18:09:54.462Z"
   },
   {
    "duration": 274,
    "start_time": "2022-12-02T18:12:09.553Z"
   },
   {
    "duration": 21,
    "start_time": "2022-12-02T18:13:15.050Z"
   },
   {
    "duration": 16,
    "start_time": "2022-12-02T18:18:43.272Z"
   },
   {
    "duration": 1223,
    "start_time": "2022-12-02T18:23:28.612Z"
   },
   {
    "duration": 287,
    "start_time": "2022-12-02T18:23:47.961Z"
   },
   {
    "duration": 9,
    "start_time": "2022-12-02T19:05:28.050Z"
   },
   {
    "duration": 5,
    "start_time": "2022-12-02T19:07:36.551Z"
   },
   {
    "duration": 5,
    "start_time": "2022-12-02T19:07:56.003Z"
   },
   {
    "duration": 7,
    "start_time": "2022-12-02T19:15:37.774Z"
   },
   {
    "duration": 4,
    "start_time": "2022-12-02T19:15:38.340Z"
   },
   {
    "duration": 5,
    "start_time": "2022-12-02T19:15:39.209Z"
   },
   {
    "duration": 5,
    "start_time": "2022-12-02T19:15:40.070Z"
   },
   {
    "duration": 66,
    "start_time": "2022-12-02T19:16:08.940Z"
   },
   {
    "duration": 6,
    "start_time": "2022-12-02T19:16:25.366Z"
   },
   {
    "duration": 6,
    "start_time": "2022-12-02T19:17:26.157Z"
   },
   {
    "duration": 76,
    "start_time": "2022-12-02T19:21:57.077Z"
   },
   {
    "duration": 8,
    "start_time": "2022-12-02T19:25:05.679Z"
   },
   {
    "duration": 7,
    "start_time": "2022-12-02T19:26:13.543Z"
   },
   {
    "duration": 3,
    "start_time": "2022-12-02T19:47:05.909Z"
   },
   {
    "duration": 53,
    "start_time": "2022-12-02T19:47:05.914Z"
   },
   {
    "duration": 13,
    "start_time": "2022-12-02T19:47:05.969Z"
   },
   {
    "duration": 6,
    "start_time": "2022-12-02T19:47:05.984Z"
   },
   {
    "duration": 17,
    "start_time": "2022-12-02T19:47:05.992Z"
   },
   {
    "duration": 17,
    "start_time": "2022-12-02T19:47:06.011Z"
   },
   {
    "duration": 5,
    "start_time": "2022-12-02T19:47:06.030Z"
   },
   {
    "duration": 7,
    "start_time": "2022-12-02T19:47:06.037Z"
   },
   {
    "duration": 15,
    "start_time": "2022-12-02T19:47:06.045Z"
   },
   {
    "duration": 3,
    "start_time": "2022-12-02T19:47:06.062Z"
   },
   {
    "duration": 6,
    "start_time": "2022-12-02T19:47:06.069Z"
   },
   {
    "duration": 10,
    "start_time": "2022-12-02T19:47:06.113Z"
   },
   {
    "duration": 16,
    "start_time": "2022-12-02T19:47:06.125Z"
   },
   {
    "duration": 16,
    "start_time": "2022-12-02T19:47:06.142Z"
   },
   {
    "duration": 5,
    "start_time": "2022-12-02T19:47:06.160Z"
   },
   {
    "duration": 52,
    "start_time": "2022-12-02T19:47:06.166Z"
   },
   {
    "duration": 235,
    "start_time": "2022-12-02T19:47:06.220Z"
   },
   {
    "duration": 10,
    "start_time": "2022-12-02T19:47:06.456Z"
   },
   {
    "duration": 438,
    "start_time": "2022-12-02T19:47:06.468Z"
   },
   {
    "duration": 8,
    "start_time": "2022-12-02T19:47:06.908Z"
   },
   {
    "duration": 29,
    "start_time": "2022-12-02T19:47:06.918Z"
   },
   {
    "duration": 31,
    "start_time": "2022-12-02T19:47:06.949Z"
   },
   {
    "duration": 339,
    "start_time": "2022-12-02T19:47:06.982Z"
   },
   {
    "duration": 9,
    "start_time": "2022-12-02T19:47:07.323Z"
   },
   {
    "duration": 33,
    "start_time": "2022-12-02T19:47:07.333Z"
   },
   {
    "duration": 205,
    "start_time": "2022-12-02T19:47:07.367Z"
   },
   {
    "duration": 141,
    "start_time": "2022-12-02T19:47:07.574Z"
   },
   {
    "duration": 144,
    "start_time": "2022-12-02T19:47:07.717Z"
   },
   {
    "duration": 5,
    "start_time": "2022-12-02T19:47:07.866Z"
   },
   {
    "duration": 292,
    "start_time": "2022-12-02T19:47:07.873Z"
   },
   {
    "duration": 266,
    "start_time": "2022-12-02T19:47:08.167Z"
   },
   {
    "duration": 266,
    "start_time": "2022-12-02T19:47:08.435Z"
   },
   {
    "duration": 271,
    "start_time": "2022-12-02T19:47:08.703Z"
   },
   {
    "duration": 17,
    "start_time": "2022-12-02T19:47:08.976Z"
   },
   {
    "duration": 320,
    "start_time": "2022-12-02T19:47:08.994Z"
   },
   {
    "duration": 9,
    "start_time": "2022-12-02T19:47:09.316Z"
   },
   {
    "duration": 28,
    "start_time": "2022-12-02T19:47:09.326Z"
   },
   {
    "duration": 228,
    "start_time": "2022-12-02T19:47:09.355Z"
   },
   {
    "duration": 15,
    "start_time": "2022-12-02T19:47:09.584Z"
   },
   {
    "duration": 192,
    "start_time": "2022-12-02T19:47:09.601Z"
   },
   {
    "duration": 10,
    "start_time": "2022-12-02T19:47:09.794Z"
   },
   {
    "duration": 23,
    "start_time": "2022-12-02T19:47:09.813Z"
   },
   {
    "duration": 220,
    "start_time": "2022-12-02T19:47:09.838Z"
   },
   {
    "duration": 15,
    "start_time": "2022-12-02T19:47:10.059Z"
   },
   {
    "duration": 206,
    "start_time": "2022-12-02T19:47:10.076Z"
   },
   {
    "duration": 11,
    "start_time": "2022-12-02T19:47:10.284Z"
   },
   {
    "duration": 33,
    "start_time": "2022-12-02T19:47:10.297Z"
   },
   {
    "duration": 255,
    "start_time": "2022-12-02T19:47:10.332Z"
   },
   {
    "duration": 26,
    "start_time": "2022-12-02T19:47:10.588Z"
   },
   {
    "duration": 175,
    "start_time": "2022-12-02T19:47:10.615Z"
   },
   {
    "duration": 8,
    "start_time": "2022-12-02T19:47:10.792Z"
   },
   {
    "duration": 16,
    "start_time": "2022-12-02T19:47:10.813Z"
   },
   {
    "duration": 15,
    "start_time": "2022-12-02T19:47:10.831Z"
   },
   {
    "duration": 419,
    "start_time": "2022-12-02T19:47:10.847Z"
   },
   {
    "duration": 18,
    "start_time": "2022-12-02T19:47:11.267Z"
   },
   {
    "duration": 33,
    "start_time": "2022-12-02T19:47:11.286Z"
   },
   {
    "duration": 407,
    "start_time": "2022-12-02T19:47:11.321Z"
   },
   {
    "duration": 15,
    "start_time": "2022-12-02T19:47:11.730Z"
   },
   {
    "duration": 15,
    "start_time": "2022-12-02T19:47:11.747Z"
   },
   {
    "duration": 500,
    "start_time": "2022-12-02T19:47:11.764Z"
   },
   {
    "duration": 16,
    "start_time": "2022-12-02T19:47:12.265Z"
   },
   {
    "duration": 16,
    "start_time": "2022-12-02T19:47:12.282Z"
   },
   {
    "duration": 296,
    "start_time": "2022-12-02T19:47:12.314Z"
   },
   {
    "duration": 15,
    "start_time": "2022-12-02T19:47:12.613Z"
   },
   {
    "duration": 16,
    "start_time": "2022-12-02T19:47:12.630Z"
   },
   {
    "duration": 281,
    "start_time": "2022-12-02T19:47:12.648Z"
   },
   {
    "duration": 19,
    "start_time": "2022-12-02T19:47:12.931Z"
   },
   {
    "duration": 16,
    "start_time": "2022-12-02T19:47:12.951Z"
   },
   {
    "duration": 314,
    "start_time": "2022-12-02T19:47:12.969Z"
   },
   {
    "duration": 7,
    "start_time": "2022-12-02T19:47:13.285Z"
   },
   {
    "duration": 20,
    "start_time": "2022-12-02T19:47:13.294Z"
   },
   {
    "duration": 8,
    "start_time": "2022-12-02T19:47:13.315Z"
   },
   {
    "duration": 5,
    "start_time": "2022-12-02T19:47:13.325Z"
   },
   {
    "duration": 1323,
    "start_time": "2022-12-03T13:15:09.913Z"
   },
   {
    "duration": 59,
    "start_time": "2022-12-03T13:15:11.238Z"
   },
   {
    "duration": 16,
    "start_time": "2022-12-03T13:15:11.299Z"
   },
   {
    "duration": 3,
    "start_time": "2022-12-03T13:15:11.318Z"
   },
   {
    "duration": 25,
    "start_time": "2022-12-03T13:15:11.323Z"
   },
   {
    "duration": 52,
    "start_time": "2022-12-03T13:15:11.350Z"
   },
   {
    "duration": 7,
    "start_time": "2022-12-03T13:15:11.417Z"
   },
   {
    "duration": 9,
    "start_time": "2022-12-03T13:15:11.427Z"
   },
   {
    "duration": 25,
    "start_time": "2022-12-03T13:15:11.438Z"
   },
   {
    "duration": 5,
    "start_time": "2022-12-03T13:15:11.466Z"
   },
   {
    "duration": 8,
    "start_time": "2022-12-03T13:15:11.473Z"
   },
   {
    "duration": 36,
    "start_time": "2022-12-03T13:15:11.483Z"
   },
   {
    "duration": 20,
    "start_time": "2022-12-03T13:15:11.521Z"
   },
   {
    "duration": 22,
    "start_time": "2022-12-03T13:15:11.543Z"
   },
   {
    "duration": 5,
    "start_time": "2022-12-03T13:15:11.568Z"
   },
   {
    "duration": 47,
    "start_time": "2022-12-03T13:15:11.575Z"
   },
   {
    "duration": 302,
    "start_time": "2022-12-03T13:15:11.624Z"
   },
   {
    "duration": 11,
    "start_time": "2022-12-03T13:15:11.928Z"
   },
   {
    "duration": 378,
    "start_time": "2022-12-03T13:15:11.940Z"
   },
   {
    "duration": 5,
    "start_time": "2022-12-03T13:15:12.321Z"
   },
   {
    "duration": 22,
    "start_time": "2022-12-03T13:15:12.328Z"
   },
   {
    "duration": 7,
    "start_time": "2022-12-03T13:15:12.352Z"
   },
   {
    "duration": 387,
    "start_time": "2022-12-03T13:15:12.361Z"
   },
   {
    "duration": 11,
    "start_time": "2022-12-03T13:15:12.750Z"
   },
   {
    "duration": 16,
    "start_time": "2022-12-03T13:15:12.763Z"
   },
   {
    "duration": 210,
    "start_time": "2022-12-03T13:15:12.781Z"
   },
   {
    "duration": 184,
    "start_time": "2022-12-03T13:15:12.995Z"
   },
   {
    "duration": 230,
    "start_time": "2022-12-03T13:15:13.182Z"
   },
   {
    "duration": 5,
    "start_time": "2022-12-03T13:15:13.415Z"
   },
   {
    "duration": 328,
    "start_time": "2022-12-03T13:15:13.422Z"
   },
   {
    "duration": 291,
    "start_time": "2022-12-03T13:15:13.752Z"
   },
   {
    "duration": 416,
    "start_time": "2022-12-03T13:15:14.047Z"
   },
   {
    "duration": 432,
    "start_time": "2022-12-03T13:15:14.465Z"
   },
   {
    "duration": 25,
    "start_time": "2022-12-03T13:15:19.204Z"
   },
   {
    "duration": 1217,
    "start_time": "2022-12-03T13:23:12.831Z"
   },
   {
    "duration": 61,
    "start_time": "2022-12-03T13:23:14.051Z"
   },
   {
    "duration": 22,
    "start_time": "2022-12-03T13:23:14.114Z"
   },
   {
    "duration": 8,
    "start_time": "2022-12-03T13:23:14.140Z"
   },
   {
    "duration": 25,
    "start_time": "2022-12-03T13:23:14.150Z"
   },
   {
    "duration": 73,
    "start_time": "2022-12-03T13:23:14.177Z"
   },
   {
    "duration": 6,
    "start_time": "2022-12-03T13:23:14.251Z"
   },
   {
    "duration": 12,
    "start_time": "2022-12-03T13:23:14.259Z"
   },
   {
    "duration": 18,
    "start_time": "2022-12-03T13:23:14.272Z"
   },
   {
    "duration": 5,
    "start_time": "2022-12-03T13:23:14.295Z"
   },
   {
    "duration": 7,
    "start_time": "2022-12-03T13:23:14.316Z"
   },
   {
    "duration": 33,
    "start_time": "2022-12-03T13:23:14.325Z"
   },
   {
    "duration": 23,
    "start_time": "2022-12-03T13:23:14.363Z"
   },
   {
    "duration": 18,
    "start_time": "2022-12-03T13:23:14.387Z"
   },
   {
    "duration": 10,
    "start_time": "2022-12-03T13:23:14.407Z"
   },
   {
    "duration": 43,
    "start_time": "2022-12-03T13:23:14.420Z"
   },
   {
    "duration": 273,
    "start_time": "2022-12-03T13:23:14.465Z"
   },
   {
    "duration": 12,
    "start_time": "2022-12-03T13:23:14.740Z"
   },
   {
    "duration": 359,
    "start_time": "2022-12-03T13:23:14.753Z"
   },
   {
    "duration": 7,
    "start_time": "2022-12-03T13:23:15.114Z"
   },
   {
    "duration": 30,
    "start_time": "2022-12-03T13:23:15.122Z"
   },
   {
    "duration": 5,
    "start_time": "2022-12-03T13:23:15.155Z"
   },
   {
    "duration": 398,
    "start_time": "2022-12-03T13:23:15.162Z"
   },
   {
    "duration": 7,
    "start_time": "2022-12-03T13:23:15.562Z"
   },
   {
    "duration": 27,
    "start_time": "2022-12-03T13:23:15.570Z"
   },
   {
    "duration": 206,
    "start_time": "2022-12-03T13:23:15.600Z"
   },
   {
    "duration": 163,
    "start_time": "2022-12-03T13:23:15.808Z"
   },
   {
    "duration": 242,
    "start_time": "2022-12-03T13:23:15.975Z"
   },
   {
    "duration": 9,
    "start_time": "2022-12-03T13:23:16.219Z"
   },
   {
    "duration": 414,
    "start_time": "2022-12-03T13:23:16.231Z"
   },
   {
    "duration": 302,
    "start_time": "2022-12-03T13:23:16.647Z"
   },
   {
    "duration": 319,
    "start_time": "2022-12-03T13:23:16.950Z"
   },
   {
    "duration": 299,
    "start_time": "2022-12-03T13:23:17.271Z"
   },
   {
    "duration": 19,
    "start_time": "2022-12-03T13:23:17.572Z"
   },
   {
    "duration": 282,
    "start_time": "2022-12-03T13:23:17.594Z"
   },
   {
    "duration": 10,
    "start_time": "2022-12-03T13:23:17.878Z"
   },
   {
    "duration": 37,
    "start_time": "2022-12-03T13:23:17.890Z"
   },
   {
    "duration": 266,
    "start_time": "2022-12-03T13:23:17.929Z"
   },
   {
    "duration": 20,
    "start_time": "2022-12-03T13:23:18.197Z"
   },
   {
    "duration": 213,
    "start_time": "2022-12-03T13:23:18.219Z"
   },
   {
    "duration": 12,
    "start_time": "2022-12-03T13:23:18.435Z"
   },
   {
    "duration": 28,
    "start_time": "2022-12-03T13:23:18.448Z"
   },
   {
    "duration": 263,
    "start_time": "2022-12-03T13:23:18.477Z"
   },
   {
    "duration": 16,
    "start_time": "2022-12-03T13:23:18.742Z"
   },
   {
    "duration": 217,
    "start_time": "2022-12-03T13:23:18.759Z"
   },
   {
    "duration": 11,
    "start_time": "2022-12-03T13:23:18.978Z"
   },
   {
    "duration": 34,
    "start_time": "2022-12-03T13:23:18.991Z"
   },
   {
    "duration": 324,
    "start_time": "2022-12-03T13:23:19.027Z"
   },
   {
    "duration": 16,
    "start_time": "2022-12-03T13:23:19.353Z"
   },
   {
    "duration": 302,
    "start_time": "2022-12-03T13:23:19.370Z"
   },
   {
    "duration": 9,
    "start_time": "2022-12-03T13:23:19.674Z"
   },
   {
    "duration": 34,
    "start_time": "2022-12-03T13:23:19.685Z"
   },
   {
    "duration": 32,
    "start_time": "2022-12-03T13:23:19.721Z"
   },
   {
    "duration": 488,
    "start_time": "2022-12-03T13:23:19.755Z"
   },
   {
    "duration": 18,
    "start_time": "2022-12-03T13:23:20.245Z"
   },
   {
    "duration": 16,
    "start_time": "2022-12-03T13:23:20.265Z"
   },
   {
    "duration": 478,
    "start_time": "2022-12-03T13:23:20.283Z"
   },
   {
    "duration": 15,
    "start_time": "2022-12-03T13:23:20.763Z"
   },
   {
    "duration": 16,
    "start_time": "2022-12-03T13:23:20.780Z"
   },
   {
    "duration": 480,
    "start_time": "2022-12-03T13:23:20.797Z"
   },
   {
    "duration": 17,
    "start_time": "2022-12-03T13:23:21.278Z"
   },
   {
    "duration": 31,
    "start_time": "2022-12-03T13:23:21.296Z"
   },
   {
    "duration": 312,
    "start_time": "2022-12-03T13:23:21.329Z"
   },
   {
    "duration": 22,
    "start_time": "2022-12-03T13:23:21.643Z"
   },
   {
    "duration": 27,
    "start_time": "2022-12-03T13:23:21.667Z"
   },
   {
    "duration": 310,
    "start_time": "2022-12-03T13:23:21.695Z"
   },
   {
    "duration": 28,
    "start_time": "2022-12-03T13:23:22.008Z"
   },
   {
    "duration": 54,
    "start_time": "2022-12-03T13:23:22.038Z"
   },
   {
    "duration": 469,
    "start_time": "2022-12-03T13:23:22.094Z"
   },
   {
    "duration": 9,
    "start_time": "2022-12-03T13:23:22.564Z"
   },
   {
    "duration": 28,
    "start_time": "2022-12-03T13:23:22.575Z"
   },
   {
    "duration": 38,
    "start_time": "2022-12-03T13:23:22.606Z"
   },
   {
    "duration": 41,
    "start_time": "2022-12-03T13:23:22.645Z"
   },
   {
    "duration": 46,
    "start_time": "2022-12-04T18:02:59.529Z"
   },
   {
    "duration": 1276,
    "start_time": "2022-12-04T18:03:02.745Z"
   },
   {
    "duration": 182,
    "start_time": "2022-12-04T18:03:04.022Z"
   },
   {
    "duration": 13,
    "start_time": "2022-12-04T18:03:04.206Z"
   },
   {
    "duration": 3,
    "start_time": "2022-12-04T18:03:04.221Z"
   },
   {
    "duration": 26,
    "start_time": "2022-12-04T18:03:04.225Z"
   },
   {
    "duration": 62,
    "start_time": "2022-12-04T18:03:04.252Z"
   },
   {
    "duration": 6,
    "start_time": "2022-12-04T18:03:04.315Z"
   },
   {
    "duration": 11,
    "start_time": "2022-12-04T18:03:04.322Z"
   },
   {
    "duration": 20,
    "start_time": "2022-12-04T18:03:04.334Z"
   },
   {
    "duration": 4,
    "start_time": "2022-12-04T18:03:04.356Z"
   },
   {
    "duration": 9,
    "start_time": "2022-12-04T18:03:04.361Z"
   },
   {
    "duration": 15,
    "start_time": "2022-12-04T18:03:04.372Z"
   },
   {
    "duration": 27,
    "start_time": "2022-12-04T18:03:04.389Z"
   },
   {
    "duration": 15,
    "start_time": "2022-12-04T18:03:04.417Z"
   },
   {
    "duration": 4,
    "start_time": "2022-12-04T18:03:04.434Z"
   },
   {
    "duration": 19,
    "start_time": "2022-12-04T18:03:04.440Z"
   },
   {
    "duration": 242,
    "start_time": "2022-12-04T18:03:04.461Z"
   },
   {
    "duration": 15,
    "start_time": "2022-12-04T18:03:04.705Z"
   },
   {
    "duration": 332,
    "start_time": "2022-12-04T18:03:04.721Z"
   },
   {
    "duration": 6,
    "start_time": "2022-12-04T18:03:05.054Z"
   },
   {
    "duration": 12,
    "start_time": "2022-12-04T18:03:05.061Z"
   },
   {
    "duration": 3,
    "start_time": "2022-12-04T18:03:05.075Z"
   },
   {
    "duration": 373,
    "start_time": "2022-12-04T18:03:05.080Z"
   },
   {
    "duration": 7,
    "start_time": "2022-12-04T18:03:05.455Z"
   },
   {
    "duration": 14,
    "start_time": "2022-12-04T18:03:05.463Z"
   },
   {
    "duration": 181,
    "start_time": "2022-12-04T18:03:05.479Z"
   },
   {
    "duration": 142,
    "start_time": "2022-12-04T18:03:05.662Z"
   },
   {
    "duration": 214,
    "start_time": "2022-12-04T18:03:05.807Z"
   },
   {
    "duration": 5,
    "start_time": "2022-12-04T18:03:06.023Z"
   },
   {
    "duration": 263,
    "start_time": "2022-12-04T18:03:06.029Z"
   },
   {
    "duration": 258,
    "start_time": "2022-12-04T18:03:06.294Z"
   },
   {
    "duration": 260,
    "start_time": "2022-12-04T18:03:06.554Z"
   },
   {
    "duration": 281,
    "start_time": "2022-12-04T18:03:06.815Z"
   },
   {
    "duration": 25,
    "start_time": "2022-12-04T18:03:07.098Z"
   },
   {
    "duration": 210,
    "start_time": "2022-12-04T18:03:07.125Z"
   },
   {
    "duration": 11,
    "start_time": "2022-12-04T18:03:07.337Z"
   },
   {
    "duration": 39,
    "start_time": "2022-12-04T18:03:07.350Z"
   },
   {
    "duration": 214,
    "start_time": "2022-12-04T18:03:07.390Z"
   },
   {
    "duration": 16,
    "start_time": "2022-12-04T18:03:07.605Z"
   },
   {
    "duration": 175,
    "start_time": "2022-12-04T18:03:07.622Z"
   },
   {
    "duration": 14,
    "start_time": "2022-12-04T18:03:07.799Z"
   },
   {
    "duration": 27,
    "start_time": "2022-12-04T18:03:07.814Z"
   },
   {
    "duration": 212,
    "start_time": "2022-12-04T18:03:07.842Z"
   },
   {
    "duration": 14,
    "start_time": "2022-12-04T18:03:08.056Z"
   },
   {
    "duration": 214,
    "start_time": "2022-12-04T18:03:08.071Z"
   },
   {
    "duration": 8,
    "start_time": "2022-12-04T18:03:08.287Z"
   },
   {
    "duration": 34,
    "start_time": "2022-12-04T18:03:08.296Z"
   },
   {
    "duration": 234,
    "start_time": "2022-12-04T18:03:08.331Z"
   },
   {
    "duration": 15,
    "start_time": "2022-12-04T18:03:08.567Z"
   },
   {
    "duration": 267,
    "start_time": "2022-12-04T18:03:08.584Z"
   },
   {
    "duration": 8,
    "start_time": "2022-12-04T18:03:08.853Z"
   },
   {
    "duration": 26,
    "start_time": "2022-12-04T18:03:08.862Z"
   },
   {
    "duration": 33,
    "start_time": "2022-12-04T18:03:08.890Z"
   },
   {
    "duration": 364,
    "start_time": "2022-12-04T18:03:08.925Z"
   },
   {
    "duration": 24,
    "start_time": "2022-12-04T18:03:09.290Z"
   },
   {
    "duration": 14,
    "start_time": "2022-12-04T18:03:09.316Z"
   },
   {
    "duration": 396,
    "start_time": "2022-12-04T18:03:09.332Z"
   },
   {
    "duration": 15,
    "start_time": "2022-12-04T18:03:09.730Z"
   },
   {
    "duration": 30,
    "start_time": "2022-12-04T18:03:09.746Z"
   },
   {
    "duration": 385,
    "start_time": "2022-12-04T18:03:09.778Z"
   },
   {
    "duration": 16,
    "start_time": "2022-12-04T18:03:10.164Z"
   },
   {
    "duration": 21,
    "start_time": "2022-12-04T18:03:10.182Z"
   },
   {
    "duration": 362,
    "start_time": "2022-12-04T18:03:10.204Z"
   },
   {
    "duration": 14,
    "start_time": "2022-12-04T18:03:10.568Z"
   },
   {
    "duration": 32,
    "start_time": "2022-12-04T18:03:10.584Z"
   },
   {
    "duration": 260,
    "start_time": "2022-12-04T18:03:10.617Z"
   },
   {
    "duration": 15,
    "start_time": "2022-12-04T18:03:10.879Z"
   },
   {
    "duration": 27,
    "start_time": "2022-12-04T18:03:10.895Z"
   },
   {
    "duration": 366,
    "start_time": "2022-12-04T18:03:10.924Z"
   },
   {
    "duration": 9,
    "start_time": "2022-12-04T18:03:11.292Z"
   },
   {
    "duration": 24,
    "start_time": "2022-12-04T18:03:11.302Z"
   },
   {
    "duration": 24,
    "start_time": "2022-12-04T18:03:11.328Z"
   },
   {
    "duration": 31,
    "start_time": "2022-12-04T18:03:11.354Z"
   },
   {
    "duration": 4,
    "start_time": "2022-12-04T18:07:06.821Z"
   },
   {
    "duration": 4,
    "start_time": "2022-12-04T18:07:53.122Z"
   },
   {
    "duration": 18,
    "start_time": "2022-12-04T18:11:01.336Z"
   },
   {
    "duration": 8,
    "start_time": "2022-12-04T18:13:02.695Z"
   },
   {
    "duration": 3,
    "start_time": "2022-12-04T18:13:25.157Z"
   },
   {
    "duration": 48,
    "start_time": "2022-12-04T18:13:25.790Z"
   },
   {
    "duration": 15,
    "start_time": "2022-12-04T18:13:28.445Z"
   },
   {
    "duration": 4,
    "start_time": "2022-12-04T18:13:40.413Z"
   },
   {
    "duration": 16,
    "start_time": "2022-12-04T18:13:42.334Z"
   },
   {
    "duration": 16,
    "start_time": "2022-12-04T18:13:44.327Z"
   },
   {
    "duration": 4,
    "start_time": "2022-12-04T18:13:49.759Z"
   },
   {
    "duration": 5,
    "start_time": "2022-12-04T18:13:50.448Z"
   },
   {
    "duration": 2,
    "start_time": "2022-12-04T18:13:51.926Z"
   },
   {
    "duration": 2,
    "start_time": "2022-12-04T18:14:20.910Z"
   },
   {
    "duration": 51,
    "start_time": "2022-12-04T18:14:20.914Z"
   },
   {
    "duration": 13,
    "start_time": "2022-12-04T18:14:20.967Z"
   },
   {
    "duration": 3,
    "start_time": "2022-12-04T18:14:20.981Z"
   },
   {
    "duration": 20,
    "start_time": "2022-12-04T18:14:20.986Z"
   },
   {
    "duration": 19,
    "start_time": "2022-12-04T18:14:21.013Z"
   },
   {
    "duration": 4,
    "start_time": "2022-12-04T18:14:21.033Z"
   },
   {
    "duration": 12,
    "start_time": "2022-12-04T18:14:21.039Z"
   },
   {
    "duration": 2,
    "start_time": "2022-12-04T18:14:21.053Z"
   },
   {
    "duration": 19,
    "start_time": "2022-12-04T18:14:21.058Z"
   },
   {
    "duration": 6,
    "start_time": "2022-12-04T18:14:21.079Z"
   },
   {
    "duration": 29,
    "start_time": "2022-12-04T18:14:21.087Z"
   },
   {
    "duration": 14,
    "start_time": "2022-12-04T18:14:21.119Z"
   },
   {
    "duration": 19,
    "start_time": "2022-12-04T18:14:21.135Z"
   },
   {
    "duration": 17,
    "start_time": "2022-12-04T18:14:21.156Z"
   },
   {
    "duration": 39,
    "start_time": "2022-12-04T18:14:21.174Z"
   },
   {
    "duration": 19,
    "start_time": "2022-12-04T18:14:21.215Z"
   },
   {
    "duration": 232,
    "start_time": "2022-12-04T18:14:21.236Z"
   },
   {
    "duration": 10,
    "start_time": "2022-12-04T18:14:21.470Z"
   },
   {
    "duration": 317,
    "start_time": "2022-12-04T18:14:21.481Z"
   },
   {
    "duration": 5,
    "start_time": "2022-12-04T18:14:21.799Z"
   },
   {
    "duration": 18,
    "start_time": "2022-12-04T18:14:21.805Z"
   },
   {
    "duration": 4,
    "start_time": "2022-12-04T18:14:21.825Z"
   },
   {
    "duration": 346,
    "start_time": "2022-12-04T18:14:21.830Z"
   },
   {
    "duration": 7,
    "start_time": "2022-12-04T18:14:22.178Z"
   },
   {
    "duration": 7,
    "start_time": "2022-12-04T18:14:22.187Z"
   },
   {
    "duration": 186,
    "start_time": "2022-12-04T18:14:22.213Z"
   },
   {
    "duration": 143,
    "start_time": "2022-12-04T18:14:22.401Z"
   },
   {
    "duration": 150,
    "start_time": "2022-12-04T18:14:22.548Z"
   },
   {
    "duration": 13,
    "start_time": "2022-12-04T18:14:22.700Z"
   },
   {
    "duration": 265,
    "start_time": "2022-12-04T18:14:22.715Z"
   },
   {
    "duration": 374,
    "start_time": "2022-12-04T18:14:22.982Z"
   },
   {
    "duration": 270,
    "start_time": "2022-12-04T18:14:23.358Z"
   },
   {
    "duration": 272,
    "start_time": "2022-12-04T18:14:23.630Z"
   },
   {
    "duration": 23,
    "start_time": "2022-12-04T18:14:23.904Z"
   },
   {
    "duration": 207,
    "start_time": "2022-12-04T18:14:23.928Z"
   },
   {
    "duration": 9,
    "start_time": "2022-12-04T18:14:24.136Z"
   },
   {
    "duration": 16,
    "start_time": "2022-12-04T18:14:24.146Z"
   },
   {
    "duration": 230,
    "start_time": "2022-12-04T18:14:24.163Z"
   },
   {
    "duration": 24,
    "start_time": "2022-12-04T18:14:24.394Z"
   },
   {
    "duration": 173,
    "start_time": "2022-12-04T18:14:24.420Z"
   },
   {
    "duration": 20,
    "start_time": "2022-12-04T18:14:24.596Z"
   },
   {
    "duration": 19,
    "start_time": "2022-12-04T18:14:24.618Z"
   },
   {
    "duration": 227,
    "start_time": "2022-12-04T18:14:24.639Z"
   },
   {
    "duration": 15,
    "start_time": "2022-12-04T18:14:24.868Z"
   },
   {
    "duration": 198,
    "start_time": "2022-12-04T18:14:24.885Z"
   },
   {
    "duration": 8,
    "start_time": "2022-12-04T18:14:25.084Z"
   },
   {
    "duration": 30,
    "start_time": "2022-12-04T18:14:25.094Z"
   },
   {
    "duration": 219,
    "start_time": "2022-12-04T18:14:25.125Z"
   },
   {
    "duration": 15,
    "start_time": "2022-12-04T18:14:25.345Z"
   },
   {
    "duration": 185,
    "start_time": "2022-12-04T18:14:25.362Z"
   },
   {
    "duration": 9,
    "start_time": "2022-12-04T18:14:25.549Z"
   },
   {
    "duration": 18,
    "start_time": "2022-12-04T18:14:25.559Z"
   },
   {
    "duration": 39,
    "start_time": "2022-12-04T18:14:25.579Z"
   },
   {
    "duration": 486,
    "start_time": "2022-12-04T18:14:25.620Z"
   },
   {
    "duration": 15,
    "start_time": "2022-12-04T18:14:26.108Z"
   },
   {
    "duration": 14,
    "start_time": "2022-12-04T18:14:26.125Z"
   },
   {
    "duration": 406,
    "start_time": "2022-12-04T18:14:26.140Z"
   },
   {
    "duration": 18,
    "start_time": "2022-12-04T18:14:26.548Z"
   },
   {
    "duration": 16,
    "start_time": "2022-12-04T18:14:26.568Z"
   },
   {
    "duration": 418,
    "start_time": "2022-12-04T18:14:26.587Z"
   },
   {
    "duration": 24,
    "start_time": "2022-12-04T18:14:27.007Z"
   },
   {
    "duration": 19,
    "start_time": "2022-12-04T18:14:27.033Z"
   },
   {
    "duration": 307,
    "start_time": "2022-12-04T18:14:27.054Z"
   },
   {
    "duration": 15,
    "start_time": "2022-12-04T18:14:27.363Z"
   },
   {
    "duration": 34,
    "start_time": "2022-12-04T18:14:27.380Z"
   },
   {
    "duration": 277,
    "start_time": "2022-12-04T18:14:27.415Z"
   },
   {
    "duration": 27,
    "start_time": "2022-12-04T18:14:27.694Z"
   },
   {
    "duration": 14,
    "start_time": "2022-12-04T18:14:27.723Z"
   },
   {
    "duration": 296,
    "start_time": "2022-12-04T18:14:27.738Z"
   },
   {
    "duration": 7,
    "start_time": "2022-12-04T18:14:28.036Z"
   },
   {
    "duration": 12,
    "start_time": "2022-12-04T18:14:28.045Z"
   },
   {
    "duration": 32,
    "start_time": "2022-12-04T18:14:28.059Z"
   },
   {
    "duration": 22,
    "start_time": "2022-12-04T18:14:28.093Z"
   },
   {
    "duration": 6,
    "start_time": "2022-12-04T18:19:27.639Z"
   },
   {
    "duration": 8,
    "start_time": "2022-12-04T18:20:32.004Z"
   },
   {
    "duration": 6,
    "start_time": "2022-12-04T18:25:19.899Z"
   },
   {
    "duration": 5,
    "start_time": "2022-12-04T18:25:39.805Z"
   },
   {
    "duration": 7,
    "start_time": "2022-12-04T18:26:03.387Z"
   },
   {
    "duration": 3,
    "start_time": "2022-12-04T18:26:28.593Z"
   },
   {
    "duration": 51,
    "start_time": "2022-12-04T18:26:28.598Z"
   },
   {
    "duration": 16,
    "start_time": "2022-12-04T18:26:28.650Z"
   },
   {
    "duration": 3,
    "start_time": "2022-12-04T18:26:28.667Z"
   },
   {
    "duration": 18,
    "start_time": "2022-12-04T18:26:28.672Z"
   },
   {
    "duration": 34,
    "start_time": "2022-12-04T18:26:28.692Z"
   },
   {
    "duration": 4,
    "start_time": "2022-12-04T18:26:28.728Z"
   },
   {
    "duration": 8,
    "start_time": "2022-12-04T18:26:28.734Z"
   },
   {
    "duration": 5,
    "start_time": "2022-12-04T18:26:28.744Z"
   },
   {
    "duration": 5,
    "start_time": "2022-12-04T18:26:28.750Z"
   },
   {
    "duration": 30,
    "start_time": "2022-12-04T18:26:28.889Z"
   },
   {
    "duration": 8,
    "start_time": "2022-12-04T18:26:28.921Z"
   },
   {
    "duration": 8,
    "start_time": "2022-12-04T18:26:28.930Z"
   },
   {
    "duration": 15,
    "start_time": "2022-12-04T18:26:28.940Z"
   },
   {
    "duration": 20,
    "start_time": "2022-12-04T18:26:28.957Z"
   },
   {
    "duration": 43,
    "start_time": "2022-12-04T18:26:28.978Z"
   },
   {
    "duration": 4,
    "start_time": "2022-12-04T18:26:29.023Z"
   },
   {
    "duration": 15,
    "start_time": "2022-12-04T18:26:29.029Z"
   },
   {
    "duration": 219,
    "start_time": "2022-12-04T18:26:29.045Z"
   },
   {
    "duration": 10,
    "start_time": "2022-12-04T18:26:29.266Z"
   },
   {
    "duration": 314,
    "start_time": "2022-12-04T18:26:29.278Z"
   },
   {
    "duration": 6,
    "start_time": "2022-12-04T18:26:29.593Z"
   },
   {
    "duration": 11,
    "start_time": "2022-12-04T18:26:29.613Z"
   },
   {
    "duration": 4,
    "start_time": "2022-12-04T18:26:29.625Z"
   },
   {
    "duration": 350,
    "start_time": "2022-12-04T18:26:29.630Z"
   },
   {
    "duration": 7,
    "start_time": "2022-12-04T18:26:29.982Z"
   },
   {
    "duration": 26,
    "start_time": "2022-12-04T18:26:29.991Z"
   },
   {
    "duration": 185,
    "start_time": "2022-12-04T18:26:30.019Z"
   },
   {
    "duration": 200,
    "start_time": "2022-12-04T18:26:30.213Z"
   },
   {
    "duration": 160,
    "start_time": "2022-12-04T18:26:30.416Z"
   },
   {
    "duration": 5,
    "start_time": "2022-12-04T18:26:30.578Z"
   },
   {
    "duration": 284,
    "start_time": "2022-12-04T18:26:30.585Z"
   },
   {
    "duration": 268,
    "start_time": "2022-12-04T18:26:30.870Z"
   },
   {
    "duration": 270,
    "start_time": "2022-12-04T18:26:31.140Z"
   },
   {
    "duration": 383,
    "start_time": "2022-12-04T18:26:31.413Z"
   },
   {
    "duration": 27,
    "start_time": "2022-12-04T18:26:31.797Z"
   },
   {
    "duration": 216,
    "start_time": "2022-12-04T18:26:31.826Z"
   },
   {
    "duration": 10,
    "start_time": "2022-12-04T18:26:32.044Z"
   },
   {
    "duration": 16,
    "start_time": "2022-12-04T18:26:32.055Z"
   },
   {
    "duration": 255,
    "start_time": "2022-12-04T18:26:32.073Z"
   },
   {
    "duration": 16,
    "start_time": "2022-12-04T18:26:32.330Z"
   },
   {
    "duration": 204,
    "start_time": "2022-12-04T18:26:32.348Z"
   },
   {
    "duration": 12,
    "start_time": "2022-12-04T18:26:32.554Z"
   },
   {
    "duration": 17,
    "start_time": "2022-12-04T18:26:32.568Z"
   },
   {
    "duration": 250,
    "start_time": "2022-12-04T18:26:32.587Z"
   },
   {
    "duration": 15,
    "start_time": "2022-12-04T18:26:32.839Z"
   },
   {
    "duration": 202,
    "start_time": "2022-12-04T18:26:32.856Z"
   },
   {
    "duration": 9,
    "start_time": "2022-12-04T18:26:33.059Z"
   },
   {
    "duration": 21,
    "start_time": "2022-12-04T18:26:33.069Z"
   },
   {
    "duration": 242,
    "start_time": "2022-12-04T18:26:33.092Z"
   },
   {
    "duration": 16,
    "start_time": "2022-12-04T18:26:33.335Z"
   },
   {
    "duration": 188,
    "start_time": "2022-12-04T18:26:33.353Z"
   },
   {
    "duration": 9,
    "start_time": "2022-12-04T18:26:33.543Z"
   },
   {
    "duration": 19,
    "start_time": "2022-12-04T18:26:33.554Z"
   },
   {
    "duration": 42,
    "start_time": "2022-12-04T18:26:33.575Z"
   },
   {
    "duration": 408,
    "start_time": "2022-12-04T18:26:33.619Z"
   },
   {
    "duration": 14,
    "start_time": "2022-12-04T18:26:34.029Z"
   },
   {
    "duration": 14,
    "start_time": "2022-12-04T18:26:34.045Z"
   },
   {
    "duration": 520,
    "start_time": "2022-12-04T18:26:34.061Z"
   },
   {
    "duration": 33,
    "start_time": "2022-12-04T18:26:34.583Z"
   },
   {
    "duration": 16,
    "start_time": "2022-12-04T18:26:34.618Z"
   },
   {
    "duration": 443,
    "start_time": "2022-12-04T18:26:34.635Z"
   },
   {
    "duration": 16,
    "start_time": "2022-12-04T18:26:35.080Z"
   },
   {
    "duration": 30,
    "start_time": "2022-12-04T18:26:35.097Z"
   },
   {
    "duration": 346,
    "start_time": "2022-12-04T18:26:35.128Z"
   },
   {
    "duration": 16,
    "start_time": "2022-12-04T18:26:35.476Z"
   },
   {
    "duration": 27,
    "start_time": "2022-12-04T18:26:35.494Z"
   },
   {
    "duration": 296,
    "start_time": "2022-12-04T18:26:35.523Z"
   },
   {
    "duration": 17,
    "start_time": "2022-12-04T18:26:35.820Z"
   },
   {
    "duration": 18,
    "start_time": "2022-12-04T18:26:35.838Z"
   },
   {
    "duration": 320,
    "start_time": "2022-12-04T18:26:35.859Z"
   },
   {
    "duration": 8,
    "start_time": "2022-12-04T18:26:36.181Z"
   },
   {
    "duration": 52,
    "start_time": "2022-12-04T18:26:36.190Z"
   },
   {
    "duration": 12,
    "start_time": "2022-12-04T18:26:36.243Z"
   },
   {
    "duration": 26,
    "start_time": "2022-12-04T18:26:36.257Z"
   },
   {
    "duration": 5,
    "start_time": "2022-12-04T18:27:03.954Z"
   },
   {
    "duration": 9,
    "start_time": "2022-12-04T18:28:21.279Z"
   },
   {
    "duration": 3,
    "start_time": "2022-12-04T18:28:25.592Z"
   },
   {
    "duration": 58,
    "start_time": "2022-12-04T18:28:25.597Z"
   },
   {
    "duration": 13,
    "start_time": "2022-12-04T18:28:25.657Z"
   },
   {
    "duration": 3,
    "start_time": "2022-12-04T18:28:25.672Z"
   },
   {
    "duration": 17,
    "start_time": "2022-12-04T18:28:25.677Z"
   },
   {
    "duration": 29,
    "start_time": "2022-12-04T18:28:25.696Z"
   },
   {
    "duration": 4,
    "start_time": "2022-12-04T18:28:25.727Z"
   },
   {
    "duration": 14,
    "start_time": "2022-12-04T18:28:25.733Z"
   },
   {
    "duration": 11,
    "start_time": "2022-12-04T18:28:25.749Z"
   },
   {
    "duration": 2,
    "start_time": "2022-12-04T18:28:25.762Z"
   },
   {
    "duration": 10,
    "start_time": "2022-12-04T18:28:25.766Z"
   },
   {
    "duration": 5,
    "start_time": "2022-12-04T18:28:25.814Z"
   },
   {
    "duration": 9,
    "start_time": "2022-12-04T18:28:25.820Z"
   },
   {
    "duration": 13,
    "start_time": "2022-12-04T18:28:25.830Z"
   },
   {
    "duration": 17,
    "start_time": "2022-12-04T18:28:25.845Z"
   },
   {
    "duration": 57,
    "start_time": "2022-12-04T18:28:25.865Z"
   },
   {
    "duration": 5,
    "start_time": "2022-12-04T18:28:25.925Z"
   },
   {
    "duration": 22,
    "start_time": "2022-12-04T18:28:25.932Z"
   },
   {
    "duration": 239,
    "start_time": "2022-12-04T18:28:25.956Z"
   },
   {
    "duration": 19,
    "start_time": "2022-12-04T18:28:26.197Z"
   },
   {
    "duration": 390,
    "start_time": "2022-12-04T18:28:26.218Z"
   },
   {
    "duration": 4,
    "start_time": "2022-12-04T18:28:26.610Z"
   },
   {
    "duration": 13,
    "start_time": "2022-12-04T18:28:26.616Z"
   },
   {
    "duration": 3,
    "start_time": "2022-12-04T18:28:26.631Z"
   },
   {
    "duration": 371,
    "start_time": "2022-12-04T18:28:26.636Z"
   },
   {
    "duration": 8,
    "start_time": "2022-12-04T18:28:27.013Z"
   },
   {
    "duration": 11,
    "start_time": "2022-12-04T18:28:27.022Z"
   },
   {
    "duration": 198,
    "start_time": "2022-12-04T18:28:27.035Z"
   },
   {
    "duration": 142,
    "start_time": "2022-12-04T18:28:27.237Z"
   },
   {
    "duration": 148,
    "start_time": "2022-12-04T18:28:27.380Z"
   },
   {
    "duration": 5,
    "start_time": "2022-12-04T18:28:27.529Z"
   },
   {
    "duration": 279,
    "start_time": "2022-12-04T18:28:27.536Z"
   },
   {
    "duration": 263,
    "start_time": "2022-12-04T18:28:27.816Z"
   },
   {
    "duration": 258,
    "start_time": "2022-12-04T18:28:28.081Z"
   },
   {
    "duration": 260,
    "start_time": "2022-12-04T18:28:28.340Z"
   },
   {
    "duration": 22,
    "start_time": "2022-12-04T18:28:28.602Z"
   },
   {
    "duration": 204,
    "start_time": "2022-12-04T18:28:28.625Z"
   },
   {
    "duration": 10,
    "start_time": "2022-12-04T18:28:28.830Z"
   },
   {
    "duration": 19,
    "start_time": "2022-12-04T18:28:28.841Z"
   },
   {
    "duration": 365,
    "start_time": "2022-12-04T18:28:28.861Z"
   },
   {
    "duration": 16,
    "start_time": "2022-12-04T18:28:29.227Z"
   },
   {
    "duration": 184,
    "start_time": "2022-12-04T18:28:29.245Z"
   },
   {
    "duration": 11,
    "start_time": "2022-12-04T18:28:29.430Z"
   },
   {
    "duration": 14,
    "start_time": "2022-12-04T18:28:29.443Z"
   },
   {
    "duration": 233,
    "start_time": "2022-12-04T18:28:29.459Z"
   },
   {
    "duration": 24,
    "start_time": "2022-12-04T18:28:29.693Z"
   },
   {
    "duration": 189,
    "start_time": "2022-12-04T18:28:29.719Z"
   },
   {
    "duration": 8,
    "start_time": "2022-12-04T18:28:29.910Z"
   },
   {
    "duration": 18,
    "start_time": "2022-12-04T18:28:29.920Z"
   },
   {
    "duration": 235,
    "start_time": "2022-12-04T18:28:29.940Z"
   },
   {
    "duration": 15,
    "start_time": "2022-12-04T18:28:30.177Z"
   },
   {
    "duration": 218,
    "start_time": "2022-12-04T18:28:30.193Z"
   },
   {
    "duration": 11,
    "start_time": "2022-12-04T18:28:30.414Z"
   },
   {
    "duration": 30,
    "start_time": "2022-12-04T18:28:30.426Z"
   },
   {
    "duration": 28,
    "start_time": "2022-12-04T18:28:30.458Z"
   },
   {
    "duration": 383,
    "start_time": "2022-12-04T18:28:30.488Z"
   },
   {
    "duration": 16,
    "start_time": "2022-12-04T18:28:30.872Z"
   },
   {
    "duration": 35,
    "start_time": "2022-12-04T18:28:30.890Z"
   },
   {
    "duration": 425,
    "start_time": "2022-12-04T18:28:30.927Z"
   },
   {
    "duration": 15,
    "start_time": "2022-12-04T18:28:31.354Z"
   },
   {
    "duration": 16,
    "start_time": "2022-12-04T18:28:31.371Z"
   },
   {
    "duration": 492,
    "start_time": "2022-12-04T18:28:31.413Z"
   },
   {
    "duration": 20,
    "start_time": "2022-12-04T18:28:31.907Z"
   },
   {
    "duration": 18,
    "start_time": "2022-12-04T18:28:31.928Z"
   },
   {
    "duration": 326,
    "start_time": "2022-12-04T18:28:31.947Z"
   },
   {
    "duration": 17,
    "start_time": "2022-12-04T18:28:32.274Z"
   },
   {
    "duration": 33,
    "start_time": "2022-12-04T18:28:32.293Z"
   },
   {
    "duration": 300,
    "start_time": "2022-12-04T18:28:32.327Z"
   },
   {
    "duration": 17,
    "start_time": "2022-12-04T18:28:32.628Z"
   },
   {
    "duration": 15,
    "start_time": "2022-12-04T18:28:32.646Z"
   },
   {
    "duration": 319,
    "start_time": "2022-12-04T18:28:32.663Z"
   },
   {
    "duration": 7,
    "start_time": "2022-12-04T18:28:32.984Z"
   },
   {
    "duration": 20,
    "start_time": "2022-12-04T18:28:32.993Z"
   },
   {
    "duration": 8,
    "start_time": "2022-12-04T18:28:33.015Z"
   },
   {
    "duration": 12,
    "start_time": "2022-12-04T18:28:33.024Z"
   },
   {
    "duration": 54,
    "start_time": "2022-12-04T18:29:47.433Z"
   },
   {
    "duration": 3,
    "start_time": "2022-12-04T18:29:51.454Z"
   },
   {
    "duration": 68,
    "start_time": "2022-12-04T18:29:51.459Z"
   },
   {
    "duration": 15,
    "start_time": "2022-12-04T18:29:51.529Z"
   },
   {
    "duration": 9,
    "start_time": "2022-12-04T18:29:51.546Z"
   },
   {
    "duration": 29,
    "start_time": "2022-12-04T18:29:51.558Z"
   },
   {
    "duration": 40,
    "start_time": "2022-12-04T18:29:51.589Z"
   },
   {
    "duration": 14,
    "start_time": "2022-12-04T18:29:51.631Z"
   },
   {
    "duration": 90,
    "start_time": "2022-12-04T18:29:51.647Z"
   },
   {
    "duration": 2,
    "start_time": "2022-12-04T18:29:51.739Z"
   },
   {
    "duration": 35,
    "start_time": "2022-12-04T18:29:51.742Z"
   },
   {
    "duration": 87,
    "start_time": "2022-12-04T18:29:51.778Z"
   },
   {
    "duration": 0,
    "start_time": "2022-12-04T18:29:51.868Z"
   },
   {
    "duration": 0,
    "start_time": "2022-12-04T18:29:51.869Z"
   },
   {
    "duration": 0,
    "start_time": "2022-12-04T18:29:51.870Z"
   },
   {
    "duration": 0,
    "start_time": "2022-12-04T18:29:51.871Z"
   },
   {
    "duration": 0,
    "start_time": "2022-12-04T18:29:51.872Z"
   },
   {
    "duration": 0,
    "start_time": "2022-12-04T18:29:51.873Z"
   },
   {
    "duration": 0,
    "start_time": "2022-12-04T18:29:51.875Z"
   },
   {
    "duration": 0,
    "start_time": "2022-12-04T18:29:51.876Z"
   },
   {
    "duration": 0,
    "start_time": "2022-12-04T18:29:51.877Z"
   },
   {
    "duration": 0,
    "start_time": "2022-12-04T18:29:51.878Z"
   },
   {
    "duration": 0,
    "start_time": "2022-12-04T18:29:51.879Z"
   },
   {
    "duration": 0,
    "start_time": "2022-12-04T18:29:51.880Z"
   },
   {
    "duration": 0,
    "start_time": "2022-12-04T18:29:51.881Z"
   },
   {
    "duration": 0,
    "start_time": "2022-12-04T18:29:51.882Z"
   },
   {
    "duration": 0,
    "start_time": "2022-12-04T18:29:51.883Z"
   },
   {
    "duration": 0,
    "start_time": "2022-12-04T18:29:51.884Z"
   },
   {
    "duration": 0,
    "start_time": "2022-12-04T18:29:51.885Z"
   },
   {
    "duration": 0,
    "start_time": "2022-12-04T18:29:51.886Z"
   },
   {
    "duration": 0,
    "start_time": "2022-12-04T18:29:51.887Z"
   },
   {
    "duration": 0,
    "start_time": "2022-12-04T18:29:51.914Z"
   },
   {
    "duration": 0,
    "start_time": "2022-12-04T18:29:51.915Z"
   },
   {
    "duration": 0,
    "start_time": "2022-12-04T18:29:51.916Z"
   },
   {
    "duration": 0,
    "start_time": "2022-12-04T18:29:51.917Z"
   },
   {
    "duration": 0,
    "start_time": "2022-12-04T18:29:51.918Z"
   },
   {
    "duration": 0,
    "start_time": "2022-12-04T18:29:51.919Z"
   },
   {
    "duration": 0,
    "start_time": "2022-12-04T18:29:51.920Z"
   },
   {
    "duration": 0,
    "start_time": "2022-12-04T18:29:51.921Z"
   },
   {
    "duration": 0,
    "start_time": "2022-12-04T18:29:51.922Z"
   },
   {
    "duration": 0,
    "start_time": "2022-12-04T18:29:51.923Z"
   },
   {
    "duration": 0,
    "start_time": "2022-12-04T18:29:51.924Z"
   },
   {
    "duration": 0,
    "start_time": "2022-12-04T18:29:51.925Z"
   },
   {
    "duration": 0,
    "start_time": "2022-12-04T18:29:51.926Z"
   },
   {
    "duration": 0,
    "start_time": "2022-12-04T18:29:51.927Z"
   },
   {
    "duration": 0,
    "start_time": "2022-12-04T18:29:51.929Z"
   },
   {
    "duration": 0,
    "start_time": "2022-12-04T18:29:51.930Z"
   },
   {
    "duration": 0,
    "start_time": "2022-12-04T18:29:51.930Z"
   },
   {
    "duration": 0,
    "start_time": "2022-12-04T18:29:51.931Z"
   },
   {
    "duration": 0,
    "start_time": "2022-12-04T18:29:51.933Z"
   },
   {
    "duration": 0,
    "start_time": "2022-12-04T18:29:51.934Z"
   },
   {
    "duration": 0,
    "start_time": "2022-12-04T18:29:51.935Z"
   },
   {
    "duration": 0,
    "start_time": "2022-12-04T18:29:51.936Z"
   },
   {
    "duration": 0,
    "start_time": "2022-12-04T18:29:51.937Z"
   },
   {
    "duration": 0,
    "start_time": "2022-12-04T18:29:51.938Z"
   },
   {
    "duration": 0,
    "start_time": "2022-12-04T18:29:51.939Z"
   },
   {
    "duration": 0,
    "start_time": "2022-12-04T18:29:51.940Z"
   },
   {
    "duration": 0,
    "start_time": "2022-12-04T18:29:51.941Z"
   },
   {
    "duration": 0,
    "start_time": "2022-12-04T18:29:51.942Z"
   },
   {
    "duration": 0,
    "start_time": "2022-12-04T18:29:51.943Z"
   },
   {
    "duration": 0,
    "start_time": "2022-12-04T18:29:51.944Z"
   },
   {
    "duration": 0,
    "start_time": "2022-12-04T18:29:51.944Z"
   },
   {
    "duration": 0,
    "start_time": "2022-12-04T18:29:51.945Z"
   },
   {
    "duration": 0,
    "start_time": "2022-12-04T18:29:51.946Z"
   },
   {
    "duration": 0,
    "start_time": "2022-12-04T18:29:51.947Z"
   },
   {
    "duration": 0,
    "start_time": "2022-12-04T18:29:51.948Z"
   },
   {
    "duration": 0,
    "start_time": "2022-12-04T18:29:52.013Z"
   },
   {
    "duration": 0,
    "start_time": "2022-12-04T18:29:52.014Z"
   },
   {
    "duration": 0,
    "start_time": "2022-12-04T18:29:52.015Z"
   },
   {
    "duration": 0,
    "start_time": "2022-12-04T18:29:52.016Z"
   },
   {
    "duration": 0,
    "start_time": "2022-12-04T18:29:52.017Z"
   },
   {
    "duration": 0,
    "start_time": "2022-12-04T18:29:52.018Z"
   },
   {
    "duration": 0,
    "start_time": "2022-12-04T18:29:52.019Z"
   },
   {
    "duration": 0,
    "start_time": "2022-12-04T18:29:52.020Z"
   },
   {
    "duration": 0,
    "start_time": "2022-12-04T18:29:52.021Z"
   },
   {
    "duration": 7,
    "start_time": "2022-12-04T18:31:16.484Z"
   },
   {
    "duration": 13,
    "start_time": "2022-12-04T18:31:17.572Z"
   },
   {
    "duration": 3,
    "start_time": "2022-12-04T18:31:20.526Z"
   },
   {
    "duration": 9,
    "start_time": "2022-12-04T18:31:23.299Z"
   },
   {
    "duration": 15,
    "start_time": "2022-12-04T18:32:22.901Z"
   },
   {
    "duration": 3,
    "start_time": "2022-12-04T18:32:30.406Z"
   },
   {
    "duration": 68,
    "start_time": "2022-12-04T18:32:30.412Z"
   },
   {
    "duration": 19,
    "start_time": "2022-12-04T18:32:30.482Z"
   },
   {
    "duration": 32,
    "start_time": "2022-12-04T18:32:30.505Z"
   },
   {
    "duration": 40,
    "start_time": "2022-12-04T18:32:30.539Z"
   },
   {
    "duration": 31,
    "start_time": "2022-12-04T18:32:30.581Z"
   },
   {
    "duration": 11,
    "start_time": "2022-12-04T18:32:30.614Z"
   },
   {
    "duration": 19,
    "start_time": "2022-12-04T18:32:30.627Z"
   },
   {
    "duration": 15,
    "start_time": "2022-12-04T18:32:30.647Z"
   },
   {
    "duration": 8,
    "start_time": "2022-12-04T18:32:30.663Z"
   },
   {
    "duration": 43,
    "start_time": "2022-12-04T18:32:30.673Z"
   },
   {
    "duration": 17,
    "start_time": "2022-12-04T18:32:30.718Z"
   },
   {
    "duration": 32,
    "start_time": "2022-12-04T18:32:30.737Z"
   },
   {
    "duration": 27,
    "start_time": "2022-12-04T18:32:30.771Z"
   },
   {
    "duration": 44,
    "start_time": "2022-12-04T18:32:30.800Z"
   },
   {
    "duration": 28,
    "start_time": "2022-12-04T18:32:30.846Z"
   },
   {
    "duration": 23,
    "start_time": "2022-12-04T18:32:30.876Z"
   },
   {
    "duration": 24,
    "start_time": "2022-12-04T18:32:30.901Z"
   },
   {
    "duration": 219,
    "start_time": "2022-12-04T18:32:30.927Z"
   },
   {
    "duration": 11,
    "start_time": "2022-12-04T18:32:31.147Z"
   },
   {
    "duration": 317,
    "start_time": "2022-12-04T18:32:31.159Z"
   },
   {
    "duration": 5,
    "start_time": "2022-12-04T18:32:31.478Z"
   },
   {
    "duration": 13,
    "start_time": "2022-12-04T18:32:31.484Z"
   },
   {
    "duration": 16,
    "start_time": "2022-12-04T18:32:31.499Z"
   },
   {
    "duration": 445,
    "start_time": "2022-12-04T18:32:31.517Z"
   },
   {
    "duration": 9,
    "start_time": "2022-12-04T18:32:31.964Z"
   },
   {
    "duration": 11,
    "start_time": "2022-12-04T18:32:31.974Z"
   },
   {
    "duration": 209,
    "start_time": "2022-12-04T18:32:31.987Z"
   },
   {
    "duration": 149,
    "start_time": "2022-12-04T18:32:32.199Z"
   },
   {
    "duration": 149,
    "start_time": "2022-12-04T18:32:32.349Z"
   },
   {
    "duration": 13,
    "start_time": "2022-12-04T18:32:32.500Z"
   },
   {
    "duration": 283,
    "start_time": "2022-12-04T18:32:32.515Z"
   },
   {
    "duration": 283,
    "start_time": "2022-12-04T18:32:32.800Z"
   },
   {
    "duration": 264,
    "start_time": "2022-12-04T18:32:33.085Z"
   },
   {
    "duration": 283,
    "start_time": "2022-12-04T18:32:33.351Z"
   },
   {
    "duration": 18,
    "start_time": "2022-12-04T18:32:33.636Z"
   },
   {
    "duration": 215,
    "start_time": "2022-12-04T18:32:33.656Z"
   },
   {
    "duration": 9,
    "start_time": "2022-12-04T18:32:33.872Z"
   },
   {
    "duration": 32,
    "start_time": "2022-12-04T18:32:33.883Z"
   },
   {
    "duration": 212,
    "start_time": "2022-12-04T18:32:33.917Z"
   },
   {
    "duration": 15,
    "start_time": "2022-12-04T18:32:34.131Z"
   },
   {
    "duration": 283,
    "start_time": "2022-12-04T18:32:34.147Z"
   },
   {
    "duration": 11,
    "start_time": "2022-12-04T18:32:34.432Z"
   },
   {
    "duration": 19,
    "start_time": "2022-12-04T18:32:34.445Z"
   },
   {
    "duration": 255,
    "start_time": "2022-12-04T18:32:34.465Z"
   },
   {
    "duration": 16,
    "start_time": "2022-12-04T18:32:34.721Z"
   },
   {
    "duration": 202,
    "start_time": "2022-12-04T18:32:34.739Z"
   },
   {
    "duration": 9,
    "start_time": "2022-12-04T18:32:34.943Z"
   },
   {
    "duration": 18,
    "start_time": "2022-12-04T18:32:34.953Z"
   },
   {
    "duration": 233,
    "start_time": "2022-12-04T18:32:34.972Z"
   },
   {
    "duration": 17,
    "start_time": "2022-12-04T18:32:35.207Z"
   },
   {
    "duration": 181,
    "start_time": "2022-12-04T18:32:35.225Z"
   },
   {
    "duration": 14,
    "start_time": "2022-12-04T18:32:35.408Z"
   },
   {
    "duration": 18,
    "start_time": "2022-12-04T18:32:35.424Z"
   },
   {
    "duration": 16,
    "start_time": "2022-12-04T18:32:35.444Z"
   },
   {
    "duration": 402,
    "start_time": "2022-12-04T18:32:35.462Z"
   },
   {
    "duration": 19,
    "start_time": "2022-12-04T18:32:35.866Z"
   },
   {
    "duration": 39,
    "start_time": "2022-12-04T18:32:35.887Z"
   },
   {
    "duration": 409,
    "start_time": "2022-12-04T18:32:35.928Z"
   },
   {
    "duration": 18,
    "start_time": "2022-12-04T18:32:36.339Z"
   },
   {
    "duration": 16,
    "start_time": "2022-12-04T18:32:36.359Z"
   },
   {
    "duration": 420,
    "start_time": "2022-12-04T18:32:36.376Z"
   },
   {
    "duration": 27,
    "start_time": "2022-12-04T18:32:36.798Z"
   },
   {
    "duration": 17,
    "start_time": "2022-12-04T18:32:36.827Z"
   },
   {
    "duration": 433,
    "start_time": "2022-12-04T18:32:36.845Z"
   },
   {
    "duration": 16,
    "start_time": "2022-12-04T18:32:37.279Z"
   },
   {
    "duration": 29,
    "start_time": "2022-12-04T18:32:37.297Z"
   },
   {
    "duration": 303,
    "start_time": "2022-12-04T18:32:37.328Z"
   },
   {
    "duration": 15,
    "start_time": "2022-12-04T18:32:37.633Z"
   },
   {
    "duration": 16,
    "start_time": "2022-12-04T18:32:37.650Z"
   },
   {
    "duration": 326,
    "start_time": "2022-12-04T18:32:37.668Z"
   },
   {
    "duration": 18,
    "start_time": "2022-12-04T18:32:37.997Z"
   },
   {
    "duration": 8,
    "start_time": "2022-12-04T18:32:38.017Z"
   },
   {
    "duration": 10,
    "start_time": "2022-12-04T18:32:38.027Z"
   },
   {
    "duration": 7,
    "start_time": "2022-12-04T18:32:38.038Z"
   },
   {
    "duration": 2,
    "start_time": "2022-12-04T18:33:08.360Z"
   },
   {
    "duration": 50,
    "start_time": "2022-12-04T18:33:08.381Z"
   },
   {
    "duration": 14,
    "start_time": "2022-12-04T18:33:08.433Z"
   },
   {
    "duration": 5,
    "start_time": "2022-12-04T18:33:08.449Z"
   },
   {
    "duration": 18,
    "start_time": "2022-12-04T18:33:08.456Z"
   },
   {
    "duration": 45,
    "start_time": "2022-12-04T18:33:08.476Z"
   },
   {
    "duration": 5,
    "start_time": "2022-12-04T18:33:08.522Z"
   },
   {
    "duration": 13,
    "start_time": "2022-12-04T18:33:08.529Z"
   },
   {
    "duration": 14,
    "start_time": "2022-12-04T18:33:08.544Z"
   },
   {
    "duration": 2,
    "start_time": "2022-12-04T18:33:08.559Z"
   },
   {
    "duration": 12,
    "start_time": "2022-12-04T18:33:08.563Z"
   },
   {
    "duration": 35,
    "start_time": "2022-12-04T18:33:08.577Z"
   },
   {
    "duration": 5,
    "start_time": "2022-12-04T18:33:08.615Z"
   },
   {
    "duration": 11,
    "start_time": "2022-12-04T18:33:08.622Z"
   },
   {
    "duration": 14,
    "start_time": "2022-12-04T18:33:08.637Z"
   },
   {
    "duration": 14,
    "start_time": "2022-12-04T18:33:08.652Z"
   },
   {
    "duration": 49,
    "start_time": "2022-12-04T18:33:08.667Z"
   },
   {
    "duration": 16,
    "start_time": "2022-12-04T18:33:08.717Z"
   },
   {
    "duration": 229,
    "start_time": "2022-12-04T18:33:08.735Z"
   },
   {
    "duration": 10,
    "start_time": "2022-12-04T18:33:08.965Z"
   },
   {
    "duration": 338,
    "start_time": "2022-12-04T18:33:08.977Z"
   },
   {
    "duration": 6,
    "start_time": "2022-12-04T18:33:09.316Z"
   },
   {
    "duration": 19,
    "start_time": "2022-12-04T18:33:09.323Z"
   },
   {
    "duration": 4,
    "start_time": "2022-12-04T18:33:09.344Z"
   },
   {
    "duration": 352,
    "start_time": "2022-12-04T18:33:09.349Z"
   },
   {
    "duration": 12,
    "start_time": "2022-12-04T18:33:09.702Z"
   },
   {
    "duration": 11,
    "start_time": "2022-12-04T18:33:09.716Z"
   },
   {
    "duration": 297,
    "start_time": "2022-12-04T18:33:09.729Z"
   },
   {
    "duration": 145,
    "start_time": "2022-12-04T18:33:10.028Z"
   },
   {
    "duration": 170,
    "start_time": "2022-12-04T18:33:10.174Z"
   },
   {
    "duration": 6,
    "start_time": "2022-12-04T18:33:10.346Z"
   },
   {
    "duration": 290,
    "start_time": "2022-12-04T18:33:10.354Z"
   },
   {
    "duration": 262,
    "start_time": "2022-12-04T18:33:10.646Z"
   },
   {
    "duration": 273,
    "start_time": "2022-12-04T18:33:10.912Z"
   },
   {
    "duration": 265,
    "start_time": "2022-12-04T18:33:11.187Z"
   },
   {
    "duration": 17,
    "start_time": "2022-12-04T18:33:11.454Z"
   },
   {
    "duration": 212,
    "start_time": "2022-12-04T18:33:11.473Z"
   },
   {
    "duration": 9,
    "start_time": "2022-12-04T18:33:11.686Z"
   },
   {
    "duration": 28,
    "start_time": "2022-12-04T18:33:11.697Z"
   },
   {
    "duration": 210,
    "start_time": "2022-12-04T18:33:11.726Z"
   },
   {
    "duration": 16,
    "start_time": "2022-12-04T18:33:11.937Z"
   },
   {
    "duration": 190,
    "start_time": "2022-12-04T18:33:11.956Z"
   },
   {
    "duration": 11,
    "start_time": "2022-12-04T18:33:12.147Z"
   },
   {
    "duration": 18,
    "start_time": "2022-12-04T18:33:12.160Z"
   },
   {
    "duration": 252,
    "start_time": "2022-12-04T18:33:12.180Z"
   },
   {
    "duration": 16,
    "start_time": "2022-12-04T18:33:12.434Z"
   },
   {
    "duration": 298,
    "start_time": "2022-12-04T18:33:12.452Z"
   },
   {
    "duration": 9,
    "start_time": "2022-12-04T18:33:12.751Z"
   },
   {
    "duration": 18,
    "start_time": "2022-12-04T18:33:12.761Z"
   },
   {
    "duration": 231,
    "start_time": "2022-12-04T18:33:12.781Z"
   },
   {
    "duration": 16,
    "start_time": "2022-12-04T18:33:13.014Z"
   },
   {
    "duration": 181,
    "start_time": "2022-12-04T18:33:13.032Z"
   },
   {
    "duration": 8,
    "start_time": "2022-12-04T18:33:13.214Z"
   },
   {
    "duration": 20,
    "start_time": "2022-12-04T18:33:13.224Z"
   },
   {
    "duration": 14,
    "start_time": "2022-12-04T18:33:13.246Z"
   },
   {
    "duration": 402,
    "start_time": "2022-12-04T18:33:13.261Z"
   },
   {
    "duration": 17,
    "start_time": "2022-12-04T18:33:13.665Z"
   },
   {
    "duration": 34,
    "start_time": "2022-12-04T18:33:13.684Z"
   },
   {
    "duration": 390,
    "start_time": "2022-12-04T18:33:13.720Z"
   },
   {
    "duration": 15,
    "start_time": "2022-12-04T18:33:14.112Z"
   },
   {
    "duration": 14,
    "start_time": "2022-12-04T18:33:14.129Z"
   },
   {
    "duration": 392,
    "start_time": "2022-12-04T18:33:14.145Z"
   },
   {
    "duration": 15,
    "start_time": "2022-12-04T18:33:14.539Z"
   },
   {
    "duration": 15,
    "start_time": "2022-12-04T18:33:14.555Z"
   },
   {
    "duration": 329,
    "start_time": "2022-12-04T18:33:14.572Z"
   },
   {
    "duration": 26,
    "start_time": "2022-12-04T18:33:14.902Z"
   },
   {
    "duration": 18,
    "start_time": "2022-12-04T18:33:14.930Z"
   },
   {
    "duration": 391,
    "start_time": "2022-12-04T18:33:14.950Z"
   },
   {
    "duration": 15,
    "start_time": "2022-12-04T18:33:15.343Z"
   },
   {
    "duration": 17,
    "start_time": "2022-12-04T18:33:15.360Z"
   },
   {
    "duration": 316,
    "start_time": "2022-12-04T18:33:15.378Z"
   },
   {
    "duration": 7,
    "start_time": "2022-12-04T18:33:15.696Z"
   },
   {
    "duration": 26,
    "start_time": "2022-12-04T18:33:15.712Z"
   },
   {
    "duration": 13,
    "start_time": "2022-12-04T18:33:15.740Z"
   },
   {
    "duration": 17,
    "start_time": "2022-12-04T18:33:15.755Z"
   },
   {
    "duration": 11,
    "start_time": "2022-12-04T18:36:04.999Z"
   },
   {
    "duration": 6,
    "start_time": "2022-12-04T18:41:23.401Z"
   },
   {
    "duration": 10,
    "start_time": "2022-12-04T18:41:42.069Z"
   },
   {
    "duration": 10,
    "start_time": "2022-12-04T18:41:58.559Z"
   },
   {
    "duration": 41,
    "start_time": "2022-12-04T18:42:08.727Z"
   },
   {
    "duration": 5,
    "start_time": "2022-12-04T18:42:26.666Z"
   },
   {
    "duration": 11,
    "start_time": "2022-12-04T18:43:08.955Z"
   },
   {
    "duration": 4,
    "start_time": "2022-12-04T18:46:04.974Z"
   },
   {
    "duration": 1381,
    "start_time": "2022-12-04T18:46:07.548Z"
   },
   {
    "duration": 255,
    "start_time": "2022-12-04T18:47:56.029Z"
   },
   {
    "duration": 98,
    "start_time": "2022-12-04T18:50:18.813Z"
   },
   {
    "duration": 307,
    "start_time": "2022-12-04T18:51:01.717Z"
   },
   {
    "duration": 191,
    "start_time": "2022-12-04T18:51:20.406Z"
   },
   {
    "duration": 329,
    "start_time": "2022-12-04T18:52:17.898Z"
   },
   {
    "duration": 3406,
    "start_time": "2022-12-04T18:52:40.265Z"
   },
   {
    "duration": 261,
    "start_time": "2022-12-04T18:53:39.816Z"
   },
   {
    "duration": 263,
    "start_time": "2022-12-04T18:54:18.671Z"
   },
   {
    "duration": 272,
    "start_time": "2022-12-04T18:54:45.009Z"
   },
   {
    "duration": 304,
    "start_time": "2022-12-04T18:55:10.009Z"
   },
   {
    "duration": 361,
    "start_time": "2022-12-04T18:55:22.188Z"
   },
   {
    "duration": 9,
    "start_time": "2022-12-04T19:00:10.425Z"
   },
   {
    "duration": 2,
    "start_time": "2022-12-04T19:00:11.901Z"
   },
   {
    "duration": 9,
    "start_time": "2022-12-04T19:00:15.461Z"
   },
   {
    "duration": 8,
    "start_time": "2022-12-04T19:03:22.397Z"
   },
   {
    "duration": 3,
    "start_time": "2022-12-04T19:03:36.734Z"
   },
   {
    "duration": 49,
    "start_time": "2022-12-04T19:03:36.741Z"
   },
   {
    "duration": 13,
    "start_time": "2022-12-04T19:03:36.792Z"
   },
   {
    "duration": 6,
    "start_time": "2022-12-04T19:03:36.807Z"
   },
   {
    "duration": 18,
    "start_time": "2022-12-04T19:03:36.815Z"
   },
   {
    "duration": 17,
    "start_time": "2022-12-04T19:03:36.834Z"
   },
   {
    "duration": 4,
    "start_time": "2022-12-04T19:03:36.852Z"
   },
   {
    "duration": 10,
    "start_time": "2022-12-04T19:03:36.858Z"
   },
   {
    "duration": 2,
    "start_time": "2022-12-04T19:03:36.870Z"
   },
   {
    "duration": 42,
    "start_time": "2022-12-04T19:03:36.873Z"
   },
   {
    "duration": 5,
    "start_time": "2022-12-04T19:03:36.918Z"
   },
   {
    "duration": 10,
    "start_time": "2022-12-04T19:03:36.925Z"
   },
   {
    "duration": 14,
    "start_time": "2022-12-04T19:03:36.937Z"
   },
   {
    "duration": 22,
    "start_time": "2022-12-04T19:03:36.953Z"
   },
   {
    "duration": 15,
    "start_time": "2022-12-04T19:03:37.014Z"
   },
   {
    "duration": 5,
    "start_time": "2022-12-04T19:03:37.031Z"
   },
   {
    "duration": 20,
    "start_time": "2022-12-04T19:03:37.038Z"
   },
   {
    "duration": 237,
    "start_time": "2022-12-04T19:03:37.060Z"
   },
   {
    "duration": 15,
    "start_time": "2022-12-04T19:03:37.299Z"
   },
   {
    "duration": 16,
    "start_time": "2022-12-04T19:03:37.315Z"
   },
   {
    "duration": 315,
    "start_time": "2022-12-04T19:03:37.333Z"
   },
   {
    "duration": 5,
    "start_time": "2022-12-04T19:03:37.650Z"
   },
   {
    "duration": 12,
    "start_time": "2022-12-04T19:03:37.656Z"
   },
   {
    "duration": 4,
    "start_time": "2022-12-04T19:03:37.669Z"
   },
   {
    "duration": 86,
    "start_time": "2022-12-04T19:03:37.674Z"
   },
   {
    "duration": 0,
    "start_time": "2022-12-04T19:03:37.763Z"
   },
   {
    "duration": 0,
    "start_time": "2022-12-04T19:03:37.765Z"
   },
   {
    "duration": 0,
    "start_time": "2022-12-04T19:03:37.766Z"
   },
   {
    "duration": 0,
    "start_time": "2022-12-04T19:03:37.767Z"
   },
   {
    "duration": 0,
    "start_time": "2022-12-04T19:03:37.768Z"
   },
   {
    "duration": 0,
    "start_time": "2022-12-04T19:03:37.769Z"
   },
   {
    "duration": 0,
    "start_time": "2022-12-04T19:03:37.770Z"
   },
   {
    "duration": 0,
    "start_time": "2022-12-04T19:03:37.771Z"
   },
   {
    "duration": 0,
    "start_time": "2022-12-04T19:03:37.772Z"
   },
   {
    "duration": 0,
    "start_time": "2022-12-04T19:03:37.773Z"
   },
   {
    "duration": 0,
    "start_time": "2022-12-04T19:03:37.774Z"
   },
   {
    "duration": 0,
    "start_time": "2022-12-04T19:03:37.774Z"
   },
   {
    "duration": 0,
    "start_time": "2022-12-04T19:03:37.775Z"
   },
   {
    "duration": 0,
    "start_time": "2022-12-04T19:03:37.776Z"
   },
   {
    "duration": 0,
    "start_time": "2022-12-04T19:03:37.777Z"
   },
   {
    "duration": 0,
    "start_time": "2022-12-04T19:03:37.778Z"
   },
   {
    "duration": 0,
    "start_time": "2022-12-04T19:03:37.779Z"
   },
   {
    "duration": 0,
    "start_time": "2022-12-04T19:03:37.780Z"
   },
   {
    "duration": 0,
    "start_time": "2022-12-04T19:03:37.781Z"
   },
   {
    "duration": 0,
    "start_time": "2022-12-04T19:03:37.782Z"
   },
   {
    "duration": 0,
    "start_time": "2022-12-04T19:03:37.783Z"
   },
   {
    "duration": 0,
    "start_time": "2022-12-04T19:03:37.784Z"
   },
   {
    "duration": 0,
    "start_time": "2022-12-04T19:03:37.785Z"
   },
   {
    "duration": 0,
    "start_time": "2022-12-04T19:03:37.786Z"
   },
   {
    "duration": 0,
    "start_time": "2022-12-04T19:03:37.788Z"
   },
   {
    "duration": 1,
    "start_time": "2022-12-04T19:03:37.788Z"
   },
   {
    "duration": 0,
    "start_time": "2022-12-04T19:03:37.790Z"
   },
   {
    "duration": 0,
    "start_time": "2022-12-04T19:03:37.791Z"
   },
   {
    "duration": 0,
    "start_time": "2022-12-04T19:03:37.791Z"
   },
   {
    "duration": 0,
    "start_time": "2022-12-04T19:03:37.792Z"
   },
   {
    "duration": 0,
    "start_time": "2022-12-04T19:03:37.793Z"
   },
   {
    "duration": 0,
    "start_time": "2022-12-04T19:03:37.794Z"
   },
   {
    "duration": 0,
    "start_time": "2022-12-04T19:03:37.795Z"
   },
   {
    "duration": 0,
    "start_time": "2022-12-04T19:03:37.796Z"
   },
   {
    "duration": 0,
    "start_time": "2022-12-04T19:03:37.798Z"
   },
   {
    "duration": 0,
    "start_time": "2022-12-04T19:03:37.798Z"
   },
   {
    "duration": 0,
    "start_time": "2022-12-04T19:03:37.799Z"
   },
   {
    "duration": 0,
    "start_time": "2022-12-04T19:03:37.813Z"
   },
   {
    "duration": 0,
    "start_time": "2022-12-04T19:03:37.814Z"
   },
   {
    "duration": 0,
    "start_time": "2022-12-04T19:03:37.815Z"
   },
   {
    "duration": 0,
    "start_time": "2022-12-04T19:03:37.816Z"
   },
   {
    "duration": 0,
    "start_time": "2022-12-04T19:03:37.817Z"
   },
   {
    "duration": 0,
    "start_time": "2022-12-04T19:03:37.818Z"
   },
   {
    "duration": 0,
    "start_time": "2022-12-04T19:03:37.819Z"
   },
   {
    "duration": 0,
    "start_time": "2022-12-04T19:03:37.820Z"
   },
   {
    "duration": 0,
    "start_time": "2022-12-04T19:03:37.822Z"
   },
   {
    "duration": 0,
    "start_time": "2022-12-04T19:03:37.822Z"
   },
   {
    "duration": 0,
    "start_time": "2022-12-04T19:03:37.823Z"
   },
   {
    "duration": 0,
    "start_time": "2022-12-04T19:03:37.824Z"
   },
   {
    "duration": 0,
    "start_time": "2022-12-04T19:03:37.825Z"
   },
   {
    "duration": 4,
    "start_time": "2022-12-04T19:07:59.687Z"
   },
   {
    "duration": 4,
    "start_time": "2022-12-04T19:08:28.945Z"
   },
   {
    "duration": 8,
    "start_time": "2022-12-04T19:08:37.000Z"
   },
   {
    "duration": 491,
    "start_time": "2022-12-04T19:11:43.583Z"
   },
   {
    "duration": 20,
    "start_time": "2022-12-04T19:12:03.824Z"
   },
   {
    "duration": 23,
    "start_time": "2022-12-04T19:13:57.714Z"
   },
   {
    "duration": 23,
    "start_time": "2022-12-04T19:14:22.945Z"
   },
   {
    "duration": 11,
    "start_time": "2022-12-04T19:15:06.096Z"
   },
   {
    "duration": 21,
    "start_time": "2022-12-04T19:17:48.121Z"
   },
   {
    "duration": 496,
    "start_time": "2022-12-04T19:18:24.199Z"
   },
   {
    "duration": 21,
    "start_time": "2022-12-04T19:20:04.755Z"
   },
   {
    "duration": 3,
    "start_time": "2022-12-04T19:22:03.009Z"
   },
   {
    "duration": 51,
    "start_time": "2022-12-04T19:22:03.016Z"
   },
   {
    "duration": 14,
    "start_time": "2022-12-04T19:22:03.069Z"
   },
   {
    "duration": 14,
    "start_time": "2022-12-04T19:22:03.085Z"
   },
   {
    "duration": 19,
    "start_time": "2022-12-04T19:22:03.102Z"
   },
   {
    "duration": 21,
    "start_time": "2022-12-04T19:22:03.122Z"
   },
   {
    "duration": 5,
    "start_time": "2022-12-04T19:22:03.145Z"
   },
   {
    "duration": 13,
    "start_time": "2022-12-04T19:22:03.152Z"
   },
   {
    "duration": 5,
    "start_time": "2022-12-04T19:22:03.167Z"
   },
   {
    "duration": 8,
    "start_time": "2022-12-04T19:22:03.174Z"
   },
   {
    "duration": 5,
    "start_time": "2022-12-04T19:22:03.214Z"
   },
   {
    "duration": 6,
    "start_time": "2022-12-04T19:22:03.221Z"
   },
   {
    "duration": 11,
    "start_time": "2022-12-04T19:22:03.228Z"
   },
   {
    "duration": 16,
    "start_time": "2022-12-04T19:22:03.240Z"
   },
   {
    "duration": 13,
    "start_time": "2022-12-04T19:22:03.257Z"
   },
   {
    "duration": 44,
    "start_time": "2022-12-04T19:22:03.271Z"
   },
   {
    "duration": 14,
    "start_time": "2022-12-04T19:22:03.316Z"
   },
   {
    "duration": 234,
    "start_time": "2022-12-04T19:22:03.332Z"
   },
   {
    "duration": 7,
    "start_time": "2022-12-04T19:22:03.568Z"
   },
   {
    "duration": 11,
    "start_time": "2022-12-04T19:22:03.577Z"
   },
   {
    "duration": 311,
    "start_time": "2022-12-04T19:22:03.613Z"
   },
   {
    "duration": 5,
    "start_time": "2022-12-04T19:22:03.926Z"
   },
   {
    "duration": 5,
    "start_time": "2022-12-04T19:22:03.932Z"
   },
   {
    "duration": 23,
    "start_time": "2022-12-04T19:22:03.939Z"
   },
   {
    "duration": 0,
    "start_time": "2022-12-04T19:22:04.080Z"
   },
   {
    "duration": 0,
    "start_time": "2022-12-04T19:22:04.081Z"
   },
   {
    "duration": 0,
    "start_time": "2022-12-04T19:22:04.082Z"
   },
   {
    "duration": 0,
    "start_time": "2022-12-04T19:22:04.083Z"
   },
   {
    "duration": 0,
    "start_time": "2022-12-04T19:22:04.085Z"
   },
   {
    "duration": 0,
    "start_time": "2022-12-04T19:22:04.086Z"
   },
   {
    "duration": 0,
    "start_time": "2022-12-04T19:22:04.087Z"
   },
   {
    "duration": 0,
    "start_time": "2022-12-04T19:22:04.088Z"
   },
   {
    "duration": 0,
    "start_time": "2022-12-04T19:22:04.089Z"
   },
   {
    "duration": 0,
    "start_time": "2022-12-04T19:22:04.090Z"
   },
   {
    "duration": 0,
    "start_time": "2022-12-04T19:22:04.091Z"
   },
   {
    "duration": 0,
    "start_time": "2022-12-04T19:22:04.092Z"
   },
   {
    "duration": 0,
    "start_time": "2022-12-04T19:22:04.093Z"
   },
   {
    "duration": 0,
    "start_time": "2022-12-04T19:22:04.094Z"
   },
   {
    "duration": 0,
    "start_time": "2022-12-04T19:22:04.113Z"
   },
   {
    "duration": 0,
    "start_time": "2022-12-04T19:22:04.114Z"
   },
   {
    "duration": 0,
    "start_time": "2022-12-04T19:22:04.116Z"
   },
   {
    "duration": 0,
    "start_time": "2022-12-04T19:22:04.117Z"
   },
   {
    "duration": 0,
    "start_time": "2022-12-04T19:22:04.118Z"
   },
   {
    "duration": 0,
    "start_time": "2022-12-04T19:22:04.119Z"
   },
   {
    "duration": 0,
    "start_time": "2022-12-04T19:22:04.121Z"
   },
   {
    "duration": 0,
    "start_time": "2022-12-04T19:22:04.122Z"
   },
   {
    "duration": 0,
    "start_time": "2022-12-04T19:22:04.123Z"
   },
   {
    "duration": 0,
    "start_time": "2022-12-04T19:22:04.124Z"
   },
   {
    "duration": 0,
    "start_time": "2022-12-04T19:22:04.125Z"
   },
   {
    "duration": 0,
    "start_time": "2022-12-04T19:22:04.126Z"
   },
   {
    "duration": 0,
    "start_time": "2022-12-04T19:22:04.127Z"
   },
   {
    "duration": 0,
    "start_time": "2022-12-04T19:22:04.128Z"
   },
   {
    "duration": 0,
    "start_time": "2022-12-04T19:22:04.129Z"
   },
   {
    "duration": 0,
    "start_time": "2022-12-04T19:22:04.130Z"
   },
   {
    "duration": 0,
    "start_time": "2022-12-04T19:22:04.131Z"
   },
   {
    "duration": 0,
    "start_time": "2022-12-04T19:22:04.132Z"
   },
   {
    "duration": 0,
    "start_time": "2022-12-04T19:22:04.133Z"
   },
   {
    "duration": 0,
    "start_time": "2022-12-04T19:22:04.134Z"
   },
   {
    "duration": 0,
    "start_time": "2022-12-04T19:22:04.135Z"
   },
   {
    "duration": 0,
    "start_time": "2022-12-04T19:22:04.136Z"
   },
   {
    "duration": 0,
    "start_time": "2022-12-04T19:22:04.137Z"
   },
   {
    "duration": 0,
    "start_time": "2022-12-04T19:22:04.138Z"
   },
   {
    "duration": 0,
    "start_time": "2022-12-04T19:22:04.139Z"
   },
   {
    "duration": 0,
    "start_time": "2022-12-04T19:22:04.139Z"
   },
   {
    "duration": 0,
    "start_time": "2022-12-04T19:22:04.141Z"
   },
   {
    "duration": 0,
    "start_time": "2022-12-04T19:22:04.142Z"
   },
   {
    "duration": 0,
    "start_time": "2022-12-04T19:22:04.142Z"
   },
   {
    "duration": 0,
    "start_time": "2022-12-04T19:22:04.143Z"
   },
   {
    "duration": 0,
    "start_time": "2022-12-04T19:22:04.144Z"
   },
   {
    "duration": 0,
    "start_time": "2022-12-04T19:22:04.145Z"
   },
   {
    "duration": 0,
    "start_time": "2022-12-04T19:22:04.146Z"
   },
   {
    "duration": 0,
    "start_time": "2022-12-04T19:22:04.147Z"
   },
   {
    "duration": 0,
    "start_time": "2022-12-04T19:22:04.148Z"
   },
   {
    "duration": 0,
    "start_time": "2022-12-04T19:22:04.149Z"
   },
   {
    "duration": 0,
    "start_time": "2022-12-04T19:22:04.149Z"
   },
   {
    "duration": 22,
    "start_time": "2022-12-04T19:22:58.090Z"
   },
   {
    "duration": 21,
    "start_time": "2022-12-04T19:23:33.316Z"
   },
   {
    "duration": 496,
    "start_time": "2022-12-04T19:24:02.147Z"
   },
   {
    "duration": 22,
    "start_time": "2022-12-04T19:25:22.886Z"
   },
   {
    "duration": 22,
    "start_time": "2022-12-04T19:26:58.644Z"
   },
   {
    "duration": 14,
    "start_time": "2022-12-04T19:27:12.088Z"
   },
   {
    "duration": 27,
    "start_time": "2022-12-04T19:27:26.910Z"
   },
   {
    "duration": 23,
    "start_time": "2022-12-04T19:28:15.325Z"
   },
   {
    "duration": 31,
    "start_time": "2022-12-04T19:28:25.846Z"
   },
   {
    "duration": 32,
    "start_time": "2022-12-04T19:29:54.573Z"
   },
   {
    "duration": 3,
    "start_time": "2022-12-04T19:30:31.002Z"
   },
   {
    "duration": 80,
    "start_time": "2022-12-04T19:30:31.011Z"
   },
   {
    "duration": 14,
    "start_time": "2022-12-04T19:30:31.093Z"
   },
   {
    "duration": 25,
    "start_time": "2022-12-04T19:30:31.108Z"
   },
   {
    "duration": 29,
    "start_time": "2022-12-04T19:30:31.134Z"
   },
   {
    "duration": 35,
    "start_time": "2022-12-04T19:30:31.165Z"
   },
   {
    "duration": 33,
    "start_time": "2022-12-04T19:30:31.202Z"
   },
   {
    "duration": 30,
    "start_time": "2022-12-04T19:30:31.237Z"
   },
   {
    "duration": 48,
    "start_time": "2022-12-04T19:30:31.269Z"
   },
   {
    "duration": 44,
    "start_time": "2022-12-04T19:30:31.319Z"
   },
   {
    "duration": 7,
    "start_time": "2022-12-04T19:30:31.365Z"
   },
   {
    "duration": 41,
    "start_time": "2022-12-04T19:30:31.374Z"
   },
   {
    "duration": 26,
    "start_time": "2022-12-04T19:30:31.416Z"
   },
   {
    "duration": 33,
    "start_time": "2022-12-04T19:30:31.443Z"
   },
   {
    "duration": 31,
    "start_time": "2022-12-04T19:30:31.479Z"
   },
   {
    "duration": 13,
    "start_time": "2022-12-04T19:30:31.512Z"
   },
   {
    "duration": 33,
    "start_time": "2022-12-04T19:30:31.526Z"
   },
   {
    "duration": 205,
    "start_time": "2022-12-04T19:30:31.561Z"
   },
   {
    "duration": 7,
    "start_time": "2022-12-04T19:30:31.768Z"
   },
   {
    "duration": 35,
    "start_time": "2022-12-04T19:30:31.776Z"
   },
   {
    "duration": 348,
    "start_time": "2022-12-04T19:30:31.813Z"
   },
   {
    "duration": 5,
    "start_time": "2022-12-04T19:30:32.162Z"
   },
   {
    "duration": 55,
    "start_time": "2022-12-04T19:30:32.168Z"
   },
   {
    "duration": 22,
    "start_time": "2022-12-04T19:30:32.225Z"
   },
   {
    "duration": 0,
    "start_time": "2022-12-04T19:30:32.249Z"
   },
   {
    "duration": 0,
    "start_time": "2022-12-04T19:30:32.251Z"
   },
   {
    "duration": 0,
    "start_time": "2022-12-04T19:30:32.252Z"
   },
   {
    "duration": 0,
    "start_time": "2022-12-04T19:30:32.254Z"
   },
   {
    "duration": 0,
    "start_time": "2022-12-04T19:30:32.255Z"
   },
   {
    "duration": 0,
    "start_time": "2022-12-04T19:30:32.256Z"
   },
   {
    "duration": 0,
    "start_time": "2022-12-04T19:30:32.257Z"
   },
   {
    "duration": 0,
    "start_time": "2022-12-04T19:30:32.258Z"
   },
   {
    "duration": 0,
    "start_time": "2022-12-04T19:30:32.259Z"
   },
   {
    "duration": 0,
    "start_time": "2022-12-04T19:30:32.260Z"
   },
   {
    "duration": 0,
    "start_time": "2022-12-04T19:30:32.261Z"
   },
   {
    "duration": 0,
    "start_time": "2022-12-04T19:30:32.262Z"
   },
   {
    "duration": 0,
    "start_time": "2022-12-04T19:30:32.263Z"
   },
   {
    "duration": 0,
    "start_time": "2022-12-04T19:30:32.264Z"
   },
   {
    "duration": 0,
    "start_time": "2022-12-04T19:30:32.265Z"
   },
   {
    "duration": 0,
    "start_time": "2022-12-04T19:30:32.266Z"
   },
   {
    "duration": 0,
    "start_time": "2022-12-04T19:30:32.267Z"
   },
   {
    "duration": 0,
    "start_time": "2022-12-04T19:30:32.268Z"
   },
   {
    "duration": 0,
    "start_time": "2022-12-04T19:30:32.312Z"
   },
   {
    "duration": 0,
    "start_time": "2022-12-04T19:30:32.314Z"
   },
   {
    "duration": 0,
    "start_time": "2022-12-04T19:30:32.314Z"
   },
   {
    "duration": 0,
    "start_time": "2022-12-04T19:30:32.315Z"
   },
   {
    "duration": 0,
    "start_time": "2022-12-04T19:30:32.316Z"
   },
   {
    "duration": 0,
    "start_time": "2022-12-04T19:30:32.317Z"
   },
   {
    "duration": 0,
    "start_time": "2022-12-04T19:30:32.318Z"
   },
   {
    "duration": 0,
    "start_time": "2022-12-04T19:30:32.320Z"
   },
   {
    "duration": 0,
    "start_time": "2022-12-04T19:30:32.320Z"
   },
   {
    "duration": 0,
    "start_time": "2022-12-04T19:30:32.321Z"
   },
   {
    "duration": 0,
    "start_time": "2022-12-04T19:30:32.322Z"
   },
   {
    "duration": 0,
    "start_time": "2022-12-04T19:30:32.323Z"
   },
   {
    "duration": 0,
    "start_time": "2022-12-04T19:30:32.324Z"
   },
   {
    "duration": 0,
    "start_time": "2022-12-04T19:30:32.325Z"
   },
   {
    "duration": 0,
    "start_time": "2022-12-04T19:30:32.326Z"
   },
   {
    "duration": 0,
    "start_time": "2022-12-04T19:30:32.327Z"
   },
   {
    "duration": 0,
    "start_time": "2022-12-04T19:30:32.328Z"
   },
   {
    "duration": 0,
    "start_time": "2022-12-04T19:30:32.329Z"
   },
   {
    "duration": 0,
    "start_time": "2022-12-04T19:30:32.330Z"
   },
   {
    "duration": 0,
    "start_time": "2022-12-04T19:30:32.331Z"
   },
   {
    "duration": 0,
    "start_time": "2022-12-04T19:30:32.332Z"
   },
   {
    "duration": 0,
    "start_time": "2022-12-04T19:30:32.333Z"
   },
   {
    "duration": 0,
    "start_time": "2022-12-04T19:30:32.334Z"
   },
   {
    "duration": 0,
    "start_time": "2022-12-04T19:30:32.335Z"
   },
   {
    "duration": 0,
    "start_time": "2022-12-04T19:30:32.336Z"
   },
   {
    "duration": 0,
    "start_time": "2022-12-04T19:30:32.337Z"
   },
   {
    "duration": 0,
    "start_time": "2022-12-04T19:30:32.337Z"
   },
   {
    "duration": 0,
    "start_time": "2022-12-04T19:30:32.338Z"
   },
   {
    "duration": 0,
    "start_time": "2022-12-04T19:30:32.339Z"
   },
   {
    "duration": 0,
    "start_time": "2022-12-04T19:30:32.340Z"
   },
   {
    "duration": 0,
    "start_time": "2022-12-04T19:30:32.341Z"
   },
   {
    "duration": 0,
    "start_time": "2022-12-04T19:30:32.343Z"
   },
   {
    "duration": 0,
    "start_time": "2022-12-04T19:30:32.344Z"
   },
   {
    "duration": 15,
    "start_time": "2022-12-04T19:32:54.443Z"
   },
   {
    "duration": 15,
    "start_time": "2022-12-04T19:33:11.339Z"
   },
   {
    "duration": 15,
    "start_time": "2022-12-04T19:34:05.212Z"
   },
   {
    "duration": 16,
    "start_time": "2022-12-04T19:35:02.406Z"
   },
   {
    "duration": 4,
    "start_time": "2022-12-04T19:37:43.156Z"
   },
   {
    "duration": 11,
    "start_time": "2022-12-04T19:38:43.187Z"
   },
   {
    "duration": 1788,
    "start_time": "2022-12-04T19:39:51.236Z"
   },
   {
    "duration": 14,
    "start_time": "2022-12-04T19:40:24.908Z"
   },
   {
    "duration": 4,
    "start_time": "2022-12-04T19:40:25.893Z"
   },
   {
    "duration": 330,
    "start_time": "2022-12-04T19:40:29.734Z"
   },
   {
    "duration": 12,
    "start_time": "2022-12-04T19:41:20.101Z"
   },
   {
    "duration": 4,
    "start_time": "2022-12-04T19:41:20.773Z"
   },
   {
    "duration": 300,
    "start_time": "2022-12-04T19:41:22.118Z"
   },
   {
    "duration": 8,
    "start_time": "2022-12-04T19:45:34.704Z"
   },
   {
    "duration": 18,
    "start_time": "2022-12-04T19:47:22.758Z"
   },
   {
    "duration": 381,
    "start_time": "2022-12-04T19:47:47.009Z"
   },
   {
    "duration": 8,
    "start_time": "2022-12-04T19:57:36.814Z"
   },
   {
    "duration": 35,
    "start_time": "2022-12-04T20:00:59.576Z"
   },
   {
    "duration": 183,
    "start_time": "2022-12-04T20:07:10.527Z"
   },
   {
    "duration": 34,
    "start_time": "2022-12-04T20:11:45.342Z"
   },
   {
    "duration": 75,
    "start_time": "2022-12-04T20:13:16.497Z"
   },
   {
    "duration": 6,
    "start_time": "2022-12-04T20:13:31.119Z"
   },
   {
    "duration": 8,
    "start_time": "2022-12-04T20:13:56.299Z"
   },
   {
    "duration": 5,
    "start_time": "2022-12-04T20:14:57.129Z"
   },
   {
    "duration": 32,
    "start_time": "2022-12-04T20:15:00.366Z"
   },
   {
    "duration": 6,
    "start_time": "2022-12-04T20:15:18.913Z"
   },
   {
    "duration": 23,
    "start_time": "2022-12-04T20:15:20.752Z"
   },
   {
    "duration": 10,
    "start_time": "2022-12-04T20:16:50.258Z"
   },
   {
    "duration": 21,
    "start_time": "2022-12-04T20:17:32.221Z"
   },
   {
    "duration": 15,
    "start_time": "2022-12-04T20:17:40.217Z"
   },
   {
    "duration": 64,
    "start_time": "2022-12-04T20:17:40.234Z"
   },
   {
    "duration": 17,
    "start_time": "2022-12-04T20:17:40.301Z"
   },
   {
    "duration": 9,
    "start_time": "2022-12-04T20:17:40.320Z"
   },
   {
    "duration": 26,
    "start_time": "2022-12-04T20:17:40.331Z"
   },
   {
    "duration": 22,
    "start_time": "2022-12-04T20:17:40.359Z"
   },
   {
    "duration": 5,
    "start_time": "2022-12-04T20:17:40.384Z"
   },
   {
    "duration": 11,
    "start_time": "2022-12-04T20:17:40.415Z"
   },
   {
    "duration": 11,
    "start_time": "2022-12-04T20:17:40.430Z"
   },
   {
    "duration": 17,
    "start_time": "2022-12-04T20:17:40.443Z"
   },
   {
    "duration": 7,
    "start_time": "2022-12-04T20:17:40.462Z"
   },
   {
    "duration": 45,
    "start_time": "2022-12-04T20:17:40.471Z"
   },
   {
    "duration": 11,
    "start_time": "2022-12-04T20:17:40.518Z"
   },
   {
    "duration": 15,
    "start_time": "2022-12-04T20:17:40.531Z"
   },
   {
    "duration": 15,
    "start_time": "2022-12-04T20:17:40.548Z"
   },
   {
    "duration": 5,
    "start_time": "2022-12-04T20:17:40.565Z"
   },
   {
    "duration": 55,
    "start_time": "2022-12-04T20:17:40.572Z"
   },
   {
    "duration": 227,
    "start_time": "2022-12-04T20:17:40.629Z"
   },
   {
    "duration": 9,
    "start_time": "2022-12-04T20:17:40.859Z"
   },
   {
    "duration": 12,
    "start_time": "2022-12-04T20:17:40.869Z"
   },
   {
    "duration": 346,
    "start_time": "2022-12-04T20:17:40.882Z"
   },
   {
    "duration": 6,
    "start_time": "2022-12-04T20:17:41.229Z"
   },
   {
    "duration": 13,
    "start_time": "2022-12-04T20:17:41.236Z"
   },
   {
    "duration": 4,
    "start_time": "2022-12-04T20:17:41.253Z"
   },
   {
    "duration": 325,
    "start_time": "2022-12-04T20:17:41.258Z"
   },
   {
    "duration": 297,
    "start_time": "2022-12-04T20:17:41.585Z"
   },
   {
    "duration": 189,
    "start_time": "2022-12-04T20:17:41.884Z"
   },
   {
    "duration": 2,
    "start_time": "2022-12-04T20:17:42.075Z"
   },
   {
    "duration": 48,
    "start_time": "2022-12-04T20:17:42.078Z"
   },
   {
    "duration": 194,
    "start_time": "2022-12-04T20:17:42.128Z"
   },
   {
    "duration": 161,
    "start_time": "2022-12-04T20:17:42.323Z"
   },
   {
    "duration": 244,
    "start_time": "2022-12-04T20:17:42.485Z"
   },
   {
    "duration": 5,
    "start_time": "2022-12-04T20:17:42.730Z"
   },
   {
    "duration": 230,
    "start_time": "2022-12-04T20:17:42.737Z"
   },
   {
    "duration": 247,
    "start_time": "2022-12-04T20:17:42.969Z"
   },
   {
    "duration": 284,
    "start_time": "2022-12-04T20:17:43.218Z"
   },
   {
    "duration": 240,
    "start_time": "2022-12-04T20:17:43.504Z"
   },
   {
    "duration": 17,
    "start_time": "2022-12-04T20:17:43.745Z"
   },
   {
    "duration": 243,
    "start_time": "2022-12-04T20:17:43.764Z"
   },
   {
    "duration": 11,
    "start_time": "2022-12-04T20:17:44.013Z"
   },
   {
    "duration": 32,
    "start_time": "2022-12-04T20:17:44.026Z"
   },
   {
    "duration": 174,
    "start_time": "2022-12-04T20:17:44.059Z"
   },
   {
    "duration": 17,
    "start_time": "2022-12-04T20:17:44.234Z"
   },
   {
    "duration": 192,
    "start_time": "2022-12-04T20:17:44.254Z"
   },
   {
    "duration": 10,
    "start_time": "2022-12-04T20:17:44.448Z"
   },
   {
    "duration": 18,
    "start_time": "2022-12-04T20:17:44.460Z"
   },
   {
    "duration": 230,
    "start_time": "2022-12-04T20:17:44.479Z"
   },
   {
    "duration": 18,
    "start_time": "2022-12-04T20:17:44.711Z"
   },
   {
    "duration": 227,
    "start_time": "2022-12-04T20:17:44.731Z"
   },
   {
    "duration": 16,
    "start_time": "2022-12-04T20:17:44.960Z"
   },
   {
    "duration": 63,
    "start_time": "2022-12-04T20:17:44.978Z"
   },
   {
    "duration": 203,
    "start_time": "2022-12-04T20:17:45.043Z"
   },
   {
    "duration": 17,
    "start_time": "2022-12-04T20:17:45.248Z"
   },
   {
    "duration": 300,
    "start_time": "2022-12-04T20:17:45.266Z"
   },
   {
    "duration": 8,
    "start_time": "2022-12-04T20:17:45.568Z"
   },
   {
    "duration": 23,
    "start_time": "2022-12-04T20:17:45.577Z"
   },
   {
    "duration": 20,
    "start_time": "2022-12-04T20:17:45.613Z"
   },
   {
    "duration": 401,
    "start_time": "2022-12-04T20:17:45.634Z"
   },
   {
    "duration": 15,
    "start_time": "2022-12-04T20:17:46.037Z"
   },
   {
    "duration": 25,
    "start_time": "2022-12-04T20:17:46.054Z"
   },
   {
    "duration": 394,
    "start_time": "2022-12-04T20:17:46.081Z"
   },
   {
    "duration": 16,
    "start_time": "2022-12-04T20:17:46.476Z"
   },
   {
    "duration": 31,
    "start_time": "2022-12-04T20:17:46.494Z"
   },
   {
    "duration": 400,
    "start_time": "2022-12-04T20:17:46.527Z"
   },
   {
    "duration": 18,
    "start_time": "2022-12-04T20:17:46.929Z"
   },
   {
    "duration": 19,
    "start_time": "2022-12-04T20:17:46.949Z"
   },
   {
    "duration": 315,
    "start_time": "2022-12-04T20:17:46.971Z"
   },
   {
    "duration": 25,
    "start_time": "2022-12-04T20:17:47.288Z"
   },
   {
    "duration": 15,
    "start_time": "2022-12-04T20:17:47.318Z"
   },
   {
    "duration": 290,
    "start_time": "2022-12-04T20:17:47.334Z"
   },
   {
    "duration": 16,
    "start_time": "2022-12-04T20:17:47.626Z"
   },
   {
    "duration": 15,
    "start_time": "2022-12-04T20:17:47.644Z"
   },
   {
    "duration": 397,
    "start_time": "2022-12-04T20:17:47.660Z"
   },
   {
    "duration": 7,
    "start_time": "2022-12-04T20:17:48.058Z"
   },
   {
    "duration": 9,
    "start_time": "2022-12-04T20:17:48.067Z"
   },
   {
    "duration": 17,
    "start_time": "2022-12-04T20:17:48.078Z"
   },
   {
    "duration": 17,
    "start_time": "2022-12-04T20:17:48.097Z"
   },
   {
    "duration": 200,
    "start_time": "2022-12-04T20:22:14.291Z"
   },
   {
    "duration": 190,
    "start_time": "2022-12-04T20:22:26.866Z"
   },
   {
    "duration": 181,
    "start_time": "2022-12-04T20:22:36.441Z"
   },
   {
    "duration": 239,
    "start_time": "2022-12-04T20:23:21.898Z"
   },
   {
    "duration": 232,
    "start_time": "2022-12-04T20:23:42.330Z"
   },
   {
    "duration": 232,
    "start_time": "2022-12-04T20:23:53.755Z"
   },
   {
    "duration": 339,
    "start_time": "2022-12-04T20:24:02.442Z"
   },
   {
    "duration": 241,
    "start_time": "2022-12-04T20:24:13.317Z"
   },
   {
    "duration": 246,
    "start_time": "2022-12-04T20:25:14.331Z"
   },
   {
    "duration": 231,
    "start_time": "2022-12-04T20:25:23.102Z"
   },
   {
    "duration": 263,
    "start_time": "2022-12-04T20:25:36.770Z"
   },
   {
    "duration": 324,
    "start_time": "2022-12-04T20:25:47.766Z"
   },
   {
    "duration": 232,
    "start_time": "2022-12-04T20:25:53.994Z"
   },
   {
    "duration": 250,
    "start_time": "2022-12-04T20:26:07.435Z"
   },
   {
    "duration": 236,
    "start_time": "2022-12-04T20:26:21.819Z"
   },
   {
    "duration": 239,
    "start_time": "2022-12-04T20:26:43.020Z"
   },
   {
    "duration": 239,
    "start_time": "2022-12-04T20:26:51.499Z"
   },
   {
    "duration": 372,
    "start_time": "2022-12-04T20:27:10.787Z"
   },
   {
    "duration": 142,
    "start_time": "2022-12-04T20:29:33.405Z"
   },
   {
    "duration": 154,
    "start_time": "2022-12-04T20:30:01.925Z"
   },
   {
    "duration": 138,
    "start_time": "2022-12-04T20:30:22.547Z"
   },
   {
    "duration": 139,
    "start_time": "2022-12-04T20:30:38.326Z"
   },
   {
    "duration": 143,
    "start_time": "2022-12-04T20:30:52.162Z"
   },
   {
    "duration": 5,
    "start_time": "2022-12-04T20:31:39.803Z"
   },
   {
    "duration": 204,
    "start_time": "2022-12-04T20:31:41.940Z"
   },
   {
    "duration": 1374,
    "start_time": "2022-12-05T13:47:38.685Z"
   },
   {
    "duration": 193,
    "start_time": "2022-12-05T13:47:40.061Z"
   },
   {
    "duration": 15,
    "start_time": "2022-12-05T13:47:40.255Z"
   },
   {
    "duration": 4,
    "start_time": "2022-12-05T13:47:40.271Z"
   },
   {
    "duration": 27,
    "start_time": "2022-12-05T13:47:40.276Z"
   },
   {
    "duration": 66,
    "start_time": "2022-12-05T13:47:40.305Z"
   },
   {
    "duration": 4,
    "start_time": "2022-12-05T13:47:40.372Z"
   },
   {
    "duration": 26,
    "start_time": "2022-12-05T13:47:40.377Z"
   },
   {
    "duration": 14,
    "start_time": "2022-12-05T13:47:40.405Z"
   },
   {
    "duration": 19,
    "start_time": "2022-12-05T13:47:40.420Z"
   },
   {
    "duration": 32,
    "start_time": "2022-12-05T13:47:40.440Z"
   },
   {
    "duration": 25,
    "start_time": "2022-12-05T13:47:40.474Z"
   },
   {
    "duration": 20,
    "start_time": "2022-12-05T13:47:40.501Z"
   },
   {
    "duration": 30,
    "start_time": "2022-12-05T13:47:40.525Z"
   },
   {
    "duration": 19,
    "start_time": "2022-12-05T13:47:40.557Z"
   },
   {
    "duration": 28,
    "start_time": "2022-12-05T13:47:40.578Z"
   },
   {
    "duration": 232,
    "start_time": "2022-12-05T13:47:40.608Z"
   },
   {
    "duration": 8,
    "start_time": "2022-12-05T13:47:40.841Z"
   },
   {
    "duration": 19,
    "start_time": "2022-12-05T13:47:40.850Z"
   },
   {
    "duration": 369,
    "start_time": "2022-12-05T13:47:40.870Z"
   },
   {
    "duration": 6,
    "start_time": "2022-12-05T13:47:41.242Z"
   },
   {
    "duration": 19,
    "start_time": "2022-12-05T13:47:41.250Z"
   },
   {
    "duration": 4,
    "start_time": "2022-12-05T13:47:41.271Z"
   },
   {
    "duration": 335,
    "start_time": "2022-12-05T13:47:41.277Z"
   },
   {
    "duration": 339,
    "start_time": "2022-12-05T13:47:41.614Z"
   },
   {
    "duration": 277,
    "start_time": "2022-12-05T13:47:41.955Z"
   },
   {
    "duration": 35,
    "start_time": "2022-12-05T13:47:42.234Z"
   },
   {
    "duration": 277,
    "start_time": "2022-12-05T13:47:42.271Z"
   },
   {
    "duration": 165,
    "start_time": "2022-12-05T13:47:42.550Z"
   },
   {
    "duration": 167,
    "start_time": "2022-12-05T13:47:42.721Z"
   },
   {
    "duration": 6,
    "start_time": "2022-12-05T13:47:42.889Z"
   },
   {
    "duration": 229,
    "start_time": "2022-12-05T13:47:42.896Z"
   },
   {
    "duration": 298,
    "start_time": "2022-12-05T13:47:43.128Z"
   },
   {
    "duration": 272,
    "start_time": "2022-12-05T13:47:43.428Z"
   },
   {
    "duration": 243,
    "start_time": "2022-12-05T13:47:43.701Z"
   },
   {
    "duration": 17,
    "start_time": "2022-12-05T13:47:43.945Z"
   },
   {
    "duration": 272,
    "start_time": "2022-12-05T13:47:43.963Z"
   },
   {
    "duration": 10,
    "start_time": "2022-12-05T13:47:44.237Z"
   },
   {
    "duration": 26,
    "start_time": "2022-12-05T13:47:44.249Z"
   },
   {
    "duration": 199,
    "start_time": "2022-12-05T13:47:44.277Z"
   },
   {
    "duration": 17,
    "start_time": "2022-12-05T13:47:44.480Z"
   },
   {
    "duration": 294,
    "start_time": "2022-12-05T13:47:44.499Z"
   },
   {
    "duration": 11,
    "start_time": "2022-12-05T13:47:44.795Z"
   },
   {
    "duration": 18,
    "start_time": "2022-12-05T13:47:44.823Z"
   },
   {
    "duration": 201,
    "start_time": "2022-12-05T13:47:44.843Z"
   },
   {
    "duration": 18,
    "start_time": "2022-12-05T13:47:45.046Z"
   },
   {
    "duration": 215,
    "start_time": "2022-12-05T13:47:45.066Z"
   },
   {
    "duration": 9,
    "start_time": "2022-12-05T13:47:45.283Z"
   },
   {
    "duration": 29,
    "start_time": "2022-12-05T13:47:45.294Z"
   },
   {
    "duration": 176,
    "start_time": "2022-12-05T13:47:45.325Z"
   },
   {
    "duration": 23,
    "start_time": "2022-12-05T13:47:45.503Z"
   },
   {
    "duration": 182,
    "start_time": "2022-12-05T13:47:45.527Z"
   },
   {
    "duration": 17,
    "start_time": "2022-12-05T13:47:45.711Z"
   },
   {
    "duration": 24,
    "start_time": "2022-12-05T13:47:45.729Z"
   },
   {
    "duration": 16,
    "start_time": "2022-12-05T13:47:45.755Z"
   },
   {
    "duration": 473,
    "start_time": "2022-12-05T13:47:45.773Z"
   },
   {
    "duration": 19,
    "start_time": "2022-12-05T13:47:46.248Z"
   },
   {
    "duration": 26,
    "start_time": "2022-12-05T13:47:46.269Z"
   },
   {
    "duration": 449,
    "start_time": "2022-12-05T13:47:46.297Z"
   },
   {
    "duration": 17,
    "start_time": "2022-12-05T13:47:46.748Z"
   },
   {
    "duration": 18,
    "start_time": "2022-12-05T13:47:46.768Z"
   },
   {
    "duration": 412,
    "start_time": "2022-12-05T13:47:46.788Z"
   },
   {
    "duration": 26,
    "start_time": "2022-12-05T13:47:47.201Z"
   },
   {
    "duration": 16,
    "start_time": "2022-12-05T13:47:47.229Z"
   },
   {
    "duration": 400,
    "start_time": "2022-12-05T13:47:47.247Z"
   },
   {
    "duration": 16,
    "start_time": "2022-12-05T13:47:47.649Z"
   },
   {
    "duration": 22,
    "start_time": "2022-12-05T13:47:47.667Z"
   },
   {
    "duration": 296,
    "start_time": "2022-12-05T13:47:47.690Z"
   },
   {
    "duration": 15,
    "start_time": "2022-12-05T13:47:47.988Z"
   },
   {
    "duration": 26,
    "start_time": "2022-12-05T13:47:48.005Z"
   },
   {
    "duration": 291,
    "start_time": "2022-12-05T13:47:48.033Z"
   },
   {
    "duration": 8,
    "start_time": "2022-12-05T13:47:48.326Z"
   },
   {
    "duration": 7,
    "start_time": "2022-12-05T13:47:48.336Z"
   },
   {
    "duration": 11,
    "start_time": "2022-12-05T13:47:48.345Z"
   },
   {
    "duration": 13,
    "start_time": "2022-12-05T13:47:48.357Z"
   },
   {
    "duration": 162,
    "start_time": "2022-12-05T13:55:13.878Z"
   },
   {
    "duration": 4,
    "start_time": "2022-12-05T13:55:29.379Z"
   },
   {
    "duration": 60,
    "start_time": "2022-12-05T13:55:29.385Z"
   },
   {
    "duration": 14,
    "start_time": "2022-12-05T13:55:29.447Z"
   },
   {
    "duration": 3,
    "start_time": "2022-12-05T13:55:29.463Z"
   },
   {
    "duration": 21,
    "start_time": "2022-12-05T13:55:29.468Z"
   },
   {
    "duration": 42,
    "start_time": "2022-12-05T13:55:29.491Z"
   },
   {
    "duration": 7,
    "start_time": "2022-12-05T13:55:29.534Z"
   },
   {
    "duration": 11,
    "start_time": "2022-12-05T13:55:29.543Z"
   },
   {
    "duration": 13,
    "start_time": "2022-12-05T13:55:29.556Z"
   },
   {
    "duration": 5,
    "start_time": "2022-12-05T13:55:29.572Z"
   },
   {
    "duration": 6,
    "start_time": "2022-12-05T13:55:29.579Z"
   },
   {
    "duration": 13,
    "start_time": "2022-12-05T13:55:29.623Z"
   },
   {
    "duration": 21,
    "start_time": "2022-12-05T13:55:29.639Z"
   },
   {
    "duration": 19,
    "start_time": "2022-12-05T13:55:29.662Z"
   },
   {
    "duration": 6,
    "start_time": "2022-12-05T13:55:29.683Z"
   },
   {
    "duration": 16,
    "start_time": "2022-12-05T13:55:29.723Z"
   },
   {
    "duration": 241,
    "start_time": "2022-12-05T13:55:29.741Z"
   },
   {
    "duration": 7,
    "start_time": "2022-12-05T13:55:29.984Z"
   },
   {
    "duration": 29,
    "start_time": "2022-12-05T13:55:29.993Z"
   },
   {
    "duration": 332,
    "start_time": "2022-12-05T13:55:30.024Z"
   },
   {
    "duration": 6,
    "start_time": "2022-12-05T13:55:30.358Z"
   },
   {
    "duration": 38,
    "start_time": "2022-12-05T13:55:30.365Z"
   },
   {
    "duration": 25,
    "start_time": "2022-12-05T13:55:30.406Z"
   },
   {
    "duration": 428,
    "start_time": "2022-12-05T13:55:30.433Z"
   },
   {
    "duration": 319,
    "start_time": "2022-12-05T13:55:30.863Z"
   },
   {
    "duration": 199,
    "start_time": "2022-12-05T13:55:31.184Z"
   },
   {
    "duration": 48,
    "start_time": "2022-12-05T13:55:31.385Z"
   },
   {
    "duration": 291,
    "start_time": "2022-12-05T13:55:31.435Z"
   },
   {
    "duration": 194,
    "start_time": "2022-12-05T13:55:31.731Z"
   },
   {
    "duration": 175,
    "start_time": "2022-12-05T13:55:31.927Z"
   },
   {
    "duration": 5,
    "start_time": "2022-12-05T13:55:32.105Z"
   },
   {
    "duration": 221,
    "start_time": "2022-12-05T13:55:32.122Z"
   },
   {
    "duration": 289,
    "start_time": "2022-12-05T13:55:32.345Z"
   },
   {
    "duration": 266,
    "start_time": "2022-12-05T13:55:32.635Z"
   },
   {
    "duration": 215,
    "start_time": "2022-12-05T13:55:32.902Z"
   },
   {
    "duration": 15,
    "start_time": "2022-12-05T13:55:33.122Z"
   },
   {
    "duration": 336,
    "start_time": "2022-12-05T13:55:33.139Z"
   },
   {
    "duration": 9,
    "start_time": "2022-12-05T13:55:33.477Z"
   },
   {
    "duration": 45,
    "start_time": "2022-12-05T13:55:33.488Z"
   },
   {
    "duration": 189,
    "start_time": "2022-12-05T13:55:33.535Z"
   },
   {
    "duration": 18,
    "start_time": "2022-12-05T13:55:33.726Z"
   },
   {
    "duration": 224,
    "start_time": "2022-12-05T13:55:33.745Z"
   },
   {
    "duration": 12,
    "start_time": "2022-12-05T13:55:33.971Z"
   },
   {
    "duration": 35,
    "start_time": "2022-12-05T13:55:33.985Z"
   },
   {
    "duration": 274,
    "start_time": "2022-12-05T13:55:34.021Z"
   },
   {
    "duration": 28,
    "start_time": "2022-12-05T13:55:34.297Z"
   },
   {
    "duration": 249,
    "start_time": "2022-12-05T13:55:34.328Z"
   },
   {
    "duration": 8,
    "start_time": "2022-12-05T13:55:34.579Z"
   },
   {
    "duration": 51,
    "start_time": "2022-12-05T13:55:34.589Z"
   },
   {
    "duration": 211,
    "start_time": "2022-12-05T13:55:34.642Z"
   },
   {
    "duration": 24,
    "start_time": "2022-12-05T13:55:34.856Z"
   },
   {
    "duration": 207,
    "start_time": "2022-12-05T13:55:34.882Z"
   },
   {
    "duration": 8,
    "start_time": "2022-12-05T13:55:35.091Z"
   },
   {
    "duration": 35,
    "start_time": "2022-12-05T13:55:35.101Z"
   },
   {
    "duration": 26,
    "start_time": "2022-12-05T13:55:35.137Z"
   },
   {
    "duration": 402,
    "start_time": "2022-12-05T13:55:35.165Z"
   },
   {
    "duration": 18,
    "start_time": "2022-12-05T13:55:35.569Z"
   },
   {
    "duration": 33,
    "start_time": "2022-12-05T13:55:35.589Z"
   },
   {
    "duration": 455,
    "start_time": "2022-12-05T13:55:35.623Z"
   },
   {
    "duration": 16,
    "start_time": "2022-12-05T13:55:36.080Z"
   },
   {
    "duration": 29,
    "start_time": "2022-12-05T13:55:36.097Z"
   },
   {
    "duration": 475,
    "start_time": "2022-12-05T13:55:36.128Z"
   },
   {
    "duration": 23,
    "start_time": "2022-12-05T13:55:36.605Z"
   },
   {
    "duration": 31,
    "start_time": "2022-12-05T13:55:36.630Z"
   },
   {
    "duration": 310,
    "start_time": "2022-12-05T13:55:36.664Z"
   },
   {
    "duration": 19,
    "start_time": "2022-12-05T13:55:36.976Z"
   },
   {
    "duration": 28,
    "start_time": "2022-12-05T13:55:36.997Z"
   },
   {
    "duration": 301,
    "start_time": "2022-12-05T13:55:37.027Z"
   },
   {
    "duration": 15,
    "start_time": "2022-12-05T13:55:37.330Z"
   },
   {
    "duration": 20,
    "start_time": "2022-12-05T13:55:37.347Z"
   },
   {
    "duration": 297,
    "start_time": "2022-12-05T13:55:37.369Z"
   },
   {
    "duration": 6,
    "start_time": "2022-12-05T13:55:37.668Z"
   },
   {
    "duration": 8,
    "start_time": "2022-12-05T13:55:37.675Z"
   },
   {
    "duration": 9,
    "start_time": "2022-12-05T13:55:37.684Z"
   },
   {
    "duration": 8,
    "start_time": "2022-12-05T13:55:37.694Z"
   },
   {
    "duration": 161,
    "start_time": "2022-12-05T13:57:52.137Z"
   },
   {
    "duration": 283,
    "start_time": "2022-12-05T14:03:51.360Z"
   },
   {
    "duration": 310,
    "start_time": "2022-12-05T14:07:57.729Z"
   },
   {
    "duration": 360,
    "start_time": "2022-12-05T14:10:45.321Z"
   },
   {
    "duration": 284,
    "start_time": "2022-12-05T14:14:26.097Z"
   },
   {
    "duration": 34,
    "start_time": "2022-12-05T14:35:58.211Z"
   },
   {
    "duration": 38,
    "start_time": "2022-12-05T14:36:13.819Z"
   },
   {
    "duration": 281,
    "start_time": "2022-12-05T14:38:09.257Z"
   },
   {
    "duration": 3,
    "start_time": "2022-12-05T14:41:25.638Z"
   },
   {
    "duration": 53,
    "start_time": "2022-12-05T14:41:25.645Z"
   },
   {
    "duration": 14,
    "start_time": "2022-12-05T14:41:25.700Z"
   },
   {
    "duration": 4,
    "start_time": "2022-12-05T14:41:25.715Z"
   },
   {
    "duration": 20,
    "start_time": "2022-12-05T14:41:25.721Z"
   },
   {
    "duration": 22,
    "start_time": "2022-12-05T14:41:25.742Z"
   },
   {
    "duration": 4,
    "start_time": "2022-12-05T14:41:25.765Z"
   },
   {
    "duration": 24,
    "start_time": "2022-12-05T14:41:25.771Z"
   },
   {
    "duration": 13,
    "start_time": "2022-12-05T14:41:25.797Z"
   },
   {
    "duration": 11,
    "start_time": "2022-12-05T14:41:25.812Z"
   },
   {
    "duration": 8,
    "start_time": "2022-12-05T14:41:25.827Z"
   },
   {
    "duration": 14,
    "start_time": "2022-12-05T14:41:25.838Z"
   },
   {
    "duration": 21,
    "start_time": "2022-12-05T14:41:25.854Z"
   },
   {
    "duration": 20,
    "start_time": "2022-12-05T14:41:25.878Z"
   },
   {
    "duration": 24,
    "start_time": "2022-12-05T14:41:25.900Z"
   },
   {
    "duration": 17,
    "start_time": "2022-12-05T14:41:25.926Z"
   },
   {
    "duration": 239,
    "start_time": "2022-12-05T14:41:25.944Z"
   },
   {
    "duration": 9,
    "start_time": "2022-12-05T14:41:26.184Z"
   },
   {
    "duration": 32,
    "start_time": "2022-12-05T14:41:26.195Z"
   },
   {
    "duration": 328,
    "start_time": "2022-12-05T14:41:26.229Z"
   },
   {
    "duration": 6,
    "start_time": "2022-12-05T14:41:26.559Z"
   },
   {
    "duration": 15,
    "start_time": "2022-12-05T14:41:26.567Z"
   },
   {
    "duration": 3,
    "start_time": "2022-12-05T14:41:26.584Z"
   },
   {
    "duration": 336,
    "start_time": "2022-12-05T14:41:26.588Z"
   },
   {
    "duration": 304,
    "start_time": "2022-12-05T14:41:26.926Z"
   },
   {
    "duration": 196,
    "start_time": "2022-12-05T14:41:27.232Z"
   },
   {
    "duration": 35,
    "start_time": "2022-12-05T14:41:27.429Z"
   },
   {
    "duration": 360,
    "start_time": "2022-12-05T14:41:27.465Z"
   },
   {
    "duration": 176,
    "start_time": "2022-12-05T14:41:27.830Z"
   },
   {
    "duration": 183,
    "start_time": "2022-12-05T14:41:28.008Z"
   },
   {
    "duration": 7,
    "start_time": "2022-12-05T14:41:28.193Z"
   },
   {
    "duration": 310,
    "start_time": "2022-12-05T14:41:28.202Z"
   },
   {
    "duration": 290,
    "start_time": "2022-12-05T14:41:28.513Z"
   },
   {
    "duration": 277,
    "start_time": "2022-12-05T14:41:28.805Z"
   },
   {
    "duration": 286,
    "start_time": "2022-12-05T14:41:29.084Z"
   },
   {
    "duration": 16,
    "start_time": "2022-12-05T14:41:29.372Z"
   },
   {
    "duration": 232,
    "start_time": "2022-12-05T14:41:29.389Z"
   },
   {
    "duration": 43,
    "start_time": "2022-12-05T14:41:29.622Z"
   },
   {
    "duration": 330,
    "start_time": "2022-12-05T14:41:29.666Z"
   },
   {
    "duration": 26,
    "start_time": "2022-12-05T14:41:29.997Z"
   },
   {
    "duration": 279,
    "start_time": "2022-12-05T14:41:30.025Z"
   },
   {
    "duration": 25,
    "start_time": "2022-12-05T14:41:30.305Z"
   },
   {
    "duration": 193,
    "start_time": "2022-12-05T14:41:30.332Z"
   },
   {
    "duration": 10,
    "start_time": "2022-12-05T14:41:30.527Z"
   },
   {
    "duration": 21,
    "start_time": "2022-12-05T14:41:30.539Z"
   },
   {
    "duration": 203,
    "start_time": "2022-12-05T14:41:30.562Z"
   },
   {
    "duration": 16,
    "start_time": "2022-12-05T14:41:30.766Z"
   },
   {
    "duration": 203,
    "start_time": "2022-12-05T14:41:30.784Z"
   },
   {
    "duration": 8,
    "start_time": "2022-12-05T14:41:30.989Z"
   },
   {
    "duration": 32,
    "start_time": "2022-12-05T14:41:30.999Z"
   },
   {
    "duration": 179,
    "start_time": "2022-12-05T14:41:31.032Z"
   },
   {
    "duration": 22,
    "start_time": "2022-12-05T14:41:31.213Z"
   },
   {
    "duration": 190,
    "start_time": "2022-12-05T14:41:31.237Z"
   },
   {
    "duration": 9,
    "start_time": "2022-12-05T14:41:31.429Z"
   },
   {
    "duration": 20,
    "start_time": "2022-12-05T14:41:31.440Z"
   },
   {
    "duration": 16,
    "start_time": "2022-12-05T14:41:31.462Z"
   },
   {
    "duration": 447,
    "start_time": "2022-12-05T14:41:31.479Z"
   },
   {
    "duration": 17,
    "start_time": "2022-12-05T14:41:31.927Z"
   },
   {
    "duration": 21,
    "start_time": "2022-12-05T14:41:31.945Z"
   },
   {
    "duration": 421,
    "start_time": "2022-12-05T14:41:31.968Z"
   },
   {
    "duration": 17,
    "start_time": "2022-12-05T14:41:32.390Z"
   },
   {
    "duration": 29,
    "start_time": "2022-12-05T14:41:32.408Z"
   },
   {
    "duration": 502,
    "start_time": "2022-12-05T14:41:32.439Z"
   },
   {
    "duration": 15,
    "start_time": "2022-12-05T14:41:32.943Z"
   },
   {
    "duration": 15,
    "start_time": "2022-12-05T14:41:32.959Z"
   },
   {
    "duration": 307,
    "start_time": "2022-12-05T14:41:32.976Z"
   },
   {
    "duration": 17,
    "start_time": "2022-12-05T14:41:33.284Z"
   },
   {
    "duration": 29,
    "start_time": "2022-12-05T14:41:33.302Z"
   },
   {
    "duration": 299,
    "start_time": "2022-12-05T14:41:33.332Z"
   },
   {
    "duration": 17,
    "start_time": "2022-12-05T14:41:33.632Z"
   },
   {
    "duration": 15,
    "start_time": "2022-12-05T14:41:33.651Z"
   },
   {
    "duration": 313,
    "start_time": "2022-12-05T14:41:33.668Z"
   },
   {
    "duration": 7,
    "start_time": "2022-12-05T14:41:33.982Z"
   },
   {
    "duration": 6,
    "start_time": "2022-12-05T14:41:33.991Z"
   },
   {
    "duration": 23,
    "start_time": "2022-12-05T14:41:33.999Z"
   },
   {
    "duration": 8,
    "start_time": "2022-12-05T14:41:34.024Z"
   },
   {
    "duration": 10,
    "start_time": "2022-12-05T14:44:22.045Z"
   },
   {
    "duration": 17,
    "start_time": "2022-12-05T14:45:52.953Z"
   },
   {
    "duration": 9,
    "start_time": "2022-12-05T14:48:08.145Z"
   },
   {
    "duration": 9,
    "start_time": "2022-12-05T14:48:25.743Z"
   },
   {
    "duration": 18,
    "start_time": "2022-12-05T14:49:14.992Z"
   },
   {
    "duration": 174,
    "start_time": "2022-12-05T14:49:22.743Z"
   },
   {
    "duration": 16,
    "start_time": "2022-12-05T14:57:10.550Z"
   },
   {
    "duration": 18,
    "start_time": "2022-12-05T14:57:32.570Z"
   },
   {
    "duration": 208,
    "start_time": "2022-12-05T14:57:33.679Z"
   },
   {
    "duration": 17,
    "start_time": "2022-12-05T14:59:09.999Z"
   },
   {
    "duration": 196,
    "start_time": "2022-12-05T14:59:32.159Z"
   },
   {
    "duration": 198,
    "start_time": "2022-12-05T15:01:34.938Z"
   },
   {
    "duration": 16,
    "start_time": "2022-12-05T15:06:25.648Z"
   },
   {
    "duration": 243,
    "start_time": "2022-12-05T15:06:38.547Z"
   },
   {
    "duration": 17,
    "start_time": "2022-12-05T15:10:18.410Z"
   },
   {
    "duration": 136,
    "start_time": "2022-12-05T15:10:21.986Z"
   },
   {
    "duration": 16,
    "start_time": "2022-12-05T15:11:09.930Z"
   },
   {
    "duration": 138,
    "start_time": "2022-12-05T15:11:11.651Z"
   },
   {
    "duration": 6,
    "start_time": "2022-12-05T15:20:49.017Z"
   },
   {
    "duration": 5,
    "start_time": "2022-12-05T15:20:57.597Z"
   },
   {
    "duration": 7,
    "start_time": "2022-12-05T15:21:02.814Z"
   },
   {
    "duration": 6,
    "start_time": "2022-12-05T15:21:04.460Z"
   },
   {
    "duration": 6,
    "start_time": "2022-12-05T15:33:16.380Z"
   },
   {
    "duration": 8,
    "start_time": "2022-12-05T15:34:22.843Z"
   },
   {
    "duration": 5,
    "start_time": "2022-12-05T15:34:28.732Z"
   },
   {
    "duration": 1181,
    "start_time": "2022-12-05T15:53:37.877Z"
   },
   {
    "duration": 55,
    "start_time": "2022-12-05T15:53:39.059Z"
   },
   {
    "duration": 14,
    "start_time": "2022-12-05T15:53:39.116Z"
   },
   {
    "duration": 25,
    "start_time": "2022-12-05T15:53:39.132Z"
   },
   {
    "duration": 42,
    "start_time": "2022-12-05T15:53:39.159Z"
   },
   {
    "duration": 53,
    "start_time": "2022-12-05T15:53:39.202Z"
   },
   {
    "duration": 5,
    "start_time": "2022-12-05T15:53:39.256Z"
   },
   {
    "duration": 11,
    "start_time": "2022-12-05T15:53:39.263Z"
   },
   {
    "duration": 53,
    "start_time": "2022-12-05T15:53:39.276Z"
   },
   {
    "duration": 6,
    "start_time": "2022-12-05T15:53:39.332Z"
   },
   {
    "duration": 12,
    "start_time": "2022-12-05T15:53:39.340Z"
   },
   {
    "duration": 18,
    "start_time": "2022-12-05T15:53:39.353Z"
   },
   {
    "duration": 18,
    "start_time": "2022-12-05T15:53:39.373Z"
   },
   {
    "duration": 34,
    "start_time": "2022-12-05T15:53:39.392Z"
   },
   {
    "duration": 5,
    "start_time": "2022-12-05T15:53:39.428Z"
   },
   {
    "duration": 16,
    "start_time": "2022-12-05T15:53:39.435Z"
   },
   {
    "duration": 297,
    "start_time": "2022-12-05T15:53:39.452Z"
   },
   {
    "duration": 7,
    "start_time": "2022-12-05T15:53:39.751Z"
   },
   {
    "duration": 11,
    "start_time": "2022-12-05T15:53:39.759Z"
   },
   {
    "duration": 326,
    "start_time": "2022-12-05T15:53:39.771Z"
   },
   {
    "duration": 5,
    "start_time": "2022-12-05T15:53:40.099Z"
   },
   {
    "duration": 24,
    "start_time": "2022-12-05T15:53:40.106Z"
   },
   {
    "duration": 3,
    "start_time": "2022-12-05T15:53:40.132Z"
   },
   {
    "duration": 299,
    "start_time": "2022-12-05T15:53:40.137Z"
   },
   {
    "duration": 303,
    "start_time": "2022-12-05T15:53:40.438Z"
   },
   {
    "duration": 275,
    "start_time": "2022-12-05T15:53:40.743Z"
   },
   {
    "duration": 35,
    "start_time": "2022-12-05T15:53:41.022Z"
   },
   {
    "duration": 272,
    "start_time": "2022-12-05T15:53:41.061Z"
   },
   {
    "duration": 165,
    "start_time": "2022-12-05T15:53:41.334Z"
   },
   {
    "duration": 171,
    "start_time": "2022-12-05T15:53:41.500Z"
   },
   {
    "duration": 6,
    "start_time": "2022-12-05T15:53:41.673Z"
   },
   {
    "duration": 285,
    "start_time": "2022-12-05T15:53:41.680Z"
   },
   {
    "duration": 291,
    "start_time": "2022-12-05T15:53:41.967Z"
   },
   {
    "duration": 287,
    "start_time": "2022-12-05T15:53:42.260Z"
   },
   {
    "duration": 283,
    "start_time": "2022-12-05T15:53:42.549Z"
   },
   {
    "duration": 16,
    "start_time": "2022-12-05T15:53:42.833Z"
   },
   {
    "duration": 216,
    "start_time": "2022-12-05T15:53:42.851Z"
   },
   {
    "duration": 37,
    "start_time": "2022-12-05T15:53:43.068Z"
   },
   {
    "duration": 379,
    "start_time": "2022-12-05T15:53:43.107Z"
   },
   {
    "duration": 16,
    "start_time": "2022-12-05T15:53:43.487Z"
   },
   {
    "duration": 185,
    "start_time": "2022-12-05T15:53:43.505Z"
   },
   {
    "duration": 10,
    "start_time": "2022-12-05T15:53:43.691Z"
   },
   {
    "duration": 26,
    "start_time": "2022-12-05T15:53:43.703Z"
   },
   {
    "duration": 178,
    "start_time": "2022-12-05T15:53:43.731Z"
   },
   {
    "duration": 12,
    "start_time": "2022-12-05T15:53:43.911Z"
   },
   {
    "duration": 19,
    "start_time": "2022-12-05T15:53:43.924Z"
   },
   {
    "duration": 198,
    "start_time": "2022-12-05T15:53:43.944Z"
   },
   {
    "duration": 11,
    "start_time": "2022-12-05T15:53:44.144Z"
   },
   {
    "duration": 27,
    "start_time": "2022-12-05T15:53:44.157Z"
   },
   {
    "duration": 228,
    "start_time": "2022-12-05T15:53:44.185Z"
   },
   {
    "duration": 21,
    "start_time": "2022-12-05T15:53:44.415Z"
   },
   {
    "duration": 205,
    "start_time": "2022-12-05T15:53:44.438Z"
   },
   {
    "duration": 16,
    "start_time": "2022-12-05T15:53:44.645Z"
   },
   {
    "duration": 209,
    "start_time": "2022-12-05T15:53:44.662Z"
   },
   {
    "duration": 15,
    "start_time": "2022-12-05T15:53:44.873Z"
   },
   {
    "duration": 159,
    "start_time": "2022-12-05T15:53:44.889Z"
   },
   {
    "duration": 15,
    "start_time": "2022-12-05T15:53:45.049Z"
   },
   {
    "duration": 154,
    "start_time": "2022-12-05T15:53:45.066Z"
   },
   {
    "duration": 19,
    "start_time": "2022-12-05T15:53:45.221Z"
   },
   {
    "duration": 151,
    "start_time": "2022-12-05T15:53:45.241Z"
   },
   {
    "duration": 6,
    "start_time": "2022-12-05T15:53:45.394Z"
   },
   {
    "duration": 14,
    "start_time": "2022-12-05T15:53:45.401Z"
   },
   {
    "duration": 12,
    "start_time": "2022-12-05T15:53:45.416Z"
   },
   {
    "duration": 13,
    "start_time": "2022-12-05T15:53:45.429Z"
   },
   {
    "duration": 1375,
    "start_time": "2022-12-05T17:47:29.975Z"
   },
   {
    "duration": 56,
    "start_time": "2022-12-05T17:47:31.353Z"
   },
   {
    "duration": 18,
    "start_time": "2022-12-05T17:47:31.411Z"
   },
   {
    "duration": 6,
    "start_time": "2022-12-05T17:47:31.432Z"
   },
   {
    "duration": 47,
    "start_time": "2022-12-05T17:47:31.440Z"
   },
   {
    "duration": 87,
    "start_time": "2022-12-05T17:47:31.490Z"
   },
   {
    "duration": 6,
    "start_time": "2022-12-05T17:47:31.580Z"
   },
   {
    "duration": 22,
    "start_time": "2022-12-05T17:47:31.588Z"
   },
   {
    "duration": 24,
    "start_time": "2022-12-05T17:47:31.612Z"
   },
   {
    "duration": 19,
    "start_time": "2022-12-05T17:47:31.639Z"
   },
   {
    "duration": 13,
    "start_time": "2022-12-05T17:47:31.660Z"
   },
   {
    "duration": 20,
    "start_time": "2022-12-05T17:47:31.675Z"
   },
   {
    "duration": 35,
    "start_time": "2022-12-05T17:47:31.697Z"
   },
   {
    "duration": 30,
    "start_time": "2022-12-05T17:47:31.734Z"
   },
   {
    "duration": 11,
    "start_time": "2022-12-05T17:47:31.766Z"
   },
   {
    "duration": 38,
    "start_time": "2022-12-05T17:47:31.780Z"
   },
   {
    "duration": 287,
    "start_time": "2022-12-05T17:47:31.821Z"
   },
   {
    "duration": 8,
    "start_time": "2022-12-05T17:47:32.110Z"
   },
   {
    "duration": 33,
    "start_time": "2022-12-05T17:47:32.120Z"
   },
   {
    "duration": 416,
    "start_time": "2022-12-05T17:47:32.156Z"
   },
   {
    "duration": 8,
    "start_time": "2022-12-05T17:47:32.575Z"
   },
   {
    "duration": 24,
    "start_time": "2022-12-05T17:47:32.586Z"
   },
   {
    "duration": 14,
    "start_time": "2022-12-05T17:47:32.613Z"
   },
   {
    "duration": 386,
    "start_time": "2022-12-05T17:47:32.630Z"
   },
   {
    "duration": 403,
    "start_time": "2022-12-05T17:47:33.018Z"
   },
   {
    "duration": 289,
    "start_time": "2022-12-05T17:47:33.424Z"
   },
   {
    "duration": 64,
    "start_time": "2022-12-05T17:47:33.716Z"
   },
   {
    "duration": 318,
    "start_time": "2022-12-05T17:47:33.785Z"
   },
   {
    "duration": 216,
    "start_time": "2022-12-05T17:47:34.105Z"
   },
   {
    "duration": 195,
    "start_time": "2022-12-05T17:47:34.323Z"
   },
   {
    "duration": 8,
    "start_time": "2022-12-05T17:47:34.520Z"
   },
   {
    "duration": 364,
    "start_time": "2022-12-05T17:47:34.530Z"
   },
   {
    "duration": 375,
    "start_time": "2022-12-05T17:47:34.896Z"
   },
   {
    "duration": 356,
    "start_time": "2022-12-05T17:47:35.274Z"
   },
   {
    "duration": 326,
    "start_time": "2022-12-05T17:47:35.632Z"
   },
   {
    "duration": 20,
    "start_time": "2022-12-05T17:47:35.960Z"
   },
   {
    "duration": 253,
    "start_time": "2022-12-05T17:47:35.983Z"
   },
   {
    "duration": 54,
    "start_time": "2022-12-05T17:47:36.239Z"
   },
   {
    "duration": 429,
    "start_time": "2022-12-05T17:47:36.295Z"
   },
   {
    "duration": 30,
    "start_time": "2022-12-05T17:47:36.726Z"
   },
   {
    "duration": 202,
    "start_time": "2022-12-05T17:47:36.758Z"
   },
   {
    "duration": 14,
    "start_time": "2022-12-05T17:47:36.962Z"
   },
   {
    "duration": 24,
    "start_time": "2022-12-05T17:47:36.978Z"
   },
   {
    "duration": 293,
    "start_time": "2022-12-05T17:47:37.004Z"
   },
   {
    "duration": 11,
    "start_time": "2022-12-05T17:47:37.298Z"
   },
   {
    "duration": 21,
    "start_time": "2022-12-05T17:47:37.311Z"
   },
   {
    "duration": 200,
    "start_time": "2022-12-05T17:47:37.351Z"
   },
   {
    "duration": 9,
    "start_time": "2022-12-05T17:47:37.553Z"
   },
   {
    "duration": 20,
    "start_time": "2022-12-05T17:47:37.564Z"
   },
   {
    "duration": 253,
    "start_time": "2022-12-05T17:47:37.587Z"
   },
   {
    "duration": 20,
    "start_time": "2022-12-05T17:47:37.850Z"
   },
   {
    "duration": 290,
    "start_time": "2022-12-05T17:47:37.872Z"
   },
   {
    "duration": 30,
    "start_time": "2022-12-05T17:47:38.166Z"
   },
   {
    "duration": 303,
    "start_time": "2022-12-05T17:47:38.199Z"
   },
   {
    "duration": 20,
    "start_time": "2022-12-05T17:47:38.504Z"
   },
   {
    "duration": 172,
    "start_time": "2022-12-05T17:47:38.527Z"
   },
   {
    "duration": 19,
    "start_time": "2022-12-05T17:47:38.703Z"
   },
   {
    "duration": 168,
    "start_time": "2022-12-05T17:47:38.724Z"
   },
   {
    "duration": 18,
    "start_time": "2022-12-05T17:47:38.895Z"
   },
   {
    "duration": 190,
    "start_time": "2022-12-05T17:47:38.915Z"
   },
   {
    "duration": 9,
    "start_time": "2022-12-05T17:47:39.107Z"
   },
   {
    "duration": 15,
    "start_time": "2022-12-05T17:47:39.118Z"
   },
   {
    "duration": 11,
    "start_time": "2022-12-05T17:47:39.153Z"
   },
   {
    "duration": 16,
    "start_time": "2022-12-05T17:47:39.167Z"
   },
   {
    "duration": 8,
    "start_time": "2022-12-05T17:48:13.205Z"
   }
  ],
  "kernelspec": {
   "display_name": "Python 3 (ipykernel)",
   "language": "python",
   "name": "python3"
  },
  "language_info": {
   "codemirror_mode": {
    "name": "ipython",
    "version": 3
   },
   "file_extension": ".py",
   "mimetype": "text/x-python",
   "name": "python",
   "nbconvert_exporter": "python",
   "pygments_lexer": "ipython3",
   "version": "3.9.13"
  },
  "toc": {
   "base_numbering": 1,
   "nav_menu": {},
   "number_sections": true,
   "sideBar": true,
   "skip_h1_title": true,
   "title_cell": "Table of Contents",
   "title_sidebar": "Contents",
   "toc_cell": false,
   "toc_position": {},
   "toc_section_display": true,
   "toc_window_display": false
  }
 },
 "nbformat": 4,
 "nbformat_minor": 2
}
