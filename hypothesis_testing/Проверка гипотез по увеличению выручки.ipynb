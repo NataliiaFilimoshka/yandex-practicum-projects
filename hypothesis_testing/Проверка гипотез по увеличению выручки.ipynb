{
 "cells": [
  {
   "cell_type": "markdown",
   "metadata": {},
   "source": [
    "# Анализ гипотез для увеличения выручки крупного интернет-магазина."
   ]
  },
  {
   "cell_type": "markdown",
   "metadata": {},
   "source": [
    "**Цель исследования:**  Проанализировать список гипотез для увеличения выручки крупного интернет-магазина, подготовленный вместе с отделом маркетинга ."
   ]
  },
  {
   "cell_type": "markdown",
   "metadata": {},
   "source": [
    "**Ход исследования**\n",
    "1. Приоритизировать гипотезы\n",
    "2. Запустить A/B-тест\n",
    "3. Проанализировать результаты."
   ]
  },
  {
   "cell_type": "code",
   "execution_count": 1,
   "metadata": {},
   "outputs": [],
   "source": [
    "# Загружаем библиотеки\n",
    "import pandas as pd\n",
    "import matplotlib.pyplot as plt\n",
    "import numpy as np\n",
    "import datetime as dt\n",
    "import scipy.stats as stats"
   ]
  },
  {
   "cell_type": "code",
   "execution_count": 2,
   "metadata": {},
   "outputs": [],
   "source": [
    "# Загружаем данные из файла в датафрейм. Указываем два пути, как открыть файл: в локальном юпитере и в тренажёре\n",
    "try:\n",
    "    hypothesis = pd.read_csv('/Users/User/Downloads/hypothesis.csv')\n",
    "    #orders = pd.read_csv('/Users/User/Downloads/orders.csv')\n",
    "    #visitors = pd.read_csv('/Users/User/Downloads/visitors.csv')\n",
    "except:\n",
    "    hypothesis = pd.read_csv('/datasets/hypothesis.csv')\n",
    "    #orders = pd.read_csv('/datasets/orders.csv')\n",
    "    #visitors = pd.read_csv('/datasets/visitors.csv')"
   ]
  },
  {
   "cell_type": "markdown",
   "metadata": {},
   "source": [
    "### Приоритизация гипотез."
   ]
  },
  {
   "cell_type": "markdown",
   "metadata": {},
   "source": [
    "В файле /datasets/hypothesis.csv 9 гипотез по увеличению выручки интернет-магазина с указанными параметрами Reach, Impact, Confidence, Effort"
   ]
  },
  {
   "cell_type": "markdown",
   "metadata": {},
   "source": [
    "1. Примените фреймворк ICE для приоритизации гипотез. Отсортируйте их по убыванию приоритета."
   ]
  },
  {
   "cell_type": "code",
   "execution_count": 3,
   "metadata": {},
   "outputs": [
    {
     "data": {
      "text/html": [
       "<div>\n",
       "<style scoped>\n",
       "    .dataframe tbody tr th:only-of-type {\n",
       "        vertical-align: middle;\n",
       "    }\n",
       "\n",
       "    .dataframe tbody tr th {\n",
       "        vertical-align: top;\n",
       "    }\n",
       "\n",
       "    .dataframe thead th {\n",
       "        text-align: right;\n",
       "    }\n",
       "</style>\n",
       "<table border=\"1\" class=\"dataframe\">\n",
       "  <thead>\n",
       "    <tr style=\"text-align: right;\">\n",
       "      <th></th>\n",
       "      <th>Hypothesis</th>\n",
       "      <th>Reach</th>\n",
       "      <th>Impact</th>\n",
       "      <th>Confidence</th>\n",
       "      <th>Efforts</th>\n",
       "    </tr>\n",
       "  </thead>\n",
       "  <tbody>\n",
       "    <tr>\n",
       "      <th>0</th>\n",
       "      <td>Добавить два новых канала привлечения трафика,...</td>\n",
       "      <td>3</td>\n",
       "      <td>10</td>\n",
       "      <td>8</td>\n",
       "      <td>6</td>\n",
       "    </tr>\n",
       "    <tr>\n",
       "      <th>1</th>\n",
       "      <td>Запустить собственную службу доставки, что сок...</td>\n",
       "      <td>2</td>\n",
       "      <td>5</td>\n",
       "      <td>4</td>\n",
       "      <td>10</td>\n",
       "    </tr>\n",
       "    <tr>\n",
       "      <th>2</th>\n",
       "      <td>Добавить блоки рекомендаций товаров на сайт ин...</td>\n",
       "      <td>8</td>\n",
       "      <td>3</td>\n",
       "      <td>7</td>\n",
       "      <td>3</td>\n",
       "    </tr>\n",
       "    <tr>\n",
       "      <th>3</th>\n",
       "      <td>Изменить структура категорий, что увеличит кон...</td>\n",
       "      <td>8</td>\n",
       "      <td>3</td>\n",
       "      <td>3</td>\n",
       "      <td>8</td>\n",
       "    </tr>\n",
       "    <tr>\n",
       "      <th>4</th>\n",
       "      <td>Изменить цвет фона главной страницы, чтобы уве...</td>\n",
       "      <td>3</td>\n",
       "      <td>1</td>\n",
       "      <td>1</td>\n",
       "      <td>1</td>\n",
       "    </tr>\n",
       "    <tr>\n",
       "      <th>5</th>\n",
       "      <td>Добавить страницу отзывов клиентов о магазине,...</td>\n",
       "      <td>3</td>\n",
       "      <td>2</td>\n",
       "      <td>2</td>\n",
       "      <td>3</td>\n",
       "    </tr>\n",
       "    <tr>\n",
       "      <th>6</th>\n",
       "      <td>Показать на главной странице баннеры с актуаль...</td>\n",
       "      <td>5</td>\n",
       "      <td>3</td>\n",
       "      <td>8</td>\n",
       "      <td>3</td>\n",
       "    </tr>\n",
       "    <tr>\n",
       "      <th>7</th>\n",
       "      <td>Добавить форму подписки на все основные страни...</td>\n",
       "      <td>10</td>\n",
       "      <td>7</td>\n",
       "      <td>8</td>\n",
       "      <td>5</td>\n",
       "    </tr>\n",
       "    <tr>\n",
       "      <th>8</th>\n",
       "      <td>Запустить акцию, дающую скидку на товар в день...</td>\n",
       "      <td>1</td>\n",
       "      <td>9</td>\n",
       "      <td>9</td>\n",
       "      <td>5</td>\n",
       "    </tr>\n",
       "  </tbody>\n",
       "</table>\n",
       "</div>"
      ],
      "text/plain": [
       "                                          Hypothesis  Reach  Impact  \\\n",
       "0  Добавить два новых канала привлечения трафика,...      3      10   \n",
       "1  Запустить собственную службу доставки, что сок...      2       5   \n",
       "2  Добавить блоки рекомендаций товаров на сайт ин...      8       3   \n",
       "3  Изменить структура категорий, что увеличит кон...      8       3   \n",
       "4  Изменить цвет фона главной страницы, чтобы уве...      3       1   \n",
       "5  Добавить страницу отзывов клиентов о магазине,...      3       2   \n",
       "6  Показать на главной странице баннеры с актуаль...      5       3   \n",
       "7  Добавить форму подписки на все основные страни...     10       7   \n",
       "8  Запустить акцию, дающую скидку на товар в день...      1       9   \n",
       "\n",
       "   Confidence  Efforts  \n",
       "0           8        6  \n",
       "1           4       10  \n",
       "2           7        3  \n",
       "3           3        8  \n",
       "4           1        1  \n",
       "5           2        3  \n",
       "6           8        3  \n",
       "7           8        5  \n",
       "8           9        5  "
      ]
     },
     "execution_count": 3,
     "metadata": {},
     "output_type": "execute_result"
    }
   ],
   "source": [
    "hypothesis"
   ]
  },
  {
   "cell_type": "code",
   "execution_count": 4,
   "metadata": {},
   "outputs": [
    {
     "data": {
      "text/html": [
       "<div>\n",
       "<style scoped>\n",
       "    .dataframe tbody tr th:only-of-type {\n",
       "        vertical-align: middle;\n",
       "    }\n",
       "\n",
       "    .dataframe tbody tr th {\n",
       "        vertical-align: top;\n",
       "    }\n",
       "\n",
       "    .dataframe thead th {\n",
       "        text-align: right;\n",
       "    }\n",
       "</style>\n",
       "<table border=\"1\" class=\"dataframe\">\n",
       "  <thead>\n",
       "    <tr style=\"text-align: right;\">\n",
       "      <th></th>\n",
       "      <th>Hypothesis</th>\n",
       "      <th>ICE</th>\n",
       "    </tr>\n",
       "  </thead>\n",
       "  <tbody>\n",
       "    <tr>\n",
       "      <th>8</th>\n",
       "      <td>Запустить акцию, дающую скидку на товар в день...</td>\n",
       "      <td>16.200000</td>\n",
       "    </tr>\n",
       "    <tr>\n",
       "      <th>0</th>\n",
       "      <td>Добавить два новых канала привлечения трафика,...</td>\n",
       "      <td>13.333333</td>\n",
       "    </tr>\n",
       "    <tr>\n",
       "      <th>7</th>\n",
       "      <td>Добавить форму подписки на все основные страни...</td>\n",
       "      <td>11.200000</td>\n",
       "    </tr>\n",
       "    <tr>\n",
       "      <th>6</th>\n",
       "      <td>Показать на главной странице баннеры с актуаль...</td>\n",
       "      <td>8.000000</td>\n",
       "    </tr>\n",
       "    <tr>\n",
       "      <th>2</th>\n",
       "      <td>Добавить блоки рекомендаций товаров на сайт ин...</td>\n",
       "      <td>7.000000</td>\n",
       "    </tr>\n",
       "    <tr>\n",
       "      <th>1</th>\n",
       "      <td>Запустить собственную службу доставки, что сок...</td>\n",
       "      <td>2.000000</td>\n",
       "    </tr>\n",
       "    <tr>\n",
       "      <th>5</th>\n",
       "      <td>Добавить страницу отзывов клиентов о магазине,...</td>\n",
       "      <td>1.333333</td>\n",
       "    </tr>\n",
       "    <tr>\n",
       "      <th>3</th>\n",
       "      <td>Изменить структура категорий, что увеличит кон...</td>\n",
       "      <td>1.125000</td>\n",
       "    </tr>\n",
       "    <tr>\n",
       "      <th>4</th>\n",
       "      <td>Изменить цвет фона главной страницы, чтобы уве...</td>\n",
       "      <td>1.000000</td>\n",
       "    </tr>\n",
       "  </tbody>\n",
       "</table>\n",
       "</div>"
      ],
      "text/plain": [
       "                                          Hypothesis        ICE\n",
       "8  Запустить акцию, дающую скидку на товар в день...  16.200000\n",
       "0  Добавить два новых канала привлечения трафика,...  13.333333\n",
       "7  Добавить форму подписки на все основные страни...  11.200000\n",
       "6  Показать на главной странице баннеры с актуаль...   8.000000\n",
       "2  Добавить блоки рекомендаций товаров на сайт ин...   7.000000\n",
       "1  Запустить собственную службу доставки, что сок...   2.000000\n",
       "5  Добавить страницу отзывов клиентов о магазине,...   1.333333\n",
       "3  Изменить структура категорий, что увеличит кон...   1.125000\n",
       "4  Изменить цвет фона главной страницы, чтобы уве...   1.000000"
      ]
     },
     "metadata": {},
     "output_type": "display_data"
    }
   ],
   "source": [
    "# Примените фреймворк ICE для приоритизации гипотез\n",
    "hypothesis['ICE'] = hypothesis['Impact'] * hypothesis['Confidence'] / hypothesis['Efforts']\n",
    "display(hypothesis[['Hypothesis', 'ICE']].sort_values(by = 'ICE', ascending = False))"
   ]
  },
  {
   "cell_type": "markdown",
   "metadata": {},
   "source": [
    "Наиболее перспективные гипотезы по ICE: под номерами 8, 0, 7"
   ]
  },
  {
   "cell_type": "markdown",
   "metadata": {},
   "source": [
    "2. Примените фреймворк RICE для приоритизации гипотез. Отсортируйте их по убыванию приоритета."
   ]
  },
  {
   "cell_type": "code",
   "execution_count": 5,
   "metadata": {},
   "outputs": [
    {
     "data": {
      "text/html": [
       "<div>\n",
       "<style scoped>\n",
       "    .dataframe tbody tr th:only-of-type {\n",
       "        vertical-align: middle;\n",
       "    }\n",
       "\n",
       "    .dataframe tbody tr th {\n",
       "        vertical-align: top;\n",
       "    }\n",
       "\n",
       "    .dataframe thead th {\n",
       "        text-align: right;\n",
       "    }\n",
       "</style>\n",
       "<table border=\"1\" class=\"dataframe\">\n",
       "  <thead>\n",
       "    <tr style=\"text-align: right;\">\n",
       "      <th></th>\n",
       "      <th>Hypothesis</th>\n",
       "      <th>RICE</th>\n",
       "    </tr>\n",
       "  </thead>\n",
       "  <tbody>\n",
       "    <tr>\n",
       "      <th>7</th>\n",
       "      <td>Добавить форму подписки на все основные страни...</td>\n",
       "      <td>112.0</td>\n",
       "    </tr>\n",
       "    <tr>\n",
       "      <th>2</th>\n",
       "      <td>Добавить блоки рекомендаций товаров на сайт ин...</td>\n",
       "      <td>56.0</td>\n",
       "    </tr>\n",
       "    <tr>\n",
       "      <th>0</th>\n",
       "      <td>Добавить два новых канала привлечения трафика,...</td>\n",
       "      <td>40.0</td>\n",
       "    </tr>\n",
       "    <tr>\n",
       "      <th>6</th>\n",
       "      <td>Показать на главной странице баннеры с актуаль...</td>\n",
       "      <td>40.0</td>\n",
       "    </tr>\n",
       "    <tr>\n",
       "      <th>8</th>\n",
       "      <td>Запустить акцию, дающую скидку на товар в день...</td>\n",
       "      <td>16.2</td>\n",
       "    </tr>\n",
       "    <tr>\n",
       "      <th>3</th>\n",
       "      <td>Изменить структура категорий, что увеличит кон...</td>\n",
       "      <td>9.0</td>\n",
       "    </tr>\n",
       "    <tr>\n",
       "      <th>1</th>\n",
       "      <td>Запустить собственную службу доставки, что сок...</td>\n",
       "      <td>4.0</td>\n",
       "    </tr>\n",
       "    <tr>\n",
       "      <th>5</th>\n",
       "      <td>Добавить страницу отзывов клиентов о магазине,...</td>\n",
       "      <td>4.0</td>\n",
       "    </tr>\n",
       "    <tr>\n",
       "      <th>4</th>\n",
       "      <td>Изменить цвет фона главной страницы, чтобы уве...</td>\n",
       "      <td>3.0</td>\n",
       "    </tr>\n",
       "  </tbody>\n",
       "</table>\n",
       "</div>"
      ],
      "text/plain": [
       "                                          Hypothesis   RICE\n",
       "7  Добавить форму подписки на все основные страни...  112.0\n",
       "2  Добавить блоки рекомендаций товаров на сайт ин...   56.0\n",
       "0  Добавить два новых канала привлечения трафика,...   40.0\n",
       "6  Показать на главной странице баннеры с актуаль...   40.0\n",
       "8  Запустить акцию, дающую скидку на товар в день...   16.2\n",
       "3  Изменить структура категорий, что увеличит кон...    9.0\n",
       "1  Запустить собственную службу доставки, что сок...    4.0\n",
       "5  Добавить страницу отзывов клиентов о магазине,...    4.0\n",
       "4  Изменить цвет фона главной страницы, чтобы уве...    3.0"
      ]
     },
     "execution_count": 5,
     "metadata": {},
     "output_type": "execute_result"
    }
   ],
   "source": [
    "# Примените фреймворк RICE для приоритизации гипотез\n",
    "hypothesis['RICE'] = hypothesis['Reach'] * hypothesis['Impact'] * hypothesis['Confidence'] / hypothesis['Efforts']\n",
    "hypothesis[['Hypothesis', 'RICE']].sort_values(by = 'RICE', ascending = False)"
   ]
  },
  {
   "cell_type": "markdown",
   "metadata": {},
   "source": [
    "Наиболее перспективные гипотезы по RICE: под номерами 7, 2, 0"
   ]
  },
  {
   "cell_type": "markdown",
   "metadata": {},
   "source": [
    "**Вывод:** Видим, что гипотезы под индексами 7 и 0 самые перспективные и по сособобу приоритизауии ICE и RICE. Однако гипотеза 7 с названием \"Добавить форму подписки на все основные страницы\" самая перспективная по RICE, потому что ее параметр Reach равен 10, в то время как у других гипотез меньше. Важно учитывать, сколько пользователей затронет гипотеза."
   ]
  },
  {
   "cell_type": "markdown",
   "metadata": {},
   "source": [
    "### Анализ A/B-теста"
   ]
  },
  {
   "cell_type": "markdown",
   "metadata": {},
   "source": [
    "После проведения A/B-теста получили результаты, которые описаны в файлах /datasets/orders.csv и /datasets/visitors.csv"
   ]
  },
  {
   "cell_type": "code",
   "execution_count": 6,
   "metadata": {},
   "outputs": [
    {
     "data": {
      "text/html": [
       "<div>\n",
       "<style scoped>\n",
       "    .dataframe tbody tr th:only-of-type {\n",
       "        vertical-align: middle;\n",
       "    }\n",
       "\n",
       "    .dataframe tbody tr th {\n",
       "        vertical-align: top;\n",
       "    }\n",
       "\n",
       "    .dataframe thead th {\n",
       "        text-align: right;\n",
       "    }\n",
       "</style>\n",
       "<table border=\"1\" class=\"dataframe\">\n",
       "  <thead>\n",
       "    <tr style=\"text-align: right;\">\n",
       "      <th></th>\n",
       "      <th>transactionId</th>\n",
       "      <th>visitorId</th>\n",
       "      <th>date</th>\n",
       "      <th>revenue</th>\n",
       "      <th>group</th>\n",
       "    </tr>\n",
       "  </thead>\n",
       "  <tbody>\n",
       "    <tr>\n",
       "      <th>0</th>\n",
       "      <td>3667963787</td>\n",
       "      <td>3312258926</td>\n",
       "      <td>2019-08-15</td>\n",
       "      <td>1650</td>\n",
       "      <td>B</td>\n",
       "    </tr>\n",
       "    <tr>\n",
       "      <th>1</th>\n",
       "      <td>2804400009</td>\n",
       "      <td>3642806036</td>\n",
       "      <td>2019-08-15</td>\n",
       "      <td>730</td>\n",
       "      <td>B</td>\n",
       "    </tr>\n",
       "    <tr>\n",
       "      <th>2</th>\n",
       "      <td>2961555356</td>\n",
       "      <td>4069496402</td>\n",
       "      <td>2019-08-15</td>\n",
       "      <td>400</td>\n",
       "      <td>A</td>\n",
       "    </tr>\n",
       "    <tr>\n",
       "      <th>3</th>\n",
       "      <td>3797467345</td>\n",
       "      <td>1196621759</td>\n",
       "      <td>2019-08-15</td>\n",
       "      <td>9759</td>\n",
       "      <td>B</td>\n",
       "    </tr>\n",
       "    <tr>\n",
       "      <th>4</th>\n",
       "      <td>2282983706</td>\n",
       "      <td>2322279887</td>\n",
       "      <td>2019-08-15</td>\n",
       "      <td>2308</td>\n",
       "      <td>B</td>\n",
       "    </tr>\n",
       "  </tbody>\n",
       "</table>\n",
       "</div>"
      ],
      "text/plain": [
       "   transactionId   visitorId       date  revenue group\n",
       "0     3667963787  3312258926 2019-08-15     1650     B\n",
       "1     2804400009  3642806036 2019-08-15      730     B\n",
       "2     2961555356  4069496402 2019-08-15      400     A\n",
       "3     3797467345  1196621759 2019-08-15     9759     B\n",
       "4     2282983706  2322279887 2019-08-15     2308     B"
      ]
     },
     "metadata": {},
     "output_type": "display_data"
    },
    {
     "data": {
      "text/html": [
       "<div>\n",
       "<style scoped>\n",
       "    .dataframe tbody tr th:only-of-type {\n",
       "        vertical-align: middle;\n",
       "    }\n",
       "\n",
       "    .dataframe tbody tr th {\n",
       "        vertical-align: top;\n",
       "    }\n",
       "\n",
       "    .dataframe thead th {\n",
       "        text-align: right;\n",
       "    }\n",
       "</style>\n",
       "<table border=\"1\" class=\"dataframe\">\n",
       "  <thead>\n",
       "    <tr style=\"text-align: right;\">\n",
       "      <th></th>\n",
       "      <th>date</th>\n",
       "      <th>group</th>\n",
       "      <th>visitors</th>\n",
       "    </tr>\n",
       "  </thead>\n",
       "  <tbody>\n",
       "    <tr>\n",
       "      <th>0</th>\n",
       "      <td>2019-08-01</td>\n",
       "      <td>A</td>\n",
       "      <td>719</td>\n",
       "    </tr>\n",
       "    <tr>\n",
       "      <th>1</th>\n",
       "      <td>2019-08-02</td>\n",
       "      <td>A</td>\n",
       "      <td>619</td>\n",
       "    </tr>\n",
       "    <tr>\n",
       "      <th>2</th>\n",
       "      <td>2019-08-03</td>\n",
       "      <td>A</td>\n",
       "      <td>507</td>\n",
       "    </tr>\n",
       "    <tr>\n",
       "      <th>3</th>\n",
       "      <td>2019-08-04</td>\n",
       "      <td>A</td>\n",
       "      <td>717</td>\n",
       "    </tr>\n",
       "    <tr>\n",
       "      <th>4</th>\n",
       "      <td>2019-08-05</td>\n",
       "      <td>A</td>\n",
       "      <td>756</td>\n",
       "    </tr>\n",
       "  </tbody>\n",
       "</table>\n",
       "</div>"
      ],
      "text/plain": [
       "        date group  visitors\n",
       "0 2019-08-01     A       719\n",
       "1 2019-08-02     A       619\n",
       "2 2019-08-03     A       507\n",
       "3 2019-08-04     A       717\n",
       "4 2019-08-05     A       756"
      ]
     },
     "metadata": {},
     "output_type": "display_data"
    }
   ],
   "source": [
    "# Прочтём данные из файлов с результатами A/B-тестирования: \n",
    "orders = pd.read_csv('/datasets/orders.csv', sep=',')\n",
    "orders['date'] = orders['date'].map(lambda x: dt.datetime.strptime(x, '%Y-%m-%d'))\n",
    "\n",
    "visitors = pd.read_csv('/datasets/visitors.csv', sep=',')\n",
    "visitors['date'] = visitors['date'].map(lambda x: dt.datetime.strptime(x, '%Y-%m-%d'))\n",
    "\n",
    "display(orders.head())\n",
    "display(visitors.head())"
   ]
  },
  {
   "cell_type": "code",
   "execution_count": 7,
   "metadata": {},
   "outputs": [
    {
     "data": {
      "text/plain": [
       "0"
      ]
     },
     "execution_count": 7,
     "metadata": {},
     "output_type": "execute_result"
    }
   ],
   "source": [
    "# Проверяем явные дубликаты в visitors.\n",
    "visitors.duplicated().sum()"
   ]
  },
  {
   "cell_type": "code",
   "execution_count": 8,
   "metadata": {},
   "outputs": [
    {
     "data": {
      "text/plain": [
       "0"
      ]
     },
     "execution_count": 8,
     "metadata": {},
     "output_type": "execute_result"
    }
   ],
   "source": [
    "# Проверяем явные дубликаты в orders.\n",
    "orders.duplicated().sum()"
   ]
  },
  {
   "cell_type": "code",
   "execution_count": 9,
   "metadata": {},
   "outputs": [
    {
     "data": {
      "text/plain": [
       "date        0\n",
       "group       0\n",
       "visitors    0\n",
       "dtype: int64"
      ]
     },
     "execution_count": 9,
     "metadata": {},
     "output_type": "execute_result"
    }
   ],
   "source": [
    "# Проверяем количество пропусков в visitors.\n",
    "visitors.isna().sum()"
   ]
  },
  {
   "cell_type": "code",
   "execution_count": 10,
   "metadata": {},
   "outputs": [
    {
     "data": {
      "text/plain": [
       "transactionId    0\n",
       "visitorId        0\n",
       "date             0\n",
       "revenue          0\n",
       "group            0\n",
       "dtype: int64"
      ]
     },
     "execution_count": 10,
     "metadata": {},
     "output_type": "execute_result"
    }
   ],
   "source": [
    "# Проверяем количество пропусков в orders.\n",
    "orders.isna().sum()"
   ]
  },
  {
   "cell_type": "markdown",
   "metadata": {},
   "source": [
    "Дубликаты и пропуски в данных отсутствуют. Предобработка не нужна."
   ]
  },
  {
   "cell_type": "code",
   "execution_count": 11,
   "metadata": {},
   "outputs": [
    {
     "data": {
      "text/plain": [
       "group    58\n",
       "dtype: int64"
      ]
     },
     "execution_count": 11,
     "metadata": {},
     "output_type": "execute_result"
    }
   ],
   "source": [
    "# Проверим, сколько пользователей попали одновременно в обе группы \n",
    "orders.groupby('visitorId').agg({'group' : 'nunique'}).query('group > 1').count()"
   ]
  },
  {
   "cell_type": "code",
   "execution_count": 12,
   "metadata": {},
   "outputs": [],
   "source": [
    "# Создаем список пользователей с уникальными visitorId:\n",
    "double_users = orders.groupby('visitorId').agg({'group' : 'nunique'}).reset_index().query('group > 1')['visitorId'].unique()"
   ]
  },
  {
   "cell_type": "code",
   "execution_count": 13,
   "metadata": {},
   "outputs": [],
   "source": [
    "# Удаляем этих пользователей из таблицы orders:\n",
    "orders = orders.query('visitorId not in @double_users')"
   ]
  },
  {
   "cell_type": "code",
   "execution_count": 14,
   "metadata": {},
   "outputs": [
    {
     "data": {
      "text/plain": [
       "group    0\n",
       "dtype: int64"
      ]
     },
     "execution_count": 14,
     "metadata": {},
     "output_type": "execute_result"
    }
   ],
   "source": [
    "orders.groupby('visitorId').agg({'group' : 'nunique'}).query('group > 1').count()"
   ]
  },
  {
   "cell_type": "markdown",
   "metadata": {},
   "source": [
    "В таблице orders 58 пользователей оказалось одновременно в двух группах. Поэтому мы их удаляем из данных, чтобы расчеты были более точными."
   ]
  },
  {
   "cell_type": "code",
   "execution_count": 15,
   "metadata": {},
   "outputs": [
    {
     "data": {
      "text/html": [
       "<div>\n",
       "<style scoped>\n",
       "    .dataframe tbody tr th:only-of-type {\n",
       "        vertical-align: middle;\n",
       "    }\n",
       "\n",
       "    .dataframe tbody tr th {\n",
       "        vertical-align: top;\n",
       "    }\n",
       "\n",
       "    .dataframe thead th {\n",
       "        text-align: right;\n",
       "    }\n",
       "</style>\n",
       "<table border=\"1\" class=\"dataframe\">\n",
       "  <thead>\n",
       "    <tr style=\"text-align: right;\">\n",
       "      <th></th>\n",
       "      <th>date</th>\n",
       "      <th>group</th>\n",
       "      <th>orders</th>\n",
       "      <th>buyers</th>\n",
       "      <th>revenue</th>\n",
       "      <th>visitors</th>\n",
       "    </tr>\n",
       "  </thead>\n",
       "  <tbody>\n",
       "    <tr>\n",
       "      <th>0</th>\n",
       "      <td>2019-08-01</td>\n",
       "      <td>A</td>\n",
       "      <td>23</td>\n",
       "      <td>19</td>\n",
       "      <td>142779</td>\n",
       "      <td>719</td>\n",
       "    </tr>\n",
       "    <tr>\n",
       "      <th>1</th>\n",
       "      <td>2019-08-01</td>\n",
       "      <td>B</td>\n",
       "      <td>17</td>\n",
       "      <td>17</td>\n",
       "      <td>59758</td>\n",
       "      <td>713</td>\n",
       "    </tr>\n",
       "    <tr>\n",
       "      <th>2</th>\n",
       "      <td>2019-08-02</td>\n",
       "      <td>A</td>\n",
       "      <td>42</td>\n",
       "      <td>36</td>\n",
       "      <td>234381</td>\n",
       "      <td>1338</td>\n",
       "    </tr>\n",
       "    <tr>\n",
       "      <th>3</th>\n",
       "      <td>2019-08-02</td>\n",
       "      <td>B</td>\n",
       "      <td>40</td>\n",
       "      <td>39</td>\n",
       "      <td>221801</td>\n",
       "      <td>1294</td>\n",
       "    </tr>\n",
       "    <tr>\n",
       "      <th>4</th>\n",
       "      <td>2019-08-03</td>\n",
       "      <td>A</td>\n",
       "      <td>66</td>\n",
       "      <td>60</td>\n",
       "      <td>346854</td>\n",
       "      <td>1845</td>\n",
       "    </tr>\n",
       "    <tr>\n",
       "      <th>...</th>\n",
       "      <td>...</td>\n",
       "      <td>...</td>\n",
       "      <td>...</td>\n",
       "      <td>...</td>\n",
       "      <td>...</td>\n",
       "      <td>...</td>\n",
       "    </tr>\n",
       "    <tr>\n",
       "      <th>57</th>\n",
       "      <td>2019-08-29</td>\n",
       "      <td>B</td>\n",
       "      <td>510</td>\n",
       "      <td>490</td>\n",
       "      <td>4746610</td>\n",
       "      <td>17708</td>\n",
       "    </tr>\n",
       "    <tr>\n",
       "      <th>58</th>\n",
       "      <td>2019-08-30</td>\n",
       "      <td>A</td>\n",
       "      <td>460</td>\n",
       "      <td>437</td>\n",
       "      <td>3311413</td>\n",
       "      <td>18037</td>\n",
       "    </tr>\n",
       "    <tr>\n",
       "      <th>59</th>\n",
       "      <td>2019-08-30</td>\n",
       "      <td>B</td>\n",
       "      <td>531</td>\n",
       "      <td>511</td>\n",
       "      <td>4955833</td>\n",
       "      <td>18198</td>\n",
       "    </tr>\n",
       "    <tr>\n",
       "      <th>60</th>\n",
       "      <td>2019-08-31</td>\n",
       "      <td>A</td>\n",
       "      <td>468</td>\n",
       "      <td>445</td>\n",
       "      <td>3364656</td>\n",
       "      <td>18736</td>\n",
       "    </tr>\n",
       "    <tr>\n",
       "      <th>61</th>\n",
       "      <td>2019-08-31</td>\n",
       "      <td>B</td>\n",
       "      <td>548</td>\n",
       "      <td>528</td>\n",
       "      <td>5068972</td>\n",
       "      <td>18916</td>\n",
       "    </tr>\n",
       "  </tbody>\n",
       "</table>\n",
       "<p>62 rows × 6 columns</p>\n",
       "</div>"
      ],
      "text/plain": [
       "         date group  orders  buyers  revenue  visitors\n",
       "0  2019-08-01     A      23      19   142779       719\n",
       "1  2019-08-01     B      17      17    59758       713\n",
       "2  2019-08-02     A      42      36   234381      1338\n",
       "3  2019-08-02     B      40      39   221801      1294\n",
       "4  2019-08-03     A      66      60   346854      1845\n",
       "..        ...   ...     ...     ...      ...       ...\n",
       "57 2019-08-29     B     510     490  4746610     17708\n",
       "58 2019-08-30     A     460     437  3311413     18037\n",
       "59 2019-08-30     B     531     511  4955833     18198\n",
       "60 2019-08-31     A     468     445  3364656     18736\n",
       "61 2019-08-31     B     548     528  5068972     18916\n",
       "\n",
       "[62 rows x 6 columns]"
      ]
     },
     "metadata": {},
     "output_type": "display_data"
    }
   ],
   "source": [
    "# Чтобы построить графики, нужно собрать кумулятивные данные.\n",
    "# создаем массив уникальных пар значений дат и групп теста\n",
    "datesGroups = orders[['date','group']].drop_duplicates()\n",
    "\n",
    "# получаем агрегированные кумулятивные по дням данные о заказах \n",
    "ordersAggregated = datesGroups.apply(\n",
    "    lambda x: orders[np.logical_and(orders['date'] <= x['date'], orders['group'] == x['group'])]\n",
    "    .agg({'date' : 'max', 'group' : 'max', 'transactionId' : 'nunique', 'visitorId' : 'nunique', 'revenue' : 'sum'}),\n",
    "    axis=1).sort_values(by=['date','group'])\n",
    "\n",
    "# получаем агрегированные кумулятивные по дням данные о посетителях интернет-магазина \n",
    "visitorsAggregated = datesGroups.apply(\n",
    "    lambda x: visitors[np.logical_and(visitors['date'] <= x['date'], visitors['group'] == x['group'])]\n",
    "    .agg({'date' : 'max', 'group' : 'max', 'visitors' : 'sum'}), axis=1).sort_values(by=['date','group'])\n",
    "\n",
    "# объединяем кумулятивные данные в одной таблице и присваиваем ее столбцам понятные названия\n",
    "cumulativeData = ordersAggregated.merge(visitorsAggregated, left_on=['date', 'group'], right_on=['date', 'group'])\n",
    "cumulativeData.columns = ['date', 'group', 'orders', 'buyers', 'revenue', 'visitors']\n",
    "\n",
    "display(cumulativeData)"
   ]
  },
  {
   "cell_type": "markdown",
   "metadata": {},
   "source": [
    "1. Постройте график кумулятивной выручки по группам. Сделайте выводы и предположения."
   ]
  },
  {
   "cell_type": "code",
   "execution_count": 16,
   "metadata": {},
   "outputs": [
    {
     "data": {
      "image/png": "[encoded data removed]",
      "text/plain": [
       "<Figure size 432x288 with 1 Axes>"
      ]
     },
     "metadata": {
      "needs_background": "light"
     },
     "output_type": "display_data"
    }
   ],
   "source": [
    "# датафрейм с кумулятивным количеством заказов и кумулятивной выручкой по дням в группе А\n",
    "cumulativeRevenueA = cumulativeData[cumulativeData['group']=='A'][['date','revenue', 'orders']]\n",
    "\n",
    "# датафрейм с кумулятивным количеством заказов и кумулятивной выручкой по дням в группе B\n",
    "cumulativeRevenueB = cumulativeData[cumulativeData['group']=='B'][['date','revenue', 'orders']]\n",
    "\n",
    "# Строим график выручки группы А\n",
    "plt.plot(cumulativeRevenueA['date'], cumulativeRevenueA['revenue'], label='A')\n",
    "\n",
    "# Строим график выручки группы B\n",
    "plt.plot(cumulativeRevenueB['date'], cumulativeRevenueB['revenue'], label='B')\n",
    "plt.title('График кумулятивной выручки по группам')\n",
    "plt.xticks(rotation = 45)\n",
    "plt.xlabel(\"Дата\")\n",
    "plt.ylabel(\"Кумулятивная выручка\")\n",
    "plt.show()"
   ]
  },
  {
   "cell_type": "markdown",
   "metadata": {},
   "source": [
    "**Вывод:** Видим, что выручка обеих групп увеличивается на протяжении всего теста. Но происходит резкий скачок выручки группы В. Это может сигнализировать о всплесках числа заказов, либо о появлении очень дорогих заказов в выборке."
   ]
  },
  {
   "cell_type": "markdown",
   "metadata": {},
   "source": [
    "2. Постройте график кумулятивного среднего чека по группам. Сделайте выводы и предположения."
   ]
  },
  {
   "cell_type": "code",
   "execution_count": 17,
   "metadata": {},
   "outputs": [
    {
     "data": {
      "image/png": "[encoded data removed]",
      "text/plain": [
       "<Figure size 432x288 with 1 Axes>"
      ]
     },
     "metadata": {
      "needs_background": "light"
     },
     "output_type": "display_data"
    }
   ],
   "source": [
    "plt.plot(cumulativeRevenueA['date'], cumulativeRevenueA['revenue']/cumulativeRevenueA['orders'], label='A')\n",
    "plt.plot(cumulativeRevenueB['date'], cumulativeRevenueB['revenue']/cumulativeRevenueB['orders'], label='B')\n",
    "plt.title('График кумулятивного среднего чека по группам')\n",
    "plt.xticks(rotation = 45)\n",
    "plt.xlabel(\"Дата\")\n",
    "plt.ylabel(\"Кумулятивный средний чек\")\n",
    "plt.legend()\n",
    "plt.show()"
   ]
  },
  {
   "cell_type": "markdown",
   "metadata": {},
   "source": [
    "**Вывод:** Средний чек по группам различается. В группе А средний чек установился ближе к концу теста, а в группу B произошел резкий скачок. Возможно, в группу B теста попали крупные заказы (резкий всплеск на графике). Тогда ей нужно больше данных, чтобы прийти к реальному среднему чеку и установиться на его уровне или почистить данные от аномальных заказов."
   ]
  },
  {
   "cell_type": "markdown",
   "metadata": {},
   "source": [
    "3. Постройте график относительного изменения кумулятивного среднего чека группы B к группе A. Сделайте выводы и предположения."
   ]
  },
  {
   "cell_type": "code",
   "execution_count": 18,
   "metadata": {},
   "outputs": [
    {
     "data": {
      "image/png": "[encoded data removed]",
      "text/plain": [
       "<Figure size 432x288 with 1 Axes>"
      ]
     },
     "metadata": {
      "needs_background": "light"
     },
     "output_type": "display_data"
    }
   ],
   "source": [
    "# собираем данные в одном датафрейме\n",
    "mergedCumulativeRevenue = cumulativeRevenueA.merge(cumulativeRevenueB, left_on='date', right_on='date', how='left', suffixes=['A', 'B'])\n",
    "\n",
    "# cтроим отношение средних чеков\n",
    "plt.plot(mergedCumulativeRevenue['date'], (mergedCumulativeRevenue['revenueB']/mergedCumulativeRevenue['ordersB'])/(mergedCumulativeRevenue['revenueA']/mergedCumulativeRevenue['ordersA'])-1)\n",
    "\n",
    "# добавляем ось X\n",
    "plt.axhline(y=0, color='black', linestyle='--')\n",
    "\n",
    "plt.title('График относительного изменения кумулятивного среднего чека группы B к группе A')\n",
    "plt.xticks(rotation = 45)\n",
    "plt.xlabel(\"Дата\")\n",
    "plt.ylabel(\"Кумулятивный средний чек\")\n",
    "plt.show()"
   ]
  },
  {
   "cell_type": "markdown",
   "metadata": {},
   "source": [
    "**Вывод:** В нескольких точках график различия между сегментами резко «скачет». Скорее всего, это связано с крупными заказами и выбросами."
   ]
  },
  {
   "cell_type": "markdown",
   "metadata": {},
   "source": [
    "4. Постройте график кумулятивного среднего количества заказов на посетителя по группам. Сделайте выводы и предположения."
   ]
  },
  {
   "cell_type": "code",
   "execution_count": 19,
   "metadata": {},
   "outputs": [
    {
     "data": {
      "image/png": "[encoded data removed]",
      "text/plain": [
       "<Figure size 432x288 with 1 Axes>"
      ]
     },
     "metadata": {
      "needs_background": "light"
     },
     "output_type": "display_data"
    }
   ],
   "source": [
    "# считаем кумулятивную конверсию\n",
    "cumulativeData['conversion'] = cumulativeData['orders']/cumulativeData['visitors']\n",
    "\n",
    "# отделяем данные по группе A\n",
    "cumulativeDataA = cumulativeData[cumulativeData['group']=='A']\n",
    "\n",
    "# отделяем данные по группе B\n",
    "cumulativeDataB = cumulativeData[cumulativeData['group']=='B']\n",
    "\n",
    "# строим графики\n",
    "plt.plot(cumulativeDataA['date'], cumulativeDataA['conversion'], label='A')\n",
    "plt.plot(cumulativeDataB['date'], cumulativeDataB['conversion'], label='B')\n",
    "plt.title('График кумулятивного среднего количества заказов на посетителя по группам')\n",
    "plt.xticks(rotation = 45)\n",
    "plt.xlabel(\"Дата\")\n",
    "plt.ylabel(\"Среднее количество заказов\")\n",
    "plt.legend()\n",
    "plt.show()\n"
   ]
  },
  {
   "cell_type": "markdown",
   "metadata": {},
   "source": [
    "**Вывод:** Вначале в обеих группах происходит резкий скачок заказов, затем спад. И количество заказов в группе А постоянно уменьшается на протяжении эксперимента, а вот конверсия в группе В выросла и к середине теста конверсия стабилизировались"
   ]
  },
  {
   "cell_type": "markdown",
   "metadata": {},
   "source": [
    "5. Постройте график относительного изменения кумулятивного среднего количества заказов на посетителя группы B к группе A. Сделайте выводы и предположения."
   ]
  },
  {
   "cell_type": "code",
   "execution_count": 20,
   "metadata": {},
   "outputs": [
    {
     "data": {
      "image/png": "[encoded data removed]",
      "text/plain": [
       "<Figure size 432x288 with 1 Axes>"
      ]
     },
     "metadata": {
      "needs_background": "light"
     },
     "output_type": "display_data"
    }
   ],
   "source": [
    "mergedCumulativeConversions = cumulativeDataA[['date','conversion']].merge(\n",
    "    cumulativeDataB[['date','conversion']], left_on='date', right_on='date', how='left', suffixes=['A', 'B'])\n",
    "\n",
    "plt.plot(mergedCumulativeConversions['date'],\n",
    "         mergedCumulativeConversions['conversionB']/mergedCumulativeConversions['conversionA']-1\n",
    "         )\n",
    "\n",
    "plt.axhline(y=0, color='black', linestyle='--')\n",
    "plt.axhline(y=-0.1, color='grey', linestyle='--')\n",
    "plt.title('График относительного изменения кумулятивного среднего количества заказов на посетителя группы B к группе A')\n",
    "plt.xticks(rotation = 45)\n",
    "plt.show()"
   ]
  },
  {
   "cell_type": "markdown",
   "metadata": {},
   "source": [
    "**Вывод:** В начале теста группа B немного проигрывала группе A, затем вырвалась вперёд. Потом её конверсия относительно равномерна, небольшие скачки и колебания."
   ]
  },
  {
   "cell_type": "markdown",
   "metadata": {},
   "source": [
    "6. Постройте точечный график количества заказов по пользователям. Сделайте выводы и предположения."
   ]
  },
  {
   "cell_type": "code",
   "execution_count": 21,
   "metadata": {},
   "outputs": [
    {
     "data": {
      "text/html": [
       "<div>\n",
       "<style scoped>\n",
       "    .dataframe tbody tr th:only-of-type {\n",
       "        vertical-align: middle;\n",
       "    }\n",
       "\n",
       "    .dataframe tbody tr th {\n",
       "        vertical-align: top;\n",
       "    }\n",
       "\n",
       "    .dataframe thead th {\n",
       "        text-align: right;\n",
       "    }\n",
       "</style>\n",
       "<table border=\"1\" class=\"dataframe\">\n",
       "  <thead>\n",
       "    <tr style=\"text-align: right;\">\n",
       "      <th></th>\n",
       "      <th>visitorId</th>\n",
       "      <th>orders</th>\n",
       "    </tr>\n",
       "  </thead>\n",
       "  <tbody>\n",
       "    <tr>\n",
       "      <th>0</th>\n",
       "      <td>5114589</td>\n",
       "      <td>1</td>\n",
       "    </tr>\n",
       "    <tr>\n",
       "      <th>1</th>\n",
       "      <td>6958315</td>\n",
       "      <td>1</td>\n",
       "    </tr>\n",
       "    <tr>\n",
       "      <th>2</th>\n",
       "      <td>11685486</td>\n",
       "      <td>1</td>\n",
       "    </tr>\n",
       "    <tr>\n",
       "      <th>3</th>\n",
       "      <td>39475350</td>\n",
       "      <td>1</td>\n",
       "    </tr>\n",
       "    <tr>\n",
       "      <th>4</th>\n",
       "      <td>47206413</td>\n",
       "      <td>1</td>\n",
       "    </tr>\n",
       "  </tbody>\n",
       "</table>\n",
       "</div>"
      ],
      "text/plain": [
       "   visitorId  orders\n",
       "0    5114589       1\n",
       "1    6958315       1\n",
       "2   11685486       1\n",
       "3   39475350       1\n",
       "4   47206413       1"
      ]
     },
     "execution_count": 21,
     "metadata": {},
     "output_type": "execute_result"
    }
   ],
   "source": [
    "# Создаем таблицу количества заказов по пользователям\n",
    "ordersByUsers = (\n",
    "    orders.groupby('visitorId', as_index=False)\n",
    "    .agg({'transactionId': 'nunique'})\n",
    ")\n",
    "\n",
    "ordersByUsers.columns = ['visitorId', 'orders']\n",
    "ordersByUsers.head()"
   ]
  },
  {
   "cell_type": "code",
   "execution_count": 22,
   "metadata": {},
   "outputs": [
    {
     "data": {
      "image/png": "[encoded data removed]",
      "text/plain": [
       "<Figure size 432x288 with 1 Axes>"
      ]
     },
     "metadata": {
      "needs_background": "light"
     },
     "output_type": "display_data"
    }
   ],
   "source": [
    "# Строим точечный график количества заказов по пользователям.\n",
    "# серия из чисел от 0 до количества наблюдений в ordersByUsers\n",
    "x_values = pd.Series(range(0,len(ordersByUsers)))\n",
    "\n",
    "plt.scatter(x_values, ordersByUsers['orders'])\n",
    "plt.title('График количества заказов по пользователям')\n",
    "plt.xlabel(\"Количество пользователей\")\n",
    "plt.ylabel(\"Количество заказов\")\n",
    "plt.show()"
   ]
  },
  {
   "cell_type": "markdown",
   "metadata": {},
   "source": [
    "**Вывод:** В основном пользователи совершали один или два заказа. Пользователей, которые делали 3 или более заказов мало"
   ]
  },
  {
   "cell_type": "markdown",
   "metadata": {},
   "source": [
    "7. Посчитайте 95-й и 99-й перцентили количества заказов на пользователя. Выберите границу для определения аномальных пользователей."
   ]
  },
  {
   "cell_type": "code",
   "execution_count": 23,
   "metadata": {},
   "outputs": [
    {
     "data": {
      "text/plain": [
       "array([1., 2.])"
      ]
     },
     "execution_count": 23,
     "metadata": {},
     "output_type": "execute_result"
    }
   ],
   "source": [
    "np.percentile(ordersByUsers['orders'], [95, 99])"
   ]
  },
  {
   "cell_type": "markdown",
   "metadata": {},
   "source": [
    "**Вывод:** Всего лишь 5% пользователей совершали более 1 заказов, а 2 заказа - всего лишь 1% пользователей. Поэтому разумно выбрать 2 заказа на одного пользователя за верхнюю границу числа заказов, и отсеять пользователей, совершивших более 2х заказов. "
   ]
  },
  {
   "cell_type": "markdown",
   "metadata": {},
   "source": [
    "8. Постройте точечный график стоимостей заказов. Сделайте выводы и предположения."
   ]
  },
  {
   "cell_type": "code",
   "execution_count": 24,
   "metadata": {},
   "outputs": [
    {
     "data": {
      "image/png": "[encoded data removed]",
      "text/plain": [
       "<Figure size 432x288 with 1 Axes>"
      ]
     },
     "metadata": {
      "needs_background": "light"
     },
     "output_type": "display_data"
    }
   ],
   "source": [
    "x_values = pd.Series(range(0, len(orders['revenue'])))\n",
    "plt.scatter(x_values, orders['revenue'])\n",
    "plt.title('График стоимостей заказов')\n",
    "plt.xlabel(\"Количество пользователей\")\n",
    "plt.ylabel(\"Стоимость заказов\")\n",
    "plt.ylim([0,250000])\n",
    "plt.show()"
   ]
  },
  {
   "cell_type": "markdown",
   "metadata": {},
   "source": [
    "**Вывод:** Основные заказы до 100 000. Есть выбросы в районе 200 000."
   ]
  },
  {
   "cell_type": "markdown",
   "metadata": {},
   "source": [
    "9. Посчитайте 95-й и 99-й перцентили стоимости заказов. Выберите границу для определения аномальных заказов."
   ]
  },
  {
   "cell_type": "code",
   "execution_count": 25,
   "metadata": {},
   "outputs": [
    {
     "data": {
      "text/plain": [
       "array([26785., 53904.])"
      ]
     },
     "execution_count": 25,
     "metadata": {},
     "output_type": "execute_result"
    }
   ],
   "source": [
    "np.percentile(orders['revenue'], [95, 99])"
   ]
  },
  {
   "cell_type": "markdown",
   "metadata": {},
   "source": [
    "**Вывод:** Не более, чем у 5% заказов чек дороже 26785, а свыше 53904 - всего лишь 1% заказа."
   ]
  },
  {
   "cell_type": "markdown",
   "metadata": {},
   "source": [
    "За границу аномалий берем больше 2 заказов на сумму больше 26785."
   ]
  },
  {
   "cell_type": "markdown",
   "metadata": {},
   "source": [
    "10. Посчитайте статистическую значимость различий в среднем количестве заказов на посетителя между группами по «сырым» данным. Сделайте выводы и предположения."
   ]
  },
  {
   "cell_type": "markdown",
   "metadata": {},
   "source": [
    "**Сформулируем гипотезы.** Нулевая: различий в среднем количестве заказов между группами нет. Альтернативная: различия в среднем между группами есть. Уровень статистической значимости(alpha) равен 0,05. Если р-value меньше 0,05, то нулевую гипотезу отвергаем, если больше, то нет. \n",
    "\n",
    "Применим статистический критерий Манна-Уитни к полученным выборкам. Метод, который будем применять для A/B-тестирования, называется st.mannwhitneyu(). Вероятности получения разных значений критерия Манна-Уитни рассчитаны теоретически, что даёт возможность делать вывод о различии или его отсутствии для любого заданного уровня значимости."
   ]
  },
  {
   "cell_type": "code",
   "execution_count": 26,
   "metadata": {
    "scrolled": true
   },
   "outputs": [
    {
     "data": {
      "text/html": [
       "<div>\n",
       "<style scoped>\n",
       "    .dataframe tbody tr th:only-of-type {\n",
       "        vertical-align: middle;\n",
       "    }\n",
       "\n",
       "    .dataframe tbody tr th {\n",
       "        vertical-align: top;\n",
       "    }\n",
       "\n",
       "    .dataframe thead th {\n",
       "        text-align: right;\n",
       "    }\n",
       "</style>\n",
       "<table border=\"1\" class=\"dataframe\">\n",
       "  <thead>\n",
       "    <tr style=\"text-align: right;\">\n",
       "      <th></th>\n",
       "      <th>date</th>\n",
       "      <th>ordersPerDateA</th>\n",
       "      <th>revenuePerDateA</th>\n",
       "      <th>ordersPerDateB</th>\n",
       "      <th>revenuePerDateB</th>\n",
       "      <th>ordersCummulativeA</th>\n",
       "      <th>revenueCummulativeA</th>\n",
       "      <th>ordersCummulativeB</th>\n",
       "      <th>revenueCummulativeB</th>\n",
       "      <th>visitorsPerDateA</th>\n",
       "      <th>visitorsPerDateB</th>\n",
       "      <th>visitorsCummulativeA</th>\n",
       "      <th>visitorsCummulativeB</th>\n",
       "    </tr>\n",
       "  </thead>\n",
       "  <tbody>\n",
       "    <tr>\n",
       "      <th>0</th>\n",
       "      <td>2019-08-01</td>\n",
       "      <td>23</td>\n",
       "      <td>142779</td>\n",
       "      <td>17</td>\n",
       "      <td>59758</td>\n",
       "      <td>23</td>\n",
       "      <td>142779</td>\n",
       "      <td>17</td>\n",
       "      <td>59758</td>\n",
       "      <td>719</td>\n",
       "      <td>713</td>\n",
       "      <td>719</td>\n",
       "      <td>713</td>\n",
       "    </tr>\n",
       "    <tr>\n",
       "      <th>1</th>\n",
       "      <td>2019-08-02</td>\n",
       "      <td>19</td>\n",
       "      <td>91602</td>\n",
       "      <td>23</td>\n",
       "      <td>162043</td>\n",
       "      <td>42</td>\n",
       "      <td>234381</td>\n",
       "      <td>40</td>\n",
       "      <td>221801</td>\n",
       "      <td>619</td>\n",
       "      <td>581</td>\n",
       "      <td>1338</td>\n",
       "      <td>1294</td>\n",
       "    </tr>\n",
       "    <tr>\n",
       "      <th>2</th>\n",
       "      <td>2019-08-03</td>\n",
       "      <td>24</td>\n",
       "      <td>112473</td>\n",
       "      <td>14</td>\n",
       "      <td>67049</td>\n",
       "      <td>66</td>\n",
       "      <td>346854</td>\n",
       "      <td>54</td>\n",
       "      <td>288850</td>\n",
       "      <td>507</td>\n",
       "      <td>509</td>\n",
       "      <td>1845</td>\n",
       "      <td>1803</td>\n",
       "    </tr>\n",
       "    <tr>\n",
       "      <th>3</th>\n",
       "      <td>2019-08-04</td>\n",
       "      <td>11</td>\n",
       "      <td>41176</td>\n",
       "      <td>14</td>\n",
       "      <td>96890</td>\n",
       "      <td>77</td>\n",
       "      <td>388030</td>\n",
       "      <td>68</td>\n",
       "      <td>385740</td>\n",
       "      <td>717</td>\n",
       "      <td>770</td>\n",
       "      <td>2562</td>\n",
       "      <td>2573</td>\n",
       "    </tr>\n",
       "    <tr>\n",
       "      <th>4</th>\n",
       "      <td>2019-08-05</td>\n",
       "      <td>22</td>\n",
       "      <td>86383</td>\n",
       "      <td>21</td>\n",
       "      <td>89908</td>\n",
       "      <td>99</td>\n",
       "      <td>474413</td>\n",
       "      <td>89</td>\n",
       "      <td>475648</td>\n",
       "      <td>756</td>\n",
       "      <td>707</td>\n",
       "      <td>3318</td>\n",
       "      <td>3280</td>\n",
       "    </tr>\n",
       "  </tbody>\n",
       "</table>\n",
       "</div>"
      ],
      "text/plain": [
       "        date  ordersPerDateA  revenuePerDateA  ordersPerDateB  \\\n",
       "0 2019-08-01              23           142779              17   \n",
       "1 2019-08-02              19            91602              23   \n",
       "2 2019-08-03              24           112473              14   \n",
       "3 2019-08-04              11            41176              14   \n",
       "4 2019-08-05              22            86383              21   \n",
       "\n",
       "   revenuePerDateB  ordersCummulativeA  revenueCummulativeA  \\\n",
       "0            59758                  23               142779   \n",
       "1           162043                  42               234381   \n",
       "2            67049                  66               346854   \n",
       "3            96890                  77               388030   \n",
       "4            89908                  99               474413   \n",
       "\n",
       "   ordersCummulativeB  revenueCummulativeB  visitorsPerDateA  \\\n",
       "0                  17                59758               719   \n",
       "1                  40               221801               619   \n",
       "2                  54               288850               507   \n",
       "3                  68               385740               717   \n",
       "4                  89               475648               756   \n",
       "\n",
       "   visitorsPerDateB  visitorsCummulativeA  visitorsCummulativeB  \n",
       "0               713                   719                   713  \n",
       "1               581                  1338                  1294  \n",
       "2               509                  1845                  1803  \n",
       "3               770                  2562                  2573  \n",
       "4               707                  3318                  3280  "
      ]
     },
     "execution_count": 26,
     "metadata": {},
     "output_type": "execute_result"
    }
   ],
   "source": [
    "# Подготовим данные и создадим объединенную таблицу\n",
    "visitorsADaily = visitors[visitors['group'] == 'A'][['date', 'visitors']]\n",
    "visitorsADaily.columns = ['date', 'visitorsPerDateA']\n",
    "\n",
    "visitorsACummulative = visitorsADaily.apply(\n",
    "    lambda x: visitorsADaily[visitorsADaily['date'] <= x['date']].agg(\n",
    "        {'date': 'max', 'visitorsPerDateA': 'sum'}\n",
    "    ),\n",
    "    axis=1,\n",
    ")\n",
    "visitorsACummulative.columns = ['date', 'visitorsCummulativeA']\n",
    "\n",
    "visitorsBDaily = visitors[visitors['group'] == 'B'][['date', 'visitors']]\n",
    "visitorsBDaily.columns = ['date', 'visitorsPerDateB']\n",
    "\n",
    "visitorsBCummulative = visitorsBDaily.apply(\n",
    "    lambda x: visitorsBDaily[visitorsBDaily['date'] <= x['date']].agg(\n",
    "        {'date': 'max', 'visitorsPerDateB': 'sum'}\n",
    "    ),\n",
    "    axis=1,\n",
    ")\n",
    "visitorsBCummulative.columns = ['date', 'visitorsCummulativeB']\n",
    "\n",
    "ordersADaily = (\n",
    "    orders[orders['group'] == 'A'][['date', 'transactionId', 'visitorId', 'revenue']]\n",
    "    .groupby('date', as_index=False)\n",
    "    .agg({'transactionId': pd.Series.nunique, 'revenue': 'sum'})\n",
    ")\n",
    "ordersADaily.columns = ['date', 'ordersPerDateA', 'revenuePerDateA']\n",
    "\n",
    "ordersACummulative = ordersADaily.apply(\n",
    "    lambda x: ordersADaily[ordersADaily['date'] <= x['date']].agg(\n",
    "        {'date': 'max', 'ordersPerDateA': 'sum', 'revenuePerDateA': 'sum'}\n",
    "    ),\n",
    "    axis=1,\n",
    ").sort_values(by=['date'])\n",
    "ordersACummulative.columns = [\n",
    "    'date',\n",
    "    'ordersCummulativeA',\n",
    "    'revenueCummulativeA',\n",
    "]\n",
    "\n",
    "ordersBDaily = (\n",
    "    orders[orders['group'] == 'B'][['date', 'transactionId', 'visitorId', 'revenue']]\n",
    "    .groupby('date', as_index=False)\n",
    "    .agg({'transactionId': pd.Series.nunique, 'revenue': 'sum'})\n",
    ")\n",
    "ordersBDaily.columns = ['date', 'ordersPerDateB', 'revenuePerDateB']\n",
    "\n",
    "ordersBCummulative = ordersBDaily.apply(\n",
    "    lambda x: ordersBDaily[ordersBDaily['date'] <= x['date']].agg(\n",
    "        {'date': 'max', 'ordersPerDateB': 'sum', 'revenuePerDateB': 'sum'}\n",
    "    ),\n",
    "    axis=1,\n",
    ").sort_values(by=['date'])\n",
    "ordersBCummulative.columns = [\n",
    "    'date',\n",
    "    'ordersCummulativeB',\n",
    "    'revenueCummulativeB',\n",
    "]\n",
    "\n",
    "data = (\n",
    "    ordersADaily.merge(\n",
    "        ordersBDaily, left_on='date', right_on='date', how='left'\n",
    "    )\n",
    "    .merge(ordersACummulative, left_on='date', right_on='date', how='left')\n",
    "    .merge(ordersBCummulative, left_on='date', right_on='date', how='left')\n",
    "    .merge(visitorsADaily, left_on='date', right_on='date', how='left')\n",
    "    .merge(visitorsBDaily, left_on='date', right_on='date', how='left')\n",
    "    .merge(visitorsACummulative, left_on='date', right_on='date', how='left')\n",
    "    .merge(visitorsBCummulative, left_on='date', right_on='date', how='left')\n",
    ")\n",
    "\n",
    "data.head()"
   ]
  },
  {
   "cell_type": "code",
   "execution_count": 27,
   "metadata": {},
   "outputs": [],
   "source": [
    "# Создадим переменные ordersByUsersA и ordersByUsersB.\n",
    "# В них для пользователей, которые заказывали хотя бы 1 раз, укажем число совершённых заказов\n",
    "ordersByUsersA = (\n",
    "    orders[orders['group'] == 'A']\n",
    "    .groupby('visitorId', as_index=False)\n",
    "    .agg({'transactionId': pd.Series.nunique})\n",
    ")\n",
    "ordersByUsersA.columns = ['visitorId', 'orders']\n",
    "\n",
    "ordersByUsersB = (\n",
    "    orders[orders['group'] == 'B']\n",
    "    .groupby('visitorId', as_index=False)\n",
    "    .agg({'transactionId': pd.Series.nunique})\n",
    ")\n",
    "ordersByUsersB.columns = ['visitorId', 'orders'] "
   ]
  },
  {
   "cell_type": "code",
   "execution_count": 28,
   "metadata": {},
   "outputs": [
    {
     "name": "stdout",
     "output_type": "stream",
     "text": [
      "p-value: 0.011\n",
      "Относительный прирост: 0.160\n"
     ]
    }
   ],
   "source": [
    "# Объявим переменные sampleA и sampleB, в которых пользователям из разных групп будет соответствовать количество заказов.\n",
    "# Тем, кто ничего не заказал, будут соответствовать нули.\n",
    "sampleA = pd.concat(\n",
    "    [\n",
    "        ordersByUsersA['orders'],\n",
    "        pd.Series(\n",
    "            0,\n",
    "            index=np.arange(\n",
    "                data['visitorsPerDateA'].sum() - len(ordersByUsersA['orders'])\n",
    "            ),\n",
    "            name='orders',\n",
    "        ),\n",
    "    ],\n",
    "    axis=0,\n",
    ")\n",
    "\n",
    "sampleB = pd.concat(\n",
    "    [\n",
    "        ordersByUsersB['orders'],\n",
    "        pd.Series(\n",
    "            0,\n",
    "            index=np.arange(\n",
    "                data['visitorsPerDateB'].sum() - len(ordersByUsersB['orders'])\n",
    "            ),\n",
    "            name='orders',\n",
    "        ),\n",
    "    ],\n",
    "    axis=0,\n",
    ")\n",
    "\n",
    "print('p-value:', \"{0:.3f}\".format(stats.mannwhitneyu(sampleA, sampleB)[1]))\n",
    "\n",
    "print('Относительный прирост:', \"{0:.3f}\".format(sampleB.mean() / sampleA.mean() - 1))"
   ]
  },
  {
   "cell_type": "markdown",
   "metadata": {},
   "source": [
    "**Вывод:** P-value меньше 0.05, поэтому нулевую гипотезу отвергаем. Анализ сырых данных сообщает, что в среднем количестве заказов между группами есть статистически значимые различия. Относительный прирост среднего группы В к конверсии группы А равен 16%."
   ]
  },
  {
   "cell_type": "markdown",
   "metadata": {},
   "source": [
    "11. Посчитайте статистическую значимость различий в среднем чеке заказа между группами по «сырым» данным. Сделайте выводы и предположения."
   ]
  },
  {
   "cell_type": "markdown",
   "metadata": {},
   "source": [
    "**Сформулируем гипотезы.** Нулевая гипотеза: различий в среднем чеке между группами нет. Альтернативная гипотеза: различия в среднем чеке между группами есть. "
   ]
  },
  {
   "cell_type": "code",
   "execution_count": 29,
   "metadata": {},
   "outputs": [
    {
     "name": "stdout",
     "output_type": "stream",
     "text": [
      "p-value:0.829\n",
      "Относительный прирост:0.287\n"
     ]
    }
   ],
   "source": [
    "# Выведим p-value для сравнения средних чеков между группами. Округлим p-value до трёх знаков после запятой.\n",
    "# Выведим относительный прирост среднего чека группы B, округлив до трёх знаков после запятой.\n",
    "print(\"p-value:\"'{0:.3f}'.format(stats.mannwhitneyu(orders[orders['group']=='A']['revenue'], orders[orders['group']=='B']['revenue'])[1]))\n",
    "print(\"Относительный прирост:\"'{0:.3f}'.format(orders[orders['group']=='B']['revenue'].mean()/orders[orders['group']=='A']['revenue'].mean()-1)) "
   ]
  },
  {
   "cell_type": "markdown",
   "metadata": {},
   "source": [
    "**Вывод:** По \"сырым\" данным p-value составляет 0.829, т.е. больше 0.05. Нулевую гипотезу не отвергаем, статистически значимых отличий в среднем чеке между группами нет. Средний чек группы В выше среднего чека группы А на 28.7%."
   ]
  },
  {
   "cell_type": "markdown",
   "metadata": {},
   "source": [
    "12. Посчитайте статистическую значимость различий в среднем количестве заказов на посетителя между группами по «очищенным» данным. Сделайте выводы и предположения."
   ]
  },
  {
   "cell_type": "code",
   "execution_count": 30,
   "metadata": {},
   "outputs": [
    {
     "name": "stdout",
     "output_type": "stream",
     "text": [
      "Аномальных пользователей: 58\n"
     ]
    }
   ],
   "source": [
    "# Узнаем сколько всего аномальных пользователей.\n",
    "# Найдем пользователей, совершивших более 2-заказов и суммой заказа больше 28000\n",
    "usersWithManyOrders = pd.concat(\n",
    "    [\n",
    "        ordersByUsersA[ordersByUsersA['orders'] > 2]['visitorId'],\n",
    "        ordersByUsersB[ordersByUsersB['orders'] > 2]['visitorId'],\n",
    "    ],\n",
    "    axis=0,\n",
    ")\n",
    "usersWithExpensiveOrders = orders[orders['revenue'] > 26785]['visitorId']\n",
    "abnormalUsers = (\n",
    "    pd.concat([usersWithManyOrders, usersWithExpensiveOrders], axis=0)\n",
    "    .drop_duplicates()\n",
    "    .sort_values()\n",
    ")\n",
    "\n",
    "print('Аномальных пользователей:', abnormalUsers.count())"
   ]
  },
  {
   "cell_type": "code",
   "execution_count": 31,
   "metadata": {},
   "outputs": [],
   "source": [
    "# Подготовим выборки количества заказов по пользователям по группам теста:\n",
    "sampleAFiltered = pd.concat(\n",
    "    [\n",
    "        ordersByUsersA[\n",
    "            np.logical_not(ordersByUsersA['visitorId'].isin(abnormalUsers))\n",
    "        ]['orders'],\n",
    "        pd.Series(\n",
    "            0,\n",
    "            index=np.arange(\n",
    "                data['visitorsPerDateA'].sum() - len(ordersByUsersA['orders'])\n",
    "            ),\n",
    "            name='orders',\n",
    "        ),\n",
    "    ],\n",
    "    axis=0,\n",
    ")\n",
    "\n",
    "sampleBFiltered = pd.concat(\n",
    "    [\n",
    "        ordersByUsersB[\n",
    "            np.logical_not(ordersByUsersB['visitorId'].isin(abnormalUsers))\n",
    "        ]['orders'],\n",
    "        pd.Series(\n",
    "            0,\n",
    "            index=np.arange(\n",
    "                data['visitorsPerDateB'].sum() - len(ordersByUsersB['orders'])\n",
    "            ),\n",
    "            name='orders',\n",
    "        ),\n",
    "    ],\n",
    "    axis=0,\n",
    ") "
   ]
  },
  {
   "cell_type": "code",
   "execution_count": 32,
   "metadata": {},
   "outputs": [
    {
     "name": "stdout",
     "output_type": "stream",
     "text": [
      "p-value 0.012\n",
      "Относительный прирост: 0.182\n"
     ]
    }
   ],
   "source": [
    "# Применим статистический критерий Манна-Уитни к полученным выборкам:\n",
    "print(\"p-value\", '{0:.3f}'.format(stats.mannwhitneyu(sampleAFiltered, sampleBFiltered)[1]))\n",
    "print(\"Относительный прирост:\", '{0:.3f}'.format(sampleBFiltered.mean()/sampleAFiltered.mean()-1))"
   ]
  },
  {
   "cell_type": "markdown",
   "metadata": {},
   "source": [
    "**Вывод:** Как и в случае с сырыми данными P-value меньше 0.05, поэтому нулевую гипотезу отвергаем. В среднем количестве заказов между группами есть статистически значимые различия. Относительный прирост среднего группы В к конверсии группы А равен 18.2%. Сегмент В значительно лучше сегмента А. "
   ]
  },
  {
   "cell_type": "markdown",
   "metadata": {},
   "source": [
    "13. Посчитайте статистическую значимость различий в среднем чеке заказа между группами по «очищенным» данным. Сделайте выводы и предположения."
   ]
  },
  {
   "cell_type": "code",
   "execution_count": 33,
   "metadata": {},
   "outputs": [
    {
     "name": "stdout",
     "output_type": "stream",
     "text": [
      "p-value: 0.646\n",
      "Относительный прирост: -0.048\n"
     ]
    }
   ],
   "source": [
    "print(\"p-value:\",\n",
    "    '{0:.3f}'.format(\n",
    "        stats.mannwhitneyu(\n",
    "            orders[\n",
    "                np.logical_and(\n",
    "                    orders['group'] == 'A',\n",
    "                    np.logical_not(orders['visitorId'].isin(abnormalUsers)),\n",
    "                )\n",
    "            ]['revenue'],\n",
    "            orders[\n",
    "                np.logical_and(\n",
    "                    orders['group'] == 'B',\n",
    "                    np.logical_not(orders['visitorId'].isin(abnormalUsers)),\n",
    "                )\n",
    "            ]['revenue'],\n",
    "        )[1]\n",
    "    )\n",
    ")\n",
    "\n",
    "print('Относительный прирост:',\n",
    "    \"{0:.3f}\".format(\n",
    "        orders[\n",
    "            np.logical_and(\n",
    "                orders['group'] == 'B',\n",
    "                np.logical_not(orders['visitorId'].isin(abnormalUsers)),\n",
    "            )\n",
    "        ]['revenue'].mean()\n",
    "        / orders[\n",
    "            np.logical_and(\n",
    "                orders['group'] == 'A',\n",
    "                np.logical_not(orders['visitorId'].isin(abnormalUsers)),\n",
    "            )\n",
    "        ]['revenue'].mean()\n",
    "        - 1\n",
    "    )\n",
    ") "
   ]
  },
  {
   "cell_type": "markdown",
   "metadata": {},
   "source": [
    "**Вывод:** По \"очищенным\" данным p-value составляет 0.646, т.е. больше 0.05. Нулевую гипотезу не отвергаем, статистически значимых отличий в среднем чеке между группами нет. Но при этом Средний чек группы В стал меньше среднего чека группы А. Хотя общие выводы по результатам теста не сильно изменились, такой пример хорошо показывает, как сильно аномалии могут влиять на результаты A/B-теста."
   ]
  },
  {
   "cell_type": "markdown",
   "metadata": {},
   "source": [
    "14. Примите решение по результатам теста и объясните его. Варианты решений:\n",
    "- Остановить тест, зафиксировать победу одной из групп.\n",
    "- Остановить тест, зафиксировать отсутствие различий между группами.\n",
    "- Продолжить тест."
   ]
  },
  {
   "cell_type": "markdown",
   "metadata": {},
   "source": [
    " По результатам анализа теста видим, что выручка обеих групп увеличивается на протяжении всего теста. Но происходит резкий скачок выручки группы В. Средний чек по группам различается. В группе А средний чек установился ближе к концу теста, а в группе B произошел резкий скачок. Количество заказов в группе А постоянно уменьшается на протяжении эксперимента, а вот конверсия в группе В выросла. В начале теста группа B немного проигрывала группе A, затем вырвалась вперёд. Потом её конверсия относительно равномерна, небольшие скачки и колебания. \n",
    " \n",
    " Анализ сырых данных сообщает, что в среднем количестве заказов между группами есть статистически значимые различия. Но в среднем чеке статистически значимых отличий между группами нет. Средний чек группы В выше среднего чека группы А на 28,7%. \n",
    "Рассмотрев  очищенные данные, видим, что в среднем количестве заказов между группами есть статистически значимые различия. Относительный прирост среднего группы В к конверсии группы А равен 18,2%. Сегмент В значительно лучше сегмента А. Статистически значимых отличий в среднем чеке между группами нет. \n",
    "Поэтому тест необходимо остановить. Группа В по результатам лучше группы А.\n"
   ]
  },
  {
   "cell_type": "markdown",
   "metadata": {},
   "source": [
    "### Общий вывод:\n",
    "Провели анализ гипотез для увеличения выручки крупного интернет-магазина.\n",
    "\n",
    "Видим, что гипотезы под индексами 7 и 0 самые перспективные и по способу приоритизации ICE и RICE. Однако гипотеза 7 с названием \"Добавить форму подписки на все основные страницы\" самая перспективная по RICE, потому что ее параметр Reach равен 10, в то время как у других гипотез меньше. Важно учитывать, сколько пользователей затронет гипотеза.\n",
    "\n",
    "Пропусков и дубликатов в данных не было. При делении пользователей на группы 58 пользователей попали в обе группы, поэтому их пришлось удалить из данных, чтобы они не повлияли на анализ теста.\n",
    "\n",
    "Выручка обеих групп увеличивается на протяжении всего теста. Количество заказов в группе А постоянно уменьшается на протяжении эксперимента, а вот конверсия в группе В выросла и к середине теста конверсия стабилизировались. В основном пользователи совершали один или два заказа.\n",
    "\n",
    "Рассмотрели гипотезы: различий в среднем количестве заказов между группами нет, различий в среднем чеке между группами нет.\n",
    "По сырым и очищенным от аномалий и выбросов данным увидели, что в среднем количестве заказов между группами есть статистически значимые различия, но при этом статистически значимых отличий в среднем чеке между группами нет. \n",
    "\n",
    "Поэтому тест необходимо остановить. Группа В по результатам лучше группы А."
   ]
  }
 ],
 "metadata": {
  "ExecuteTimeLog": [
   {
    "duration": 738,
    "start_time": "2023-02-07T18:47:51.644Z"
   },
   {
    "duration": 43,
    "start_time": "2023-02-07T18:57:56.053Z"
   },
   {
    "duration": 170,
    "start_time": "2023-02-07T18:58:24.129Z"
   },
   {
    "duration": 62,
    "start_time": "2023-02-07T18:59:33.658Z"
   },
   {
    "duration": 12,
    "start_time": "2023-02-07T19:10:06.614Z"
   },
   {
    "duration": 77,
    "start_time": "2023-02-07T20:11:27.703Z"
   },
   {
    "duration": 7,
    "start_time": "2023-02-07T20:11:41.571Z"
   },
   {
    "duration": 5,
    "start_time": "2023-02-07T20:14:54.606Z"
   },
   {
    "duration": 15,
    "start_time": "2023-02-07T20:18:05.658Z"
   },
   {
    "duration": 13,
    "start_time": "2023-02-07T20:18:16.609Z"
   },
   {
    "duration": 9,
    "start_time": "2023-02-07T20:19:41.292Z"
   },
   {
    "duration": 1379,
    "start_time": "2023-02-09T08:19:02.707Z"
   },
   {
    "duration": 235,
    "start_time": "2023-02-09T08:19:04.088Z"
   },
   {
    "duration": 13,
    "start_time": "2023-02-09T08:19:05.663Z"
   },
   {
    "duration": 10,
    "start_time": "2023-02-09T08:19:06.868Z"
   },
   {
    "duration": 11,
    "start_time": "2023-02-09T08:19:14.197Z"
   },
   {
    "duration": 512,
    "start_time": "2023-02-09T08:28:50.398Z"
   },
   {
    "duration": 444,
    "start_time": "2023-02-09T08:29:55.165Z"
   },
   {
    "duration": 4,
    "start_time": "2023-02-09T08:31:11.473Z"
   },
   {
    "duration": 54,
    "start_time": "2023-02-09T08:31:11.479Z"
   },
   {
    "duration": 9,
    "start_time": "2023-02-09T08:31:11.534Z"
   },
   {
    "duration": 16,
    "start_time": "2023-02-09T08:31:11.546Z"
   },
   {
    "duration": 23,
    "start_time": "2023-02-09T08:31:11.565Z"
   },
   {
    "duration": 397,
    "start_time": "2023-02-09T08:31:11.590Z"
   },
   {
    "duration": 80,
    "start_time": "2023-02-09T08:31:48.801Z"
   },
   {
    "duration": 88,
    "start_time": "2023-02-09T08:34:37.074Z"
   },
   {
    "duration": 32,
    "start_time": "2023-02-09T08:34:58.022Z"
   },
   {
    "duration": 92,
    "start_time": "2023-02-09T08:36:22.561Z"
   },
   {
    "duration": 299,
    "start_time": "2023-02-09T08:36:40.713Z"
   },
   {
    "duration": 266,
    "start_time": "2023-02-09T08:38:20.711Z"
   },
   {
    "duration": 206,
    "start_time": "2023-02-09T08:38:44.865Z"
   },
   {
    "duration": 191,
    "start_time": "2023-02-09T08:39:25.478Z"
   },
   {
    "duration": 189,
    "start_time": "2023-02-09T08:45:03.721Z"
   },
   {
    "duration": 191,
    "start_time": "2023-02-09T08:45:57.257Z"
   },
   {
    "duration": 373,
    "start_time": "2023-02-09T09:00:39.683Z"
   },
   {
    "duration": 318,
    "start_time": "2023-02-09T09:01:19.231Z"
   },
   {
    "duration": 312,
    "start_time": "2023-02-09T09:01:29.788Z"
   },
   {
    "duration": 293,
    "start_time": "2023-02-09T09:09:00.069Z"
   },
   {
    "duration": 220,
    "start_time": "2023-02-09T09:10:05.763Z"
   },
   {
    "duration": 326,
    "start_time": "2023-02-09T09:11:24.930Z"
   },
   {
    "duration": 78,
    "start_time": "2023-02-09T09:12:13.615Z"
   },
   {
    "duration": 88,
    "start_time": "2023-02-09T09:12:46.231Z"
   },
   {
    "duration": 300,
    "start_time": "2023-02-09T09:13:09.574Z"
   },
   {
    "duration": 307,
    "start_time": "2023-02-09T09:14:15.766Z"
   },
   {
    "duration": 214,
    "start_time": "2023-02-09T09:14:50.372Z"
   },
   {
    "duration": 69,
    "start_time": "2023-02-09T10:06:03.768Z"
   },
   {
    "duration": 332,
    "start_time": "2023-02-09T10:06:23.531Z"
   },
   {
    "duration": 302,
    "start_time": "2023-02-09T10:08:48.577Z"
   },
   {
    "duration": 299,
    "start_time": "2023-02-09T10:10:00.638Z"
   },
   {
    "duration": 320,
    "start_time": "2023-02-09T10:10:38.360Z"
   },
   {
    "duration": 353,
    "start_time": "2023-02-09T10:11:00.525Z"
   },
   {
    "duration": 372,
    "start_time": "2023-02-09T10:11:14.332Z"
   },
   {
    "duration": 438,
    "start_time": "2023-02-09T10:11:32.130Z"
   },
   {
    "duration": 264,
    "start_time": "2023-02-09T10:12:02.759Z"
   },
   {
    "duration": 327,
    "start_time": "2023-02-09T10:12:22.212Z"
   },
   {
    "duration": 323,
    "start_time": "2023-02-09T10:13:07.514Z"
   },
   {
    "duration": 12,
    "start_time": "2023-02-09T10:33:29.055Z"
   },
   {
    "duration": 135,
    "start_time": "2023-02-09T10:35:10.924Z"
   },
   {
    "duration": 130,
    "start_time": "2023-02-09T10:35:59.670Z"
   },
   {
    "duration": 6,
    "start_time": "2023-02-09T10:48:31.461Z"
   },
   {
    "duration": 151,
    "start_time": "2023-02-09T11:23:15.621Z"
   },
   {
    "duration": 136,
    "start_time": "2023-02-09T11:24:01.006Z"
   },
   {
    "duration": 5,
    "start_time": "2023-02-09T11:29:21.716Z"
   },
   {
    "duration": 75,
    "start_time": "2023-02-09T11:31:23.590Z"
   },
   {
    "duration": 230,
    "start_time": "2023-02-09T11:38:55.747Z"
   },
   {
    "duration": 137,
    "start_time": "2023-02-09T11:41:46.849Z"
   },
   {
    "duration": 30,
    "start_time": "2023-02-09T11:43:31.437Z"
   },
   {
    "duration": 11,
    "start_time": "2023-02-09T11:54:48.063Z"
   },
   {
    "duration": 11,
    "start_time": "2023-02-09T12:05:39.837Z"
   },
   {
    "duration": 1238,
    "start_time": "2023-02-09T12:08:18.844Z"
   },
   {
    "duration": 9,
    "start_time": "2023-02-09T12:08:47.433Z"
   },
   {
    "duration": 29,
    "start_time": "2023-02-09T12:10:02.624Z"
   },
   {
    "duration": 14,
    "start_time": "2023-02-09T12:17:21.157Z"
   },
   {
    "duration": 1220,
    "start_time": "2023-02-10T11:10:56.189Z"
   },
   {
    "duration": 104,
    "start_time": "2023-02-10T11:10:57.412Z"
   },
   {
    "duration": 12,
    "start_time": "2023-02-10T11:10:57.517Z"
   },
   {
    "duration": 10,
    "start_time": "2023-02-10T11:10:57.531Z"
   },
   {
    "duration": 12,
    "start_time": "2023-02-10T11:10:57.543Z"
   },
   {
    "duration": 201,
    "start_time": "2023-02-10T11:10:57.557Z"
   },
   {
    "duration": 269,
    "start_time": "2023-02-10T11:10:57.760Z"
   },
   {
    "duration": 242,
    "start_time": "2023-02-10T11:10:58.031Z"
   },
   {
    "duration": 174,
    "start_time": "2023-02-10T11:10:58.275Z"
   },
   {
    "duration": 337,
    "start_time": "2023-02-10T11:10:58.451Z"
   },
   {
    "duration": 202,
    "start_time": "2023-02-10T11:10:58.789Z"
   },
   {
    "duration": 281,
    "start_time": "2023-02-10T11:10:58.993Z"
   },
   {
    "duration": 10,
    "start_time": "2023-02-10T11:10:59.276Z"
   },
   {
    "duration": 128,
    "start_time": "2023-02-10T11:10:59.288Z"
   },
   {
    "duration": 6,
    "start_time": "2023-02-10T11:10:59.418Z"
   },
   {
    "duration": 129,
    "start_time": "2023-02-10T11:10:59.425Z"
   },
   {
    "duration": 5,
    "start_time": "2023-02-10T11:10:59.556Z"
   },
   {
    "duration": 214,
    "start_time": "2023-02-10T11:10:59.567Z"
   },
   {
    "duration": 139,
    "start_time": "2023-02-10T11:10:59.782Z"
   },
   {
    "duration": 25,
    "start_time": "2023-02-10T11:10:59.923Z"
   },
   {
    "duration": 28,
    "start_time": "2023-02-10T11:10:59.950Z"
   },
   {
    "duration": 24,
    "start_time": "2023-02-10T11:10:59.980Z"
   },
   {
    "duration": 45,
    "start_time": "2023-02-10T11:11:00.006Z"
   },
   {
    "duration": 58,
    "start_time": "2023-02-10T11:11:00.053Z"
   },
   {
    "duration": 19,
    "start_time": "2023-02-10T11:11:00.113Z"
   },
   {
    "duration": 1196,
    "start_time": "2023-02-10T18:02:41.571Z"
   },
   {
    "duration": 40,
    "start_time": "2023-02-10T18:02:42.769Z"
   },
   {
    "duration": 26,
    "start_time": "2023-02-10T18:02:42.811Z"
   },
   {
    "duration": 24,
    "start_time": "2023-02-10T18:02:42.841Z"
   },
   {
    "duration": 11,
    "start_time": "2023-02-10T18:02:42.867Z"
   },
   {
    "duration": 90,
    "start_time": "2023-02-10T18:02:42.880Z"
   },
   {
    "duration": 310,
    "start_time": "2023-02-10T18:02:42.971Z"
   },
   {
    "duration": 329,
    "start_time": "2023-02-10T18:02:43.283Z"
   },
   {
    "duration": 208,
    "start_time": "2023-02-10T18:02:43.614Z"
   },
   {
    "duration": 325,
    "start_time": "2023-02-10T18:02:43.831Z"
   },
   {
    "duration": 234,
    "start_time": "2023-02-10T18:02:44.158Z"
   },
   {
    "duration": 379,
    "start_time": "2023-02-10T18:02:44.394Z"
   },
   {
    "duration": 14,
    "start_time": "2023-02-10T18:02:44.775Z"
   },
   {
    "duration": 171,
    "start_time": "2023-02-10T18:02:44.791Z"
   },
   {
    "duration": 4,
    "start_time": "2023-02-10T18:02:44.964Z"
   },
   {
    "duration": 195,
    "start_time": "2023-02-10T18:02:44.970Z"
   },
   {
    "duration": 10,
    "start_time": "2023-02-10T18:02:45.168Z"
   },
   {
    "duration": 270,
    "start_time": "2023-02-10T18:02:45.180Z"
   },
   {
    "duration": 191,
    "start_time": "2023-02-10T18:02:45.454Z"
   },
   {
    "duration": 37,
    "start_time": "2023-02-10T18:02:45.647Z"
   },
   {
    "duration": 11,
    "start_time": "2023-02-10T18:02:45.685Z"
   },
   {
    "duration": 38,
    "start_time": "2023-02-10T18:02:45.698Z"
   },
   {
    "duration": 25,
    "start_time": "2023-02-10T18:02:45.738Z"
   },
   {
    "duration": 25,
    "start_time": "2023-02-10T18:02:45.765Z"
   },
   {
    "duration": 14,
    "start_time": "2023-02-10T18:02:45.791Z"
   },
   {
    "duration": 1424,
    "start_time": "2023-02-10T18:17:04.713Z"
   },
   {
    "duration": 44,
    "start_time": "2023-02-10T18:17:06.140Z"
   },
   {
    "duration": 13,
    "start_time": "2023-02-10T18:17:06.186Z"
   },
   {
    "duration": 12,
    "start_time": "2023-02-10T18:17:06.201Z"
   },
   {
    "duration": 24,
    "start_time": "2023-02-10T18:17:06.217Z"
   },
   {
    "duration": 125,
    "start_time": "2023-02-10T18:17:06.244Z"
   },
   {
    "duration": 399,
    "start_time": "2023-02-10T18:17:06.372Z"
   },
   {
    "duration": 356,
    "start_time": "2023-02-10T18:17:06.773Z"
   },
   {
    "duration": 252,
    "start_time": "2023-02-10T18:17:07.131Z"
   },
   {
    "duration": 316,
    "start_time": "2023-02-10T18:17:07.384Z"
   },
   {
    "duration": 372,
    "start_time": "2023-02-10T18:17:07.702Z"
   },
   {
    "duration": 347,
    "start_time": "2023-02-10T18:17:08.076Z"
   },
   {
    "duration": 17,
    "start_time": "2023-02-10T18:17:08.427Z"
   },
   {
    "duration": 168,
    "start_time": "2023-02-10T18:17:08.449Z"
   },
   {
    "duration": 9,
    "start_time": "2023-02-10T18:17:08.620Z"
   },
   {
    "duration": 208,
    "start_time": "2023-02-10T18:17:08.632Z"
   },
   {
    "duration": 15,
    "start_time": "2023-02-10T18:17:08.843Z"
   },
   {
    "duration": 288,
    "start_time": "2023-02-10T18:17:08.862Z"
   },
   {
    "duration": 228,
    "start_time": "2023-02-10T18:17:09.153Z"
   },
   {
    "duration": 31,
    "start_time": "2023-02-10T18:17:09.382Z"
   },
   {
    "duration": 18,
    "start_time": "2023-02-10T18:17:09.414Z"
   },
   {
    "duration": 37,
    "start_time": "2023-02-10T18:17:09.434Z"
   },
   {
    "duration": 14,
    "start_time": "2023-02-10T18:17:09.473Z"
   },
   {
    "duration": 31,
    "start_time": "2023-02-10T18:17:09.490Z"
   },
   {
    "duration": 23,
    "start_time": "2023-02-10T18:17:09.524Z"
   },
   {
    "duration": 1190,
    "start_time": "2023-02-10T18:43:27.803Z"
   },
   {
    "duration": 31,
    "start_time": "2023-02-10T18:43:28.995Z"
   },
   {
    "duration": 17,
    "start_time": "2023-02-10T18:43:29.032Z"
   },
   {
    "duration": 13,
    "start_time": "2023-02-10T18:43:29.052Z"
   },
   {
    "duration": 16,
    "start_time": "2023-02-10T18:43:29.067Z"
   },
   {
    "duration": 93,
    "start_time": "2023-02-10T18:43:29.085Z"
   },
   {
    "duration": 322,
    "start_time": "2023-02-10T18:43:29.180Z"
   },
   {
    "duration": 314,
    "start_time": "2023-02-10T18:43:29.504Z"
   },
   {
    "duration": 240,
    "start_time": "2023-02-10T18:43:29.819Z"
   },
   {
    "duration": 336,
    "start_time": "2023-02-10T18:43:30.062Z"
   },
   {
    "duration": 259,
    "start_time": "2023-02-10T18:43:30.401Z"
   },
   {
    "duration": 313,
    "start_time": "2023-02-10T18:43:30.662Z"
   },
   {
    "duration": 15,
    "start_time": "2023-02-10T18:43:30.978Z"
   },
   {
    "duration": 158,
    "start_time": "2023-02-10T18:43:30.995Z"
   },
   {
    "duration": 6,
    "start_time": "2023-02-10T18:43:31.155Z"
   },
   {
    "duration": 173,
    "start_time": "2023-02-10T18:43:31.164Z"
   },
   {
    "duration": 8,
    "start_time": "2023-02-10T18:43:31.339Z"
   },
   {
    "duration": 290,
    "start_time": "2023-02-10T18:43:31.349Z"
   },
   {
    "duration": 217,
    "start_time": "2023-02-10T18:43:31.647Z"
   },
   {
    "duration": 29,
    "start_time": "2023-02-10T18:43:31.866Z"
   },
   {
    "duration": 33,
    "start_time": "2023-02-10T18:43:31.898Z"
   },
   {
    "duration": 12,
    "start_time": "2023-02-10T18:43:31.937Z"
   },
   {
    "duration": 12,
    "start_time": "2023-02-10T18:43:31.950Z"
   },
   {
    "duration": 23,
    "start_time": "2023-02-10T18:43:31.963Z"
   },
   {
    "duration": 35,
    "start_time": "2023-02-10T18:43:31.988Z"
   },
   {
    "duration": 1247,
    "start_time": "2023-02-10T18:55:34.426Z"
   },
   {
    "duration": 28,
    "start_time": "2023-02-10T18:55:35.675Z"
   },
   {
    "duration": 12,
    "start_time": "2023-02-10T18:55:35.705Z"
   },
   {
    "duration": 11,
    "start_time": "2023-02-10T18:55:35.719Z"
   },
   {
    "duration": 19,
    "start_time": "2023-02-10T18:55:35.736Z"
   },
   {
    "duration": 85,
    "start_time": "2023-02-10T18:55:35.756Z"
   },
   {
    "duration": 311,
    "start_time": "2023-02-10T18:55:35.843Z"
   },
   {
    "duration": 304,
    "start_time": "2023-02-10T18:55:36.156Z"
   },
   {
    "duration": 206,
    "start_time": "2023-02-10T18:55:36.462Z"
   },
   {
    "duration": 305,
    "start_time": "2023-02-10T18:55:36.670Z"
   },
   {
    "duration": 236,
    "start_time": "2023-02-10T18:55:36.977Z"
   },
   {
    "duration": 358,
    "start_time": "2023-02-10T18:55:37.215Z"
   },
   {
    "duration": 10,
    "start_time": "2023-02-10T18:55:37.575Z"
   },
   {
    "duration": 152,
    "start_time": "2023-02-10T18:55:37.588Z"
   },
   {
    "duration": 11,
    "start_time": "2023-02-10T18:55:37.742Z"
   },
   {
    "duration": 141,
    "start_time": "2023-02-10T18:55:37.757Z"
   },
   {
    "duration": 5,
    "start_time": "2023-02-10T18:55:37.900Z"
   },
   {
    "duration": 252,
    "start_time": "2023-02-10T18:55:37.907Z"
   },
   {
    "duration": 170,
    "start_time": "2023-02-10T18:55:38.161Z"
   },
   {
    "duration": 43,
    "start_time": "2023-02-10T18:55:38.333Z"
   },
   {
    "duration": 12,
    "start_time": "2023-02-10T18:55:38.378Z"
   },
   {
    "duration": 32,
    "start_time": "2023-02-10T18:55:38.392Z"
   },
   {
    "duration": 20,
    "start_time": "2023-02-10T18:55:38.427Z"
   },
   {
    "duration": 28,
    "start_time": "2023-02-10T18:55:38.449Z"
   },
   {
    "duration": 14,
    "start_time": "2023-02-10T18:55:38.479Z"
   },
   {
    "duration": 51,
    "start_time": "2023-02-11T17:34:10.039Z"
   },
   {
    "duration": 1436,
    "start_time": "2023-02-11T17:34:14.795Z"
   },
   {
    "duration": 93,
    "start_time": "2023-02-11T17:34:16.233Z"
   },
   {
    "duration": 19,
    "start_time": "2023-02-11T17:34:16.328Z"
   },
   {
    "duration": 16,
    "start_time": "2023-02-11T17:34:16.349Z"
   },
   {
    "duration": 15,
    "start_time": "2023-02-11T17:34:16.367Z"
   },
   {
    "duration": 186,
    "start_time": "2023-02-11T17:34:16.384Z"
   },
   {
    "duration": 312,
    "start_time": "2023-02-11T17:34:16.573Z"
   },
   {
    "duration": 317,
    "start_time": "2023-02-11T17:34:16.891Z"
   },
   {
    "duration": 249,
    "start_time": "2023-02-11T17:34:17.210Z"
   },
   {
    "duration": 351,
    "start_time": "2023-02-11T17:34:17.463Z"
   },
   {
    "duration": 223,
    "start_time": "2023-02-11T17:34:17.815Z"
   },
   {
    "duration": 285,
    "start_time": "2023-02-11T17:34:18.040Z"
   },
   {
    "duration": 13,
    "start_time": "2023-02-11T17:34:18.326Z"
   },
   {
    "duration": 139,
    "start_time": "2023-02-11T17:34:18.341Z"
   },
   {
    "duration": 12,
    "start_time": "2023-02-11T17:34:18.484Z"
   },
   {
    "duration": 160,
    "start_time": "2023-02-11T17:34:18.498Z"
   },
   {
    "duration": 7,
    "start_time": "2023-02-11T17:34:18.662Z"
   },
   {
    "duration": 258,
    "start_time": "2023-02-11T17:34:18.671Z"
   },
   {
    "duration": 168,
    "start_time": "2023-02-11T17:34:18.931Z"
   },
   {
    "duration": 27,
    "start_time": "2023-02-11T17:34:19.102Z"
   },
   {
    "duration": 13,
    "start_time": "2023-02-11T17:34:19.132Z"
   },
   {
    "duration": 12,
    "start_time": "2023-02-11T17:34:19.147Z"
   },
   {
    "duration": 41,
    "start_time": "2023-02-11T17:34:19.161Z"
   },
   {
    "duration": 39,
    "start_time": "2023-02-11T17:34:19.204Z"
   },
   {
    "duration": 17,
    "start_time": "2023-02-11T17:34:19.247Z"
   },
   {
    "duration": 48,
    "start_time": "2023-02-13T19:36:09.571Z"
   },
   {
    "duration": 1349,
    "start_time": "2023-02-13T19:36:22.319Z"
   },
   {
    "duration": 77,
    "start_time": "2023-02-13T19:36:23.670Z"
   },
   {
    "duration": 12,
    "start_time": "2023-02-13T19:36:23.749Z"
   },
   {
    "duration": 12,
    "start_time": "2023-02-13T19:36:23.763Z"
   },
   {
    "duration": 10,
    "start_time": "2023-02-13T19:36:23.776Z"
   },
   {
    "duration": 163,
    "start_time": "2023-02-13T19:36:23.788Z"
   },
   {
    "duration": 5,
    "start_time": "2023-02-13T19:36:23.953Z"
   },
   {
    "duration": 305,
    "start_time": "2023-02-13T19:36:23.959Z"
   },
   {
    "duration": 287,
    "start_time": "2023-02-13T19:36:24.266Z"
   },
   {
    "duration": 211,
    "start_time": "2023-02-13T19:36:24.555Z"
   },
   {
    "duration": 339,
    "start_time": "2023-02-13T19:36:24.768Z"
   },
   {
    "duration": 220,
    "start_time": "2023-02-13T19:36:25.109Z"
   },
   {
    "duration": 320,
    "start_time": "2023-02-13T19:36:25.331Z"
   },
   {
    "duration": 11,
    "start_time": "2023-02-13T19:36:25.653Z"
   },
   {
    "duration": 135,
    "start_time": "2023-02-13T19:36:25.666Z"
   },
   {
    "duration": 5,
    "start_time": "2023-02-13T19:36:25.802Z"
   },
   {
    "duration": 157,
    "start_time": "2023-02-13T19:36:25.809Z"
   },
   {
    "duration": 5,
    "start_time": "2023-02-13T19:36:25.967Z"
   },
   {
    "duration": 250,
    "start_time": "2023-02-13T19:36:25.973Z"
   },
   {
    "duration": 149,
    "start_time": "2023-02-13T19:36:26.224Z"
   },
   {
    "duration": 41,
    "start_time": "2023-02-13T19:36:26.375Z"
   },
   {
    "duration": 19,
    "start_time": "2023-02-13T19:36:26.418Z"
   },
   {
    "duration": 21,
    "start_time": "2023-02-13T19:36:26.440Z"
   },
   {
    "duration": 10,
    "start_time": "2023-02-13T19:36:26.463Z"
   },
   {
    "duration": 22,
    "start_time": "2023-02-13T19:36:26.476Z"
   },
   {
    "duration": 38,
    "start_time": "2023-02-13T19:36:26.500Z"
   },
   {
    "duration": 6,
    "start_time": "2023-02-13T19:37:23.262Z"
   },
   {
    "duration": 6,
    "start_time": "2023-02-13T19:38:13.675Z"
   },
   {
    "duration": 7,
    "start_time": "2023-02-13T19:38:38.143Z"
   },
   {
    "duration": 28,
    "start_time": "2023-02-13T19:50:01.548Z"
   },
   {
    "duration": 25,
    "start_time": "2023-02-13T19:50:14.862Z"
   },
   {
    "duration": 11,
    "start_time": "2023-02-13T19:52:19.182Z"
   },
   {
    "duration": 13,
    "start_time": "2023-02-13T19:53:15.582Z"
   },
   {
    "duration": 14,
    "start_time": "2023-02-13T19:53:25.799Z"
   },
   {
    "duration": 12,
    "start_time": "2023-02-13T19:54:04.752Z"
   },
   {
    "duration": 34,
    "start_time": "2023-02-13T19:54:59.065Z"
   },
   {
    "duration": 16,
    "start_time": "2023-02-13T19:56:09.717Z"
   },
   {
    "duration": 232,
    "start_time": "2023-02-13T20:02:01.750Z"
   },
   {
    "duration": 144,
    "start_time": "2023-02-13T20:02:12.293Z"
   },
   {
    "duration": 131,
    "start_time": "2023-02-13T20:02:47.252Z"
   },
   {
    "duration": 154,
    "start_time": "2023-02-13T20:03:03.420Z"
   },
   {
    "duration": 148,
    "start_time": "2023-02-13T20:03:12.368Z"
   },
   {
    "duration": 73,
    "start_time": "2023-02-13T20:09:32.028Z"
   },
   {
    "duration": 11,
    "start_time": "2023-02-13T20:09:51.509Z"
   },
   {
    "duration": 12,
    "start_time": "2023-02-13T20:11:12.028Z"
   },
   {
    "duration": 54,
    "start_time": "2023-02-13T20:12:04.308Z"
   },
   {
    "duration": 10,
    "start_time": "2023-02-13T20:12:13.553Z"
   },
   {
    "duration": 9,
    "start_time": "2023-02-13T20:12:22.158Z"
   },
   {
    "duration": 6,
    "start_time": "2023-02-13T20:12:50.807Z"
   },
   {
    "duration": 10,
    "start_time": "2023-02-13T20:13:04.816Z"
   },
   {
    "duration": 14,
    "start_time": "2023-02-13T20:14:06.414Z"
   },
   {
    "duration": 3,
    "start_time": "2023-02-13T20:14:10.994Z"
   },
   {
    "duration": 25,
    "start_time": "2023-02-13T20:14:11.000Z"
   },
   {
    "duration": 9,
    "start_time": "2023-02-13T20:14:11.028Z"
   },
   {
    "duration": 20,
    "start_time": "2023-02-13T20:14:11.039Z"
   },
   {
    "duration": 30,
    "start_time": "2023-02-13T20:14:11.061Z"
   },
   {
    "duration": 74,
    "start_time": "2023-02-13T20:14:11.093Z"
   },
   {
    "duration": 6,
    "start_time": "2023-02-13T20:14:11.168Z"
   },
   {
    "duration": 9,
    "start_time": "2023-02-13T20:14:11.175Z"
   },
   {
    "duration": 6,
    "start_time": "2023-02-13T20:14:11.186Z"
   },
   {
    "duration": 7,
    "start_time": "2023-02-13T20:14:11.194Z"
   },
   {
    "duration": 29,
    "start_time": "2023-02-13T20:14:11.203Z"
   },
   {
    "duration": 9,
    "start_time": "2023-02-13T20:14:11.234Z"
   },
   {
    "duration": 7,
    "start_time": "2023-02-13T20:14:11.245Z"
   },
   {
    "duration": 11,
    "start_time": "2023-02-13T20:14:11.253Z"
   },
   {
    "duration": 333,
    "start_time": "2023-02-13T20:14:11.266Z"
   },
   {
    "duration": 215,
    "start_time": "2023-02-13T20:14:11.601Z"
   },
   {
    "duration": 201,
    "start_time": "2023-02-13T20:14:11.818Z"
   },
   {
    "duration": 326,
    "start_time": "2023-02-13T20:14:12.021Z"
   },
   {
    "duration": 222,
    "start_time": "2023-02-13T20:14:12.348Z"
   },
   {
    "duration": 271,
    "start_time": "2023-02-13T20:14:12.572Z"
   },
   {
    "duration": 11,
    "start_time": "2023-02-13T20:14:12.845Z"
   },
   {
    "duration": 155,
    "start_time": "2023-02-13T20:14:12.857Z"
   },
   {
    "duration": 5,
    "start_time": "2023-02-13T20:14:13.014Z"
   },
   {
    "duration": 155,
    "start_time": "2023-02-13T20:14:13.020Z"
   },
   {
    "duration": 6,
    "start_time": "2023-02-13T20:14:13.177Z"
   },
   {
    "duration": 330,
    "start_time": "2023-02-13T20:14:13.186Z"
   },
   {
    "duration": 156,
    "start_time": "2023-02-13T20:14:13.518Z"
   },
   {
    "duration": 28,
    "start_time": "2023-02-13T20:14:13.677Z"
   },
   {
    "duration": 23,
    "start_time": "2023-02-13T20:14:13.707Z"
   },
   {
    "duration": 13,
    "start_time": "2023-02-13T20:14:13.732Z"
   },
   {
    "duration": 8,
    "start_time": "2023-02-13T20:14:13.747Z"
   },
   {
    "duration": 20,
    "start_time": "2023-02-13T20:14:13.757Z"
   },
   {
    "duration": 14,
    "start_time": "2023-02-13T20:14:13.779Z"
   },
   {
    "duration": 9,
    "start_time": "2023-02-13T20:14:37.979Z"
   },
   {
    "duration": 178,
    "start_time": "2023-02-13T20:20:41.915Z"
   },
   {
    "duration": 177,
    "start_time": "2023-02-13T20:20:55.853Z"
   },
   {
    "duration": 226,
    "start_time": "2023-02-13T20:25:02.719Z"
   },
   {
    "duration": 207,
    "start_time": "2023-02-13T20:25:59.855Z"
   },
   {
    "duration": 207,
    "start_time": "2023-02-13T20:26:38.655Z"
   },
   {
    "duration": 15,
    "start_time": "2023-02-13T20:27:34.781Z"
   },
   {
    "duration": 191,
    "start_time": "2023-02-13T20:31:01.752Z"
   },
   {
    "duration": 195,
    "start_time": "2023-02-13T20:32:17.052Z"
   },
   {
    "duration": 185,
    "start_time": "2023-02-13T20:32:41.557Z"
   },
   {
    "duration": 208,
    "start_time": "2023-02-13T20:33:20.265Z"
   },
   {
    "duration": 261,
    "start_time": "2023-02-13T20:36:19.618Z"
   },
   {
    "duration": 222,
    "start_time": "2023-02-13T20:40:36.885Z"
   },
   {
    "duration": 378,
    "start_time": "2023-02-13T20:41:46.292Z"
   },
   {
    "duration": 225,
    "start_time": "2023-02-13T20:42:12.196Z"
   },
   {
    "duration": 351,
    "start_time": "2023-02-13T20:43:14.518Z"
   },
   {
    "duration": 262,
    "start_time": "2023-02-13T20:44:05.514Z"
   },
   {
    "duration": 268,
    "start_time": "2023-02-13T20:44:18.910Z"
   },
   {
    "duration": 341,
    "start_time": "2023-02-13T20:46:14.687Z"
   },
   {
    "duration": 188,
    "start_time": "2023-02-13T20:48:39.184Z"
   },
   {
    "duration": 171,
    "start_time": "2023-02-13T20:51:37.755Z"
   },
   {
    "duration": 3,
    "start_time": "2023-02-13T20:54:18.353Z"
   },
   {
    "duration": 34,
    "start_time": "2023-02-13T20:54:18.358Z"
   },
   {
    "duration": 7,
    "start_time": "2023-02-13T20:54:18.394Z"
   },
   {
    "duration": 11,
    "start_time": "2023-02-13T20:54:18.403Z"
   },
   {
    "duration": 15,
    "start_time": "2023-02-13T20:54:18.417Z"
   },
   {
    "duration": 82,
    "start_time": "2023-02-13T20:54:18.434Z"
   },
   {
    "duration": 6,
    "start_time": "2023-02-13T20:54:18.518Z"
   },
   {
    "duration": 43,
    "start_time": "2023-02-13T20:54:18.525Z"
   },
   {
    "duration": 11,
    "start_time": "2023-02-13T20:54:18.570Z"
   },
   {
    "duration": 10,
    "start_time": "2023-02-13T20:54:18.583Z"
   },
   {
    "duration": 13,
    "start_time": "2023-02-13T20:54:18.597Z"
   },
   {
    "duration": 8,
    "start_time": "2023-02-13T20:54:18.612Z"
   },
   {
    "duration": 8,
    "start_time": "2023-02-13T20:54:18.622Z"
   },
   {
    "duration": 51,
    "start_time": "2023-02-13T20:54:18.632Z"
   },
   {
    "duration": 364,
    "start_time": "2023-02-13T20:54:18.686Z"
   },
   {
    "duration": 202,
    "start_time": "2023-02-13T20:54:19.052Z"
   },
   {
    "duration": 234,
    "start_time": "2023-02-13T20:54:19.257Z"
   },
   {
    "duration": 355,
    "start_time": "2023-02-13T20:54:19.493Z"
   },
   {
    "duration": 326,
    "start_time": "2023-02-13T20:54:19.850Z"
   },
   {
    "duration": 332,
    "start_time": "2023-02-13T20:54:20.178Z"
   },
   {
    "duration": 18,
    "start_time": "2023-02-13T20:54:20.512Z"
   },
   {
    "duration": 236,
    "start_time": "2023-02-13T20:54:20.532Z"
   },
   {
    "duration": 6,
    "start_time": "2023-02-13T20:54:20.778Z"
   },
   {
    "duration": 164,
    "start_time": "2023-02-13T20:54:20.786Z"
   },
   {
    "duration": 6,
    "start_time": "2023-02-13T20:54:20.953Z"
   },
   {
    "duration": 251,
    "start_time": "2023-02-13T20:54:20.961Z"
   },
   {
    "duration": 152,
    "start_time": "2023-02-13T20:54:21.215Z"
   },
   {
    "duration": 24,
    "start_time": "2023-02-13T20:54:21.369Z"
   },
   {
    "duration": 18,
    "start_time": "2023-02-13T20:54:21.395Z"
   },
   {
    "duration": 22,
    "start_time": "2023-02-13T20:54:21.415Z"
   },
   {
    "duration": 38,
    "start_time": "2023-02-13T20:54:21.442Z"
   },
   {
    "duration": 27,
    "start_time": "2023-02-13T20:54:21.482Z"
   },
   {
    "duration": 14,
    "start_time": "2023-02-13T20:54:21.511Z"
   },
   {
    "duration": 13,
    "start_time": "2023-02-13T20:57:44.948Z"
   },
   {
    "duration": 12,
    "start_time": "2023-02-13T20:57:53.437Z"
   },
   {
    "duration": 36,
    "start_time": "2023-02-13T20:57:56.472Z"
   },
   {
    "duration": 21,
    "start_time": "2023-02-13T20:58:16.054Z"
   },
   {
    "duration": 58,
    "start_time": "2023-02-13T21:19:43.203Z"
   },
   {
    "duration": 1190,
    "start_time": "2023-02-13T21:21:25.901Z"
   },
   {
    "duration": 26,
    "start_time": "2023-02-13T21:21:27.094Z"
   },
   {
    "duration": 14,
    "start_time": "2023-02-13T21:21:27.122Z"
   },
   {
    "duration": 18,
    "start_time": "2023-02-13T21:21:27.139Z"
   },
   {
    "duration": 14,
    "start_time": "2023-02-13T21:21:27.159Z"
   },
   {
    "duration": 77,
    "start_time": "2023-02-13T21:21:27.175Z"
   },
   {
    "duration": 5,
    "start_time": "2023-02-13T21:21:27.253Z"
   },
   {
    "duration": 12,
    "start_time": "2023-02-13T21:21:27.260Z"
   },
   {
    "duration": 7,
    "start_time": "2023-02-13T21:21:27.274Z"
   },
   {
    "duration": 10,
    "start_time": "2023-02-13T21:21:27.284Z"
   },
   {
    "duration": 16,
    "start_time": "2023-02-13T21:21:27.296Z"
   },
   {
    "duration": 10,
    "start_time": "2023-02-13T21:21:27.326Z"
   },
   {
    "duration": 5,
    "start_time": "2023-02-13T21:21:27.339Z"
   },
   {
    "duration": 13,
    "start_time": "2023-02-13T21:21:27.346Z"
   },
   {
    "duration": 315,
    "start_time": "2023-02-13T21:21:27.363Z"
   },
   {
    "duration": 283,
    "start_time": "2023-02-13T21:21:27.679Z"
   },
   {
    "duration": 216,
    "start_time": "2023-02-13T21:21:27.964Z"
   },
   {
    "duration": 347,
    "start_time": "2023-02-13T21:21:28.182Z"
   },
   {
    "duration": 232,
    "start_time": "2023-02-13T21:21:28.530Z"
   },
   {
    "duration": 289,
    "start_time": "2023-02-13T21:21:28.764Z"
   },
   {
    "duration": 12,
    "start_time": "2023-02-13T21:21:29.055Z"
   },
   {
    "duration": 197,
    "start_time": "2023-02-13T21:21:29.069Z"
   },
   {
    "duration": 5,
    "start_time": "2023-02-13T21:21:29.268Z"
   },
   {
    "duration": 163,
    "start_time": "2023-02-13T21:21:29.275Z"
   },
   {
    "duration": 6,
    "start_time": "2023-02-13T21:21:29.439Z"
   },
   {
    "duration": 263,
    "start_time": "2023-02-13T21:21:29.447Z"
   },
   {
    "duration": 140,
    "start_time": "2023-02-13T21:21:29.712Z"
   },
   {
    "duration": 26,
    "start_time": "2023-02-13T21:21:29.855Z"
   },
   {
    "duration": 9,
    "start_time": "2023-02-13T21:21:29.883Z"
   },
   {
    "duration": 8,
    "start_time": "2023-02-13T21:21:29.894Z"
   },
   {
    "duration": 8,
    "start_time": "2023-02-13T21:21:29.927Z"
   },
   {
    "duration": 34,
    "start_time": "2023-02-13T21:21:29.937Z"
   },
   {
    "duration": 18,
    "start_time": "2023-02-13T21:21:29.973Z"
   },
   {
    "duration": 1071,
    "start_time": "2023-02-14T16:01:02.569Z"
   },
   {
    "duration": 24,
    "start_time": "2023-02-14T16:01:03.642Z"
   },
   {
    "duration": 12,
    "start_time": "2023-02-14T16:01:03.667Z"
   },
   {
    "duration": 17,
    "start_time": "2023-02-14T16:01:03.681Z"
   },
   {
    "duration": 20,
    "start_time": "2023-02-14T16:01:03.699Z"
   },
   {
    "duration": 74,
    "start_time": "2023-02-14T16:01:03.721Z"
   },
   {
    "duration": 4,
    "start_time": "2023-02-14T16:01:03.797Z"
   },
   {
    "duration": 15,
    "start_time": "2023-02-14T16:01:03.803Z"
   },
   {
    "duration": 7,
    "start_time": "2023-02-14T16:01:03.820Z"
   },
   {
    "duration": 6,
    "start_time": "2023-02-14T16:01:03.829Z"
   },
   {
    "duration": 21,
    "start_time": "2023-02-14T16:01:03.837Z"
   },
   {
    "duration": 13,
    "start_time": "2023-02-14T16:01:03.859Z"
   },
   {
    "duration": 10,
    "start_time": "2023-02-14T16:01:03.874Z"
   },
   {
    "duration": 13,
    "start_time": "2023-02-14T16:01:03.885Z"
   },
   {
    "duration": 354,
    "start_time": "2023-02-14T16:01:03.899Z"
   },
   {
    "duration": 241,
    "start_time": "2023-02-14T16:01:04.254Z"
   },
   {
    "duration": 196,
    "start_time": "2023-02-14T16:01:04.496Z"
   },
   {
    "duration": 291,
    "start_time": "2023-02-14T16:01:04.693Z"
   },
   {
    "duration": 207,
    "start_time": "2023-02-14T16:01:04.986Z"
   },
   {
    "duration": 284,
    "start_time": "2023-02-14T16:01:05.195Z"
   },
   {
    "duration": 20,
    "start_time": "2023-02-14T16:01:05.482Z"
   },
   {
    "duration": 150,
    "start_time": "2023-02-14T16:01:05.504Z"
   },
   {
    "duration": 4,
    "start_time": "2023-02-14T16:01:05.656Z"
   },
   {
    "duration": 138,
    "start_time": "2023-02-14T16:01:05.662Z"
   },
   {
    "duration": 4,
    "start_time": "2023-02-14T16:01:05.802Z"
   },
   {
    "duration": 237,
    "start_time": "2023-02-14T16:01:05.807Z"
   },
   {
    "duration": 123,
    "start_time": "2023-02-14T16:01:06.046Z"
   },
   {
    "duration": 38,
    "start_time": "2023-02-14T16:01:06.172Z"
   },
   {
    "duration": 9,
    "start_time": "2023-02-14T16:01:06.212Z"
   },
   {
    "duration": 8,
    "start_time": "2023-02-14T16:01:06.223Z"
   },
   {
    "duration": 17,
    "start_time": "2023-02-14T16:01:06.233Z"
   },
   {
    "duration": 23,
    "start_time": "2023-02-14T16:01:06.251Z"
   },
   {
    "duration": 13,
    "start_time": "2023-02-14T16:01:06.294Z"
   },
   {
    "duration": 1176,
    "start_time": "2023-02-14T16:33:35.164Z"
   },
   {
    "duration": 23,
    "start_time": "2023-02-14T16:33:36.342Z"
   },
   {
    "duration": 14,
    "start_time": "2023-02-14T16:33:36.366Z"
   },
   {
    "duration": 24,
    "start_time": "2023-02-14T16:33:36.383Z"
   },
   {
    "duration": 12,
    "start_time": "2023-02-14T16:33:36.410Z"
   },
   {
    "duration": 64,
    "start_time": "2023-02-14T16:33:36.423Z"
   },
   {
    "duration": 11,
    "start_time": "2023-02-14T16:33:36.489Z"
   },
   {
    "duration": 8,
    "start_time": "2023-02-14T16:33:36.508Z"
   },
   {
    "duration": 11,
    "start_time": "2023-02-14T16:33:36.517Z"
   },
   {
    "duration": 6,
    "start_time": "2023-02-14T16:33:36.530Z"
   },
   {
    "duration": 14,
    "start_time": "2023-02-14T16:33:36.537Z"
   },
   {
    "duration": 9,
    "start_time": "2023-02-14T16:33:36.552Z"
   },
   {
    "duration": 5,
    "start_time": "2023-02-14T16:33:36.562Z"
   },
   {
    "duration": 42,
    "start_time": "2023-02-14T16:33:36.569Z"
   },
   {
    "duration": 301,
    "start_time": "2023-02-14T16:33:36.613Z"
   },
   {
    "duration": 267,
    "start_time": "2023-02-14T16:33:36.916Z"
   },
   {
    "duration": 214,
    "start_time": "2023-02-14T16:33:37.185Z"
   },
   {
    "duration": 306,
    "start_time": "2023-02-14T16:33:37.401Z"
   },
   {
    "duration": 234,
    "start_time": "2023-02-14T16:33:37.712Z"
   },
   {
    "duration": 304,
    "start_time": "2023-02-14T16:33:37.948Z"
   },
   {
    "duration": 11,
    "start_time": "2023-02-14T16:33:38.254Z"
   },
   {
    "duration": 175,
    "start_time": "2023-02-14T16:33:38.266Z"
   },
   {
    "duration": 5,
    "start_time": "2023-02-14T16:33:38.443Z"
   },
   {
    "duration": 159,
    "start_time": "2023-02-14T16:33:38.449Z"
   },
   {
    "duration": 5,
    "start_time": "2023-02-14T16:33:38.610Z"
   },
   {
    "duration": 229,
    "start_time": "2023-02-14T16:33:38.617Z"
   },
   {
    "duration": 136,
    "start_time": "2023-02-14T16:33:38.848Z"
   },
   {
    "duration": 32,
    "start_time": "2023-02-14T16:33:38.994Z"
   },
   {
    "duration": 11,
    "start_time": "2023-02-14T16:33:39.027Z"
   },
   {
    "duration": 15,
    "start_time": "2023-02-14T16:33:39.039Z"
   },
   {
    "duration": 11,
    "start_time": "2023-02-14T16:33:39.056Z"
   },
   {
    "duration": 49,
    "start_time": "2023-02-14T16:33:39.068Z"
   },
   {
    "duration": 13,
    "start_time": "2023-02-14T16:33:39.120Z"
   },
   {
    "duration": 43,
    "start_time": "2023-02-14T19:03:59.417Z"
   },
   {
    "duration": 10,
    "start_time": "2023-02-14T19:04:25.075Z"
   },
   {
    "duration": 1400,
    "start_time": "2023-02-14T19:04:33.970Z"
   },
   {
    "duration": 82,
    "start_time": "2023-02-14T19:04:35.373Z"
   },
   {
    "duration": 65,
    "start_time": "2023-02-14T19:04:35.457Z"
   },
   {
    "duration": 1,
    "start_time": "2023-02-14T19:04:35.524Z"
   },
   {
    "duration": 0,
    "start_time": "2023-02-14T19:04:35.526Z"
   },
   {
    "duration": 0,
    "start_time": "2023-02-14T19:04:35.528Z"
   },
   {
    "duration": 0,
    "start_time": "2023-02-14T19:04:35.529Z"
   },
   {
    "duration": 0,
    "start_time": "2023-02-14T19:04:35.530Z"
   },
   {
    "duration": 0,
    "start_time": "2023-02-14T19:04:35.531Z"
   },
   {
    "duration": 0,
    "start_time": "2023-02-14T19:04:35.532Z"
   },
   {
    "duration": 0,
    "start_time": "2023-02-14T19:04:35.533Z"
   },
   {
    "duration": 0,
    "start_time": "2023-02-14T19:04:35.534Z"
   },
   {
    "duration": 0,
    "start_time": "2023-02-14T19:04:35.535Z"
   },
   {
    "duration": 0,
    "start_time": "2023-02-14T19:04:35.536Z"
   },
   {
    "duration": 0,
    "start_time": "2023-02-14T19:04:35.537Z"
   },
   {
    "duration": 0,
    "start_time": "2023-02-14T19:04:35.538Z"
   },
   {
    "duration": 0,
    "start_time": "2023-02-14T19:04:35.539Z"
   },
   {
    "duration": 0,
    "start_time": "2023-02-14T19:04:35.540Z"
   },
   {
    "duration": 0,
    "start_time": "2023-02-14T19:04:35.541Z"
   },
   {
    "duration": 0,
    "start_time": "2023-02-14T19:04:35.567Z"
   },
   {
    "duration": 0,
    "start_time": "2023-02-14T19:04:35.568Z"
   },
   {
    "duration": 0,
    "start_time": "2023-02-14T19:04:35.569Z"
   },
   {
    "duration": 0,
    "start_time": "2023-02-14T19:04:35.571Z"
   },
   {
    "duration": 0,
    "start_time": "2023-02-14T19:04:35.572Z"
   },
   {
    "duration": 0,
    "start_time": "2023-02-14T19:04:35.573Z"
   },
   {
    "duration": 0,
    "start_time": "2023-02-14T19:04:35.575Z"
   },
   {
    "duration": 0,
    "start_time": "2023-02-14T19:04:35.576Z"
   },
   {
    "duration": 0,
    "start_time": "2023-02-14T19:04:35.578Z"
   },
   {
    "duration": 0,
    "start_time": "2023-02-14T19:04:35.579Z"
   },
   {
    "duration": 0,
    "start_time": "2023-02-14T19:04:35.581Z"
   },
   {
    "duration": 0,
    "start_time": "2023-02-14T19:04:35.584Z"
   },
   {
    "duration": 0,
    "start_time": "2023-02-14T19:04:35.585Z"
   },
   {
    "duration": 0,
    "start_time": "2023-02-14T19:04:35.587Z"
   },
   {
    "duration": 7,
    "start_time": "2023-02-14T19:04:57.293Z"
   },
   {
    "duration": 11,
    "start_time": "2023-02-14T19:05:05.718Z"
   },
   {
    "duration": 3,
    "start_time": "2023-02-14T19:06:56.866Z"
   },
   {
    "duration": 31,
    "start_time": "2023-02-14T19:06:56.870Z"
   },
   {
    "duration": 7,
    "start_time": "2023-02-14T19:06:56.903Z"
   },
   {
    "duration": 30,
    "start_time": "2023-02-14T19:06:56.912Z"
   },
   {
    "duration": 10,
    "start_time": "2023-02-14T19:06:56.944Z"
   },
   {
    "duration": 191,
    "start_time": "2023-02-14T19:06:56.955Z"
   },
   {
    "duration": 5,
    "start_time": "2023-02-14T19:06:57.147Z"
   },
   {
    "duration": 7,
    "start_time": "2023-02-14T19:06:57.153Z"
   },
   {
    "duration": 6,
    "start_time": "2023-02-14T19:06:57.161Z"
   },
   {
    "duration": 8,
    "start_time": "2023-02-14T19:06:57.169Z"
   },
   {
    "duration": 10,
    "start_time": "2023-02-14T19:06:57.179Z"
   },
   {
    "duration": 6,
    "start_time": "2023-02-14T19:06:57.190Z"
   },
   {
    "duration": 5,
    "start_time": "2023-02-14T19:06:57.198Z"
   },
   {
    "duration": 9,
    "start_time": "2023-02-14T19:06:57.204Z"
   },
   {
    "duration": 284,
    "start_time": "2023-02-14T19:06:57.215Z"
   },
   {
    "duration": 240,
    "start_time": "2023-02-14T19:06:57.501Z"
   },
   {
    "duration": 178,
    "start_time": "2023-02-14T19:06:57.742Z"
   },
   {
    "duration": 352,
    "start_time": "2023-02-14T19:06:57.922Z"
   },
   {
    "duration": 177,
    "start_time": "2023-02-14T19:06:58.275Z"
   },
   {
    "duration": 329,
    "start_time": "2023-02-14T19:06:58.453Z"
   },
   {
    "duration": 10,
    "start_time": "2023-02-14T19:06:58.783Z"
   },
   {
    "duration": 152,
    "start_time": "2023-02-14T19:06:58.795Z"
   },
   {
    "duration": 5,
    "start_time": "2023-02-14T19:06:58.949Z"
   },
   {
    "duration": 140,
    "start_time": "2023-02-14T19:06:58.955Z"
   },
   {
    "duration": 5,
    "start_time": "2023-02-14T19:06:59.097Z"
   },
   {
    "duration": 218,
    "start_time": "2023-02-14T19:06:59.103Z"
   },
   {
    "duration": 114,
    "start_time": "2023-02-14T19:06:59.323Z"
   },
   {
    "duration": 34,
    "start_time": "2023-02-14T19:06:59.438Z"
   },
   {
    "duration": 8,
    "start_time": "2023-02-14T19:06:59.475Z"
   },
   {
    "duration": 9,
    "start_time": "2023-02-14T19:06:59.484Z"
   },
   {
    "duration": 15,
    "start_time": "2023-02-14T19:06:59.495Z"
   },
   {
    "duration": 30,
    "start_time": "2023-02-14T19:06:59.512Z"
   },
   {
    "duration": 30,
    "start_time": "2023-02-14T19:06:59.543Z"
   },
   {
    "duration": 146,
    "start_time": "2023-02-14T19:20:49.365Z"
   },
   {
    "duration": 184,
    "start_time": "2023-02-14T19:21:06.164Z"
   },
   {
    "duration": 1246,
    "start_time": "2023-02-14T19:23:11.934Z"
   },
   {
    "duration": 27,
    "start_time": "2023-02-14T19:23:13.182Z"
   },
   {
    "duration": 17,
    "start_time": "2023-02-14T19:23:13.210Z"
   },
   {
    "duration": 15,
    "start_time": "2023-02-14T19:23:13.229Z"
   },
   {
    "duration": 15,
    "start_time": "2023-02-14T19:23:13.246Z"
   },
   {
    "duration": 76,
    "start_time": "2023-02-14T19:23:13.267Z"
   },
   {
    "duration": 6,
    "start_time": "2023-02-14T19:23:13.344Z"
   },
   {
    "duration": 7,
    "start_time": "2023-02-14T19:23:13.352Z"
   },
   {
    "duration": 6,
    "start_time": "2023-02-14T19:23:13.360Z"
   },
   {
    "duration": 7,
    "start_time": "2023-02-14T19:23:13.369Z"
   },
   {
    "duration": 13,
    "start_time": "2023-02-14T19:23:13.377Z"
   },
   {
    "duration": 11,
    "start_time": "2023-02-14T19:23:13.392Z"
   },
   {
    "duration": 5,
    "start_time": "2023-02-14T19:23:13.405Z"
   },
   {
    "duration": 10,
    "start_time": "2023-02-14T19:23:13.412Z"
   },
   {
    "duration": 315,
    "start_time": "2023-02-14T19:23:13.423Z"
   },
   {
    "duration": 250,
    "start_time": "2023-02-14T19:23:13.740Z"
   },
   {
    "duration": 187,
    "start_time": "2023-02-14T19:23:13.992Z"
   },
   {
    "duration": 276,
    "start_time": "2023-02-14T19:23:14.181Z"
   },
   {
    "duration": 202,
    "start_time": "2023-02-14T19:23:14.459Z"
   },
   {
    "duration": 344,
    "start_time": "2023-02-14T19:23:14.663Z"
   },
   {
    "duration": 16,
    "start_time": "2023-02-14T19:23:15.009Z"
   },
   {
    "duration": 198,
    "start_time": "2023-02-14T19:23:15.028Z"
   },
   {
    "duration": 5,
    "start_time": "2023-02-14T19:23:15.228Z"
   },
   {
    "duration": 136,
    "start_time": "2023-02-14T19:23:15.235Z"
   },
   {
    "duration": 6,
    "start_time": "2023-02-14T19:23:15.372Z"
   },
   {
    "duration": 235,
    "start_time": "2023-02-14T19:23:15.380Z"
   },
   {
    "duration": 125,
    "start_time": "2023-02-14T19:23:15.617Z"
   },
   {
    "duration": 42,
    "start_time": "2023-02-14T19:23:15.745Z"
   },
   {
    "duration": 10,
    "start_time": "2023-02-14T19:23:15.789Z"
   },
   {
    "duration": 9,
    "start_time": "2023-02-14T19:23:15.800Z"
   },
   {
    "duration": 11,
    "start_time": "2023-02-14T19:23:15.810Z"
   },
   {
    "duration": 40,
    "start_time": "2023-02-14T19:23:15.822Z"
   },
   {
    "duration": 14,
    "start_time": "2023-02-14T19:23:15.864Z"
   },
   {
    "duration": 1206,
    "start_time": "2023-02-15T05:56:24.612Z"
   },
   {
    "duration": 81,
    "start_time": "2023-02-15T05:56:25.820Z"
   },
   {
    "duration": 14,
    "start_time": "2023-02-15T05:56:25.903Z"
   },
   {
    "duration": 12,
    "start_time": "2023-02-15T05:56:25.919Z"
   },
   {
    "duration": 14,
    "start_time": "2023-02-15T05:56:25.932Z"
   },
   {
    "duration": 184,
    "start_time": "2023-02-15T05:56:25.947Z"
   },
   {
    "duration": 5,
    "start_time": "2023-02-15T05:56:26.133Z"
   },
   {
    "duration": 23,
    "start_time": "2023-02-15T05:56:26.140Z"
   },
   {
    "duration": 23,
    "start_time": "2023-02-15T05:56:26.164Z"
   },
   {
    "duration": 36,
    "start_time": "2023-02-15T05:56:26.190Z"
   },
   {
    "duration": 41,
    "start_time": "2023-02-15T05:56:26.228Z"
   },
   {
    "duration": 32,
    "start_time": "2023-02-15T05:56:26.271Z"
   },
   {
    "duration": 15,
    "start_time": "2023-02-15T05:56:26.305Z"
   },
   {
    "duration": 28,
    "start_time": "2023-02-15T05:56:26.322Z"
   },
   {
    "duration": 311,
    "start_time": "2023-02-15T05:56:26.352Z"
   },
   {
    "duration": 289,
    "start_time": "2023-02-15T05:56:26.665Z"
   },
   {
    "duration": 222,
    "start_time": "2023-02-15T05:56:26.956Z"
   },
   {
    "duration": 289,
    "start_time": "2023-02-15T05:56:27.180Z"
   },
   {
    "duration": 236,
    "start_time": "2023-02-15T05:56:27.471Z"
   },
   {
    "duration": 331,
    "start_time": "2023-02-15T05:56:27.710Z"
   },
   {
    "duration": 12,
    "start_time": "2023-02-15T05:56:28.043Z"
   },
   {
    "duration": 195,
    "start_time": "2023-02-15T05:56:28.057Z"
   },
   {
    "duration": 6,
    "start_time": "2023-02-15T05:56:28.254Z"
   },
   {
    "duration": 152,
    "start_time": "2023-02-15T05:56:28.261Z"
   },
   {
    "duration": 6,
    "start_time": "2023-02-15T05:56:28.415Z"
   },
   {
    "duration": 251,
    "start_time": "2023-02-15T05:56:28.423Z"
   },
   {
    "duration": 140,
    "start_time": "2023-02-15T05:56:28.675Z"
   },
   {
    "duration": 40,
    "start_time": "2023-02-15T05:56:28.818Z"
   },
   {
    "duration": 11,
    "start_time": "2023-02-15T05:56:28.860Z"
   },
   {
    "duration": 20,
    "start_time": "2023-02-15T05:56:28.872Z"
   },
   {
    "duration": 29,
    "start_time": "2023-02-15T05:56:28.893Z"
   },
   {
    "duration": 55,
    "start_time": "2023-02-15T05:56:28.924Z"
   },
   {
    "duration": 21,
    "start_time": "2023-02-15T05:56:28.981Z"
   }
  ],
  "kernelspec": {
   "display_name": "Python 3 (ipykernel)",
   "language": "python",
   "name": "python3"
  },
  "language_info": {
   "codemirror_mode": {
    "name": "ipython",
    "version": 3
   },
   "file_extension": ".py",
   "mimetype": "text/x-python",
   "name": "python",
   "nbconvert_exporter": "python",
   "pygments_lexer": "ipython3",
   "version": "3.9.13"
  },
  "toc": {
   "base_numbering": 1,
   "nav_menu": {},
   "number_sections": true,
   "sideBar": true,
   "skip_h1_title": true,
   "title_cell": "Table of Contents",
   "title_sidebar": "Contents",
   "toc_cell": false,
   "toc_position": {},
   "toc_section_display": true,
   "toc_window_display": false
  }
 },
 "nbformat": 4,
 "nbformat_minor": 2
}
